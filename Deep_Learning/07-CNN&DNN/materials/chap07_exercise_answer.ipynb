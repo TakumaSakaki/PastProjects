{
 "cells": [
  {
   "cell_type": "markdown",
   "metadata": {},
   "source": [
    "# 第6回講義 演習"
   ]
  },
  {
   "cell_type": "markdown",
   "metadata": {},
   "source": [
    "## 目次\n",
    "\n",
    "課題. 高度な画像認識の実装と学習\n",
    "    1. CIFAR-10データセットの読み込みと可視化\n",
    "    2. Data Augmentation\n",
    "        - 2.1. Flipping (horizontally)\n",
    "        - 2.2. Random cropping\n",
    "    3. Preprocessing\n",
    "        - 3.1. Global Contrast Normalization (GCN)\n",
    "        - 3.2. Zero-phase Component Analysis (ZCA) Whitening\n",
    "    4. Batch Normalization\n",
    "    5. 畳み込みニューラルネットワーク(Convolutional Neural Networks)の実装と学習\n",
    "        - 5.1. 各層クラスの実装\n",
    "        - 5.2. 計算グラフ構築 & パラメータの更新設定\n",
    "        - 5.3. 学習\n",
    "    6. Activationの可視化\n",
    "        - 6.1. conv1\n",
    "        - 6.2. conv2\n",
    "        - 6.3. conv3\n",
    "    7. tf.layers の利用\n",
    "        - 7.1. ネットワークの実装\n",
    "        - 7.2. 学習"
   ]
  },
  {
   "cell_type": "markdown",
   "metadata": {},
   "source": [
    "## 課題. 高度な画像認識の実装と学習"
   ]
  },
  {
   "cell_type": "code",
   "execution_count": null,
   "metadata": {},
   "outputs": [],
   "source": [
    "%matplotlib inline\n",
    "\n",
    "import numpy as np\n",
    "import tensorflow as tf\n",
    "import matplotlib.pyplot as plt\n",
    "\n",
    "from sklearn.utils import shuffle\n",
    "from sklearn.metrics import f1_score\n",
    "from sklearn.model_selection import train_test_split\n",
    "from sklearn.metrics import accuracy_score\n",
    "\n",
    "from tensorflow.keras.datasets import cifar10\n",
    "\n",
    "rng = np.random.RandomState(1234)\n",
    "random_state = 42"
   ]
  },
  {
   "cell_type": "markdown",
   "metadata": {},
   "source": [
    "## 1. CIFAR-10データセットの読み込みと可視化"
   ]
  },
  {
   "cell_type": "code",
   "execution_count": null,
   "metadata": {
    "collapsed": true
   },
   "outputs": [],
   "source": [
    "(x_cifar_1, t_cifar_1), (x_cifar_2, t_cifar_2) = cifar10.load_data()\n",
    "\n",
    "x_cifar = np.r_[x_cifar_1, x_cifar_2]\n",
    "t_cifar = np.r_[t_cifar_1, t_cifar_2]\n",
    "\n",
    "x_cifar = x_cifar.astype('float32') / 255\n",
    "t_cifar = np.eye(10)[t_cifar.astype('int32').flatten()]\n",
    "\n",
    "x_train, x_test, t_train, t_test = train_test_split(x_cifar, t_cifar, test_size=10000, random_state=random_state)\n",
    "x_train, x_valid, t_train, t_valid = train_test_split(x_train, t_train, test_size=10000, random_state=random_state)"
   ]
  },
  {
   "cell_type": "code",
   "execution_count": null,
   "metadata": {},
   "outputs": [],
   "source": [
    "fig = plt.figure(figsize=(9, 15))\n",
    "fig.subplots_adjust(left=0, right=1, bottom=0, top=0.5, hspace=0.05,\n",
    "                    wspace=0.05)\n",
    "\n",
    "for i in range(81):\n",
    "    ax = fig.add_subplot(9, 9, i + 1, xticks=[], yticks=[])\n",
    "    ax.imshow(x_train[i])"
   ]
  },
  {
   "cell_type": "markdown",
   "metadata": {},
   "source": [
    "## 2. Data Augmentation"
   ]
  },
  {
   "cell_type": "markdown",
   "metadata": {},
   "source": [
    "- Flipping (horizontally)\n",
    "- Random cropping\n",
    "- ..."
   ]
  },
  {
   "cell_type": "markdown",
   "metadata": {},
   "source": [
    "### 2.1. Flipping (horizontally)"
   ]
  },
  {
   "cell_type": "code",
   "execution_count": null,
   "metadata": {},
   "outputs": [],
   "source": [
    "x_train_flip = x_train[:, :, ::-1, :]\n",
    "\n",
    "fig = plt.figure(figsize=(9, 15))\n",
    "fig.subplots_adjust(left=0, right=1, bottom=0, top=0.5, hspace=0.05, wspace=0.05)\n",
    "\n",
    "for i in range(81):\n",
    "    ax = fig.add_subplot(9, 9, i + 1, xticks=[], yticks=[])\n",
    "    ax.imshow(x_train_flip[i])"
   ]
  },
  {
   "cell_type": "markdown",
   "metadata": {},
   "source": [
    "### 2.2. Random cropping"
   ]
  },
  {
   "cell_type": "markdown",
   "metadata": {},
   "source": [
    "- サイズを同じにするために、拡大したあとcropping、paddingしてからcroppingなどの方法があります。\n",
    "- cropは学習時に各バッチに対して行うことも多いです。\n",
    "- 今回はDeep Residual Learning for Image Recognitionで使われた手法を実装します。"
   ]
  },
  {
   "cell_type": "code",
   "execution_count": null,
   "metadata": {},
   "outputs": [],
   "source": [
    "padded = np.pad(x_train, ((0, 0), (4, 4), (4, 4), (0, 0)), mode='constant')\n",
    "crops = rng.randint(8, size=(len(x_train), 2))\n",
    "x_train_cropped = [padded[i, c[0]:(c[0]+32), c[1]:(c[1]+32), :] for i, c in enumerate(crops)]\n",
    "x_train_cropped = np.array(x_train_cropped)\n",
    "\n",
    "fig = plt.figure(figsize=(9, 15))\n",
    "fig.subplots_adjust(left=0, right=1, bottom=0, top=0.5, hspace=0.05,\n",
    "                    wspace=0.05)\n",
    "\n",
    "for i in range(81):\n",
    "    ax = fig.add_subplot(9, 9, i + 1, xticks=[], yticks=[])\n",
    "    ax.imshow(x_train_cropped[i])"
   ]
  },
  {
   "cell_type": "markdown",
   "metadata": {},
   "source": [
    "## 3. Preprocessing"
   ]
  },
  {
   "cell_type": "markdown",
   "metadata": {},
   "source": [
    "- Global Contrast Normalization (GCN)\n",
    "- ZCA Whitening"
   ]
  },
  {
   "cell_type": "markdown",
   "metadata": {},
   "source": [
    "### 3.1. Global Contrast Normalization (GCN)"
   ]
  },
  {
   "cell_type": "markdown",
   "metadata": {},
   "source": [
    "$$ {\\bf x}^{norm} = \\frac{{\\bf x} - \\bar{{\\bf x}}}{\\sqrt{\\sigma_{{\\bf x}}}} $$"
   ]
  },
  {
   "cell_type": "markdown",
   "metadata": {},
   "source": [
    "- 通常の標準化とは違い，画像ごとに行います。\n",
    "- コントラストが低くなります。"
   ]
  },
  {
   "cell_type": "code",
   "execution_count": null,
   "metadata": {
    "collapsed": true
   },
   "outputs": [],
   "source": [
    "def gcn(x):\n",
    "    mean = np.mean(x, axis=(1, 2, 3), keepdims=True)\n",
    "    std = np.std(x, axis=(1, 2, 3), keepdims=True)\n",
    "    return (x - mean)/std"
   ]
  },
  {
   "cell_type": "code",
   "execution_count": null,
   "metadata": {
    "collapsed": true
   },
   "outputs": [],
   "source": [
    "x_train_normalized = gcn(x_train)"
   ]
  },
  {
   "cell_type": "code",
   "execution_count": null,
   "metadata": {
    "collapsed": true
   },
   "outputs": [],
   "source": [
    "# 可視化用に画像を[0,1]にする&次元を変更\n",
    "def deprocess(x):\n",
    "    _min = np.min(x)\n",
    "    _max = np.max(x)\n",
    "    _x = (x - _min)/(_max - _min)\n",
    "    _x = _x\n",
    "    return _x"
   ]
  },
  {
   "cell_type": "code",
   "execution_count": null,
   "metadata": {},
   "outputs": [],
   "source": [
    "_x_train_normalized = deprocess(x_train_normalized)\n",
    "fig = plt.figure(figsize=(9, 15))\n",
    "fig.subplots_adjust(left=0, right=1, bottom=0, top=0.5, hspace=0.05,\n",
    "                    wspace=0.05)\n",
    "\n",
    "for i in range(81):\n",
    "    ax = fig.add_subplot(9, 9, i + 1, xticks=[], yticks=[])\n",
    "    ax.imshow(_x_train_normalized[i])\n",
    "\n",
    "del _x_train_normalized"
   ]
  },
  {
   "cell_type": "markdown",
   "metadata": {},
   "source": [
    "### 3.2. Zero-phase Component Analysis (ZCA) Whitening"
   ]
  },
  {
   "cell_type": "markdown",
   "metadata": {},
   "source": [
    "$$ {\\bf x}^{ZCA} = A(\\Lambda + \\epsilon I)^{-\\frac{1}{2}} A^{\\mathrm{T}} ({\\bf x} - \\bar{\\bf x}) $$"
   ]
  },
  {
   "cell_type": "markdown",
   "metadata": {},
   "source": [
    "- np.linalg.svdを使うと便利です。（厳密にはnp.linalg.svdは特異値分解）"
   ]
  },
  {
   "cell_type": "code",
   "execution_count": null,
   "metadata": {
    "collapsed": true
   },
   "outputs": [],
   "source": [
    "class ZCAWhitening:\n",
    "    def __init__(self, epsilon=1e-4):\n",
    "        self.epsilon = epsilon\n",
    "        self.mean = None\n",
    "        self.ZCA_matrix = None\n",
    "\n",
    "    def fit(self, x):\n",
    "        x = x.reshape(x.shape[0], -1)\n",
    "        self.mean = np.mean(x, axis=0)\n",
    "        x -= self.mean\n",
    "        cov_matrix = np.dot(x.T, x) / x.shape[0]\n",
    "        A, d, _ = np.linalg.svd(cov_matrix)\n",
    "        self.ZCA_matrix = np.dot(np.dot(A, np.diag(1. / np.sqrt(d + self.epsilon))), A.T)\n",
    "\n",
    "    def transform(self, x):\n",
    "        shape = x.shape\n",
    "        x = x.reshape(x.shape[0], -1)\n",
    "        x -= self.mean\n",
    "        x = np.dot(x, self.ZCA_matrix.T)\n",
    "        return x.reshape(shape)"
   ]
  },
  {
   "cell_type": "code",
   "execution_count": null,
   "metadata": {
    "collapsed": true
   },
   "outputs": [],
   "source": [
    "zca = ZCAWhitening()\n",
    "zca.fit(x_train)\n",
    "x_train_zca = zca.transform(x_train)"
   ]
  },
  {
   "cell_type": "code",
   "execution_count": null,
   "metadata": {
    "collapsed": true
   },
   "outputs": [],
   "source": [
    "# 可視化用に各画像ごとに[0,1]にする(ZCAの結果を見やすくするため)&次元を変更\n",
    "def deprocess_each_img(x):\n",
    "    _min = np.min(x, axis=(1, 2, 3), keepdims=True)\n",
    "    _max = np.max(x, axis=(1, 2, 3), keepdims=True)\n",
    "    _x = (x - _min)/(_max - _min)\n",
    "    _x = _x\n",
    "    return _x"
   ]
  },
  {
   "cell_type": "code",
   "execution_count": null,
   "metadata": {},
   "outputs": [],
   "source": [
    "_x_train_zca = deprocess_each_img(x_train_zca)\n",
    "\n",
    "fig = plt.figure(figsize=(9, 15))\n",
    "fig.subplots_adjust(left=0, right=1, bottom=0, top=0.5, hspace=0.05,\n",
    "                    wspace=0.05)\n",
    "\n",
    "for i in range(81):\n",
    "    ax = fig.add_subplot(9, 9, i + 1, xticks=[], yticks=[])\n",
    "    ax.imshow(_x_train_zca[i])\n",
    "\n",
    "del _x_train_zca"
   ]
  },
  {
   "cell_type": "markdown",
   "metadata": {},
   "source": [
    "## 4. Batch Normalization"
   ]
  },
  {
   "cell_type": "markdown",
   "metadata": {},
   "source": [
    "![](https://standardfrancis.files.wordpress.com/2015/04/screenshot-from-2015-04-16-133436.png?w=1008)"
   ]
  },
  {
   "cell_type": "code",
   "execution_count": null,
   "metadata": {
    "collapsed": true
   },
   "outputs": [],
   "source": [
    "class BatchNorm:\n",
    "    def __init__(self, shape, epsilon=np.float32(1e-5)):\n",
    "        self.gamma = tf.Variable(np.ones(shape, dtype='float32'), name='gamma')\n",
    "        self.beta  = tf.Variable(np.zeros(shape, dtype='float32'), name='beta')\n",
    "        self.epsilon = epsilon\n",
    "\n",
    "    def __call__(self, x):\n",
    "        mean, var = tf.nn.moments(x, axes=(0,1,2), keep_dims=True)\n",
    "        std = tf.sqrt(var + self.epsilon)\n",
    "        x_normalized = (x - mean) / std\n",
    "        return self.gamma * x_normalized + self.beta"
   ]
  },
  {
   "cell_type": "markdown",
   "metadata": {},
   "source": [
    "## 5. 畳み込みニューラルネットワーク(Convolutional Neural Networks)の実装と学習"
   ]
  },
  {
   "cell_type": "markdown",
   "metadata": {},
   "source": [
    "### 5.1. 各層クラスの実装"
   ]
  },
  {
   "cell_type": "markdown",
   "metadata": {},
   "source": [
    "#### 畳み込み層"
   ]
  },
  {
   "cell_type": "code",
   "execution_count": null,
   "metadata": {
    "collapsed": true
   },
   "outputs": [],
   "source": [
    "class Conv:\n",
    "    def __init__(self, filter_shape, function=lambda x: x, strides=[1,1,1,1], padding='VALID'):\n",
    "        fan_in = np.prod(filter_shape[:3])\n",
    "        self.W = tf.Variable(rng.uniform(\n",
    "                        low=-np.sqrt(6/fan_in),\n",
    "                        high=np.sqrt(6/fan_in),\n",
    "                        size=filter_shape\n",
    "                    ).astype('float32'), name='W')\n",
    "        self.b = tf.Variable(np.zeros((filter_shape[3]), dtype='float32'), name='b') # バイアスはフィルタごと\n",
    "        self.function = function\n",
    "        self.strides = strides\n",
    "        self.padding = padding\n",
    "\n",
    "    def __call__(self, x):\n",
    "        u = tf.nn.conv2d(x, self.W, strides=self.strides, padding=self.padding) + self.b\n",
    "        return self.function(u)"
   ]
  },
  {
   "cell_type": "markdown",
   "metadata": {},
   "source": [
    "#### プーリング層"
   ]
  },
  {
   "cell_type": "code",
   "execution_count": null,
   "metadata": {
    "collapsed": true
   },
   "outputs": [],
   "source": [
    "class Pooling:\n",
    "    def __init__(self, ksize=[1,2,2,1], strides=[1,2,2,1], padding='VALID'):\n",
    "        self.ksize = ksize\n",
    "        self.strides = strides\n",
    "        self.padding = padding\n",
    "    \n",
    "    def __call__(self, x):\n",
    "        return tf.nn.max_pool(x, ksize=self.ksize, strides=self.strides, padding=self.padding)"
   ]
  },
  {
   "cell_type": "markdown",
   "metadata": {},
   "source": [
    "#### 平滑化層（4次元->2次元）"
   ]
  },
  {
   "cell_type": "code",
   "execution_count": null,
   "metadata": {
    "collapsed": true
   },
   "outputs": [],
   "source": [
    "class Flatten:\n",
    "    def __call__(self, x):\n",
    "        return tf.reshape(x, (-1, np.prod(x.get_shape().as_list()[1:])))"
   ]
  },
  {
   "cell_type": "markdown",
   "metadata": {},
   "source": [
    "#### 全結合層"
   ]
  },
  {
   "cell_type": "code",
   "execution_count": null,
   "metadata": {
    "collapsed": true
   },
   "outputs": [],
   "source": [
    "class Dense:\n",
    "    def __init__(self, in_dim, out_dim, function=lambda x: x):\n",
    "        self.W = tf.Variable(rng.uniform(\n",
    "                        low=-np.sqrt(6/in_dim),\n",
    "                        high=np.sqrt(6/in_dim),\n",
    "                        size=(in_dim, out_dim)\n",
    "                    ).astype('float32'), name='W')\n",
    "        self.b = tf.Variable(np.zeros([out_dim]).astype('float32'))\n",
    "        self.function = function\n",
    "\n",
    "    def __call__(self, x):\n",
    "        return self.function(tf.matmul(x, self.W) + self.b)"
   ]
  },
  {
   "cell_type": "markdown",
   "metadata": {},
   "source": [
    "#### 活性化層"
   ]
  },
  {
   "cell_type": "code",
   "execution_count": null,
   "metadata": {
    "collapsed": true
   },
   "outputs": [],
   "source": [
    "class Activation:\n",
    "    def __init__(self, function=lambda x: x):\n",
    "        self.function = function\n",
    "    \n",
    "    def __call__(self, x):\n",
    "        return self.function(x)"
   ]
  },
  {
   "cell_type": "markdown",
   "metadata": {
    "collapsed": true
   },
   "source": [
    "### 5.2. 計算グラフ構築 & パラメータの更新設定"
   ]
  },
  {
   "cell_type": "code",
   "execution_count": null,
   "metadata": {
    "collapsed": true
   },
   "outputs": [],
   "source": [
    "# tf.log(0)によるnanを防ぐ\n",
    "def tf_log(x):\n",
    "    return tf.log(tf.clip_by_value(x, 1e-10, x))"
   ]
  },
  {
   "cell_type": "code",
   "execution_count": null,
   "metadata": {},
   "outputs": [],
   "source": [
    "tf.reset_default_graph()\n",
    "\n",
    "x = tf.placeholder(tf.float32, [None, 32, 32, 3])\n",
    "t = tf.placeholder(tf.float32, [None, 10])\n",
    "\n",
    "                                                                       # (縦の次元数)x(横の次元数)x(チャネル数)\n",
    "conv_1 = Conv((3, 3, 3, 32))(x)               # 32x32x3 -> 30x30x32\n",
    "h = BatchNorm((30, 30, 32))(conv_1)\n",
    "h = Activation(tf.nn.relu)(h)\n",
    "h = Pooling((1, 2, 2, 1))(h)                        # 30x30x32 -> 15x15x32\n",
    "conv_2 = Conv((3, 3, 32, 64))(h)             # 15x15x32 -> 13x13x64\n",
    "h = BatchNorm((13, 13, 64))(conv_2)\n",
    "h = Activation(tf.nn.relu)(h)\n",
    "h = Pooling(((1, 2, 2, 1)))(h)                      # 13x13x64 -> 6x6x64\n",
    "conv_3 = Conv((3, 3, 64, 128))(h)          # 6x6x64 -> 4x4x128\n",
    "h = BatchNorm((4, 4, 128))(conv_3)\n",
    "h = Activation(tf.nn.relu)(h)\n",
    "h = Pooling((1, 2, 2, 1))(h)                         # 4x4x128 -> 2x2x128\n",
    "h = Flatten()(h)\n",
    "h = Dense(2*2*128, 256, tf.nn.relu)(h)\n",
    "y = Dense(256, 10, tf.nn.softmax)(h)\n",
    "\n",
    "cost = - tf.reduce_mean(tf.reduce_sum(t * tf_log(y), axis=1))\n",
    "train = tf.train.GradientDescentOptimizer(0.01).minimize(cost)"
   ]
  },
  {
   "cell_type": "markdown",
   "metadata": {},
   "source": [
    "### 5.3. 学習"
   ]
  },
  {
   "cell_type": "markdown",
   "metadata": {},
   "source": [
    "#### Preprocessing"
   ]
  },
  {
   "cell_type": "code",
   "execution_count": null,
   "metadata": {},
   "outputs": [],
   "source": [
    "zca = ZCAWhitening()\n",
    "zca.fit(gcn(x_train))\n",
    "x_train_zca = zca.transform(gcn(x_train))\n",
    "t_train_zca = t_train[:]\n",
    "x_valid_zca = zca.transform(gcn(x_valid))\n",
    "t_valid_zca = t_valid[:]"
   ]
  },
  {
   "cell_type": "markdown",
   "metadata": {},
   "source": [
    "#### 学習"
   ]
  },
  {
   "cell_type": "code",
   "execution_count": null,
   "metadata": {
    "scrolled": false
   },
   "outputs": [],
   "source": [
    "n_epochs = 10\n",
    "batch_size = 100\n",
    "n_batches = x_train.shape[0]//batch_size\n",
    "\n",
    "sess = tf.Session()\n",
    "init = tf.global_variables_initializer()\n",
    "sess.run(init)\n",
    "\n",
    "for epoch in range(n_epochs):\n",
    "    x_train_zca, t_train_zca = shuffle(x_train_zca, t_train_zca, random_state=random_state)\n",
    "    for batch in range(n_batches):\n",
    "        start = batch * batch_size\n",
    "        end = start + batch_size\n",
    "        sess.run(train, feed_dict={x: x_train_zca[start:end], t: t_train_zca[start:end]})\n",
    "    y_pred, cost_valid = sess.run([y, cost], feed_dict={x: x_valid_zca, t: t_valid_zca})\n",
    "    print('EPOCH: {}, Valid Cost: {:.3f}, Valid Accuracy: {:.3f}'.format(\n",
    "        epoch,\n",
    "        cost_valid,\n",
    "        accuracy_score(t_valid.argmax(axis=1), y_pred.argmax(axis=1))\n",
    "    ))"
   ]
  },
  {
   "cell_type": "markdown",
   "metadata": {},
   "source": [
    "## 6. Activationの可視化"
   ]
  },
  {
   "cell_type": "code",
   "execution_count": null,
   "metadata": {},
   "outputs": [],
   "source": [
    "plt.imshow(deprocess(x_train)[0])"
   ]
  },
  {
   "cell_type": "markdown",
   "metadata": {},
   "source": [
    "### 6.1. conv_1"
   ]
  },
  {
   "cell_type": "code",
   "execution_count": null,
   "metadata": {},
   "outputs": [],
   "source": [
    "output = sess.run(conv_1, feed_dict={x: x_train[0][None]})"
   ]
  },
  {
   "cell_type": "code",
   "execution_count": null,
   "metadata": {},
   "outputs": [],
   "source": [
    "_output = deprocess(output)\n",
    "fig = plt.figure(figsize=(10, 10))\n",
    "for i in range(3):\n",
    "    ax = fig.add_subplot(1, 3, i+1, xticks=[], yticks=[])\n",
    "    ax.imshow(_output[0, :, :, i], cmap='gray')"
   ]
  },
  {
   "cell_type": "markdown",
   "metadata": {},
   "source": [
    "### 6.2. conv_2"
   ]
  },
  {
   "cell_type": "code",
   "execution_count": null,
   "metadata": {
    "collapsed": true
   },
   "outputs": [],
   "source": [
    "output = sess.run(conv_2, feed_dict={x: x_train[0][None]})"
   ]
  },
  {
   "cell_type": "code",
   "execution_count": null,
   "metadata": {},
   "outputs": [],
   "source": [
    "_output = deprocess(output)\n",
    "fig = plt.figure(figsize=(10, 10))\n",
    "for i in range(3):\n",
    "    ax = fig.add_subplot(1, 3, i+1, xticks=[], yticks=[])\n",
    "    ax.imshow(_output[0, :, :, i], cmap='gray')"
   ]
  },
  {
   "cell_type": "markdown",
   "metadata": {},
   "source": [
    "### 6.3. conv_3"
   ]
  },
  {
   "cell_type": "code",
   "execution_count": null,
   "metadata": {
    "collapsed": true
   },
   "outputs": [],
   "source": [
    "output = sess.run(conv_3, feed_dict={x: x_train[0][None]})"
   ]
  },
  {
   "cell_type": "code",
   "execution_count": null,
   "metadata": {},
   "outputs": [],
   "source": [
    "_output = deprocess(output)\n",
    "fig = plt.figure(figsize=(10, 10))\n",
    "for i in range(3):\n",
    "    ax = fig.add_subplot(1, 3, i+1, xticks=[], yticks=[])\n",
    "    ax.imshow(_output[0, :, :, i], cmap='gray')"
   ]
  },
  {
   "cell_type": "code",
   "execution_count": null,
   "metadata": {
    "collapsed": true
   },
   "outputs": [],
   "source": [
    "sess.close()"
   ]
  },
  {
   "cell_type": "markdown",
   "metadata": {},
   "source": [
    "## 7. tf.layers の利用"
   ]
  },
  {
   "cell_type": "markdown",
   "metadata": {},
   "source": [
    "これまで扱ってきたTensorflowの実装では比較的低レベルなAPIを使用してきました。それは本講義ではアルゴリズムの実装にフォーカスするためです。\n",
    "\n",
    "しかしながら、実際にビジネスや研究で利用するときにはプリミティブな実装を一から書くのは手間になる場合もあります。そのような課題を解決するニーズに答え、Tensorflowには高レベルなAPIも用意されています。その一つに`tf.layers`というAPIがあります。\n",
    "\n",
    "ここでは、`tf.layers`を使って、課題5の畳み込みニューラルネットワークの実装を行ってみましょう。\n",
    "\n",
    "\n",
    "なお、このような高レベルなAPIは簡単に実装できる反面、実装の柔軟性が落ちるという欠点もあります。場合によって使い分ける必要があります。\n",
    "\n",
    "`tf.layers`で使えるモジュールは以下のページで確認できます。\n",
    "\n",
    "[Module: tf.layers](https://www.tensorflow.org/api_docs/python/tf/layers)"
   ]
  },
  {
   "cell_type": "markdown",
   "metadata": {},
   "source": [
    "### 7.1. ネットワークの実装"
   ]
  },
  {
   "cell_type": "code",
   "execution_count": null,
   "metadata": {},
   "outputs": [],
   "source": [
    "tf.reset_default_graph()\n",
    "\n",
    "is_training = tf.placeholder(tf.bool, shape=()) # batch normalizationのために定義\n",
    "\n",
    "x = tf.placeholder(shape=[None, 32, 32, 3], dtype=tf.float32)\n",
    "t = tf.placeholder(tf.float32, [None, 10])\n",
    "\n",
    "### ネットワーク ###\n",
    "h = tf.layers.Conv2D(filters=32, kernel_size= [3, 3])(x) # 32x32x3 -> 30x30x32 # conv2dの初期設定: strides=(1, 1), padding='valid' \n",
    "h = tf.layers.BatchNormalization()(h, training=is_training)\n",
    "h = tf.nn.relu(h)\n",
    "h = tf.layers.MaxPooling2D(pool_size=[2, 2], strides=2)(h) # 30x30x32 -> 15x15x32\n",
    "\n",
    "h = tf.layers.Conv2D(filters=64, kernel_size= [3, 3])(h) # 15x15x32 -> 13x13x64\n",
    "h = tf.layers.BatchNormalization()(h, training=is_training)\n",
    "h = tf.nn.relu(h)\n",
    "h = tf.layers.MaxPooling2D(pool_size=[2, 2], strides=2)(h) # 13x13x64 -> 6x6x64\n",
    "\n",
    "h = tf.layers.Conv2D(filters=128, kernel_size= [3, 3])(h) # 6x6x64 -> 4x4x128\n",
    "h = tf.layers.BatchNormalization()(h, training=is_training)\n",
    "h = tf.nn.relu(h)\n",
    "h = tf.layers.MaxPooling2D(pool_size=[2, 2], strides=2)(h) # 4x4x128 -> 2x2x128\n",
    "\n",
    "h = tf.layers.Flatten()(h)\n",
    "h = tf.layers.Dense(units=256, activation=tf.nn.relu)(h)\n",
    "y = tf.layers.Dense(units=10, activation=tf.nn.softmax)(h)\n",
    "\n",
    "cost = - tf.reduce_mean(tf.reduce_sum(t * tf_log(y), axis=1))\n",
    "\n",
    "# batch normalizationのために記述しています。詳細: https://www.tensorflow.org/api_docs/python/tf/layers/batch_normalization\n",
    "update_ops = tf.get_collection(tf.GraphKeys.UPDATE_OPS)\n",
    "\n",
    "with tf.control_dependencies(update_ops):\n",
    "    optimizer = tf.train.AdamOptimizer(0.01).minimize(cost)"
   ]
  },
  {
   "cell_type": "markdown",
   "metadata": {},
   "source": [
    "### 7.2. 学習"
   ]
  },
  {
   "cell_type": "code",
   "execution_count": null,
   "metadata": {
    "collapsed": true
   },
   "outputs": [],
   "source": [
    "n_epochs = 10\n",
    "batch_size = 100\n",
    "n_batches = x_train.shape[0]//batch_size\n",
    "\n",
    "sess = tf.Session()\n",
    "init = tf.global_variables_initializer()\n",
    "sess.run(init)"
   ]
  },
  {
   "cell_type": "code",
   "execution_count": null,
   "metadata": {
    "scrolled": false
   },
   "outputs": [],
   "source": [
    "for epoch in range(n_epochs):\n",
    "    x_train_zca, t_train_zca = shuffle(x_train_zca, t_train_zca, random_state=random_state)\n",
    "    for batch in range(n_batches):\n",
    "        start = batch * batch_size\n",
    "        end = start + batch_size\n",
    "        sess.run(optimizer, feed_dict={x: x_train_zca[start:end], t: t_train_zca[start:end], is_training: True})\n",
    "    y_pred, cost_valid = sess.run([y, cost], feed_dict={x: x_valid_zca, t: t_valid_zca, is_training: False})\n",
    "    print('EPOCH: {}, Valid Cost: {:.3f}, Valid Accuracy: {:.3f}'.format(\n",
    "        epoch,\n",
    "        cost_valid,\n",
    "        accuracy_score(t_valid.argmax(axis=1), y_pred.argmax(axis=1))\n",
    "    ))"
   ]
  },
  {
   "cell_type": "code",
   "execution_count": null,
   "metadata": {
    "collapsed": true
   },
   "outputs": [],
   "source": [
    "sess.close()"
   ]
  },
  {
   "cell_type": "code",
   "execution_count": null,
   "metadata": {
    "collapsed": true
   },
   "outputs": [],
   "source": []
  }
 ],
 "metadata": {
  "anaconda-cloud": {},
  "kernelspec": {
   "display_name": "Python 3",
   "language": "python",
   "name": "python3"
  },
  "language_info": {
   "codemirror_mode": {
    "name": "ipython",
    "version": 3
   },
   "file_extension": ".py",
   "mimetype": "text/x-python",
   "name": "python",
   "nbconvert_exporter": "python",
   "pygments_lexer": "ipython3",
   "version": "3.7.2"
  }
 },
 "nbformat": 4,
 "nbformat_minor": 2
}
