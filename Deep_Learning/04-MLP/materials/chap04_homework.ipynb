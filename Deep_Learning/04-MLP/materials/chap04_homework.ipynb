{
 "cells": [
  {
   "cell_type": "markdown",
   "metadata": {},
   "source": [
    "# 第4回講義 宿題"
   ]
  },
  {
   "cell_type": "markdown",
   "metadata": {},
   "source": [
    "## 課題\n",
    "今Lessonで学んだことを元に, MNISTのファッション版 (Fashion MNIST, クラス数10) を多層パーセプトロン (MLP) によって分類してみましょう.\n",
    "\n",
    "Fashion MNISTの詳細については以下のリンクを参考にしてください.\n",
    "\n",
    "Fashion MNIST: https://github.com/zalandoresearch/fashion-mnist"
   ]
  },
  {
   "cell_type": "markdown",
   "metadata": {},
   "source": [
    "### 目標値\n",
    "Accuracy: 85%"
   ]
  },
  {
   "cell_type": "markdown",
   "metadata": {},
   "source": [
    "### ルール\n",
    "- **下のセルで指定されている`x_train、y_train`以外の学習データは使わないでください。**\n",
    "- **MLPのアルゴリズム部分の実装はnumpyのみで行ってください** (sklearnやtensorflowなどは使用しないでください)。\n",
    "    - データの前処理部分でsklearnの関数を使う (例えば `sklearn.model_selection.train_test_split`) のは問題ありません。"
   ]
  },
  {
   "cell_type": "markdown",
   "metadata": {},
   "source": [
    "### 提出方法\n",
    "- 2つのファイルを提出していただきます。\n",
    "    1. テストデータ (`x_test`) に対する予測ラベルを`submission_pred.csv`として保存し、**Homeworkタブから`chap04`を選択して**提出してください。\n",
    "    2. それに対応するpythonのコードを`submission_code.py`として保存し、**Homeworkタブから`chap04 (code)`を選択して**提出してください。\n",
    "      - セルに書いたコードを.py形式で保存するためには%%writefileコマンドなどを利用してください（writefileコマンドではファイルの保存のみが行われセル内のpythonコード自体は実行されません。そのため、実際にコードを走らせる際にはwritefileコマンドをコメントアウトしてください）。\n",
    "      \n",
    "- なお、採点は1で行い、2はコードの確認用として利用します（成績優秀者はコード内容を公開させていただくかもしれません）。コードの内容を変更した場合は、**1と2の両方を提出し直してください**。"
   ]
  },
  {
   "cell_type": "markdown",
   "metadata": {},
   "source": [
    "### 評価方法\n",
    "- 予測ラベルの`y_test`に対する精度 (Accuracy) で評価します.\n",
    "- 毎日夜24時にテストデータの一部に対する精度でLeader Boardを更新します.\n",
    "- 締切日の夜24時にテストデータ全体に対する精度でLeader Boardを更新します. これを最終的な評価とします."
   ]
  },
  {
   "cell_type": "markdown",
   "metadata": {},
   "source": [
    "### データの読み込み\n",
    "- この部分は修正しないでください。"
   ]
  },
  {
   "cell_type": "code",
   "execution_count": 1,
   "metadata": {},
   "outputs": [],
   "source": [
    "import os\n",
    "import sys\n",
    "\n",
    "import numpy as np\n",
    "import pandas as pd\n",
    "\n",
    "sys.modules['tensorflow'] = None\n",
    "\n",
    "def load_fashionmnist():\n",
    "    # 学習データ\n",
    "    x_train = np.load('../data/x_train.npy')\n",
    "    y_train = np.load('../data/y_train.npy')\n",
    "    \n",
    "    # テストデータ\n",
    "    x_test = np.load('../data/x_test.npy')\n",
    "\n",
    "    x_train = x_train.reshape(-1, 784).astype('float32') / 255\n",
    "    y_train = np.eye(10)[y_train.astype('int32')]\n",
    "    x_test = x_test.reshape(-1, 784).astype('float32') / 255\n",
    "    \n",
    "    return x_train, y_train, x_test"
   ]
  },
  {
   "cell_type": "markdown",
   "metadata": {},
   "source": [
    "### 多層パーセプトロンの実装"
   ]
  },
  {
   "cell_type": "code",
   "execution_count": 14,
   "metadata": {},
   "outputs": [
    {
     "name": "stdout",
     "output_type": "stream",
     "text": [
      "Writing submission_code.py\n"
     ]
    }
   ],
   "source": [
    "%%writefile submission_code.py\n",
    "\n",
    "from sklearn.utils import shuffle\n",
    "from sklearn.metrics import accuracy_score\n",
    "from sklearn.model_selection import train_test_split\n",
    "\n",
    "x_train, y_train, x_test = load_fashionmnist()\n",
    "\n",
    "x_train, x_valid, y_train, y_valid = train_test_split(x_train, y_train, test_size=1000)\n",
    "\n",
    "def np_log(x):\n",
    "    return np.log(np.clip(x, 1e-10, x))\n",
    "\n",
    "def relu(x):\n",
    "    return np.maximum(x, 0)\n",
    "\n",
    "def deriv_relu(x):\n",
    "    return (x > 0).astype(x.dtype)\n",
    "\n",
    "def softmax(x):\n",
    "    x -= x.max(axis=1, keepdims=True)\n",
    "    x_exp = np.exp(x)\n",
    "    return x_exp / np.sum(x_exp, axis=1, keepdims=True)\n",
    "\n",
    "def deriv_softmax(x):\n",
    "    return softmax(x) * (1 - softmax(x))\n",
    "\n",
    "\n",
    "class Dense:\n",
    "    \n",
    "    def __init__(self, in_dim, out_dim, function, deriv_function):\n",
    "        self.W = np.random.uniform(low=-0.08, high=0.08,size=(in_dim, out_dim)).astype('float64')\n",
    "        self.b = np.zeros(out_dim).astype('float64')\n",
    "        self.function = function\n",
    "        self.deriv_function = deriv_function\n",
    "\n",
    "        self.x = None\n",
    "        self.u = None\n",
    "\n",
    "        self.dW = None\n",
    "        self.db = None\n",
    "\n",
    "        self.params_idxs = np.cumsum([self.W.size, self.b.size])\n",
    "\n",
    "    def __call__(self, x):\n",
    "        self.x = x\n",
    "        self.u = np.matmul(self.x, self.W) + self.b\n",
    "        return self.function(self.u)\n",
    "\n",
    "    def b_prop(self, delta, W):\n",
    "        self.delta = self.deriv_function(self.u) * np.matmul(delta, W.T)\n",
    "        return self.delta\n",
    "    \n",
    "    def compute_grad(self):\n",
    "        batch_size = self.delta.shape[0]\n",
    "        self.dW = np.matmul(self.x.T, self.delta) / batch_size\n",
    "        self.db = np.matmul(np.ones(batch_size), self.delta) / batch_size\n",
    "\n",
    "    def get_params(self):\n",
    "        return np.concatenate([self.W.ravel(), self.b], axis=0)\n",
    "    \n",
    "    def set_params(self, params):\n",
    "        _W, _b = np.split(params, self.params_idxs)[:-1]\n",
    "        self.W = _W.reshape(self.W.shape)\n",
    "        self.b = _b\n",
    "    \n",
    "    def get_grads(self):\n",
    "        return np.concatenate([self.dW.ravel(), self.db], axis=0)\n",
    "\n",
    "    \n",
    "def f_props(layers, x):\n",
    "    for layer in layers:\n",
    "        x = layer(x)\n",
    "    return x\n",
    "\n",
    "def b_props(layers, delta):\n",
    "    batch_size = delta.shape[0]\n",
    "    \n",
    "    for i, layer in enumerate(layers[::-1]):\n",
    "        if i == 0: # 出力層の場合\n",
    "            layer.delta = delta # y - t\n",
    "            layer.compute_grad() # 勾配の計算\n",
    "        else: # 出力層以外の場合\n",
    "            delta = layer.b_prop(delta, W) # 逆伝播\n",
    "            layer.compute_grad() # 勾配の計算\n",
    "\n",
    "        W = layer.W\n",
    "\n",
    "def update_parameters(layers, eps):\n",
    "    for layer in layers:\n",
    "        layer.W -= eps * layer.dW\n",
    "        layer.b -= eps * layer.db\n",
    "\n",
    "layers = [\n",
    "    Dense(784, 100, relu, deriv_relu),\n",
    "    Dense(100, 100, relu, deriv_relu),\n",
    "    Dense(100, 10, softmax, deriv_softmax)\n",
    "]\n",
    "\n",
    "def train_mnist(x, t, eps):\n",
    "    # 順伝播\n",
    "    y = f_props(layers, x)\n",
    "    \n",
    "    # 誤差の計算\n",
    "    cost = (- t * np_log(y)).sum(axis=1).mean()\n",
    "    \n",
    "    # 逆伝播\n",
    "    delta = y - t\n",
    "    b_props(layers, delta)\n",
    "\n",
    "    # パラメータの更新\n",
    "    update_parameters(layers, eps)\n",
    "\n",
    "    return cost\n",
    "\n",
    "def valid_mnist(x, t):\n",
    "    # 順伝播\n",
    "    y = f_props(layers, x)\n",
    "    \n",
    "    # 誤差の計算\n",
    "    cost = (- t * np_log(y)).sum(axis=1).mean()\n",
    "    \n",
    "    return cost, y\n",
    "\n",
    "#学習\n",
    "batch_size = 10\n",
    "for epoch in range(10):\n",
    "    x_train, y_train = shuffle(x_train, y_train)\n",
    "    for i in range(int(len(x_train) / batch_size)):\n",
    "        x = x_train[i * batch_size : (i+1) * batch_size]\n",
    "        y = y_train[i * batch_size : (i+1) * batch_size]\n",
    "        cost = train_mnist(x, y, eps = 0.01)\n",
    "    \n",
    "    cost, y_pred = valid_mnist(x_valid, y_valid)\n",
    "    accuracy = accuracy_score(y_valid.argmax(axis=1), y_pred.argmax(axis=1))\n",
    "    print('EPOCH: {}, Valid Cost: {:.3f}, Valid Accuracy: {:.3f}'.format(epoch + 1, cost, accuracy))\n",
    "\n",
    "#テストデータの分類\n",
    "y_pred = f_props(layers, x_test)\n",
    "y_pred = np.argmax(y_pred, axis=1)\n",
    "\n",
    "submission = pd.Series(y_pred, name='label')\n",
    "submission.to_csv('submission_pred.csv', header=True, index_label='id')"
   ]
  },
  {
   "cell_type": "code",
   "execution_count": null,
   "metadata": {},
   "outputs": [],
   "source": []
  }
 ],
 "metadata": {
  "kernelspec": {
   "display_name": "Python 3",
   "language": "python",
   "name": "python3"
  },
  "language_info": {
   "codemirror_mode": {
    "name": "ipython",
    "version": 3
   },
   "file_extension": ".py",
   "mimetype": "text/x-python",
   "name": "python",
   "nbconvert_exporter": "python",
   "pygments_lexer": "ipython3",
   "version": "3.7.2"
  }
 },
 "nbformat": 4,
 "nbformat_minor": 2
}
