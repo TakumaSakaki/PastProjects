{
 "cells": [
  {
   "cell_type": "code",
   "execution_count": 1,
   "metadata": {
    "collapsed": true
   },
   "outputs": [],
   "source": [
    "# 分析用\n",
    "import numpy as np\n",
    "import pandas as pd\n",
    "\n",
    "# プロット用\n",
    "import matplotlib.pyplot as plt\n",
    "%matplotlib inline\n",
    "\n",
    "# 機械学習用\n",
    "from sklearn.linear_model import LogisticRegression\n",
    "from sklearn.model_selection import ShuffleSplit"
   ]
  },
  {
   "cell_type": "code",
   "execution_count": 2,
   "metadata": {
    "collapsed": true
   },
   "outputs": [],
   "source": [
    "df = pd.read_csv(\"train.csv\")\n",
    "df = df.loc[:, [\"PassengerId\", \"Survived\", \"Pclass\", \"Sex\", \"Age\", \"SibSp\", \"Parch\"]]\n",
    "df = df[np.isnan(df['Age']) == False]"
   ]
  },
  {
   "cell_type": "code",
   "execution_count": 3,
   "metadata": {
    "collapsed": true
   },
   "outputs": [],
   "source": [
    "df['Sex'] = df['Sex'].map(lambda x: 0 if x == \"male\" else 1)\n",
    "df['Pclass_1'] = df['Pclass'].map(lambda x: 1 if x == 1 else 0)\n",
    "df['Pclass_2'] = df['Pclass'].map(lambda x: 1 if x == 2 else 0)\n",
    "df = df.drop(\"Pclass\", axis = 1)"
   ]
  },
  {
   "cell_type": "code",
   "execution_count": 4,
   "metadata": {
    "collapsed": false
   },
   "outputs": [],
   "source": [
    "#各変数を正規化\n",
    "df2 = df.apply(lambda x: (x - np.mean(x)) / (np.max(x) - np.min(x)))\n",
    "df2[\"PassengerId\"] = df['PassengerId']\n",
    "df2['Survived'] = df['Survived']"
   ]
  },
  {
   "cell_type": "code",
   "execution_count": 5,
   "metadata": {
    "collapsed": true
   },
   "outputs": [],
   "source": [
    "df2_except = df2.drop(\"Survived\", axis=1).drop(\"PassengerId\", axis=1)\n",
    "X = df2_except.as_matrix()\n",
    "Y = df2['Survived'].as_matrix()"
   ]
  },
  {
   "cell_type": "code",
   "execution_count": 12,
   "metadata": {
    "collapsed": false
   },
   "outputs": [
    {
     "data": {
      "text/html": [
       "<div>\n",
       "<table border=\"1\" class=\"dataframe\">\n",
       "  <thead>\n",
       "    <tr style=\"text-align: right;\">\n",
       "      <th></th>\n",
       "      <th>Name</th>\n",
       "      <th>Coefficients</th>\n",
       "    </tr>\n",
       "  </thead>\n",
       "  <tbody>\n",
       "    <tr>\n",
       "      <th>1</th>\n",
       "      <td>Age</td>\n",
       "      <td>-2.301550</td>\n",
       "    </tr>\n",
       "    <tr>\n",
       "      <th>2</th>\n",
       "      <td>SibSp</td>\n",
       "      <td>-1.129613</td>\n",
       "    </tr>\n",
       "    <tr>\n",
       "      <th>3</th>\n",
       "      <td>Parch</td>\n",
       "      <td>-0.184526</td>\n",
       "    </tr>\n",
       "    <tr>\n",
       "      <th>5</th>\n",
       "      <td>Pclass_2</td>\n",
       "      <td>1.045075</td>\n",
       "    </tr>\n",
       "    <tr>\n",
       "      <th>4</th>\n",
       "      <td>Pclass_1</td>\n",
       "      <td>2.211635</td>\n",
       "    </tr>\n",
       "    <tr>\n",
       "      <th>0</th>\n",
       "      <td>Sex</td>\n",
       "      <td>2.450932</td>\n",
       "    </tr>\n",
       "  </tbody>\n",
       "</table>\n",
       "</div>"
      ],
      "text/plain": [
       "       Name  Coefficients\n",
       "1       Age     -2.301550\n",
       "2     SibSp     -1.129613\n",
       "3     Parch     -0.184526\n",
       "5  Pclass_2      1.045075\n",
       "4  Pclass_1      2.211635\n",
       "0       Sex      2.450932"
      ]
     },
     "execution_count": 12,
     "metadata": {},
     "output_type": "execute_result"
    }
   ],
   "source": [
    "clf = LogisticRegression()\n",
    "clf.fit(X, Y)\n",
    "df_result = pd.DataFrame({\"Name\":df2_except.columns,\"Coefficients\":clf.coef_[0]}).sort_values(by='Coefficients')\n",
    "df_result.ix[:,['Name', 'Coefficients']]"
   ]
  },
  {
   "cell_type": "code",
   "execution_count": 7,
   "metadata": {
    "collapsed": false
   },
   "outputs": [
    {
     "data": {
      "text/plain": [
       "-0.49047649204278876"
      ]
     },
     "execution_count": 7,
     "metadata": {},
     "output_type": "execute_result"
    }
   ],
   "source": [
    "clf.intercept_[0]"
   ]
  },
  {
   "cell_type": "code",
   "execution_count": 8,
   "metadata": {
    "collapsed": false
   },
   "outputs": [],
   "source": [
    "#予測してみる\n",
    "df2['eq'] = -0.490 - 2.3016*df2['Age'] + 2.451 * df2['Sex'] + 2.212 * df2['Pclass_1'] + 1.045 * df2['Pclass_2'] - 1.13 * df2['SibSp'] - 0.1845 * df2['Parch']"
   ]
  },
  {
   "cell_type": "code",
   "execution_count": 9,
   "metadata": {
    "collapsed": false
   },
   "outputs": [],
   "source": [
    "df2['e^eq'] = np.exp(df2['eq'])\n",
    "df2['Survived-predicted'] = df2['e^eq'] / (1 + df2['e^eq'])\n",
    "df_pre = df2.ix[:,['Survived', 'Survived-predicted']]\n",
    "df_pre['prediction'] = df_pre['Survived-predicted'].map(lambda x : 1 if x > 0.5 else 0)"
   ]
  },
  {
   "cell_type": "code",
   "execution_count": 10,
   "metadata": {
    "collapsed": false
   },
   "outputs": [
    {
     "data": {
      "text/plain": [
       "{'0-0': 362, '0-1': 62, '1-0': 85, '1-1': 205}"
      ]
     },
     "execution_count": 10,
     "metadata": {},
     "output_type": "execute_result"
    }
   ],
   "source": [
    "r = {}\n",
    "r[\"1-1\"] = np.logical_and(df_pre['Survived'] == 1, df_pre['prediction'] == 1).value_counts(sort=False)[1]\n",
    "r[\"1-0\"] = np.logical_and(df_pre['Survived'] == 1, df_pre['prediction'] == 0).value_counts(sort=False)[1]\n",
    "r[\"0-1\"] = np.logical_and(df_pre['Survived'] == 0, df_pre['prediction'] == 1).value_counts(sort=False)[1]\n",
    "r[\"0-0\"] = np.logical_and(df_pre['Survived'] == 0, df_pre['prediction'] == 0).value_counts(sort=False)[1]\n",
    "r"
   ]
  },
  {
   "cell_type": "code",
   "execution_count": 11,
   "metadata": {
    "collapsed": false
   },
   "outputs": [
    {
     "data": {
      "text/plain": [
       "79.411764705882348"
      ]
     },
     "execution_count": 11,
     "metadata": {},
     "output_type": "execute_result"
    }
   ],
   "source": [
    "#正解率\n",
    "(r['0-0'] + r['1-1']) / (r['0-0'] + r['1-1'] + r[\"1-0\"] + r[\"0-1\"]) *100"
   ]
  }
 ],
 "metadata": {
  "kernelspec": {
   "display_name": "Python 3",
   "language": "python",
   "name": "python3"
  },
  "language_info": {
   "codemirror_mode": {
    "name": "ipython",
    "version": 3
   },
   "file_extension": ".py",
   "mimetype": "text/x-python",
   "name": "python",
   "nbconvert_exporter": "python",
   "pygments_lexer": "ipython3",
   "version": "3.6.0"
  }
 },
 "nbformat": 4,
 "nbformat_minor": 2
}
