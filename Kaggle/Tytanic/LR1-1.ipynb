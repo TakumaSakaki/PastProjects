{
 "cells": [
  {
   "cell_type": "code",
   "execution_count": 1,
   "metadata": {
    "collapsed": true
   },
   "outputs": [],
   "source": [
    "# 分析用\n",
    "import numpy as np\n",
    "import pandas as pd\n",
    "\n",
    "# プロット用\n",
    "import matplotlib.pyplot as plt\n",
    "%matplotlib inline\n",
    "\n",
    "# 機械学習用\n",
    "from sklearn.linear_model import LogisticRegression\n",
    "from sklearn.model_selection import ShuffleSplit"
   ]
  },
  {
   "cell_type": "code",
   "execution_count": 2,
   "metadata": {
    "collapsed": true
   },
   "outputs": [],
   "source": [
    "df = pd.read_csv(\"train.csv\")\n",
    "df = df.loc[:, [\"PassengerId\", \"Survived\", \"Pclass\", \"Sex\", \"Age\", \"SibSp\", \"Parch\"]]\n",
    "df = df[np.isnan(df['Age']) == False]"
   ]
  },
  {
   "cell_type": "code",
   "execution_count": 3,
   "metadata": {
    "collapsed": true
   },
   "outputs": [],
   "source": [
    "df['Sex'] = df['Sex'].map(lambda x: 0 if x == \"male\" else 1)\n",
    "df['Pclass_1'] = df['Pclass'].map(lambda x: 1 if x == 1 else 0)\n",
    "df['Pclass_2'] = df['Pclass'].map(lambda x: 1 if x == 2 else 0)\n",
    "df = df.drop(\"Pclass\", axis = 1)"
   ]
  },
  {
   "cell_type": "code",
   "execution_count": 4,
   "metadata": {
    "collapsed": false
   },
   "outputs": [
    {
     "data": {
      "text/html": [
       "<div>\n",
       "<table border=\"1\" class=\"dataframe\">\n",
       "  <thead>\n",
       "    <tr style=\"text-align: right;\">\n",
       "      <th></th>\n",
       "      <th>PassengerId</th>\n",
       "      <th>Survived</th>\n",
       "      <th>Sex</th>\n",
       "      <th>Age</th>\n",
       "      <th>SibSp</th>\n",
       "      <th>Parch</th>\n",
       "      <th>Pclass_1</th>\n",
       "      <th>Pclass_2</th>\n",
       "    </tr>\n",
       "  </thead>\n",
       "  <tbody>\n",
       "    <tr>\n",
       "      <th>0</th>\n",
       "      <td>1</td>\n",
       "      <td>0</td>\n",
       "      <td>0</td>\n",
       "      <td>22.0</td>\n",
       "      <td>1</td>\n",
       "      <td>0</td>\n",
       "      <td>0</td>\n",
       "      <td>0</td>\n",
       "    </tr>\n",
       "    <tr>\n",
       "      <th>1</th>\n",
       "      <td>2</td>\n",
       "      <td>1</td>\n",
       "      <td>1</td>\n",
       "      <td>38.0</td>\n",
       "      <td>1</td>\n",
       "      <td>0</td>\n",
       "      <td>1</td>\n",
       "      <td>0</td>\n",
       "    </tr>\n",
       "    <tr>\n",
       "      <th>2</th>\n",
       "      <td>3</td>\n",
       "      <td>1</td>\n",
       "      <td>1</td>\n",
       "      <td>26.0</td>\n",
       "      <td>0</td>\n",
       "      <td>0</td>\n",
       "      <td>0</td>\n",
       "      <td>0</td>\n",
       "    </tr>\n",
       "    <tr>\n",
       "      <th>3</th>\n",
       "      <td>4</td>\n",
       "      <td>1</td>\n",
       "      <td>1</td>\n",
       "      <td>35.0</td>\n",
       "      <td>1</td>\n",
       "      <td>0</td>\n",
       "      <td>1</td>\n",
       "      <td>0</td>\n",
       "    </tr>\n",
       "    <tr>\n",
       "      <th>4</th>\n",
       "      <td>5</td>\n",
       "      <td>0</td>\n",
       "      <td>0</td>\n",
       "      <td>35.0</td>\n",
       "      <td>0</td>\n",
       "      <td>0</td>\n",
       "      <td>0</td>\n",
       "      <td>0</td>\n",
       "    </tr>\n",
       "    <tr>\n",
       "      <th>6</th>\n",
       "      <td>7</td>\n",
       "      <td>0</td>\n",
       "      <td>0</td>\n",
       "      <td>54.0</td>\n",
       "      <td>0</td>\n",
       "      <td>0</td>\n",
       "      <td>1</td>\n",
       "      <td>0</td>\n",
       "    </tr>\n",
       "    <tr>\n",
       "      <th>7</th>\n",
       "      <td>8</td>\n",
       "      <td>0</td>\n",
       "      <td>0</td>\n",
       "      <td>2.0</td>\n",
       "      <td>3</td>\n",
       "      <td>1</td>\n",
       "      <td>0</td>\n",
       "      <td>0</td>\n",
       "    </tr>\n",
       "  </tbody>\n",
       "</table>\n",
       "</div>"
      ],
      "text/plain": [
       "   PassengerId  Survived  Sex   Age  SibSp  Parch  Pclass_1  Pclass_2\n",
       "0            1         0    0  22.0      1      0         0         0\n",
       "1            2         1    1  38.0      1      0         1         0\n",
       "2            3         1    1  26.0      0      0         0         0\n",
       "3            4         1    1  35.0      1      0         1         0\n",
       "4            5         0    0  35.0      0      0         0         0\n",
       "6            7         0    0  54.0      0      0         1         0\n",
       "7            8         0    0   2.0      3      1         0         0"
      ]
     },
     "execution_count": 4,
     "metadata": {},
     "output_type": "execute_result"
    }
   ],
   "source": [
    "df[0:7]"
   ]
  },
  {
   "cell_type": "code",
   "execution_count": 5,
   "metadata": {
    "collapsed": false
   },
   "outputs": [],
   "source": [
    "age = df['Age'].values\n",
    "age = age[~np.isnan(age)]\n",
    "age_suv = df[df['Survived'] == 1]['Age'].values\n",
    "age_suv = age_suv[~np.isnan(age_suv)]\n",
    "age_dead = df[df['Survived'] == 0]['Age'].values\n",
    "age_dead = age_dead[~np.isnan(age_dead)]"
   ]
  },
  {
   "cell_type": "code",
   "execution_count": 6,
   "metadata": {
    "collapsed": false
   },
   "outputs": [
    {
     "data": {
      "text/plain": [
       "<matplotlib.text.Text at 0x114820ef0>"
      ]
     },
     "execution_count": 6,
     "metadata": {},
     "output_type": "execute_result"
    },
    {
     "data": {
      "image/png": "[encoded data removed]",
      "text/plain": [
       "<matplotlib.figure.Figure at 0x1145cab00>"
      ]
     },
     "metadata": {},
     "output_type": "display_data"
    }
   ],
   "source": [
    "plt.figure(figsize=(13.5, 5))\n",
    "plt.subplot(1,3,1)\n",
    "plt.hist(age)\n",
    "plt.title(\"total by age\")\n",
    "plt.subplot(1,3,2)\n",
    "plt.hist(age_suv)\n",
    "plt.title(\"survived by age\")\n",
    "plt.subplot(1,3,3)\n",
    "plt.hist(age_dead)\n",
    "plt.title(\"dead by age\")"
   ]
  },
  {
   "cell_type": "code",
   "execution_count": 7,
   "metadata": {
    "collapsed": false
   },
   "outputs": [],
   "source": [
    "suvs = df[df['Survived'] == 1]['Age'].value_counts(sort=False).sort_index()\n",
    "total = df['Age'].value_counts(sort=False).sort_index()\n",
    "\n",
    "ages = np.array([\"0:5\", \"5:10\", \"10:20\", \"20:30\", \"30:40\", \"40:50\", \"60:100\"])\n",
    "suvs_per = np.array([sum(suvs[0:5]) / sum(total[0:5]), sum(suvs[5:10]) / sum(total[5:10]),\n",
    "                     sum(suvs[10:15]) / sum(total[10:15]), sum(suvs[15:20]) / sum(total[5:20]),\n",
    "                     sum(suvs[20:25]) / sum(total[20:25]), sum(suvs[25:30]) / sum(total[25:30]),\n",
    "                     sum(suvs[30:35]) / sum(total[30:35]), sum(suvs[35:40]) / sum(total[35:40]),\n",
    "                     sum(suvs[40:45]) / sum(total[40:45]), sum(suvs[45:50]) / sum(total[45:50]),\n",
    "                     sum(suvs[50:55]) / sum(total[50:55]), sum(suvs[55:60]) / sum(total[55:60]),\n",
    "                     sum(suvs[60:65]) / sum(total[60:65]), sum(suvs[65:70]) / sum(total[65:70]),\n",
    "                     sum(suvs[70:95]) / sum(total[70:95])])"
   ]
  },
  {
   "cell_type": "code",
   "execution_count": 8,
   "metadata": {
    "collapsed": false
   },
   "outputs": [
    {
     "data": {
      "text/plain": [
       "array([ 0.70454545,  0.45833333,  0.52380952,  0.26618705,  0.32846715,\n",
       "        0.36641221,  0.45132743,  0.45882353,  0.38333333,  0.41176471,\n",
       "        0.44117647,  0.4       ,  0.33333333,  0.        ,  0.14285714])"
      ]
     },
     "execution_count": 8,
     "metadata": {},
     "output_type": "execute_result"
    }
   ],
   "source": [
    "suvs_per"
   ]
  },
  {
   "cell_type": "code",
   "execution_count": 9,
   "metadata": {
    "collapsed": false
   },
   "outputs": [
    {
     "data": {
      "text/plain": [
       "[<matplotlib.lines.Line2D at 0x114ae6a58>]"
      ]
     },
     "execution_count": 9,
     "metadata": {},
     "output_type": "execute_result"
    },
    {
     "data": {
      "image/png": "[encoded data removed]",
      "text/plain": [
       "<matplotlib.figure.Figure at 0x114377978>"
      ]
     },
     "metadata": {},
     "output_type": "display_data"
    }
   ],
   "source": [
    "plt.title(\"survived rate by age\")\n",
    "plt.plot(suvs_per)"
   ]
  },
  {
   "cell_type": "code",
   "execution_count": 12,
   "metadata": {
    "collapsed": false
   },
   "outputs": [
    {
     "data": {
      "text/html": [
       "<div>\n",
       "<table border=\"1\" class=\"dataframe\">\n",
       "  <thead>\n",
       "    <tr style=\"text-align: right;\">\n",
       "      <th></th>\n",
       "      <th>PassengerId</th>\n",
       "      <th>Survived</th>\n",
       "      <th>Sex</th>\n",
       "      <th>Age</th>\n",
       "      <th>SibSp</th>\n",
       "      <th>Parch</th>\n",
       "      <th>Pclass_1</th>\n",
       "      <th>Pclass_2</th>\n",
       "      <th>Squared-Age</th>\n",
       "      <th>Tripled-Age</th>\n",
       "    </tr>\n",
       "  </thead>\n",
       "  <tbody>\n",
       "    <tr>\n",
       "      <th>0</th>\n",
       "      <td>1</td>\n",
       "      <td>0</td>\n",
       "      <td>0</td>\n",
       "      <td>22.0</td>\n",
       "      <td>1</td>\n",
       "      <td>0</td>\n",
       "      <td>0</td>\n",
       "      <td>0</td>\n",
       "      <td>484.0</td>\n",
       "      <td>10648.0</td>\n",
       "    </tr>\n",
       "    <tr>\n",
       "      <th>1</th>\n",
       "      <td>2</td>\n",
       "      <td>1</td>\n",
       "      <td>1</td>\n",
       "      <td>38.0</td>\n",
       "      <td>1</td>\n",
       "      <td>0</td>\n",
       "      <td>1</td>\n",
       "      <td>0</td>\n",
       "      <td>1444.0</td>\n",
       "      <td>54872.0</td>\n",
       "    </tr>\n",
       "    <tr>\n",
       "      <th>2</th>\n",
       "      <td>3</td>\n",
       "      <td>1</td>\n",
       "      <td>1</td>\n",
       "      <td>26.0</td>\n",
       "      <td>0</td>\n",
       "      <td>0</td>\n",
       "      <td>0</td>\n",
       "      <td>0</td>\n",
       "      <td>676.0</td>\n",
       "      <td>17576.0</td>\n",
       "    </tr>\n",
       "    <tr>\n",
       "      <th>3</th>\n",
       "      <td>4</td>\n",
       "      <td>1</td>\n",
       "      <td>1</td>\n",
       "      <td>35.0</td>\n",
       "      <td>1</td>\n",
       "      <td>0</td>\n",
       "      <td>1</td>\n",
       "      <td>0</td>\n",
       "      <td>1225.0</td>\n",
       "      <td>42875.0</td>\n",
       "    </tr>\n",
       "    <tr>\n",
       "      <th>4</th>\n",
       "      <td>5</td>\n",
       "      <td>0</td>\n",
       "      <td>0</td>\n",
       "      <td>35.0</td>\n",
       "      <td>0</td>\n",
       "      <td>0</td>\n",
       "      <td>0</td>\n",
       "      <td>0</td>\n",
       "      <td>1225.0</td>\n",
       "      <td>42875.0</td>\n",
       "    </tr>\n",
       "  </tbody>\n",
       "</table>\n",
       "</div>"
      ],
      "text/plain": [
       "   PassengerId  Survived  Sex   Age  SibSp  Parch  Pclass_1  Pclass_2  \\\n",
       "0            1         0    0  22.0      1      0         0         0   \n",
       "1            2         1    1  38.0      1      0         1         0   \n",
       "2            3         1    1  26.0      0      0         0         0   \n",
       "3            4         1    1  35.0      1      0         1         0   \n",
       "4            5         0    0  35.0      0      0         0         0   \n",
       "\n",
       "   Squared-Age  Tripled-Age  \n",
       "0        484.0      10648.0  \n",
       "1       1444.0      54872.0  \n",
       "2        676.0      17576.0  \n",
       "3       1225.0      42875.0  \n",
       "4       1225.0      42875.0  "
      ]
     },
     "execution_count": 12,
     "metadata": {},
     "output_type": "execute_result"
    }
   ],
   "source": [
    "df['Squared-Age'] = pow(df['Age'],2)\n",
    "df['Tripled-Age'] = pow(df['Age'],3)\n",
    "df.head()"
   ]
  },
  {
   "cell_type": "code",
   "execution_count": 13,
   "metadata": {
    "collapsed": false
   },
   "outputs": [],
   "source": [
    "#各変数を正規化\n",
    "df2 = df.apply(lambda x: (x - np.mean(x)) / (np.max(x) - np.min(x)))\n",
    "df2[\"PassengerId\"] = df['PassengerId']\n",
    "df2['Survived'] = df['Survived']"
   ]
  },
  {
   "cell_type": "code",
   "execution_count": 14,
   "metadata": {
    "collapsed": false
   },
   "outputs": [
    {
     "data": {
      "text/html": [
       "<div>\n",
       "<table border=\"1\" class=\"dataframe\">\n",
       "  <thead>\n",
       "    <tr style=\"text-align: right;\">\n",
       "      <th></th>\n",
       "      <th>PassengerId</th>\n",
       "      <th>Survived</th>\n",
       "      <th>Sex</th>\n",
       "      <th>Age</th>\n",
       "      <th>SibSp</th>\n",
       "      <th>Parch</th>\n",
       "      <th>Pclass_1</th>\n",
       "      <th>Pclass_2</th>\n",
       "      <th>Squared-Age</th>\n",
       "      <th>Tripled-Age</th>\n",
       "    </tr>\n",
       "  </thead>\n",
       "  <tbody>\n",
       "    <tr>\n",
       "      <th>0</th>\n",
       "      <td>1</td>\n",
       "      <td>0</td>\n",
       "      <td>-0.365546</td>\n",
       "      <td>-0.096747</td>\n",
       "      <td>0.097479</td>\n",
       "      <td>-0.071895</td>\n",
       "      <td>-0.260504</td>\n",
       "      <td>-0.242297</td>\n",
       "      <td>-0.095122</td>\n",
       "      <td>-0.069356</td>\n",
       "    </tr>\n",
       "    <tr>\n",
       "      <th>1</th>\n",
       "      <td>2</td>\n",
       "      <td>1</td>\n",
       "      <td>0.634454</td>\n",
       "      <td>0.104309</td>\n",
       "      <td>0.097479</td>\n",
       "      <td>-0.071895</td>\n",
       "      <td>0.739496</td>\n",
       "      <td>-0.242297</td>\n",
       "      <td>0.054883</td>\n",
       "      <td>0.017019</td>\n",
       "    </tr>\n",
       "    <tr>\n",
       "      <th>2</th>\n",
       "      <td>3</td>\n",
       "      <td>1</td>\n",
       "      <td>0.634454</td>\n",
       "      <td>-0.046483</td>\n",
       "      <td>-0.102521</td>\n",
       "      <td>-0.071895</td>\n",
       "      <td>-0.260504</td>\n",
       "      <td>-0.242297</td>\n",
       "      <td>-0.065121</td>\n",
       "      <td>-0.055825</td>\n",
       "    </tr>\n",
       "    <tr>\n",
       "      <th>3</th>\n",
       "      <td>4</td>\n",
       "      <td>1</td>\n",
       "      <td>0.634454</td>\n",
       "      <td>0.066611</td>\n",
       "      <td>0.097479</td>\n",
       "      <td>-0.071895</td>\n",
       "      <td>0.739496</td>\n",
       "      <td>-0.242297</td>\n",
       "      <td>0.020663</td>\n",
       "      <td>-0.006413</td>\n",
       "    </tr>\n",
       "    <tr>\n",
       "      <th>4</th>\n",
       "      <td>5</td>\n",
       "      <td>0</td>\n",
       "      <td>-0.365546</td>\n",
       "      <td>0.066611</td>\n",
       "      <td>-0.102521</td>\n",
       "      <td>-0.071895</td>\n",
       "      <td>-0.260504</td>\n",
       "      <td>-0.242297</td>\n",
       "      <td>0.020663</td>\n",
       "      <td>-0.006413</td>\n",
       "    </tr>\n",
       "  </tbody>\n",
       "</table>\n",
       "</div>"
      ],
      "text/plain": [
       "   PassengerId  Survived       Sex       Age     SibSp     Parch  Pclass_1  \\\n",
       "0            1         0 -0.365546 -0.096747  0.097479 -0.071895 -0.260504   \n",
       "1            2         1  0.634454  0.104309  0.097479 -0.071895  0.739496   \n",
       "2            3         1  0.634454 -0.046483 -0.102521 -0.071895 -0.260504   \n",
       "3            4         1  0.634454  0.066611  0.097479 -0.071895  0.739496   \n",
       "4            5         0 -0.365546  0.066611 -0.102521 -0.071895 -0.260504   \n",
       "\n",
       "   Pclass_2  Squared-Age  Tripled-Age  \n",
       "0 -0.242297    -0.095122    -0.069356  \n",
       "1 -0.242297     0.054883     0.017019  \n",
       "2 -0.242297    -0.065121    -0.055825  \n",
       "3 -0.242297     0.020663    -0.006413  \n",
       "4 -0.242297     0.020663    -0.006413  "
      ]
     },
     "execution_count": 14,
     "metadata": {},
     "output_type": "execute_result"
    }
   ],
   "source": [
    "df2.head()"
   ]
  },
  {
   "cell_type": "code",
   "execution_count": 15,
   "metadata": {
    "collapsed": true
   },
   "outputs": [],
   "source": [
    "df2_except = df2.drop(\"Survived\", axis=1).drop(\"PassengerId\", axis=1)\n",
    "X = df2_except.as_matrix()\n",
    "Y = df2['Survived'].as_matrix()"
   ]
  },
  {
   "cell_type": "code",
   "execution_count": 16,
   "metadata": {
    "collapsed": false
   },
   "outputs": [
    {
     "data": {
      "text/html": [
       "<div>\n",
       "<table border=\"1\" class=\"dataframe\">\n",
       "  <thead>\n",
       "    <tr style=\"text-align: right;\">\n",
       "      <th></th>\n",
       "      <th>Name</th>\n",
       "      <th>Coefficients</th>\n",
       "    </tr>\n",
       "  </thead>\n",
       "  <tbody>\n",
       "    <tr>\n",
       "      <th>7</th>\n",
       "      <td>Tripled-Age</td>\n",
       "      <td>0.058825</td>\n",
       "    </tr>\n",
       "    <tr>\n",
       "      <th>3</th>\n",
       "      <td>Parch</td>\n",
       "      <td>0.168842</td>\n",
       "    </tr>\n",
       "    <tr>\n",
       "      <th>6</th>\n",
       "      <td>Squared-Age</td>\n",
       "      <td>0.509778</td>\n",
       "    </tr>\n",
       "    <tr>\n",
       "      <th>5</th>\n",
       "      <td>Pclass_2</td>\n",
       "      <td>1.050891</td>\n",
       "    </tr>\n",
       "    <tr>\n",
       "      <th>2</th>\n",
       "      <td>SibSp</td>\n",
       "      <td>1.126952</td>\n",
       "    </tr>\n",
       "    <tr>\n",
       "      <th>1</th>\n",
       "      <td>Age</td>\n",
       "      <td>1.976398</td>\n",
       "    </tr>\n",
       "    <tr>\n",
       "      <th>4</th>\n",
       "      <td>Pclass_1</td>\n",
       "      <td>2.239408</td>\n",
       "    </tr>\n",
       "    <tr>\n",
       "      <th>0</th>\n",
       "      <td>Sex</td>\n",
       "      <td>2.449847</td>\n",
       "    </tr>\n",
       "  </tbody>\n",
       "</table>\n",
       "</div>"
      ],
      "text/plain": [
       "          Name  Coefficients\n",
       "7  Tripled-Age      0.058825\n",
       "3        Parch      0.168842\n",
       "6  Squared-Age      0.509778\n",
       "5     Pclass_2      1.050891\n",
       "2        SibSp      1.126952\n",
       "1          Age      1.976398\n",
       "4     Pclass_1      2.239408\n",
       "0          Sex      2.449847"
      ]
     },
     "execution_count": 16,
     "metadata": {},
     "output_type": "execute_result"
    }
   ],
   "source": [
    "clf = LogisticRegression()\n",
    "clf.fit(X, Y)\n",
    "df_result = pd.DataFrame({\"Name\":df2_except.columns,\"Coefficients\":np.abs(clf.coef_[0])}).sort_values(by='Coefficients')\n",
    "df_result.ix[:,['Name', 'Coefficients']]"
   ]
  },
  {
   "cell_type": "code",
   "execution_count": 18,
   "metadata": {
    "collapsed": false
   },
   "outputs": [
    {
     "data": {
      "text/plain": [
       "-0.49094720675439424"
      ]
     },
     "execution_count": 18,
     "metadata": {},
     "output_type": "execute_result"
    }
   ],
   "source": [
    "clf.intercept_[0]"
   ]
  },
  {
   "cell_type": "code",
   "execution_count": 19,
   "metadata": {
    "collapsed": false
   },
   "outputs": [
    {
     "data": {
      "text/plain": [
       "0.79971988795518212"
      ]
     },
     "execution_count": 19,
     "metadata": {},
     "output_type": "execute_result"
    }
   ],
   "source": [
    "clf.score(X,Y)"
   ]
  },
  {
   "cell_type": "markdown",
   "metadata": {},
   "source": [
    "\\begin{eqnarray}\n",
    "log(\\frac{y}{1-y}) = \n",
    "-0.491 -1.976Age -0.510Age^2 -0.0588Age^3 + 2.45Sex + 2.24Pclass_1 + 1.05Pclass_2 - 1.13SibSp - 0.17 Parch\n",
    "\\end{eqnarray}"
   ]
  },
  {
   "cell_type": "code",
   "execution_count": 20,
   "metadata": {
    "collapsed": false
   },
   "outputs": [
    {
     "data": {
      "text/html": [
       "<div>\n",
       "<table border=\"1\" class=\"dataframe\">\n",
       "  <thead>\n",
       "    <tr style=\"text-align: right;\">\n",
       "      <th></th>\n",
       "      <th>PassengerId</th>\n",
       "      <th>Survived</th>\n",
       "      <th>Sex</th>\n",
       "      <th>Age</th>\n",
       "      <th>SibSp</th>\n",
       "      <th>Parch</th>\n",
       "      <th>Pclass_1</th>\n",
       "      <th>Pclass_2</th>\n",
       "      <th>Squared-Age</th>\n",
       "      <th>Tripled-Age</th>\n",
       "    </tr>\n",
       "  </thead>\n",
       "  <tbody>\n",
       "    <tr>\n",
       "      <th>0</th>\n",
       "      <td>1</td>\n",
       "      <td>0</td>\n",
       "      <td>-0.365546</td>\n",
       "      <td>-0.096747</td>\n",
       "      <td>0.097479</td>\n",
       "      <td>-0.071895</td>\n",
       "      <td>-0.260504</td>\n",
       "      <td>-0.242297</td>\n",
       "      <td>-0.095122</td>\n",
       "      <td>-0.069356</td>\n",
       "    </tr>\n",
       "    <tr>\n",
       "      <th>1</th>\n",
       "      <td>2</td>\n",
       "      <td>1</td>\n",
       "      <td>0.634454</td>\n",
       "      <td>0.104309</td>\n",
       "      <td>0.097479</td>\n",
       "      <td>-0.071895</td>\n",
       "      <td>0.739496</td>\n",
       "      <td>-0.242297</td>\n",
       "      <td>0.054883</td>\n",
       "      <td>0.017019</td>\n",
       "    </tr>\n",
       "    <tr>\n",
       "      <th>2</th>\n",
       "      <td>3</td>\n",
       "      <td>1</td>\n",
       "      <td>0.634454</td>\n",
       "      <td>-0.046483</td>\n",
       "      <td>-0.102521</td>\n",
       "      <td>-0.071895</td>\n",
       "      <td>-0.260504</td>\n",
       "      <td>-0.242297</td>\n",
       "      <td>-0.065121</td>\n",
       "      <td>-0.055825</td>\n",
       "    </tr>\n",
       "    <tr>\n",
       "      <th>3</th>\n",
       "      <td>4</td>\n",
       "      <td>1</td>\n",
       "      <td>0.634454</td>\n",
       "      <td>0.066611</td>\n",
       "      <td>0.097479</td>\n",
       "      <td>-0.071895</td>\n",
       "      <td>0.739496</td>\n",
       "      <td>-0.242297</td>\n",
       "      <td>0.020663</td>\n",
       "      <td>-0.006413</td>\n",
       "    </tr>\n",
       "    <tr>\n",
       "      <th>4</th>\n",
       "      <td>5</td>\n",
       "      <td>0</td>\n",
       "      <td>-0.365546</td>\n",
       "      <td>0.066611</td>\n",
       "      <td>-0.102521</td>\n",
       "      <td>-0.071895</td>\n",
       "      <td>-0.260504</td>\n",
       "      <td>-0.242297</td>\n",
       "      <td>0.020663</td>\n",
       "      <td>-0.006413</td>\n",
       "    </tr>\n",
       "  </tbody>\n",
       "</table>\n",
       "</div>"
      ],
      "text/plain": [
       "   PassengerId  Survived       Sex       Age     SibSp     Parch  Pclass_1  \\\n",
       "0            1         0 -0.365546 -0.096747  0.097479 -0.071895 -0.260504   \n",
       "1            2         1  0.634454  0.104309  0.097479 -0.071895  0.739496   \n",
       "2            3         1  0.634454 -0.046483 -0.102521 -0.071895 -0.260504   \n",
       "3            4         1  0.634454  0.066611  0.097479 -0.071895  0.739496   \n",
       "4            5         0 -0.365546  0.066611 -0.102521 -0.071895 -0.260504   \n",
       "\n",
       "   Pclass_2  Squared-Age  Tripled-Age  \n",
       "0 -0.242297    -0.095122    -0.069356  \n",
       "1 -0.242297     0.054883     0.017019  \n",
       "2 -0.242297    -0.065121    -0.055825  \n",
       "3 -0.242297     0.020663    -0.006413  \n",
       "4 -0.242297     0.020663    -0.006413  "
      ]
     },
     "execution_count": 20,
     "metadata": {},
     "output_type": "execute_result"
    }
   ],
   "source": [
    "df2.head()"
   ]
  },
  {
   "cell_type": "markdown",
   "metadata": {},
   "source": [
    "式を解くと、\n",
    "\\begin{eqnarray}\n",
    "y = e^{eq}(1-y)\n",
    "\\end{eqnarray}\n",
    "\\begin{eqnarray}\n",
    "(1+e^{eq})y = e^{eq}\n",
    "\\end{eqnarray}\n",
    "\\begin{eqnarray}\n",
    "y = \\frac{e^{eq}}{(1+e^{eq})}\n",
    "\\end{eqnarray}"
   ]
  },
  {
   "cell_type": "code",
   "execution_count": 21,
   "metadata": {
    "collapsed": false
   },
   "outputs": [],
   "source": [
    "#予測してみる\n",
    "df2['eq'] = -0.491 - 1.976*df2['Age'] - 0.510 * pow(df2['Age'],2) - 0.0588 * pow(df2['Age'],3) + 2.45 * df2['Sex'] + 2.24 * df2['Pclass_1'] + 1.05 * df2['Pclass_2']- 1.13 * df2['SibSp'] - 0.17 * df2['Parch']"
   ]
  },
  {
   "cell_type": "code",
   "execution_count": 22,
   "metadata": {
    "collapsed": false
   },
   "outputs": [],
   "source": [
    "df2['e^eq'] = np.exp(df2['eq'])\n",
    "df2['Survived-predicted'] = df2['e^eq'] / (1 + df2['e^eq'])"
   ]
  },
  {
   "cell_type": "code",
   "execution_count": 23,
   "metadata": {
    "collapsed": false
   },
   "outputs": [
    {
     "data": {
      "text/html": [
       "<div>\n",
       "<table border=\"1\" class=\"dataframe\">\n",
       "  <thead>\n",
       "    <tr style=\"text-align: right;\">\n",
       "      <th></th>\n",
       "      <th>PassengerId</th>\n",
       "      <th>Survived</th>\n",
       "      <th>Sex</th>\n",
       "      <th>Age</th>\n",
       "      <th>SibSp</th>\n",
       "      <th>Parch</th>\n",
       "      <th>Pclass_1</th>\n",
       "      <th>Pclass_2</th>\n",
       "      <th>Squared-Age</th>\n",
       "      <th>Tripled-Age</th>\n",
       "      <th>eq</th>\n",
       "      <th>e^eq</th>\n",
       "      <th>Survived-predicted</th>\n",
       "    </tr>\n",
       "  </thead>\n",
       "  <tbody>\n",
       "    <tr>\n",
       "      <th>0</th>\n",
       "      <td>1</td>\n",
       "      <td>0</td>\n",
       "      <td>-0.365546</td>\n",
       "      <td>-0.096747</td>\n",
       "      <td>0.097479</td>\n",
       "      <td>-0.071895</td>\n",
       "      <td>-0.260504</td>\n",
       "      <td>-0.242297</td>\n",
       "      <td>-0.095122</td>\n",
       "      <td>-0.069356</td>\n",
       "      <td>-2.136007</td>\n",
       "      <td>0.118126</td>\n",
       "      <td>0.105646</td>\n",
       "    </tr>\n",
       "    <tr>\n",
       "      <th>1</th>\n",
       "      <td>2</td>\n",
       "      <td>1</td>\n",
       "      <td>0.634454</td>\n",
       "      <td>0.104309</td>\n",
       "      <td>0.097479</td>\n",
       "      <td>-0.071895</td>\n",
       "      <td>0.739496</td>\n",
       "      <td>-0.242297</td>\n",
       "      <td>0.054883</td>\n",
       "      <td>0.017019</td>\n",
       "      <td>2.155812</td>\n",
       "      <td>8.634899</td>\n",
       "      <td>0.896211</td>\n",
       "    </tr>\n",
       "    <tr>\n",
       "      <th>2</th>\n",
       "      <td>3</td>\n",
       "      <td>1</td>\n",
       "      <td>0.634454</td>\n",
       "      <td>-0.046483</td>\n",
       "      <td>-0.102521</td>\n",
       "      <td>-0.071895</td>\n",
       "      <td>-0.260504</td>\n",
       "      <td>-0.242297</td>\n",
       "      <td>-0.065121</td>\n",
       "      <td>-0.055825</td>\n",
       "      <td>0.444296</td>\n",
       "      <td>1.559392</td>\n",
       "      <td>0.609282</td>\n",
       "    </tr>\n",
       "    <tr>\n",
       "      <th>3</th>\n",
       "      <td>4</td>\n",
       "      <td>1</td>\n",
       "      <td>0.634454</td>\n",
       "      <td>0.066611</td>\n",
       "      <td>0.097479</td>\n",
       "      <td>-0.071895</td>\n",
       "      <td>0.739496</td>\n",
       "      <td>-0.242297</td>\n",
       "      <td>0.020663</td>\n",
       "      <td>-0.006413</td>\n",
       "      <td>2.233638</td>\n",
       "      <td>9.333765</td>\n",
       "      <td>0.903230</td>\n",
       "    </tr>\n",
       "    <tr>\n",
       "      <th>4</th>\n",
       "      <td>5</td>\n",
       "      <td>0</td>\n",
       "      <td>-0.365546</td>\n",
       "      <td>0.066611</td>\n",
       "      <td>-0.102521</td>\n",
       "      <td>-0.071895</td>\n",
       "      <td>-0.260504</td>\n",
       "      <td>-0.242297</td>\n",
       "      <td>0.020663</td>\n",
       "      <td>-0.006413</td>\n",
       "      <td>-2.230362</td>\n",
       "      <td>0.107490</td>\n",
       "      <td>0.097057</td>\n",
       "    </tr>\n",
       "  </tbody>\n",
       "</table>\n",
       "</div>"
      ],
      "text/plain": [
       "   PassengerId  Survived       Sex       Age     SibSp     Parch  Pclass_1  \\\n",
       "0            1         0 -0.365546 -0.096747  0.097479 -0.071895 -0.260504   \n",
       "1            2         1  0.634454  0.104309  0.097479 -0.071895  0.739496   \n",
       "2            3         1  0.634454 -0.046483 -0.102521 -0.071895 -0.260504   \n",
       "3            4         1  0.634454  0.066611  0.097479 -0.071895  0.739496   \n",
       "4            5         0 -0.365546  0.066611 -0.102521 -0.071895 -0.260504   \n",
       "\n",
       "   Pclass_2  Squared-Age  Tripled-Age        eq      e^eq  Survived-predicted  \n",
       "0 -0.242297    -0.095122    -0.069356 -2.136007  0.118126            0.105646  \n",
       "1 -0.242297     0.054883     0.017019  2.155812  8.634899            0.896211  \n",
       "2 -0.242297    -0.065121    -0.055825  0.444296  1.559392            0.609282  \n",
       "3 -0.242297     0.020663    -0.006413  2.233638  9.333765            0.903230  \n",
       "4 -0.242297     0.020663    -0.006413 -2.230362  0.107490            0.097057  "
      ]
     },
     "execution_count": 23,
     "metadata": {},
     "output_type": "execute_result"
    }
   ],
   "source": [
    "df2.head()"
   ]
  },
  {
   "cell_type": "code",
   "execution_count": 24,
   "metadata": {
    "collapsed": false
   },
   "outputs": [],
   "source": [
    "df_pre = df2.ix[:,['Survived', 'Survived-predicted']]"
   ]
  },
  {
   "cell_type": "code",
   "execution_count": 38,
   "metadata": {
    "collapsed": false
   },
   "outputs": [],
   "source": [
    "df_pre['prediction'] = df_pre['Survived-predicted'].map(lambda x : 1 if x > 0.5 else 0)"
   ]
  },
  {
   "cell_type": "code",
   "execution_count": 39,
   "metadata": {
    "collapsed": false
   },
   "outputs": [
    {
     "data": {
      "text/html": [
       "<div>\n",
       "<table border=\"1\" class=\"dataframe\">\n",
       "  <thead>\n",
       "    <tr style=\"text-align: right;\">\n",
       "      <th></th>\n",
       "      <th>Survived</th>\n",
       "      <th>Survived-predicted</th>\n",
       "      <th>prediction</th>\n",
       "    </tr>\n",
       "  </thead>\n",
       "  <tbody>\n",
       "    <tr>\n",
       "      <th>0</th>\n",
       "      <td>0</td>\n",
       "      <td>0.105646</td>\n",
       "      <td>0</td>\n",
       "    </tr>\n",
       "    <tr>\n",
       "      <th>1</th>\n",
       "      <td>1</td>\n",
       "      <td>0.896211</td>\n",
       "      <td>1</td>\n",
       "    </tr>\n",
       "    <tr>\n",
       "      <th>2</th>\n",
       "      <td>1</td>\n",
       "      <td>0.609282</td>\n",
       "      <td>1</td>\n",
       "    </tr>\n",
       "    <tr>\n",
       "      <th>3</th>\n",
       "      <td>1</td>\n",
       "      <td>0.903230</td>\n",
       "      <td>1</td>\n",
       "    </tr>\n",
       "    <tr>\n",
       "      <th>4</th>\n",
       "      <td>0</td>\n",
       "      <td>0.097057</td>\n",
       "      <td>0</td>\n",
       "    </tr>\n",
       "  </tbody>\n",
       "</table>\n",
       "</div>"
      ],
      "text/plain": [
       "   Survived  Survived-predicted  prediction\n",
       "0         0            0.105646           0\n",
       "1         1            0.896211           1\n",
       "2         1            0.609282           1\n",
       "3         1            0.903230           1\n",
       "4         0            0.097057           0"
      ]
     },
     "execution_count": 39,
     "metadata": {},
     "output_type": "execute_result"
    }
   ],
   "source": [
    "df_pre.head()"
   ]
  },
  {
   "cell_type": "code",
   "execution_count": 50,
   "metadata": {
    "collapsed": false
   },
   "outputs": [
    {
     "data": {
      "text/plain": [
       "False    145\n",
       "True     569\n",
       "dtype: int64"
      ]
     },
     "execution_count": 50,
     "metadata": {},
     "output_type": "execute_result"
    }
   ],
   "source": [
    "(df_pre['Survived'] == df_pre['prediction']).value_counts(sort=False)"
   ]
  },
  {
   "cell_type": "code",
   "execution_count": 51,
   "metadata": {
    "collapsed": false
   },
   "outputs": [],
   "source": [
    "r = {}\n",
    "r[\"1-1\"] = np.logical_and(df_pre['Survived'] == 1, df_pre['prediction'] == 1).value_counts(sort=False)[1]\n",
    "r[\"1-0\"] = np.logical_and(df_pre['Survived'] == 1, df_pre['prediction'] == 0).value_counts(sort=False)[1]\n",
    "r[\"0-1\"] = np.logical_and(df_pre['Survived'] == 0, df_pre['prediction'] == 1).value_counts(sort=False)[1]\n",
    "r[\"0-0\"] = np.logical_and(df_pre['Survived'] == 0, df_pre['prediction'] == 0).value_counts(sort=False)[1]"
   ]
  },
  {
   "cell_type": "code",
   "execution_count": 52,
   "metadata": {
    "collapsed": false
   },
   "outputs": [
    {
     "data": {
      "text/plain": [
       "{'0-0': 362, '0-1': 62, '1-0': 83, '1-1': 207}"
      ]
     },
     "execution_count": 52,
     "metadata": {},
     "output_type": "execute_result"
    }
   ],
   "source": [
    "r"
   ]
  },
  {
   "cell_type": "code",
   "execution_count": 54,
   "metadata": {
    "collapsed": false
   },
   "outputs": [
    {
     "data": {
      "text/plain": [
       "79.691876750700288"
      ]
     },
     "execution_count": 54,
     "metadata": {},
     "output_type": "execute_result"
    }
   ],
   "source": [
    "#正解率\n",
    "(r['0-0'] + r['1-1']) / (r['0-0'] + r['1-1'] + r[\"1-0\"] + r[\"0-1\"]) *100"
   ]
  },
  {
   "cell_type": "markdown",
   "metadata": {},
   "source": [
    "## Age が欠損の場合を予測する"
   ]
  },
  {
   "cell_type": "code",
   "execution_count": 70,
   "metadata": {
    "collapsed": true
   },
   "outputs": [],
   "source": [
    "df = pd.read_csv(\"train.csv\")\n",
    "df = df.loc[:, [\"PassengerId\", \"Survived\", \"Pclass\", \"Sex\", \"Age\", \"SibSp\", \"Parch\"]]\n",
    "df = df[np.isnan(df['Age']) == True]\n",
    "df['Sex'] = df['Sex'].map(lambda x: 0 if x == \"male\" else 1)\n",
    "df['Pclass_1'] = df['Pclass'].map(lambda x: 1 if x == 1 else 0)\n",
    "df['Pclass_2'] = df['Pclass'].map(lambda x: 1 if x == 2 else 0)\n",
    "df = df.drop(\"Pclass\", axis = 1)\n",
    "#各変数を正規化\n",
    "df2 = df.apply(lambda x: (x - np.mean(x)) / (np.max(x) - np.min(x)))\n",
    "df2[\"PassengerId\"] = df['PassengerId']\n",
    "df2['Survived'] = df['Survived']\n",
    "df2_except = df2.drop(\"Survived\", axis=1).drop(\"PassengerId\", axis=1).drop(\"Age\", axis=1)"
   ]
  },
  {
   "cell_type": "code",
   "execution_count": 71,
   "metadata": {
    "collapsed": true
   },
   "outputs": [],
   "source": [
    "X = df2_except.as_matrix()\n",
    "Y = df2['Survived'].as_matrix()"
   ]
  },
  {
   "cell_type": "code",
   "execution_count": 72,
   "metadata": {
    "collapsed": false
   },
   "outputs": [
    {
     "data": {
      "text/html": [
       "<div>\n",
       "<table border=\"1\" class=\"dataframe\">\n",
       "  <thead>\n",
       "    <tr style=\"text-align: right;\">\n",
       "      <th></th>\n",
       "      <th>Name</th>\n",
       "      <th>Coefficients</th>\n",
       "    </tr>\n",
       "  </thead>\n",
       "  <tbody>\n",
       "    <tr>\n",
       "      <th>2</th>\n",
       "      <td>Parch</td>\n",
       "      <td>-0.989297</td>\n",
       "    </tr>\n",
       "    <tr>\n",
       "      <th>1</th>\n",
       "      <td>SibSp</td>\n",
       "      <td>-0.726358</td>\n",
       "    </tr>\n",
       "    <tr>\n",
       "      <th>4</th>\n",
       "      <td>Pclass_2</td>\n",
       "      <td>0.586183</td>\n",
       "    </tr>\n",
       "    <tr>\n",
       "      <th>3</th>\n",
       "      <td>Pclass_1</td>\n",
       "      <td>0.944868</td>\n",
       "    </tr>\n",
       "    <tr>\n",
       "      <th>0</th>\n",
       "      <td>Sex</td>\n",
       "      <td>2.575190</td>\n",
       "    </tr>\n",
       "  </tbody>\n",
       "</table>\n",
       "</div>"
      ],
      "text/plain": [
       "       Name  Coefficients\n",
       "2     Parch     -0.989297\n",
       "1     SibSp     -0.726358\n",
       "4  Pclass_2      0.586183\n",
       "3  Pclass_1      0.944868\n",
       "0       Sex      2.575190"
      ]
     },
     "execution_count": 72,
     "metadata": {},
     "output_type": "execute_result"
    }
   ],
   "source": [
    "clf = LogisticRegression()\n",
    "clf.fit(X, Y)\n",
    "df_result = pd.DataFrame({\"Name\":df2_except.columns,\"Coefficients\":clf.coef_[0]}).sort_values(by='Coefficients')\n",
    "df_result.ix[:,['Name', 'Coefficients']]"
   ]
  },
  {
   "cell_type": "code",
   "execution_count": 74,
   "metadata": {
    "collapsed": false
   },
   "outputs": [
    {
     "data": {
      "text/plain": [
       "-1.0650280759508106"
      ]
     },
     "execution_count": 74,
     "metadata": {},
     "output_type": "execute_result"
    }
   ],
   "source": [
    "clf.intercept_[0]"
   ]
  },
  {
   "cell_type": "code",
   "execution_count": 76,
   "metadata": {
    "collapsed": false
   },
   "outputs": [
    {
     "data": {
      "text/plain": [
       "{'0-0': 117, '0-1': 8, '1-0': 17, '1-1': 35}"
      ]
     },
     "execution_count": 76,
     "metadata": {},
     "output_type": "execute_result"
    }
   ],
   "source": [
    "df2['eq'] = -1.065 + 2.575 * df2['Sex'] + 0.945 * df2['Pclass_1'] + 0.586 * df2['Pclass_2'] - 0.726 * df2['SibSp'] - 0.989 * df2['Parch']\n",
    "df2['e^eq'] = np.exp(df2['eq'])\n",
    "df2['Survived-predicted'] = df2['e^eq'] / (1 + df2['e^eq'])\n",
    "df_pre = df2.ix[:,['Survived', 'Survived-predicted']]\n",
    "df_pre['prediction'] = df_pre['Survived-predicted'].map(lambda x : 1 if x > 0.5 else 0)\n",
    "r = {}\n",
    "r[\"1-1\"] = np.logical_and(df_pre['Survived'] == 1, df_pre['prediction'] == 1).value_counts(sort=False)[1]\n",
    "r[\"1-0\"] = np.logical_and(df_pre['Survived'] == 1, df_pre['prediction'] == 0).value_counts(sort=False)[1]\n",
    "r[\"0-1\"] = np.logical_and(df_pre['Survived'] == 0, df_pre['prediction'] == 1).value_counts(sort=False)[1]\n",
    "r[\"0-0\"] = np.logical_and(df_pre['Survived'] == 0, df_pre['prediction'] == 0).value_counts(sort=False)[1]\n",
    "r"
   ]
  },
  {
   "cell_type": "code",
   "execution_count": 77,
   "metadata": {
    "collapsed": false
   },
   "outputs": [
    {
     "data": {
      "text/plain": [
       "85.875706214689259"
      ]
     },
     "execution_count": 77,
     "metadata": {},
     "output_type": "execute_result"
    }
   ],
   "source": [
    "#正解率\n",
    "(r['0-0'] + r['1-1']) / (r['0-0'] + r['1-1'] + r[\"1-0\"] + r[\"0-1\"]) *100"
   ]
  },
  {
   "cell_type": "markdown",
   "metadata": {},
   "source": [
    "## テスト予測"
   ]
  },
  {
   "cell_type": "code",
   "execution_count": 83,
   "metadata": {
    "collapsed": false
   },
   "outputs": [],
   "source": [
    "#とりあえず提出\n",
    "df_test = pd.read_csv(\"test.csv\")\n",
    "df_test = df_test.loc[:, [\"PassengerId\", \"Pclass\", \"Sex\", \"Age\", \"SibSp\", \"Parch\"]]\n",
    "df_test = df_test[np.isnan(df_test['Age']) == False]\n",
    "df_test['Sex'] = df_test['Sex'].map(lambda x: 0 if x == \"male\" else 1)\n",
    "df_test['Pclass_1'] = df_test['Pclass'].map(lambda x: 1 if x == 1 else 0)\n",
    "df_test['Pclass_2'] = df_test['Pclass'].map(lambda x: 1 if x == 2 else 0)\n",
    "df_test = df_test.drop(\"Pclass\", axis = 1)\n",
    "\n",
    "df_test2 = df_test.apply(lambda x: (x - np.mean(x)) / (np.max(x) - np.min(x)))\n",
    "df_test2[\"PassengerId\"] = df_test['PassengerId']\n",
    "\n",
    "df_test2['eq'] = -0.490 - 2.3016*df_test2['Age'] + 2.451 * df_test2['Sex'] + 2.212 * df_test2['Pclass_1'] + 1.045 * df_test2['Pclass_2'] - 1.13 * df_test2['SibSp'] - 0.1845 * df_test2['Parch']\n",
    "df_test2['e^eq'] = np.exp(df_test2['eq'])\n",
    "df_test2['Survived-predicted'] = df_test2['e^eq'] / (1 + df_test2['e^eq'])\n",
    "df_test2['Survived'] = df_test2['Survived-predicted'].map(lambda x : 1 if x > 0.5 else 0)\n",
    "df_pre = df_test2.ix[:,['PassengerId', 'Survived']]"
   ]
  },
  {
   "cell_type": "code",
   "execution_count": 84,
   "metadata": {
    "collapsed": false
   },
   "outputs": [
    {
     "data": {
      "text/html": [
       "<div>\n",
       "<table border=\"1\" class=\"dataframe\">\n",
       "  <thead>\n",
       "    <tr style=\"text-align: right;\">\n",
       "      <th></th>\n",
       "      <th>PassengerId</th>\n",
       "      <th>Survived</th>\n",
       "    </tr>\n",
       "  </thead>\n",
       "  <tbody>\n",
       "    <tr>\n",
       "      <th>0</th>\n",
       "      <td>892</td>\n",
       "      <td>0</td>\n",
       "    </tr>\n",
       "    <tr>\n",
       "      <th>1</th>\n",
       "      <td>893</td>\n",
       "      <td>0</td>\n",
       "    </tr>\n",
       "    <tr>\n",
       "      <th>2</th>\n",
       "      <td>894</td>\n",
       "      <td>0</td>\n",
       "    </tr>\n",
       "    <tr>\n",
       "      <th>3</th>\n",
       "      <td>895</td>\n",
       "      <td>0</td>\n",
       "    </tr>\n",
       "    <tr>\n",
       "      <th>4</th>\n",
       "      <td>896</td>\n",
       "      <td>1</td>\n",
       "    </tr>\n",
       "  </tbody>\n",
       "</table>\n",
       "</div>"
      ],
      "text/plain": [
       "   PassengerId  Survived\n",
       "0          892         0\n",
       "1          893         0\n",
       "2          894         0\n",
       "3          895         0\n",
       "4          896         1"
      ]
     },
     "execution_count": 84,
     "metadata": {},
     "output_type": "execute_result"
    }
   ],
   "source": [
    "df_pre.head()"
   ]
  },
  {
   "cell_type": "code",
   "execution_count": 92,
   "metadata": {
    "collapsed": false
   },
   "outputs": [],
   "source": [
    "df_test = pd.read_csv(\"test.csv\")\n",
    "df_test = df_test.loc[:, [\"PassengerId\", \"Pclass\", \"Sex\", \"Age\", \"SibSp\", \"Parch\"]]\n",
    "df_test = df_test[np.isnan(df_test['Age']) == True]\n",
    "\n",
    "df_test['Sex'] = df_test['Sex'].map(lambda x: 0 if x == \"male\" else 1)\n",
    "df_test['Pclass_1'] = df_test['Pclass'].map(lambda x: 1 if x == 1 else 0)\n",
    "df_test['Pclass_2'] = df_test['Pclass'].map(lambda x: 1 if x == 2 else 0)\n",
    "df_test = df_test.drop(\"Pclass\", axis = 1)\n",
    "#各変数を正規化\n",
    "df2 = df_test.apply(lambda x: (x - np.mean(x)) / (np.max(x) - np.min(x)))\n",
    "df2[\"PassengerId\"] = df_test['PassengerId']\n",
    "\n",
    "df2['eq'] = -1.065 + 2.575 * df2['Sex'] + 0.945 * df2['Pclass_1'] + 0.586 * df2['Pclass_2'] - 0.726 * df2['SibSp'] - 0.989 * df2['Parch']\n",
    "df2['e^eq'] = np.exp(df2['eq'])\n",
    "df2['Survived-predicted'] = df2['e^eq'] / (1 + df2['e^eq'])\n",
    "df2['Survived'] = df2['Survived-predicted'].map(lambda x : 1 if x > 0.5 else 0)\n",
    "df_pre2 = df2.ix[:,['PassengerId', 'Survived']]"
   ]
  },
  {
   "cell_type": "code",
   "execution_count": 93,
   "metadata": {
    "collapsed": false
   },
   "outputs": [
    {
     "data": {
      "text/html": [
       "<div>\n",
       "<table border=\"1\" class=\"dataframe\">\n",
       "  <thead>\n",
       "    <tr style=\"text-align: right;\">\n",
       "      <th></th>\n",
       "      <th>PassengerId</th>\n",
       "      <th>Survived</th>\n",
       "    </tr>\n",
       "  </thead>\n",
       "  <tbody>\n",
       "    <tr>\n",
       "      <th>10</th>\n",
       "      <td>902</td>\n",
       "      <td>0</td>\n",
       "    </tr>\n",
       "    <tr>\n",
       "      <th>22</th>\n",
       "      <td>914</td>\n",
       "      <td>1</td>\n",
       "    </tr>\n",
       "    <tr>\n",
       "      <th>29</th>\n",
       "      <td>921</td>\n",
       "      <td>0</td>\n",
       "    </tr>\n",
       "    <tr>\n",
       "      <th>33</th>\n",
       "      <td>925</td>\n",
       "      <td>1</td>\n",
       "    </tr>\n",
       "    <tr>\n",
       "      <th>36</th>\n",
       "      <td>928</td>\n",
       "      <td>1</td>\n",
       "    </tr>\n",
       "  </tbody>\n",
       "</table>\n",
       "</div>"
      ],
      "text/plain": [
       "    PassengerId  Survived\n",
       "10          902         0\n",
       "22          914         1\n",
       "29          921         0\n",
       "33          925         1\n",
       "36          928         1"
      ]
     },
     "execution_count": 93,
     "metadata": {},
     "output_type": "execute_result"
    }
   ],
   "source": [
    "df_pre2.head()"
   ]
  },
  {
   "cell_type": "code",
   "execution_count": 97,
   "metadata": {
    "collapsed": false
   },
   "outputs": [],
   "source": [
    "result = pd.concat([df_pre, df_pre2]).sort_values(by=\"PassengerId\")"
   ]
  },
  {
   "cell_type": "code",
   "execution_count": 98,
   "metadata": {
    "collapsed": true
   },
   "outputs": [],
   "source": [
    "result.to_csv(\"result.csv\", index = False,  header = True)"
   ]
  },
  {
   "cell_type": "code",
   "execution_count": null,
   "metadata": {
    "collapsed": true
   },
   "outputs": [],
   "source": []
  }
 ],
 "metadata": {
  "kernelspec": {
   "display_name": "Python 3",
   "language": "python",
   "name": "python3"
  },
  "language_info": {
   "codemirror_mode": {
    "name": "ipython",
    "version": 3
   },
   "file_extension": ".py",
   "mimetype": "text/x-python",
   "name": "python",
   "nbconvert_exporter": "python",
   "pygments_lexer": "ipython3",
   "version": "3.6.0"
  }
 },
 "nbformat": 4,
 "nbformat_minor": 2
}
