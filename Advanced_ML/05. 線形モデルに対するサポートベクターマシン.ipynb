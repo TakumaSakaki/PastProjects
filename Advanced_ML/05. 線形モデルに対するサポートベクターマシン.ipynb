{
 "cells": [
  {
   "cell_type": "code",
   "execution_count": 1,
   "metadata": {},
   "outputs": [],
   "source": [
    "import numpy as np\n",
    "import pandas as pd\n",
    "import matplotlib.pyplot as plt\n",
    "from tqdm import tqdm\n",
    "plt.style.use(\"ggplot\")\n",
    "np.random.seed(1)\n",
    "%matplotlib inline"
   ]
  },
  {
   "cell_type": "code",
   "execution_count": 2,
   "metadata": {},
   "outputs": [],
   "source": [
    "def gen_data(N):\n",
    "    x = np.random.normal(size=(N, 3))\n",
    "    x[:, 2] = 1\n",
    "    x[:N//2, 0] -=5\n",
    "    x[N//2:, 0] +=5\n",
    "    y = np.concatenate([np.ones(N//2), -np.ones(N//2)])\n",
    "    \n",
    "    x[:3, 1] -= 5\n",
    "    y[:3] = -1\n",
    "    x[-3:, 1] += 5\n",
    "    y[-3:] = 1\n",
    "    \n",
    "    return x, y"
   ]
  },
  {
   "cell_type": "code",
   "execution_count": 3,
   "metadata": {},
   "outputs": [],
   "source": [
    "class LinearSVM:\n",
    "    \n",
    "    def __init__(self, x, y, epsilon = 0.01, _lambda = 0.1):\n",
    "        self.w = np.ones(x.shape[1])[:, None]\n",
    "        self.train_x = x\n",
    "        self.y = y\n",
    "        self._lambda = _lambda\n",
    "        self.epsilon = epsilon\n",
    "        \n",
    "    def train(self, it = 100):\n",
    "        for i in tqdm(range(it)):\n",
    "            self.update()\n",
    "        return self.w\n",
    "        \n",
    "    def update(self):\n",
    "        x = self.train_x\n",
    "        y = self.y\n",
    "        condition = 1 - np.dot(x, self.w) * y[:, None] > 0\n",
    "        delta = np.sum(condition * (- y[:, None] * x), axis=0)[:, None] + self._lambda * self.w\n",
    "        self.w -= self.epsilon * delta\n",
    "    \n",
    "    def predict(self, x):\n",
    "        return - (w[0] * x + w[2]) / w[1]\n",
    "    \n",
    "    def get_w(self):\n",
    "        return np.dot(self.theta, self.train_x)"
   ]
  },
  {
   "cell_type": "code",
   "execution_count": 5,
   "metadata": {
    "scrolled": false
   },
   "outputs": [
    {
     "name": "stderr",
     "output_type": "stream",
     "text": [
      "100%|██████████| 10000/10000 [00:00<00:00, 28686.08it/s]\n"
     ]
    },
    {
     "data": {
      "text/plain": [
       "array([[-4.16730245],\n",
       "       [ 5.85847236],\n",
       "       [-0.33343182]])"
      ]
     },
     "execution_count": 5,
     "metadata": {},
     "output_type": "execute_result"
    },
    {
     "data": {
      "image/png": "[encoded data removed]",
      "text/plain": [
       "<Figure size 432x288 with 1 Axes>"
      ]
     },
     "metadata": {
      "needs_background": "light"
     },
     "output_type": "display_data"
    }
   ],
   "source": [
    "#実行\n",
    "x, y = gen_data(100)\n",
    "model = LinearSVM(x, y, epsilon = 0.1, _lambda=1.0)\n",
    "w = model.train(10**4)\n",
    "plt.plot([-10,10], model.predict([-10, 10]))\n",
    "plt.scatter(x[:, 0][y==1], x[:, 1][y==1])\n",
    "plt.scatter(x[:, 0][y==-1], x[:, 1][y==-1])\n",
    "w"
   ]
  }
 ],
 "metadata": {
  "kernelspec": {
   "display_name": "Python 3",
   "language": "python",
   "name": "python3"
  },
  "language_info": {
   "codemirror_mode": {
    "name": "ipython",
    "version": 3
   },
   "file_extension": ".py",
   "mimetype": "text/x-python",
   "name": "python",
   "nbconvert_exporter": "python",
   "pygments_lexer": "ipython3",
   "version": "3.7.2"
  }
 },
 "nbformat": 4,
 "nbformat_minor": 2
}
