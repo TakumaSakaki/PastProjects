{
 "cells": [
  {
   "cell_type": "code",
   "execution_count": 21,
   "metadata": {
    "collapsed": false
   },
   "outputs": [],
   "source": [
    "class dijkstra:\n",
    "    \n",
    "    def __init__(self,n,start,goal,A):\n",
    "        self.n = n\n",
    "        self.start = start\n",
    "        self.goal = goal\n",
    "        self.A = A\n",
    "        self.S = np.array([])\n",
    "        self.nonS = np.arange(n)\n",
    "        self.d = np.tile([10000],n)\n",
    "        self.d[start] = 0\n",
    "        self.p = np.tile([-1],n)\n",
    "\n",
    "        \n",
    "    def check(self):\n",
    "        print (\"n:\" ,self.n)\n",
    "        print (\"start:\",self.start)\n",
    "        print (\"goal:\",self.goal)\n",
    "        print (\"A:\",self.A)\n",
    "        print (\"S:\",self.S)\n",
    "        print (\"nonS\",self.nonS)\n",
    "        print (\"d:\",self.d)\n",
    "        print (\"p:\",self.p)\n",
    "\n",
    "    #vの選択\n",
    "    def select_v(self,nonS,d):\n",
    "        _mind = 100000\n",
    "        _mini = 0\n",
    "    \n",
    "        for i in self.nonS:\n",
    "            if self.d[i] < _mind:\n",
    "                _mind = self.d[i]\n",
    "                _mini = i\n",
    "        return _mini\n",
    "\n",
    "    #jを見つける\n",
    "    def search_j (self,nonS,A,v):\n",
    "        j = []\n",
    "        for i in self.nonS:\n",
    "            if self.A[v][i] > 0:\n",
    "                j.append(i)\n",
    "        return j\n",
    "\n",
    "    #ダイクストラ法\n",
    "    def culculation(self):\n",
    "        while (len(self.nonS) is not 0):\n",
    "\n",
    "            v = self.select_v(self.nonS,self.d)\n",
    "            self.S = np.append(self.S,v)\n",
    "            self.S = np.sort(self.S)\n",
    "    \n",
    "            index = np.where(self.nonS == v)\n",
    "            self.nonS = np.delete(self.nonS,index)\n",
    "    \n",
    "            j = self.search_j(self.nonS,self.A,v)\n",
    "            for i in j:\n",
    "                if self.d[i] > self.d[v] + self.A[v][i]:\n",
    "                    self.d[i] = self.d[v] + self.A[v][i]\n",
    "                    self.p[i] = v\n",
    "\n",
    "            print(\"S:\",self.S , \" nonS:\", self.nonS)\n",
    "            print(\"p:\",self.p , \" d:\",self.d)\n",
    "            print(\"\")"
   ]
  },
  {
   "cell_type": "code",
   "execution_count": 22,
   "metadata": {
    "collapsed": true
   },
   "outputs": [],
   "source": [
    "#初期値の設定\n",
    "import numpy as np\n",
    "\n",
    "n = 5\n",
    "start = 0\n",
    "goal = 4\n",
    "\n",
    "#A: エッジの長さを示す行列\n",
    "A = np.array([[0,50,80,0,0],[0,0,20,15,0],[0,0,0,10,15],[0,0,0,0,30],[0,0,0,0,0]])"
   ]
  },
  {
   "cell_type": "code",
   "execution_count": 23,
   "metadata": {
    "collapsed": false
   },
   "outputs": [
    {
     "name": "stdout",
     "output_type": "stream",
     "text": [
      "n: 5\n",
      "start: 0\n",
      "goal: 4\n",
      "A: [[ 0 50 80  0  0]\n",
      " [ 0  0 20 15  0]\n",
      " [ 0  0  0 10 15]\n",
      " [ 0  0  0  0 30]\n",
      " [ 0  0  0  0  0]]\n",
      "S: []\n",
      "nonS [0 1 2 3 4]\n",
      "d: [    0 10000 10000 10000 10000]\n",
      "p: [-1 -1 -1 -1 -1]\n"
     ]
    }
   ],
   "source": [
    "a = dijkstra(n,start,goal,A)\n",
    "a.check()"
   ]
  },
  {
   "cell_type": "code",
   "execution_count": 24,
   "metadata": {
    "collapsed": false
   },
   "outputs": [
    {
     "name": "stdout",
     "output_type": "stream",
     "text": [
      "S: [ 0.]  nonS: [1 2 3 4]\n",
      "p: [-1  0  0 -1 -1]  d: [    0    50    80 10000 10000]\n",
      "\n",
      "S: [ 0.  1.]  nonS: [2 3 4]\n",
      "p: [-1  0  1  1 -1]  d: [    0    50    70    65 10000]\n",
      "\n",
      "S: [ 0.  1.  3.]  nonS: [2 4]\n",
      "p: [-1  0  1  1  3]  d: [ 0 50 70 65 95]\n",
      "\n",
      "S: [ 0.  1.  2.  3.]  nonS: [4]\n",
      "p: [-1  0  1  1  2]  d: [ 0 50 70 65 85]\n",
      "\n",
      "S: [ 0.  1.  2.  3.  4.]  nonS: []\n",
      "p: [-1  0  1  1  2]  d: [ 0 50 70 65 85]\n",
      "\n"
     ]
    }
   ],
   "source": [
    "a.culculation()"
   ]
  },
  {
   "cell_type": "code",
   "execution_count": 25,
   "metadata": {
    "collapsed": false
   },
   "outputs": [
    {
     "name": "stdout",
     "output_type": "stream",
     "text": [
      "n: 5\n",
      "start: 0\n",
      "goal: 4\n",
      "A: [[ 0 50 80  0  0]\n",
      " [ 0  0 20 15  0]\n",
      " [ 0  0  0 10 15]\n",
      " [ 0  0  0  0 30]\n",
      " [ 0  0  0  0  0]]\n",
      "S: [ 0.  1.  2.  3.  4.]\n",
      "nonS []\n",
      "d: [ 0 50 70 65 85]\n",
      "p: [-1  0  1  1  2]\n"
     ]
    }
   ],
   "source": [
    "a.check()"
   ]
  }
 ],
 "metadata": {
  "kernelspec": {
   "display_name": "Python 3",
   "language": "python",
   "name": "python3"
  },
  "language_info": {
   "codemirror_mode": {
    "name": "ipython",
    "version": 3
   },
   "file_extension": ".py",
   "mimetype": "text/x-python",
   "name": "python",
   "nbconvert_exporter": "python",
   "pygments_lexer": "ipython3",
   "version": "3.6.0"
  }
 },
 "nbformat": 4,
 "nbformat_minor": 2
}
