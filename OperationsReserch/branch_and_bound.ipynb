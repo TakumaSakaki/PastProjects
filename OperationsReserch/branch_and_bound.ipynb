{
 "cells": [
  {
   "cell_type": "code",
   "execution_count": 1,
   "metadata": {
    "collapsed": true
   },
   "outputs": [],
   "source": [
    "import numpy as np\n",
    "import copy\n",
    "\n",
    "class BranchAndBound:\n",
    "    def __init__(self, a_array, c_array,  a_limit):\n",
    "        self.a_limit = a_limit # 予算\n",
    "        self.a_array = np.array(a_array) # 経費\n",
    "        self.c_array = np.array(c_array) #期待利得\n",
    "        self.r_array = self.c_array / self.a_array # 経費あたりの期待利得\n",
    "        self.r_index_sorted =  np.argsort(self.r_array)[::-1] # rの値が大きい順にインデックスを並び替えた配列． 探索順． 例：r_array =  [2.0 1.7  2.4  2.3] =>  r_index_sorted = [2 3 0 1] ．\n",
    "        self.x_array = np.zeros(len(self.r_array)) # 解の初期値\n",
    "        self.f_max = 0 # 目的関数の初期値\n",
    "        self.p_list = []  # 部分問題のリスト\n",
    "        \n",
    "    # 貪欲法\n",
    "    def greedy(self):\n",
    "        a_sum = 0\n",
    "        x_array = np.zeros(len(self.r_array))\n",
    "        for index in self.r_index_sorted:\n",
    "            if a_sum + self.a_array[index] <= self.a_limit:\n",
    "                x_array[index] = 1\n",
    "                a_sum += self.a_array[index]\n",
    "        return (x_array, sum(x_array * self.c_array))\n",
    "        \n",
    "    # 部分問題と暫定解が与えられた時に終端条件を満たすか判定する(終端条件を満たすときFalseを返す)，　必要に応じて暫定解の更新も行う．\n",
    "    def relaxation(self, r_index_fixed, f_max): # r_index_fixed = [[0で固定するxのインデックス], [1で固定するxのインデックス]]\n",
    "        # 部分問題の条件を満たすxを作る． 自由変数は0で初期化\n",
    "        x_array = np.zeros(len(self.r_array))\n",
    "        x_array[[r_index_fixed[0]]] = 0\n",
    "        x_array[[r_index_fixed[1]]] = 1\n",
    "        a_sum = sum(x_array * self.a_array)\n",
    "        c_sum = sum(x_array * self.c_array)\n",
    "        r_index_free = copy.deepcopy(self.r_index_sorted[len(r_index_fixed[0]) + len(r_index_fixed[1]) -1:]) # 自由変数のインデックス． r_index_sortedに影響を与えないように深いコピーを利用．\n",
    "        free_len = len(r_index_free) # 自由変数の個数\n",
    "\n",
    "        if free_len == 0: # 自由変数の個数が0\n",
    "            if  self.f_max < c_sum: # 暫定解よりも目的関数の値が大きければ暫定解を更新\n",
    "                self.f_max = c_sum\n",
    "                self.x_array = x_array.astype(np.int64)\n",
    "            return False\n",
    "        elif a_sum > self.a_limit: #実行可能解がない\n",
    "            return False\n",
    "        else: # 実行可能解は持つ．\n",
    "            # 連続緩和問題を解く．\n",
    "            zero_or_one = True # 0-1条件を満たすか\n",
    "            for index in r_index_free: \n",
    "                if a_sum + self.a_array[index] <= self.a_limit:\n",
    "                    x_array[index] = 1\n",
    "                    a_sum  +=  self.a_array[index]\n",
    "                elif a_sum <= self.a_limit:\n",
    "                    x_array[index] = (self.a_limit - a_sum) / self.a_array[index]\n",
    "                    a_sum += self.a_array[index] * x_array[index]\n",
    "                    if x_array[index] != 0:\n",
    "                        zero_or_one  = False #0-1条件を満たさない．\n",
    "                else:\n",
    "                    x_array[index] = 0\n",
    "            x_relaxation = sum(x_array * self.c_array) # 連続緩和問題の解\n",
    "            if (zero_or_one): # 0-1条件を満たす                                   \n",
    "                if  self.f_max < x_relaxation: # 暫定解よりも目的関数の値が大きければ暫定解を更新\n",
    "                    self.f_max = x_relaxation\n",
    "                    self.x_array = x_array.astype(np.int64)\n",
    "                return False \n",
    "            else: \n",
    "                return self.f_max < x_relaxation # 緩和問題の解の方が小さい場合は終端条件を満たし探索終了．\n",
    "                \n",
    "    # 分岐限定法を利用して解を求める関数\n",
    "    def branch_and_bound(self):\n",
    "        # 暫定解を貪欲法の解に設定．\n",
    "        self.x_array = np.array(self.greedy()[0]).astype(np.int64)\n",
    "        self.f_max = self.greedy()[1]    \n",
    "        \n",
    "        # 部分問題の生成\n",
    "        self.p_list =[[[self.r_index_sorted[0]],[]], [[], [self.r_index_sorted[0]]]]# 経費あたりの価値が最大のものを場合分けして部分問題を生成 #  [[[2], []], [[], [2]]]\n",
    "        self.r_index_sorted = np.delete(self.r_index_sorted,0)\n",
    "        \n",
    "        while(len(self.p_list) > 0): # 部分問題がなくなるまで繰り返す\n",
    "            r_index_fixed = self.p_list[0] # 部分問題の先頭を取得\n",
    "            if (self.relaxation(r_index_fixed, self.f_max)): # 終端条件を満たさない場合(さらに探索が必要な場合)\n",
    "                # 先頭の部分問題を分割する．\n",
    "                f1 = copy.deepcopy(self.p_list[0])# 例：[[2],[]]\n",
    "                f1[0].append(int(self.r_index_sorted[0])) #  [2] => [2,3]\n",
    "                f1 = [f1[0], f1[1]] # 例：[[2,3],[]]\n",
    "                f2 = copy.deepcopy(self.p_list[0]) \n",
    "                f2[1].append(int(self.r_index_sorted[0]))\n",
    "                f2 = [f2[0], f2[1]]\n",
    "                self. p_list.pop(0) # 先頭の部分問題を消去\n",
    "                self.p_list.insert(0, f1) # 先頭に新たな部分問題を追加(Queue)\n",
    "                self.p_list.insert(0, f2)\n",
    "            else: # 終端条件を満たす場合\n",
    "                self. p_list.pop(0) # 先頭の部分問題を消去\n",
    "                \n",
    "        print(\"解：[x1, x2, x3, x4] = \", list(self.x_array))\n",
    "        print(\"最大値：\", int(self.f_max))"
   ]
  },
  {
   "cell_type": "code",
   "execution_count": 2,
   "metadata": {
    "collapsed": false,
    "scrolled": true
   },
   "outputs": [
    {
     "name": "stdout",
     "output_type": "stream",
     "text": [
      "解：[x1, x2, x3, x4] =  [0, 1, 0, 1]\n",
      "最大値： 19\n"
     ]
    }
   ],
   "source": [
    "q = BranchAndBound(a_array = [2, 3, 5, 6], c_array = [4, 5, 12, 14], a_limit = 9)\n",
    "q.branch_and_bound()"
   ]
  },
  {
   "cell_type": "code",
   "execution_count": 3,
   "metadata": {
    "collapsed": false
   },
   "outputs": [
    {
     "data": {
      "text/plain": [
       "(array([ 1.,  0.,  0.,  1.]), 18.0)"
      ]
     },
     "execution_count": 3,
     "metadata": {},
     "output_type": "execute_result"
    }
   ],
   "source": [
    "q.greedy()"
   ]
  },
  {
   "cell_type": "code",
   "execution_count": null,
   "metadata": {
    "collapsed": true
   },
   "outputs": [],
   "source": []
  }
 ],
 "metadata": {
  "kernelspec": {
   "display_name": "Python 3",
   "language": "python",
   "name": "python3"
  },
  "language_info": {
   "codemirror_mode": {
    "name": "ipython",
    "version": 3
   },
   "file_extension": ".py",
   "mimetype": "text/x-python",
   "name": "python",
   "nbconvert_exporter": "python",
   "pygments_lexer": "ipython3",
   "version": "3.6.0"
  },
  "toc": {
   "colors": {
    "hover_highlight": "#DAA520",
    "running_highlight": "#FF0000",
    "selected_highlight": "#FFD700"
   },
   "moveMenuLeft": true,
   "nav_menu": {
    "height": "4px",
    "width": "254px"
   },
   "navigate_menu": true,
   "number_sections": true,
   "sideBar": true,
   "threshold": 4,
   "toc_cell": false,
   "toc_section_display": "block",
   "toc_window_display": false,
   "widenNotebook": false
  }
 },
 "nbformat": 4,
 "nbformat_minor": 2
}
