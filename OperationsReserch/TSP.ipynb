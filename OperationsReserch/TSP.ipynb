{
 "cells": [
  {
   "cell_type": "code",
   "execution_count": 1,
   "metadata": {
    "collapsed": true
   },
   "outputs": [],
   "source": [
    "import math\n",
    "import numpy as np\n",
    "import copy\n",
    "n = 5"
   ]
  },
  {
   "cell_type": "code",
   "execution_count": 2,
   "metadata": {
    "collapsed": true
   },
   "outputs": [],
   "source": [
    "def sort(A,D):\n",
    "    for i in range(len(A)):\n",
    "        for j in range (i+1,len(A)):\n",
    "            if (D[A[i][0]][A[i][1]] > D[A[j][0]][A[j][1]]):\n",
    "                temp = A[i]\n",
    "                A[i] = A[j]\n",
    "                A[j] = temp\n",
    "    return A"
   ]
  },
  {
   "cell_type": "code",
   "execution_count": 3,
   "metadata": {
    "collapsed": true
   },
   "outputs": [],
   "source": [
    "def sort_J(J):\n",
    "    for i in range(len(J)):\n",
    "        for j in range (i+1,len(J)):\n",
    "            if (J[i][2] > J[j][2]):\n",
    "                temp = J[i]\n",
    "                J[i] = J[j]\n",
    "                J[j] = temp\n",
    "    return J"
   ]
  },
  {
   "cell_type": "code",
   "execution_count": 4,
   "metadata": {
    "collapsed": false
   },
   "outputs": [],
   "source": [
    "def Loop_Judge(j):\n",
    "        \n",
    "    #動かなくなるまでまとめる。\n",
    "    flag = True\n",
    "\n",
    "    while(flag):\n",
    "        flag =  False\n",
    "        \n",
    "        if (len(j) > 0):\n",
    "            for i in range(len(j)):\n",
    "                \n",
    "                if (j[i][0] == j[i][1]):\n",
    "                    del j[i]\n",
    "                    flag = True\n",
    "                \n",
    "                for k in range(i+1,len(j)):\n",
    "                \n",
    "                    if (j[i][0] == j[i][1]):\n",
    "                        del j[i]\n",
    "                        flag = True\n",
    "                \n",
    "                    elif (j[i][1] == j[k][0]):\n",
    "                        j.append([j[i][0],j[k][1]])\n",
    "                        del j[k]\n",
    "                        del j[i]\n",
    "                        flag = True\n",
    "                \n",
    "                    elif (j[i][0] == j[k][1]):\n",
    "                        j.append([j[k][0],j[i][1]])\n",
    "                        del j[k]\n",
    "                        del j[i]\n",
    "                        flag = True\n",
    "                    \n",
    "                    if (flag): break\n",
    "                if (flag): break\n",
    "    \n",
    "    if (len(j) is 0):\n",
    "        return True\n",
    "    else:\n",
    "        return False"
   ]
  },
  {
   "cell_type": "code",
   "execution_count": 5,
   "metadata": {
    "collapsed": false
   },
   "outputs": [
    {
     "data": {
      "text/plain": [
       "False"
      ]
     },
     "execution_count": 5,
     "metadata": {},
     "output_type": "execute_result"
    }
   ],
   "source": [
    "j = [[0,1],[1,2],[2,4],[4,1]]\n",
    "Loop_Judge(j)"
   ]
  },
  {
   "cell_type": "code",
   "execution_count": 6,
   "metadata": {
    "collapsed": false
   },
   "outputs": [
    {
     "data": {
      "text/plain": [
       "True"
      ]
     },
     "execution_count": 6,
     "metadata": {},
     "output_type": "execute_result"
    }
   ],
   "source": [
    "Loop_Judge([[2,3],[0,2],[1,0],[3,4],[4,1]])"
   ]
  },
  {
   "cell_type": "code",
   "execution_count": 7,
   "metadata": {
    "collapsed": false
   },
   "outputs": [],
   "source": [
    "def calc_g(j,data):\n",
    "    \n",
    "    D = copy.copy(data)\n",
    "    end_flag = False\n",
    "    \n",
    "    #固定されている部分の処理を行う\n",
    "    j_ok = j[0]\n",
    "    j_ng = j[1]\n",
    "    \n",
    "    print(\"j_ok: \",j_ok, \"  j_ng: \",j_ng)\n",
    "    \n",
    "    #まず、通らない部分の処理\n",
    "    for i in j_ng:\n",
    "        D[i[0]][i[1]] = math.inf\n",
    "    \n",
    "    #必ず通る部分は、行と列を削除する\n",
    "    col = []\n",
    "    row = []\n",
    "    for i in j_ok:\n",
    "        col.append(i[0])\n",
    "        row.append(i[1])\n",
    "    col = list(set(col))\n",
    "    row = list(set(row))\n",
    "    \n",
    "    D= np.delete(D, col, 0)\n",
    "    D= np.delete(D, row, 1)\n",
    "    \n",
    "    print(\"表: \")\n",
    "    print(D)\n",
    "    \n",
    "    #Dが2*2の行列のとき、終端させ、gも求める（下端としてではなく、可能解として）\n",
    "    if (D.shape == (2,2)):\n",
    "        \n",
    "        d_col = []\n",
    "        d_row = []\n",
    "        for i in range(n):\n",
    "            if (i not in col):\n",
    "                d_col.append(i)\n",
    "            if (i not in row):\n",
    "                d_row.append(i)\n",
    "        \n",
    "        if ((D[0][0] is not math.inf) and (D[1][1] is not math.inf)):\n",
    "            if Loop_Judge(j_ok + [[d_col[0],d_row[0]],[d_col[1],d_row[1]]]) is True:\n",
    "            \n",
    "                g_tmp1 = 0\n",
    "                for i in j_ok:\n",
    "                    g_tmp1 = g_tmp1 + data[i[0]][i[1]]\n",
    "                g_tmp1 = g_tmp1 + D[0][0] + D[1][1]\n",
    "                \n",
    "                end_flag1 = True\n",
    "                \n",
    "        if ((D[0][1] is not math.inf) and (D[1][0] is not math.inf)):\n",
    "            if Loop_Judge(j_ok + [[d_col[0],d_row[1]],[d_col[1],d_row[0]]]) is True:\n",
    "\n",
    "                g_tmp2 = 0\n",
    "                for i in j_ok:\n",
    "                    g_tmp2 = g_tmp2 + data[i[0]][i[1]]\n",
    "                g_tmp2 = g_tmp2 + D[1][0] + D[0][1]\n",
    "                \n",
    "                end_flag2 = True\n",
    "                \n",
    "        if end_flag1 == True and end_flag2 == True:\n",
    "            g = min(g_tmp1,g_tmp2)\n",
    "        elif end_flag1 == True and end_flag2 == False:\n",
    "            g = g_tmp1\n",
    "        elif end_flag1 == False and end_flag2 == True:\n",
    "            g = g_tmp2\n",
    "        elif end_flag1 == False and end_flag2 == False:\n",
    "            g = math.inf\n",
    "            \n",
    "        end_flag = True\n",
    "    \n",
    "    #その他の場合、gの計算を行う\n",
    "    else:\n",
    "        col_min = D.min(axis=1)\n",
    "        for i in range(len(col_min)):\n",
    "            D[i] = D[i] - col_min[i]\n",
    "    \n",
    "        row_min = D.min(axis=0)\n",
    "    \n",
    "        g = col_min.sum()+row_min.sum()\n",
    "        for i in j_ok:\n",
    "            g = g + data[i[0]][i[1]]\n",
    "    \n",
    "    return [g,end_flag]"
   ]
  },
  {
   "cell_type": "code",
   "execution_count": 29,
   "metadata": {
    "collapsed": false
   },
   "outputs": [
    {
     "name": "stdout",
     "output_type": "stream",
     "text": [
      "j_ok:  [[2, 4], [3, 0]]   j_ng:  [[4, 3]]\n",
      "表: \n",
      "[[ 21.   7.  13.]\n",
      " [ inf  19.  12.]\n",
      " [  6.  11.  inf]]\n"
     ]
    },
    {
     "data": {
      "text/plain": [
       "[36.0, False]"
      ]
     },
     "execution_count": 29,
     "metadata": {},
     "output_type": "execute_result"
    }
   ],
   "source": [
    "data = np.array([[math.inf,21,7,13,15],\n",
    "              [11,math.inf,19,12,25],\n",
    "              [15,24,math.inf,13,5],\n",
    "              [6,17,9,math.inf,22],\n",
    "              [28,6,11,5,math.inf]])\n",
    "calc_g([[[2,4],[3,0]],[[4,3]]],data)"
   ]
  },
  {
   "cell_type": "code",
   "execution_count": 30,
   "metadata": {
    "collapsed": false
   },
   "outputs": [
    {
     "name": "stdout",
     "output_type": "stream",
     "text": [
      "j_ok:  [[2, 4], [4, 1], [3, 0]]   j_ng:  [[4, 3]]\n",
      "表: \n",
      "[[  7.  13.]\n",
      " [ 19.  12.]]\n"
     ]
    },
    {
     "data": {
      "text/plain": [
       "[36.0, True]"
      ]
     },
     "execution_count": 30,
     "metadata": {},
     "output_type": "execute_result"
    }
   ],
   "source": [
    "calc_g([[[2,4],[4,1],[3,0]],[[4,3]]],data)"
   ]
  },
  {
   "cell_type": "code",
   "execution_count": 31,
   "metadata": {
    "collapsed": false
   },
   "outputs": [
    {
     "name": "stdout",
     "output_type": "stream",
     "text": [
      "j_ok:  []   j_ng:  []\n",
      "表: \n",
      "[[ inf  21.   7.  13.  15.]\n",
      " [ 11.  inf  19.  12.  25.]\n",
      " [ 15.  24.  inf  13.   5.]\n",
      " [  6.  17.   9.  inf  22.]\n",
      " [ 28.   6.  11.   5.  inf]]\n"
     ]
    },
    {
     "data": {
      "text/plain": [
       "[35.0, False]"
      ]
     },
     "execution_count": 31,
     "metadata": {},
     "output_type": "execute_result"
    }
   ],
   "source": [
    "k = calc_g([[],[]],data)\n",
    "k"
   ]
  },
  {
   "cell_type": "code",
   "execution_count": 28,
   "metadata": {
    "collapsed": true
   },
   "outputs": [],
   "source": [
    "#最適な時の固定経路から、移動経路を出力する\n",
    "\n",
    "def GetPath(j,data):\n",
    "    \n",
    "    D = copy.copy(data)\n",
    "    root = 0\n",
    "    j_ok = j[0]\n",
    "    j_ng = j[1]\n",
    "    \n",
    "    #まず、通らない部分の処理\n",
    "    for i in j_ng:\n",
    "        D[i[0]][i[1]] = math.inf\n",
    "    \n",
    "    #必ず通る部分は、行と列を削除する\n",
    "    col = []\n",
    "    row = []\n",
    "    for i in j_ok:\n",
    "        col.append(i[0])\n",
    "        row.append(i[1])\n",
    "    col = list(set(col))\n",
    "    row = list(set(row))\n",
    "    \n",
    "    D= np.delete(D, col, 0)\n",
    "    D= np.delete(D, row, 1)\n",
    "        \n",
    "    d_col = []\n",
    "    d_row = []\n",
    "    for i in range(n):\n",
    "        if (i not in col):\n",
    "            d_col.append(i)\n",
    "        if (i not in row):\n",
    "            d_row.append(i)\n",
    "        \n",
    "    if ((D[0][0] is not math.inf) and (D[1][1] is not math.inf)):\n",
    "        if Loop_Judge(j_ok + [[d_col[0],d_row[0]],[d_col[1],d_row[1]]]) is True:\n",
    "            \n",
    "            g_tmp1 = 0\n",
    "            for i in j_ok:\n",
    "                g_tmp1 = g_tmp1 + data[i[0]][i[1]]\n",
    "            g_tmp1 = g_tmp1 + D[0][0] + D[1][1]\n",
    "                \n",
    "            end_flag1 = True\n",
    "                \n",
    "    if ((D[0][1] is not math.inf) and (D[1][0] is not math.inf)):\n",
    "        if Loop_Judge(j_ok + [[d_col[0],d_row[1]],[d_col[1],d_row[0]]]) is True:\n",
    "\n",
    "            g_tmp2 = 0\n",
    "            for i in j_ok:\n",
    "                g_tmp2 = g_tmp2 + data[i[0]][i[1]]\n",
    "            g_tmp2 = g_tmp2 + D[1][0] + D[0][1]\n",
    "                \n",
    "            end_flag2 = True\n",
    "                \n",
    "    if end_flag1 == True and end_flag2 == True:\n",
    "        if g_tmp1 < g_tmp2:\n",
    "            root = 1\n",
    "        else:\n",
    "            root = 2\n",
    "                \n",
    "    elif end_flag1 == True and end_flag2 == False:\n",
    "        root = 1\n",
    "    elif end_flag1 == False and end_flag2 == True:\n",
    "        root = 2\n",
    "    \n",
    "    if root == 1:\n",
    "        return j_ok + [[d_col[0],d_row[0]],[d_col[1],d_row[1]]]\n",
    "    elif root == 2:\n",
    "        return j_ok + [[d_col[0],d_row[1]],[d_col[1],d_row[0]]]\n"
   ]
  },
  {
   "cell_type": "code",
   "execution_count": 32,
   "metadata": {
    "collapsed": true
   },
   "outputs": [],
   "source": [
    "def TSP(A,J,data):\n",
    "    temp_result = math.inf\n",
    "    temp_j = None\n",
    "    \n",
    "    while (len(J) is not 0):\n",
    "        \n",
    "        J = sort_J(J)        \n",
    "        j = J.pop(0)\n",
    "        if (j[2] > temp_result):\n",
    "            continue\n",
    "        \n",
    "        result = calc_g(j,data)\n",
    "        g = float(result[0])\n",
    "        end_flag = bool(result[1])\n",
    "        \n",
    "        print(\"result:\",result)\n",
    "        \n",
    "        if end_flag == True:\n",
    "            if temp_result > g:\n",
    "                temp_result = g\n",
    "                temp_j = copy.copy(j)\n",
    "            continue\n",
    "\n",
    "        #終端していない時は、Aから一つ取り出して、stockする\n",
    "        a = A[len(j[0])+len(j[1])]\n",
    "        j0 = copy.copy(j[0])\n",
    "        j0.append(a)\n",
    "        j1 = copy.copy(j[1])\n",
    "        j1.append(a)\n",
    "        \n",
    "        J.append([j0,j[1],g])\n",
    "        J.append([j[0],j1,g])\n",
    "    \n",
    "    print (\"---------------------------------------------\")\n",
    "    print (\"最短経路の距離：\",temp_result)\n",
    "    print (\"移動する経路：\",GetPath(temp_j,data))"
   ]
  },
  {
   "cell_type": "code",
   "execution_count": 33,
   "metadata": {
    "collapsed": false
   },
   "outputs": [],
   "source": [
    "import math\n",
    "import numpy as np\n",
    "n = 5\n",
    "data = np.array([[math.inf,21,7,13,15],\n",
    "              [11,math.inf,19,12,25],\n",
    "              [15,24,math.inf,13,5],\n",
    "              [6,17,9,math.inf,22],\n",
    "              [28,6,11,5,math.inf]])"
   ]
  },
  {
   "cell_type": "code",
   "execution_count": 34,
   "metadata": {
    "collapsed": false
   },
   "outputs": [],
   "source": [
    "A = [[x,y] for x in range(n) for y in range(n) if x != y]\n",
    "A = sort(A,data)"
   ]
  },
  {
   "cell_type": "code",
   "execution_count": 35,
   "metadata": {
    "collapsed": false
   },
   "outputs": [
    {
     "name": "stdout",
     "output_type": "stream",
     "text": [
      "j_ok:  [[2, 4]]   j_ng:  []\n",
      "表: \n",
      "[[ inf  21.   7.  13.]\n",
      " [ 11.  inf  19.  12.]\n",
      " [  6.  17.   9.  inf]\n",
      " [ 28.   6.  11.   5.]]\n",
      "result: [35.0, False]\n",
      "j_ok:  []   j_ng:  [[2, 4]]\n",
      "表: \n",
      "[[ inf  21.   7.  13.  15.]\n",
      " [ 11.  inf  19.  12.  25.]\n",
      " [ 15.  24.  inf  13.  inf]\n",
      " [  6.  17.   9.  inf  22.]\n",
      " [ 28.   6.  11.   5.  inf]]\n",
      "result: [51.0, False]\n",
      "j_ok:  [[2, 4], [4, 1]]   j_ng:  []\n",
      "表: \n",
      "[[ inf   7.  13.]\n",
      " [ 11.  19.  12.]\n",
      " [  6.   9.  inf]]\n",
      "result: [36.0, False]\n",
      "j_ok:  [[2, 4]]   j_ng:  [[4, 1]]\n",
      "表: \n",
      "[[ inf  21.   7.  13.]\n",
      " [ 11.  inf  19.  12.]\n",
      " [  6.  17.   9.  inf]\n",
      " [ 28.  inf  11.   5.]]\n",
      "result: [45.0, False]\n",
      "j_ok:  [[2, 4], [4, 1], [3, 0]]   j_ng:  []\n",
      "表: \n",
      "[[  7.  13.]\n",
      " [ 19.  12.]]\n",
      "result: [36.0, True]\n",
      "j_ok:  [[2, 4], [4, 1]]   j_ng:  [[3, 0]]\n",
      "表: \n",
      "[[ inf   7.  13.]\n",
      " [ 11.  19.  12.]\n",
      " [ inf   9.  inf]]\n",
      "result: [39.0, False]\n",
      "---------------------------------------------\n",
      "最短経路の距離： 36.0\n",
      "移動する経路： [[2, 4], [4, 1], [3, 0], [0, 2], [1, 3]]\n"
     ]
    }
   ],
   "source": [
    "a = A.pop(0)\n",
    "TSP(A,[[[a],[],k[0]],[[],[a],k[0]]],data)"
   ]
  }
 ],
 "metadata": {
  "kernelspec": {
   "display_name": "Python 3",
   "language": "python",
   "name": "python3"
  },
  "language_info": {
   "codemirror_mode": {
    "name": "ipython",
    "version": 3
   },
   "file_extension": ".py",
   "mimetype": "text/x-python",
   "name": "python",
   "nbconvert_exporter": "python",
   "pygments_lexer": "ipython3",
   "version": "3.6.0"
  }
 },
 "nbformat": 4,
 "nbformat_minor": 0
}
