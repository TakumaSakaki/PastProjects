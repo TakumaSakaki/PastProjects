{
 "cells": [
  {
   "cell_type": "code",
   "execution_count": 1,
   "metadata": {},
   "outputs": [],
   "source": [
    "import numpy as np\n",
    "import pandas as pd\n",
    "import matplotlib.pyplot as plt\n",
    "plt.style.use(\"ggplot\")\n",
    "np.random.seed(1)\n",
    "%matplotlib inline"
   ]
  },
  {
   "cell_type": "code",
   "execution_count": 2,
   "metadata": {},
   "outputs": [],
   "source": [
    "def generate_data(n=200):\n",
    "    x = np.linspace(0, np.pi, n // 2)\n",
    "    u = np.stack([np.cos(x) + .5, -np.sin(x)], axis=1) * 10.\n",
    "    u += np.random.normal(size=u.shape)\n",
    "    v = np.stack([np.cos(x) - .5, np.sin(x)], axis=1) * 10.\n",
    "    v += np.random.normal(size=v.shape)\n",
    "    x = np.concatenate([u, v], axis=0)\n",
    "    y = np.zeros(n)\n",
    "    y[0] = 1\n",
    "    y[-1] = -1\n",
    "    return x, y"
   ]
  },
  {
   "cell_type": "code",
   "execution_count": 3,
   "metadata": {},
   "outputs": [],
   "source": [
    "def train(x, y, h=1, l=1., nu=1.):\n",
    "    \n",
    "    diff = x[None] - x[:, None]\n",
    "    phi = np.zeros((x.shape[0], x.shape[0]))\n",
    "    for i in range(phi.shape[0]):\n",
    "        phi[i] = np.exp(-np.linalg.norm(diff[i], ord=2, axis=1) ** 2 / (2 * h ** 2))\n",
    "    phi_tilde = phi[:n, :]\n",
    "    W = phi.copy()\n",
    "    D = np.diag(W.sum(axis=1))\n",
    "    L = D - W\n",
    "    \n",
    "    return np.linalg.solve(phi_tilde.T.dot(phi_tilde) + l * np.eye(len(x)) + 2 * nu * phi.T.dot(L).dot(phi), phi_tilde.T.dot(y[:n]))"
   ]
  },
  {
   "cell_type": "code",
   "execution_count": 4,
   "metadata": {},
   "outputs": [],
   "source": [
    "def visualize(x, y, theta, h=1.):\n",
    "    plt.clf()\n",
    "    plt.figure(figsize=(6, 6))\n",
    "    plt.xlim(-20., 20.)\n",
    "    plt.ylim(-20., 20.)\n",
    "    grid_size = 100\n",
    "    grid = np.linspace(-20., 20., grid_size)\n",
    "    X, Y = np.meshgrid(grid, grid)\n",
    "    mesh_grid = np.stack([np.ravel(X), np.ravel(Y)], axis=1)\n",
    "    k = np.exp(-np.sum((x.astype(np.float32)[:, None] - mesh_grid.astype(\n",
    "        np.float32)[None]) ** 2, axis=2).astype(np.float64) / (2 * h ** 2))\n",
    "    plt.contourf(X, Y, np.reshape(np.sign(k.T.dot(theta)),\n",
    "                                  (grid_size, grid_size)),\n",
    "                 alpha=.4, cmap=plt.cm.coolwarm)\n",
    "    plt.scatter(x[y == 0][:, 0], x[y == 0][:, 1], marker='$.$', c='black')\n",
    "    plt.scatter(x[y == 1][:, 0], x[y == 1][:, 1], marker='$X$', c='red')\n",
    "    plt.scatter(x[y == -1][:, 0], x[y == -1][:, 1], marker='$O$', c='blue')"
   ]
  },
  {
   "cell_type": "code",
   "execution_count": 5,
   "metadata": {},
   "outputs": [
    {
     "data": {
      "text/plain": [
       "<Figure size 432x288 with 0 Axes>"
      ]
     },
     "metadata": {},
     "output_type": "display_data"
    },
    {
     "data": {
      "image/png": "[encoded data removed]",
      "text/plain": [
       "<Figure size 432x432 with 1 Axes>"
      ]
     },
     "metadata": {
      "needs_background": "light"
     },
     "output_type": "display_data"
    }
   ],
   "source": [
    "x, y = generate_data()\n",
    "#sort\n",
    "n = len(np.concatenate([y[y == 1], y[y == -1]]))\n",
    "x = np.concatenate([x[y == 1], x[y == -1], x[y == 0]])\n",
    "y = np.concatenate([y[y == 1], y[y == -1], y[y == 0]])\n",
    "\n",
    "theta = train(x, y)\n",
    "visualize(x, y, theta)"
   ]
  }
 ],
 "metadata": {
  "kernelspec": {
   "display_name": "Python 3",
   "language": "python",
   "name": "python3"
  },
  "language_info": {
   "codemirror_mode": {
    "name": "ipython",
    "version": 3
   },
   "file_extension": ".py",
   "mimetype": "text/x-python",
   "name": "python",
   "nbconvert_exporter": "python",
   "pygments_lexer": "ipython3",
   "version": "3.7.2"
  }
 },
 "nbformat": 4,
 "nbformat_minor": 2
}
