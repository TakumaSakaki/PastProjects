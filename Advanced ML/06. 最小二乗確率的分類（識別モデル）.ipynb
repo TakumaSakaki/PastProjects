{
 "cells": [
  {
   "cell_type": "code",
   "execution_count": 1,
   "metadata": {},
   "outputs": [],
   "source": [
    "import numpy as np\n",
    "import pandas as pd\n",
    "import matplotlib.pyplot as plt\n",
    "plt.style.use(\"ggplot\")\n",
    "%matplotlib inline"
   ]
  },
  {
   "cell_type": "code",
   "execution_count": 2,
   "metadata": {},
   "outputs": [],
   "source": [
    "def generate_data(sample_size=90, n_class=3):\n",
    "    x = (np.random.normal(size=(sample_size // n_class, n_class))\n",
    "         + np.linspace(-3., 3., n_class)).flatten()\n",
    "    y = np.broadcast_to(np.arange(n_class),\n",
    "                        (sample_size // n_class, n_class)).flatten()\n",
    "    return x, y"
   ]
  },
  {
   "cell_type": "code",
   "execution_count": 3,
   "metadata": {},
   "outputs": [],
   "source": [
    "def get_K(x1,x2, h):\n",
    "    return np.exp(-(np.linalg.norm(x1 - x2, ord=2) ** 2)/(2* (h ** 2)))\n",
    "\n",
    "def K_matrix(x, y, h):\n",
    "    return np.array([get_K(i,j,h) for i in x for j in y]).reshape(len(x),len(y))"
   ]
  },
  {
   "cell_type": "code",
   "execution_count": 4,
   "metadata": {},
   "outputs": [],
   "source": [
    "def calc_params(x, y, h, n_class):\n",
    "    theta = np.empty([len(y), n_class])\n",
    "    K = K_matrix(x[:, None], x[:, None], h)\n",
    "    pi = np.empty([len(y), n_class])\n",
    "    for k in range(n_class):\n",
    "        pi[:, k] = np.array(y == k, dtype=np.float64)\n",
    "    theta = np.linalg.solve(np.dot(K.T, K) + _lambda * np.eye(len(x)), np.dot(K.T, pi))\n",
    "        \n",
    "    return theta"
   ]
  },
  {
   "cell_type": "code",
   "execution_count": 5,
   "metadata": {},
   "outputs": [],
   "source": [
    "def calc_prob(new_x, x, theta, n_class, h):\n",
    "    prob = np.dot(K_matrix(new_x[:, None], x[:, None], h), theta)\n",
    "    prob[prob < np.zeros(prob.shape)] = 0\n",
    "    prob = prob/np.tile(prob.sum(axis = 1)[:, None], n_class)\n",
    "    return prob"
   ]
  },
  {
   "cell_type": "code",
   "execution_count": 6,
   "metadata": {},
   "outputs": [],
   "source": [
    "def visualize(x, y, new_x, prob):\n",
    "\n",
    "    plt.clf()\n",
    "    plt.xlim(-5, 5)\n",
    "    plt.ylim(-.3, 1.8)\n",
    "\n",
    "    plt.plot(new_x, prob[:, 0], c='blue')\n",
    "    plt.plot(new_x, prob[:, 1], c='red')\n",
    "    plt.plot(new_x, prob[:, 2], c='green')\n",
    "\n",
    "    plt.scatter(x[y == 0], -.1 * np.ones(len(x) // 3), c='blue', marker='o')\n",
    "    plt.scatter(x[y == 1], -.2 * np.ones(len(x) // 3), c='red', marker='x')\n",
    "    plt.scatter(x[y == 2], -.1 * np.ones(len(x) // 3), c='green', marker='v')"
   ]
  },
  {
   "cell_type": "code",
   "execution_count": 7,
   "metadata": {},
   "outputs": [
    {
     "data": {
      "image/png": "[encoded data removed]",
      "text/plain": [
       "<Figure size 432x288 with 1 Axes>"
      ]
     },
     "metadata": {
      "needs_background": "light"
     },
     "output_type": "display_data"
    }
   ],
   "source": [
    "np.random.seed(1)\n",
    "_lambda = 0.5\n",
    "h =1.\n",
    "n_class = 3\n",
    "\n",
    "x, y = generate_data(sample_size=90, n_class=3)\n",
    "theta = calc_params(x, y, h, n_class)\n",
    "prob = calc_prob(np.linspace(-5, 5, 100), x, theta, n_class, h)\n",
    "visualize(x, y, np.linspace(-5, 5, 100), prob)"
   ]
  }
 ],
 "metadata": {
  "kernelspec": {
   "display_name": "Python 3",
   "language": "python",
   "name": "python3"
  },
  "language_info": {
   "codemirror_mode": {
    "name": "ipython",
    "version": 3
   },
   "file_extension": ".py",
   "mimetype": "text/x-python",
   "name": "python",
   "nbconvert_exporter": "python",
   "pygments_lexer": "ipython3",
   "version": "3.7.2"
  }
 },
 "nbformat": 4,
 "nbformat_minor": 2
}
