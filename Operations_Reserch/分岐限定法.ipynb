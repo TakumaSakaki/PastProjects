{
 "cells": [
  {
   "cell_type": "code",
   "execution_count": 21,
   "metadata": {
    "collapsed": false
   },
   "outputs": [
    {
     "data": {
      "text/html": [
       "<div>\n",
       "<table border=\"1\" class=\"dataframe\">\n",
       "  <thead>\n",
       "    <tr style=\"text-align: right;\">\n",
       "      <th></th>\n",
       "      <th>i</th>\n",
       "      <th>c</th>\n",
       "      <th>a</th>\n",
       "      <th>r</th>\n",
       "    </tr>\n",
       "  </thead>\n",
       "  <tbody>\n",
       "    <tr>\n",
       "      <th>2</th>\n",
       "      <td>2</td>\n",
       "      <td>12</td>\n",
       "      <td>5</td>\n",
       "      <td>2.40</td>\n",
       "    </tr>\n",
       "    <tr>\n",
       "      <th>3</th>\n",
       "      <td>3</td>\n",
       "      <td>14</td>\n",
       "      <td>6</td>\n",
       "      <td>2.33</td>\n",
       "    </tr>\n",
       "    <tr>\n",
       "      <th>0</th>\n",
       "      <td>0</td>\n",
       "      <td>4</td>\n",
       "      <td>2</td>\n",
       "      <td>2.00</td>\n",
       "    </tr>\n",
       "    <tr>\n",
       "      <th>1</th>\n",
       "      <td>1</td>\n",
       "      <td>5</td>\n",
       "      <td>3</td>\n",
       "      <td>1.67</td>\n",
       "    </tr>\n",
       "  </tbody>\n",
       "</table>\n",
       "</div>"
      ],
      "text/plain": [
       "   i   c  a     r\n",
       "2  2  12  5  2.40\n",
       "3  3  14  6  2.33\n",
       "0  0   4  2  2.00\n",
       "1  1   5  3  1.67"
      ]
     },
     "execution_count": 21,
     "metadata": {},
     "output_type": "execute_result"
    }
   ],
   "source": [
    "#データの入力とrによる降順ソートを施しておく\n",
    "import pandas as pd\n",
    "i = [0,1,2,3]\n",
    "c = [4,5,12,14]\n",
    "a = [2,3,5,6]\n",
    "b = 9\n",
    "data = {\"i\":i , \"c\":c , \"a\":a}\n",
    "\n",
    "df = pd.DataFrame(data)\n",
    "df = df.ix[:, [\"i\",\"c\",\"a\"]]\n",
    "df[\"r\"] = df[\"c\"]/df[\"a\"]\n",
    "df = df.round(2)\n",
    "df = df.sort_values(by=[\"r\"], ascending=False)\n",
    "df"
   ]
  },
  {
   "cell_type": "code",
   "execution_count": 22,
   "metadata": {
    "collapsed": false
   },
   "outputs": [],
   "source": [
    "i = list(df.i.values)\n",
    "c = list(df.c.values)\n",
    "a = list(df.a.values)"
   ]
  },
  {
   "cell_type": "code",
   "execution_count": 23,
   "metadata": {
    "collapsed": false
   },
   "outputs": [],
   "source": [
    "#欲張り法によって初めの暫定値を返すメソッド\n",
    "def greedy(i,c,a,b):\n",
    "    _sum = 0\n",
    "    ans = []\n",
    "    \n",
    "    for k in range(len(i)):\n",
    "        if _sum + a[k] <= b:\n",
    "            ans.append(1)\n",
    "            _sum = _sum + a[k]\n",
    "        else:\n",
    "            ans.append(0)\n",
    "    return ans\n",
    "\n",
    "#c,xを与えるとc'xの値を返すメソッド\n",
    "import numpy as np\n",
    "def culc(c,x):\n",
    "    c = np.array(c)\n",
    "    x = np.array(x)\n",
    "    return np.dot(c.T,x)"
   ]
  },
  {
   "cell_type": "code",
   "execution_count": 24,
   "metadata": {
    "collapsed": false
   },
   "outputs": [
    {
     "name": "stdout",
     "output_type": "stream",
     "text": [
      "初期暫定解： x： [1, 0, 1, 0]  z： 16\n"
     ]
    }
   ],
   "source": [
    "#以上から初期暫定解x,cを得る。\n",
    "x = greedy(i,c,a,b)\n",
    "z = culc(c,x)\n",
    "print (\"初期暫定解： x：\",x , \" z：\",z)"
   ]
  },
  {
   "cell_type": "code",
   "execution_count": 25,
   "metadata": {
    "collapsed": false
   },
   "outputs": [
    {
     "data": {
      "text/plain": [
       "{'a': [5, 6, 2, 3],\n",
       " 'b': 9,\n",
       " 'c': [12, 14, 4, 5],\n",
       " 'i': [2, 3, 0, 1],\n",
       " 'n': 4,\n",
       " 'x': [1, 0, 1, 0],\n",
       " 'z': 16}"
      ]
     },
     "execution_count": 25,
     "metadata": {},
     "output_type": "execute_result"
    }
   ],
   "source": [
    "#変数の数nと、i,c,a,b、さらに暫定解x,zの組をdataとして保存しておく。\n",
    "#これ以降で用いるi,c,aは、固定した値を除いた部分問題におけるi,c,aである。\n",
    "n = 4\n",
    "data = {\"n\":n, \"i\":i[:],\"c\":c[:],\"a\":a[:],\"b\":b,\"x\":x,\"z\":z}\n",
    "data"
   ]
  },
  {
   "cell_type": "code",
   "execution_count": 26,
   "metadata": {
    "collapsed": true
   },
   "outputs": [],
   "source": [
    "#部分緩和問題を解くメソッド\n",
    "def gen_solve(i,c,a,j0,j1,data):\n",
    "    _sum = 0\n",
    "    b = data['b']\n",
    "    \n",
    "    #初期解を一旦全て0に設定しておく\n",
    "    ans = []\n",
    "    for k in range(data['n']):\n",
    "        ans.append(0)\n",
    "\n",
    "    #j0,j1の処理\n",
    "    if j0 is not None:\n",
    "        for k in j0:\n",
    "            ans[k] = 0\n",
    "    if j1 is not None:\n",
    "        for k in j1:\n",
    "            ans[k] = 1\n",
    "            b = b - data['a'][data['i'].index(k)]\n",
    "            _sum = _sum + data['c'][data['i'].index(k)]\n",
    "    \n",
    "    #全ての値が固定されているとき\n",
    "    if len(i) is 0:\n",
    "        return [ans,_sum]\n",
    "    \n",
    "    #固定されていない部分を解く\n",
    "    for k in range(len(i)):\n",
    "        \n",
    "        if b >=  a[k]:\n",
    "            ans[i[k]] = 1\n",
    "            b = b - a[k]\n",
    "            _sum = _sum + c[k]\n",
    "        \n",
    "        elif b <= 0:\n",
    "            ans[i[k]] = 0\n",
    "        \n",
    "        else:\n",
    "            ans[i[k]] = b / a[k]\n",
    "            b = 0\n",
    "            _sum = _sum + (c[k]*ans[i[k]])\n",
    "        \n",
    "    return [ans,_sum]"
   ]
  },
  {
   "cell_type": "code",
   "execution_count": 27,
   "metadata": {
    "collapsed": false
   },
   "outputs": [
    {
     "data": {
      "text/plain": [
       "[[0, 0, 1, 0.66666666666666663], 21.333333333333332]"
      ]
     },
     "execution_count": 27,
     "metadata": {},
     "output_type": "execute_result"
    }
   ],
   "source": [
    "#check\n",
    "gen_solve(i,c,a,[],[],data)"
   ]
  },
  {
   "cell_type": "code",
   "execution_count": 28,
   "metadata": {
    "collapsed": true
   },
   "outputs": [],
   "source": [
    "#部分緩和問題の解から、終端せず：0 , 終端:1 , 終端かつ暫定解更新:2 を返すメソッド\n",
    "def end_judge(ans,_sum,j0,j1,data):\n",
    "\n",
    "    #解が全て0or1なら終端、暫定解より大なら更新\n",
    "    flag1 = True\n",
    "    change = False\n",
    "    for i in ans:\n",
    "        if (i is not 0) and (i is not 1):\n",
    "            flag1 = False\n",
    "    if flag1 is True:\n",
    "        if _sum > data['z']:\n",
    "            change = True\n",
    "    \n",
    "    #zよりも_sumが小さければ終端\n",
    "    flag2 = False\n",
    "    if data['z'] > _sum:\n",
    "        flag2 = True\n",
    "    \n",
    "    #解が存在しないなら終端、更新は無効\n",
    "    flag3 = False\n",
    "    temp = ans[:]\n",
    "    b = data['b']\n",
    "    for i in range(len(ans)):\n",
    "        b = b - (data['a'][data['i'].index(i)] * ans[i])\n",
    "    if b < 0:\n",
    "        flag3 = True\n",
    "        change = False\n",
    "    \n",
    "    \n",
    "    #まとめ\n",
    "    flag = False\n",
    "    if (flag1 is True) or (flag2 is True) or (flag3 is True):\n",
    "        flag = True\n",
    "\n",
    "    if change is True:\n",
    "        return 2\n",
    "    elif flag is True:\n",
    "        return 1\n",
    "    else:\n",
    "        return 0\n"
   ]
  },
  {
   "cell_type": "code",
   "execution_count": 29,
   "metadata": {
    "collapsed": false
   },
   "outputs": [
    {
     "data": {
      "text/plain": [
       "1"
      ]
     },
     "execution_count": 29,
     "metadata": {},
     "output_type": "execute_result"
    }
   ],
   "source": [
    "#check\n",
    "end_judge([0,0,1,1],26,[],[2,3],data)"
   ]
  },
  {
   "cell_type": "code",
   "execution_count": 30,
   "metadata": {
    "collapsed": false
   },
   "outputs": [
    {
     "data": {
      "text/plain": [
       "0"
      ]
     },
     "execution_count": 30,
     "metadata": {},
     "output_type": "execute_result"
    }
   ],
   "source": [
    "#check\n",
    "x = gen_solve(i,c,a,[],[],data)\n",
    "ans = x[0]\n",
    "_sum = x[1]\n",
    "end_judge(ans,_sum,[],[],data)"
   ]
  },
  {
   "cell_type": "code",
   "execution_count": 31,
   "metadata": {
    "collapsed": false
   },
   "outputs": [],
   "source": [
    "#分岐限定法を解く\n",
    "def solve(i,c,a,j0,j1,data):\n",
    "    \n",
    "    print (\"x：\", data['x'], \"  z：\", data['z'], \" j0：\", j0 , \" j1：\" , j1)\n",
    "    \n",
    "    #解く\n",
    "    x = gen_solve(i,c,a,j0,j1,data)\n",
    "    ans = x[0][:]\n",
    "    _sum = x[1]\n",
    "    \n",
    "    print(\"ans:\",ans, \" _sum:\",_sum)\n",
    "    \n",
    "    #終端判定\n",
    "    y = end_judge(ans,_sum,j0,j1,data)\n",
    "    \n",
    "    print(\"end_judge：\",y)\n",
    "    \n",
    "    if y is 2:\n",
    "        data['x'] = ans[:]\n",
    "        data['z'] = _sum\n",
    "        return\n",
    "    elif y is 1:\n",
    "        return\n",
    "    \n",
    "    else:\n",
    "        \n",
    "        i = i[:]\n",
    "        c = c[:]\n",
    "        a = a[:]\n",
    "        tmp0 = j0[:]\n",
    "        tmp1 = j1[:]\n",
    "        \n",
    "        tmp0.append(i[0])\n",
    "        tmp1.append(i[0])\n",
    "        del i[0]\n",
    "        del c[0]\n",
    "        del a[0]\n",
    "        \n",
    "        solve(i,c,a,tmp0,j1,data)\n",
    "        solve(i,c,a,j0,tmp1,data)\n"
   ]
  },
  {
   "cell_type": "code",
   "execution_count": 32,
   "metadata": {
    "collapsed": false
   },
   "outputs": [
    {
     "name": "stdout",
     "output_type": "stream",
     "text": [
      "x： [1, 0, 1, 0]   z： 16  j0： []  j1： []\n",
      "ans: [0, 0, 1, 0.66666666666666663]  _sum: 21.3333333333\n",
      "end_judge： 0\n",
      "x： [1, 0, 1, 0]   z： 16  j0： [2]  j1： []\n",
      "ans: [1, 0.33333333333333331, 0, 1]  _sum: 19.6666666667\n",
      "end_judge： 0\n",
      "x： [1, 0, 1, 0]   z： 16  j0： [2, 3]  j1： []\n",
      "ans: [1, 1, 0, 0]  _sum: 9\n",
      "end_judge： 1\n",
      "x： [1, 0, 1, 0]   z： 16  j0： [2]  j1： [3]\n",
      "ans: [1, 0.33333333333333331, 0, 1]  _sum: 19.6666666667\n",
      "end_judge： 0\n",
      "x： [1, 0, 1, 0]   z： 16  j0： [2, 0]  j1： [3]\n",
      "ans: [0, 1, 0, 1]  _sum: 19\n",
      "end_judge： 2\n",
      "x： [0, 1, 0, 1]   z： 19  j0： [2]  j1： [3, 0]\n",
      "ans: [1, 0.33333333333333331, 0, 1]  _sum: 19.6666666667\n",
      "end_judge： 0\n",
      "x： [0, 1, 0, 1]   z： 19  j0： [2, 1]  j1： [3, 0]\n",
      "ans: [1, 0, 0, 1]  _sum: 18\n",
      "end_judge： 1\n",
      "x： [0, 1, 0, 1]   z： 19  j0： [2]  j1： [3, 0, 1]\n",
      "ans: [1, 1, 0, 1]  _sum: 23\n",
      "end_judge： 1\n",
      "x： [0, 1, 0, 1]   z： 19  j0： []  j1： [2]\n",
      "ans: [0, 0, 1, 0.66666666666666663]  _sum: 21.3333333333\n",
      "end_judge： 0\n",
      "x： [0, 1, 0, 1]   z： 19  j0： [3]  j1： [2]\n",
      "ans: [1, 0.66666666666666663, 1, 0]  _sum: 19.3333333333\n",
      "end_judge： 0\n",
      "x： [0, 1, 0, 1]   z： 19  j0： [3, 0]  j1： [2]\n",
      "ans: [0, 1, 1, 0]  _sum: 17\n",
      "end_judge： 1\n",
      "x： [0, 1, 0, 1]   z： 19  j0： [3]  j1： [2, 0]\n",
      "ans: [1, 0.66666666666666663, 1, 0]  _sum: 19.3333333333\n",
      "end_judge： 0\n",
      "x： [0, 1, 0, 1]   z： 19  j0： [3, 1]  j1： [2, 0]\n",
      "ans: [1, 0, 1, 0]  _sum: 16\n",
      "end_judge： 1\n",
      "x： [0, 1, 0, 1]   z： 19  j0： [3]  j1： [2, 0, 1]\n",
      "ans: [1, 1, 1, 0]  _sum: 21\n",
      "end_judge： 1\n",
      "x： [0, 1, 0, 1]   z： 19  j0： []  j1： [2, 3]\n",
      "ans: [0, 0, 1, 1]  _sum: 26\n",
      "end_judge： 1\n"
     ]
    }
   ],
   "source": [
    "solve(i,c,a,[],[],data)"
   ]
  },
  {
   "cell_type": "code",
   "execution_count": 20,
   "metadata": {
    "collapsed": false
   },
   "outputs": [
    {
     "data": {
      "text/plain": [
       "{'a': [5, 6, 2, 3],\n",
       " 'b': 9,\n",
       " 'c': [12, 14, 4, 5],\n",
       " 'i': [2, 3, 0, 1],\n",
       " 'n': 4,\n",
       " 'x': [0, 1, 0, 1],\n",
       " 'z': 19}"
      ]
     },
     "execution_count": 20,
     "metadata": {},
     "output_type": "execute_result"
    }
   ],
   "source": [
    "data"
   ]
  }
 ],
 "metadata": {
  "kernelspec": {
   "display_name": "Python 3",
   "language": "python",
   "name": "python3"
  },
  "language_info": {
   "codemirror_mode": {
    "name": "ipython",
    "version": 3
   },
   "file_extension": ".py",
   "mimetype": "text/x-python",
   "name": "python",
   "nbconvert_exporter": "python",
   "pygments_lexer": "ipython3",
   "version": "3.6.0"
  }
 },
 "nbformat": 4,
 "nbformat_minor": 2
}
