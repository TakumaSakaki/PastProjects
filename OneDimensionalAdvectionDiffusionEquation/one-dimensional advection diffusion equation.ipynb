{
 "cells": [
  {
   "cell_type": "markdown",
   "metadata": {},
   "source": [
    "<br><br>\n",
    "<center><span style=\"font-size: 170%\"><b>\n",
    "Parameter Estimation of one-dimensional advection diffusion equation by Monte-Carlo Filter  \n",
    "</b></span></center>\n",
    "<center><span style=\"font-size: 110%\">（モンテカルロフィルタを用いた一次元移流拡散方程式の状態推定）</span></center>"
   ]
  },
  {
   "cell_type": "markdown",
   "metadata": {},
   "source": [
    "\n",
    "<div align=\"right\"><span style=\"font-size: 110%\">2018年7月17日</span></div>\n",
    "<div align=\"right\"><span style=\"font-size: 110%\">03-160973 榊　拓馬</span></div>"
   ]
  },
  {
   "cell_type": "markdown",
   "metadata": {},
   "source": [
    "***"
   ]
  },
  {
   "cell_type": "markdown",
   "metadata": {
    "slideshow": {
     "slide_type": "-"
    }
   },
   "source": [
    "### Overview\n",
    "Objective：Conduct parameter estimation by Monte-Carlo Filter, and confirm its availability<br>\n",
    "Method：For the analyzable one-dimensional advection diffusion equation, estimate the advection velocity $u$ and the diffusion coefficient $D$ by Monte-Carlo Filter\n",
    "\n",
    "###### Contents\n",
    "\n",
    "    1.　Outline of equation and analytical solution\n",
    "    2. Numerical solution and simulation error\n",
    "    3. Formulation of system equations and measurement equations\n",
    "    3. Parameter Estimation by Monte-Carlo Filtering\n",
    "\n",
    "<hr>"
   ]
  },
  {
   "cell_type": "code",
   "execution_count": 1,
   "metadata": {
    "collapsed": true
   },
   "outputs": [],
   "source": [
    "import numpy as np\n",
    "import pandas as pd\n",
    "import matplotlib.pyplot as plt\n",
    "import seaborn as sns\n",
    "plt.style.use('fivethirtyeight')\n",
    "%matplotlib inline\n",
    "from numpy.random import *\n",
    "from decimal import *\n",
    "from tqdm import tqdm"
   ]
  },
  {
   "cell_type": "markdown",
   "metadata": {},
   "source": [
    "### 1.　Outline of equation and analytical solution"
   ]
  },
  {
   "cell_type": "markdown",
   "metadata": {},
   "source": [
    "The one-dimensional advection diffusion equation is below.\n",
    "$$\\frac{\\partial C(x,t)}{\\partial t} + u\\frac{\\partial C(x,t)}{\\partial x} =  D\\frac{\\partial^2 C(x,t)}{\\partial x^2}$$\n",
    "<br>\n",
    "Here, $u$ is advection speed, and $D$ is diffusion coefficient. And in this section, we assume periodic boundary condition $C(x+x_m) = C(x)$."
   ]
  },
  {
   "cell_type": "markdown",
   "metadata": {},
   "source": [
    "Moreover, in this section, I make use of the analytical solution below."
   ]
  },
  {
   "cell_type": "markdown",
   "metadata": {},
   "source": [
    "$$C(x,t)= \\frac{1}{2\\sqrt{\\pi D t}}exp\\{-\\frac{(x-2-ut)^2}{4D t}\\}　$$"
   ]
  },
  {
   "cell_type": "markdown",
   "metadata": {},
   "source": [
    "This is the solution which impulse distribution at $t=0, x=2$ spreads with being advected."
   ]
  },
  {
   "cell_type": "markdown",
   "metadata": {},
   "source": [
    "We define true values and the bounddary like the table below, and set $t=0.01$ as initial condition."
   ]
  },
  {
   "cell_type": "markdown",
   "metadata": {},
   "source": [
    "|Advection speed $u$ |  Diffusion coefficient $D $ | boundary $x_m$ |\n",
    "|:-:|:-:|:-:|\n",
    "|$10m\\dot{} s$  |$1.0m^2\\dot{}s$  |$10m$|"
   ]
  },
  {
   "cell_type": "code",
   "execution_count": 2,
   "metadata": {
    "collapsed": true
   },
   "outputs": [],
   "source": [
    "def Analytical_Solution(x,t, u=10, D=1):\n",
    "    return np.exp(-1 * ((x-2-u * t)**2) / (4 * D * t) ) / (2 * np.sqrt(np.pi * D* t))"
   ]
  },
  {
   "cell_type": "code",
   "execution_count": 3,
   "metadata": {
    "collapsed": false,
    "scrolled": true
   },
   "outputs": [
    {
     "data": {
      "text/plain": [
       "<matplotlib.legend.Legend at 0x110be6fd0>"
      ]
     },
     "execution_count": 3,
     "metadata": {},
     "output_type": "execute_result"
    },
    {
     "data": {
      "image/png": "[encoded data removed]",
      "text/plain": [
       "<matplotlib.figure.Figure at 0x10d84ff98>"
      ]
     },
     "metadata": {},
     "output_type": "display_data"
    }
   ],
   "source": [
    "x = np.linspace(0,10,65)\n",
    "plt.figure(figsize=(8,5))\n",
    "plt.title(\"Analytical Solution\", fontsize = 20)\n",
    "plt.plot(x, Analytical_Solution(x,0.01), linestyle=\"-\", linewidth=4, label=\"t=0.01\")\n",
    "plt.plot(x, Analytical_Solution(x,0.1),  linestyle=\"--\",linewidth=4, label=\"t=0.1\")\n",
    "plt.plot(x, Analytical_Solution(x,0.2),linestyle=\"-.\", linewidth=4, label=\"t=0.2\")\n",
    "plt.plot(x, Analytical_Solution(x,0.3),linestyle=\":\", linewidth=4, label=\"t=0.3\")\n",
    "plt.legend(loc='upper right', fontsize=20)"
   ]
  },
  {
   "cell_type": "markdown",
   "metadata": {},
   "source": [
    "***"
   ]
  },
  {
   "cell_type": "markdown",
   "metadata": {},
   "source": [
    "### 2 Numerical solution and simulation error"
   ]
  },
  {
   "cell_type": "markdown",
   "metadata": {},
   "source": [
    "#### 2.1 Spectrum expression of horizontal direction"
   ]
  },
  {
   "cell_type": "markdown",
   "metadata": {},
   "source": [
    "We calculate the analytical solution by numerical solution using spectrum method, and central difference method is applied to spatial discretization."
   ]
  },
  {
   "cell_type": "markdown",
   "metadata": {},
   "source": [
    "Here the spatial discrete representation of the governing equation is:"
   ]
  },
  {
   "cell_type": "markdown",
   "metadata": {},
   "source": [
    "$$\\frac{\\partial C_i(t)}{\\partial t} + u\\frac{\\partial C_i(t)}{\\partial x} =  D\\frac{\\partial^2 C_i(t)}{\\partial x^2}$$"
   ]
  },
  {
   "cell_type": "markdown",
   "metadata": {},
   "source": [
    "$C_i(t)$ is expanded by spectrum inverse transformation as follows. ($I$: number of grid points in $x$ direction, $K$: cutting wave number)"
   ]
  },
  {
   "cell_type": "markdown",
   "metadata": {},
   "source": [
    "$$C_i(t) = \\sum^{K-1}_{k=0}exp(\\frac{2\\pi ikx_i}{x_m}) \\hat{C_k}$$"
   ]
  },
  {
   "cell_type": "markdown",
   "metadata": {},
   "source": [
    "On the other hand, the spectral coefficient $\\hat{C_k}$ is given by the following spectral transformation."
   ]
  },
  {
   "cell_type": "markdown",
   "metadata": {},
   "source": [
    "$$\\hat{C_k} = \\frac{1}{I}\\sum^{I}_{i=0} exp(-\\frac{2\\pi ikx_i}{x_m}) C_i$$"
   ]
  },
  {
   "cell_type": "markdown",
   "metadata": {},
   "source": [
    "Then, the spectrum expression of governing equation is given as follows."
   ]
  },
  {
   "cell_type": "markdown",
   "metadata": {},
   "source": [
    "$$\\frac{\\partial \\hat{C_k}}{\\partial t} =  -u（\\frac{2\\pi ik}{x_m}）\\hat{C_k} +  D{(\\frac{2\\pi ik}{x_m})}^2\\hat{C_k}$$"
   ]
  },
  {
   "cell_type": "markdown",
   "metadata": {},
   "source": [
    "#### 2.2 Discretization in time direction"
   ]
  },
  {
   "cell_type": "markdown",
   "metadata": {},
   "source": [
    "To discretize time direction, we applied Adams-Bashforth+Crank-Nicholson method (but only for the first step, we used Euler method)"
   ]
  },
  {
   "cell_type": "markdown",
   "metadata": {},
   "source": [
    "###### <u>2.2.1　Euler method</u>\n",
    "By discretizing the above equation in the time direction using the Eular scheme, it is expressed as follows."
   ]
  },
  {
   "cell_type": "markdown",
   "metadata": {},
   "source": [
    "$$\\hat{C^{\\tau+1}_k} = \\hat{C^\\tau_k} + \\Delta t \\{-u（\\frac{2\\pi ik}{x_m}）\\hat{C^\\tau_k} +  D{(\\frac{2\\pi ik}{x_m})}^2\\hat{C^\\tau_k} \\} $$"
   ]
  },
  {
   "cell_type": "markdown",
   "metadata": {},
   "source": [
    "###### <u>2.2.2 Adams-Bashforth+Crank-Nicholson method </u>\n",
    "If using Adams-Bashforth method to the advection term and Crank-Nicholson method to the diffusion term, the equation is expressed as follows."
   ]
  },
  {
   "cell_type": "markdown",
   "metadata": {},
   "source": [
    "$$  \\{ 1 - \\frac{D\\Delta t}{2}(\\frac{2\\pi ik}{x_m})^2) \\} \\hat{C^{\\tau+1}_k}  =\\hat{C^\\tau_k} - \\frac{u \\Delta t}{2}(\\frac{2\\pi ik}{x_m})(3\\hat{C^{\\tau}_k}-\\hat{C^{\\tau-1}_k}) + \\frac{D \\Delta t}{2} (\\frac{2\\pi ik}{x_m})^2 \\hat{C^{\\tau}_k}$$"
   ]
  },
  {
   "cell_type": "markdown",
   "metadata": {},
   "source": [
    "#### 2.3　Numerical Analysis"
   ]
  },
  {
   "cell_type": "markdown",
   "metadata": {},
   "source": [
    "Here, we conduct numerical analysis, defining some variables as below."
   ]
  },
  {
   "cell_type": "markdown",
   "metadata": {},
   "source": [
    "|time interval $\\Delta t$ | the number of grid points $I$　|the number of cutting waves $K$| \n",
    "|:-:|:-:|:-:|\n",
    "|$0.001s $ | $64$| $64$ |"
   ]
  },
  {
   "cell_type": "code",
   "execution_count": 4,
   "metadata": {
    "collapsed": false
   },
   "outputs": [
    {
     "data": {
      "text/plain": [
       "[<matplotlib.lines.Line2D at 0x110ef7278>]"
      ]
     },
     "execution_count": 4,
     "metadata": {},
     "output_type": "execute_result"
    },
    {
     "data": {
      "image/png": "[encoded data removed]",
      "text/plain": [
       "<matplotlib.figure.Figure at 0x110c1e4e0>"
      ]
     },
     "metadata": {},
     "output_type": "display_data"
    }
   ],
   "source": [
    "#各変数の設定\n",
    "x_m = 10.0\n",
    "I = 64\n",
    "K = I\n",
    "true_u = 10\n",
    "true_D = 1.0\n",
    "x = np.linspace(0, x_m, I+1, dtype='f16')[:-1]\n",
    "dt = 0.001\n",
    "\n",
    "#解\n",
    "ans = pd.DataFrame(None)\n",
    "ans['Time'] = np.arange(0.01, 0.3101, dt)\n",
    "C_hats = np.empty([len(ans), K], dtype='c32')\n",
    "\n",
    "#オイラー法ステップ\n",
    "def Step(C_hat, u, D, dt =0.0001, x_m=5.0):\n",
    "    newC_hat = np.empty(len(C_hat), dtype='c32')\n",
    "    p = (1/x_m)*2*np.pi*1j* np.arange(len(C_hat))\n",
    "    newC_hat = C_hat + dt*(-1*u*p*C_hat + D*(p**2)*C_hat)\n",
    "    return newC_hat\n",
    "\n",
    "#Adams-Bashforth+Crank-Nicholsonスキーム\n",
    "def AC_Step(C_hat, C_hat_1, u, D, dt =0.0001, x_m=5.0):\n",
    "    newC_hat = np.empty(len(C_hat), dtype='c32')\n",
    "    p = (1/x_m)*2*np.pi*1j* np.arange(len(C_hat))\n",
    "    newC_hat = (1/(1-D*dt*(p**2)/2))*(C_hat - u*dt*p*(3*C_hat-C_hat_1)/2+D*dt*(p**2)*C_hat/2)\n",
    "    return newC_hat\n",
    "\n",
    "#初期値はt=0.01\n",
    "C0 = Analytical_Solution(x,0.01, u=true_u, D=true_D)\n",
    "C_hats[0] = np.fft.fft(C0, n=K)\n",
    "\n",
    "#計算\n",
    "for i in range(0, len(ans)-1):\n",
    "    if(i==0):\n",
    "        C_hats[i+1] = Step(C_hats[i], true_u, true_D, dt, x_m)\n",
    "    else:\n",
    "        C_hats[i+1] = AC_Step(C_hats[i], C_hats[i-1], true_u, true_D, dt, x_m)\n",
    "\n",
    "#結果格納\n",
    "tmp = pd.DataFrame(C_hats)\n",
    "ans = pd.concat([ans, tmp], axis=1)\n",
    "ans.set_index('Time', inplace=True)\n",
    "\n",
    "#t=0.1, 0.2, 0.3を逆rfftで復元\n",
    "C1 = np.fft.irfft(np.array(ans[0.1:0.1+dt]), n=I)[0]\n",
    "C2 = np.fft.irfft(np.array(ans[0.2:0.2+dt]),n=I)[0]\n",
    "C3 = np.fft.irfft(np.array(ans[0.3- dt/2:]), n=I)[0]\n",
    "\n",
    "plt.plot(x, C1,linewidth=4)\n",
    "plt.plot(x, Analytical_Solution(x,0.1),  linestyle=\"--\",linewidth=4, label=\"True\")\n",
    "plt.plot(x, C2,linewidth=4)\n",
    "plt.plot(x, Analytical_Solution(x,0.2),  linestyle=\"--\",linewidth=4, label=\"True\")\n",
    "plt.plot(x, C3,linewidth=4)\n",
    "plt.plot(x, Analytical_Solution(x,0.3),  linestyle=\"--\",linewidth=4, label=\"True\")"
   ]
  },
  {
   "cell_type": "markdown",
   "metadata": {},
   "source": [
    "In this graph, the solid lines are the result of numerical solution, and the dotted lines are that of analytical solution at t=0.1, 0.2 or 0.3. So this graph shows the correspondence of the results."
   ]
  },
  {
   "cell_type": "markdown",
   "metadata": {},
   "source": [
    "#### 2.4 Evaluation of Simulation Error"
   ]
  },
  {
   "cell_type": "markdown",
   "metadata": {},
   "source": [
    "Here, we write observation values as $y^\\tau_i$, and check the distribution of model error : $y^\\tau_i - C^\\tau_i$. In order to calculate likelihood of observation in Monte-Carlo Filtering, it is preferable that we can regard this error term as i.i.d sample from any distribution."
   ]
  },
  {
   "cell_type": "code",
   "execution_count": 5,
   "metadata": {
    "collapsed": false
   },
   "outputs": [
    {
     "data": {
      "text/plain": [
       "<matplotlib.text.Text at 0x111000208>"
      ]
     },
     "execution_count": 5,
     "metadata": {},
     "output_type": "execute_result"
    },
    {
     "data": {
      "image/png": "[encoded data removed]",
      "text/plain": [
       "<matplotlib.figure.Figure at 0x1096496d8>"
      ]
     },
     "metadata": {},
     "output_type": "display_data"
    }
   ],
   "source": [
    "error = np.empty([len(ans), I])\n",
    "for i in range(len(ans)):\n",
    "    time = 0.01 + i*dt\n",
    "    y = Analytical_Solution(x,time, u=true_u, D=true_D)\n",
    "    c = np.fft.irfft(np.array(ans[time - 0.0005: time+0.0005]), n=I)[0]\n",
    "    error[i] = y - c\n",
    "error = error.T\n",
    "#i = 0における誤差の分布\n",
    "plt.plot(error[32])\n",
    "plt.xlabel(\"Time\")\n",
    "plt.ylabel(\"Error\")\n",
    "plt.title(\"Error at x = 5.0m\")"
   ]
  },
  {
   "cell_type": "code",
   "execution_count": 6,
   "metadata": {
    "collapsed": false
   },
   "outputs": [
    {
     "data": {
      "text/plain": [
       "<matplotlib.text.Text at 0x11106eb38>"
      ]
     },
     "execution_count": 6,
     "metadata": {},
     "output_type": "execute_result"
    },
    {
     "data": {
      "image/png": "[encoded data removed]",
      "text/plain": [
       "<matplotlib.figure.Figure at 0x10d84f978>"
      ]
     },
     "metadata": {},
     "output_type": "display_data"
    }
   ],
   "source": [
    "#i = 0における誤差の分布\n",
    "plt.plot(error[48])\n",
    "plt.xlabel(\"Time\")\n",
    "plt.ylabel(\"Error\")\n",
    "plt.title(\"Error at x = 7.5m\")"
   ]
  },
  {
   "cell_type": "markdown",
   "metadata": {},
   "source": [
    "However, it's difficult to regard as i.i.d samples because the errors are very systematic. Then, we try to calculate the likelihood from the distribution of MAE. (We can substitute other indicators such as MSE, but we will use MAE with relatively small influence of outliers)"
   ]
  },
  {
   "cell_type": "code",
   "execution_count": 8,
   "metadata": {
    "collapsed": false
   },
   "outputs": [
    {
     "data": {
      "image/png": "[encoded data removed]",
      "text/plain": [
       "<matplotlib.figure.Figure at 0x11121d4e0>"
      ]
     },
     "metadata": {},
     "output_type": "display_data"
    }
   ],
   "source": [
    "def mae(e):\n",
    "    return np.sum(np.abs(e)) / len(e)\n",
    "\n",
    "mae_s = np.empty(len(ans))\n",
    "for i in range(len(ans)):\n",
    "    time = 0.01 + i*dt\n",
    "    y = Analytical_Solution(x,time, u=true_u, D=true_D)\n",
    "    c = np.fft.irfft(np.array(ans[time - 0.0005: time+0.0005]), n=I)[0]\n",
    "    e = y - c\n",
    "    mae_s[i] = mae(e)\n",
    "plt.hist(mae_s, bins = 20)\n",
    "plt.title(\"Histgram of MAE\")\n",
    "plt.show()"
   ]
  },
  {
   "cell_type": "markdown",
   "metadata": {},
   "source": [
    "Although it becomes somewhat arbitrary here, 0 to 0.0004 is divided into 10 classes, and its frequency / total number is regarded as the realization probability that the model error & observation error is included in the class. Also, in deriving the probability density function  $f_ {MAE} (x) $, we assume $ f_ {MAE}(x> 0.001) = 0 $ because $ max(MAE) \\approx 0.00086 $. In actual applied research, since it is not known the true value, it is important to note that evaluation of this error distribution is very difficult and important."
   ]
  },
  {
   "cell_type": "code",
   "execution_count": 9,
   "metadata": {
    "collapsed": false
   },
   "outputs": [
    {
     "data": {
      "text/plain": [
       "<matplotlib.text.Text at 0x1114fd240>"
      ]
     },
     "execution_count": 9,
     "metadata": {},
     "output_type": "execute_result"
    },
    {
     "data": {
      "image/png": "[encoded data removed]",
      "text/plain": [
       "<matplotlib.figure.Figure at 0x1114006d8>"
      ]
     },
     "metadata": {},
     "output_type": "display_data"
    }
   ],
   "source": [
    "dosuu = np.zeros(11)\n",
    "for mae in mae_s:\n",
    "    for j in range(10):\n",
    "        high = 0.00004 * (j+1)\n",
    "        if mae < high:\n",
    "            dosuu[j] += 1\n",
    "            break\n",
    "        if j == 9:\n",
    "            dosuu[10] += 1\n",
    "\n",
    "dosuu = dosuu/dosuu.sum()\n",
    "for i in range(10):\n",
    "    dosuu[i] = dosuu[i] / 0.00004\n",
    "dosuu[10] = dosuu[10] / (0.001-0.0004)\n",
    "\n",
    "def f_mae(mae):\n",
    "    dosuu = np.array([83.05647841, 17524.91694352, 3737.54152824, 1411.96013289, 830.56478405, 332.22591362\n",
    "                      , 166.11295681, 166.11295681, 249.16943522, 0. , 33.22259136])\n",
    "    if mae > 0.001:\n",
    "        return 0.0000000000000000001\n",
    "    for i in range(10):\n",
    "        high = 0.00004  * (i + 1)\n",
    "        if mae < high:\n",
    "            return dosuu[i]\n",
    "    return dosuu[10]\n",
    "\n",
    "array_f_mae = np.frompyfunc(f_mae,1,1)\n",
    "\n",
    "x = np.linspace(0,0.0011,10000)\n",
    "plt.plot(x,array_f_mae(x))\n",
    "plt.xlabel(\"MAE\")\n",
    "plt.ylabel(\"Probability\")\n",
    "plt.title(\"Estimated PDF of MAE\")"
   ]
  },
  {
   "cell_type": "markdown",
   "metadata": {},
   "source": [
    "### 3. Formulation of space state model"
   ]
  },
  {
   "cell_type": "markdown",
   "metadata": {},
   "source": [
    "#### 3.1 Self-organizing"
   ]
  },
  {
   "cell_type": "markdown",
   "metadata": {},
   "source": [
    "Based on the above results, we formulate a state space model. First, for each parameter, state as follows according to Liu and West (2001)."
   ]
  },
  {
   "cell_type": "markdown",
   "metadata": {},
   "source": [
    "$$p(\\theta_{t+1}|\\theta_t) ∼ N(a\\theta_t + (1 − a)\\overline{\\theta_t}, h^2V_t)$$"
   ]
  },
  {
   "cell_type": "markdown",
   "metadata": {},
   "source": [
    "$\\overline{θ_t}$ is the average of the particle values presented as $θ_t$. $V_t$ is the variance, and $h^2 =1-a^2 $, $ a =(3δ_l-1) / 2 δ_l$. Here, $ δ_l = (0, 1] $, and $ δ_l = 0.97 $ is applied."
   ]
  },
  {
   "cell_type": "markdown",
   "metadata": {},
   "source": [
    "#### 3.2 Model Equations"
   ]
  },
  {
   "cell_type": "markdown",
   "metadata": {},
   "source": [
    "Self-organizing, and let the state variables in the one-dimensional advection diffusion equation be $ u_\\tau, D_\\tau, \\hat{C ^ \\tau_k} (k = 0, 1, ..., 63) $. Furthermore, we treat the actual observed value $ y^\\tau_i $ as an observation series. And the mean absolute error of observation error $\\epsilon^{\\tau}_i $, ${mae}_{\\tau}$ is obtained by $ f_{MAE} $ which we defined previous chapter. At this time, the model equation can be written as follows."
   ]
  },
  {
   "cell_type": "markdown",
   "metadata": {},
   "source": [
    "<b>3.2.1 System Equation</b>"
   ]
  },
  {
   "cell_type": "markdown",
   "metadata": {},
   "source": [
    "$$D_\\tau \\sim N(aD_{\\tau-1} + (1 − a)\\overline{D_{\\tau-1}}, h^2V_{\\tau - 1}) $$\n",
    "$$u_\\tau \\sim N(au_{\\tau-1} + (1 − a)\\overline{u_{\\tau-1}}, h^2V_{\\tau - 1}) $$\n",
    "<br>\n",
    "$$ h^2 = 0.1418756775, a = 0.92635$$\n",
    "<br>\n",
    "when $\\tau=0$,\n",
    "$$\\hat{C^{\\tau}_k} = \\hat{C^{\\tau-1}_k} + \\Delta t \\{-u_{\\tau-1}（\\frac{2\\pi ik}{x_m}）\\hat{C^{\\tau-1}_k} +  D_{\\tau-1}{(\\frac{2\\pi ik}{x_m})}^2\\hat{C^{\\tau-1}_k} \\}$$\n",
    "when $\\tau \\geqq 1$,\n",
    "$$  \\{ 1 - \\frac{D_{\\tau-1}\\Delta t}{2}(\\frac{2\\pi ik}{x_m})^2) \\} \\hat{C^{\\tau+1}_k}  =\\hat{C^\\tau_k} - \\frac{u_{\\tau-1}\\Delta t}{2}(\\frac{2\\pi ik}{x_m})(3\\hat{C^{\\tau}_k}-\\hat{C^{\\tau-1}_k}) + \\frac{D_{\\tau-1} \\Delta t}{2} (\\frac{2\\pi ik}{x_m})^2 \\hat{C^{\\tau}_k}$$\n"
   ]
  },
  {
   "cell_type": "markdown",
   "metadata": {},
   "source": [
    "<b>3.2.2. Measurement Equation</b>"
   ]
  },
  {
   "cell_type": "markdown",
   "metadata": {},
   "source": [
    "<b>Measurement Equation</b>"
   ]
  },
  {
   "cell_type": "markdown",
   "metadata": {},
   "source": [
    "$$ y^{\\tau}_i = C_i(t) + \\epsilon^{\\tau}_i  $$"
   ]
  },
  {
   "cell_type": "markdown",
   "metadata": {},
   "source": [
    "where\n",
    "$$C_i(t) = \\sum^{K-1}_{k=0}exp(\\frac{2\\pi ikx_i}{x_m}) \\hat{C_k}$$\n",
    "$${mae}_\\tau = \\frac{1}{I}  \\sum_{i=0}^{I} | \\epsilon^{\\tau}_i | \\sim f_{MAE} $$"
   ]
  },
  {
   "cell_type": "markdown",
   "metadata": {},
   "source": [
    "<b>3.2.3 Initial Condition</b>"
   ]
  },
  {
   "cell_type": "markdown",
   "metadata": {},
   "source": [
    "Let us assume that advance information is given to some extent for each coefficient range, and let $  u_0 \\sim Uniform(3, 20) $, $ D_0 \\sim Uniform (0.5, 2) $. Also assume that $ C_k^0 (k = 0, ..., 63) $ gets a true value. We generate 10000 particles here."
   ]
  },
  {
   "cell_type": "markdown",
   "metadata": {},
   "source": [
    "### 4. Parameter Estimation by Monte-Carlo Filtering"
   ]
  },
  {
   "cell_type": "code",
   "execution_count": 14,
   "metadata": {
    "collapsed": false
   },
   "outputs": [
    {
     "name": "stderr",
     "output_type": "stream",
     "text": [
      "100%|██████████| 50/50 [00:51<00:00,  1.03s/it]\n"
     ]
    }
   ],
   "source": [
    "#各変数の設定\n",
    "x_m = 10.0\n",
    "I = 64\n",
    "K = I\n",
    "true_u = 10\n",
    "true_D = 1.0\n",
    "x = np.linspace(0, x_m, I+1, dtype='f16')[:-1]\n",
    "dt = 0.001\n",
    "total_step = 50\n",
    "m = 10000\n",
    "\n",
    "#初期値\n",
    "u_0 = np.random.uniform(3,20,m)\n",
    "D_0 = np.random.uniform(0.5,2,m)\n",
    "C_hat_0 = np.fft.fft(Analytical_Solution(x,0.01, u=true_u, D=true_D), n=K)\n",
    "#粒子の格納\n",
    "C_hats = np.empty([m, K], dtype='c32')\n",
    "C_hats_1 = np.empty([m,K], dtype='c32')\n",
    "sim_u = np.empty([total_step+1, len(u_0)])\n",
    "sim_D = np.empty([total_step+1, len(u_0)])\n",
    "for i in range(m):\n",
    "    C_hats_1[i] = C_hat_0\n",
    "sim_u[0] = u_0\n",
    "sim_D[0] = D_0\n",
    "\n",
    "#パラメータのシステム方程式\n",
    "def system_equation(param_samples):\n",
    "    \n",
    "    a = 0.92635\n",
    "    h2=0.1418756775\n",
    "    v = h2 * param_samples.var()\n",
    "    mu = param_samples.mean()\n",
    "    new_samples = np.empty(len(param_samples))\n",
    "    for i in range(len(param_samples)):\n",
    "        x = a * param_samples[i] + (1 - a) * mu\n",
    "        new_samples[i] = np.random.normal(x, v)\n",
    "    \n",
    "    return new_samples\n",
    "\n",
    "#C_hatのシステム方程式：　オイラースキーム\n",
    "def Euler_Step(C_hat, u, D, dt =0.0001, x_m=5.0):\n",
    "    newC_hat = np.empty(len(C_hat), dtype='c32')\n",
    "    p = (1/x_m)*2*np.pi*1j* np.arange(len(C_hat))\n",
    "    newC_hat = C_hat + dt*(-1*u*p*C_hat + D*(p**2)*C_hat)\n",
    "    return newC_hat\n",
    "\n",
    "#C_hatのシステム方程式：　Adams-Bashforth+Crank-Nicholsonスキーム\n",
    "def AC_Step(C_hat, C_hat_1, u, D, dt =0.0001, x_m=5.0):\n",
    "    newC_hat = np.empty(len(C_hat), dtype='c32')\n",
    "    p = (1/x_m)*2*np.pi*1j* np.arange(len(C_hat))\n",
    "    newC_hat = (1/(1-D*dt*(p**2)/2))*(C_hat - u*dt*p*(3*C_hat-C_hat_1)/2+D*dt*(p**2)*C_hat/2)\n",
    "    return newC_hat\n",
    "\n",
    "\n",
    "#尤度の計算\n",
    "#C_hats_samples = [C_hats_sample1, ..., C_hats_sample10000]\n",
    "def obs_L(C_hats_samples, step):\n",
    "    def MAE(e):\n",
    "        return np.sum(np.abs(e)) / len(e)\n",
    "    \n",
    "    w = np.empty(len(C_hats_samples))\n",
    "    time = 0.01 + step*dt\n",
    "    y = Analytical_Solution(x,time, u=true_u, D=true_D)\n",
    "    for i in range(len(C_hats_samples)):\n",
    "        c = np.fft.irfft(C_hats_samples[i], n=I)\n",
    "        mae = MAE(y - c)\n",
    "        w[i] = f_mae(mae)\n",
    "        \n",
    "    return w\n",
    "\n",
    "def Resampling(w, C_hats, C_hats_1, sim_u_t, sim_D_t):\n",
    "    \n",
    "    new_C_hats = np.empty([m, K], dtype='c32')\n",
    "    new_C_hats_1 = np.empty([m, K], dtype='c32')\n",
    "    new_sim_u_t = np.empty(m)\n",
    "    new_sim_D_t = np.empty(m)\n",
    "    \n",
    "    u_t = rand(m)\n",
    "    w = w / np.sum(w)\n",
    "    w = w.cumsum()\n",
    "\n",
    "    for i in range(m):\n",
    "        u = u_t[i]\n",
    "        j = np.where(w > u)[0][0]\n",
    "\n",
    "        new_C_hats[i] = C_hats[j]\n",
    "        new_C_hats_1[i] = C_hats_1[j]\n",
    "        new_sim_u_t[i] = sim_u_t[j]\n",
    "        new_sim_D_t[i] = sim_D_t[j]\n",
    "\n",
    "    return new_C_hats, new_C_hats_1, new_sim_u_t, new_sim_D_t\n",
    "\n",
    "\n",
    "#Total Calculation\n",
    "for t in tqdm(range(0, total_step)):\n",
    "\n",
    "    #Update Variables\n",
    "    for i in range(m):\n",
    "        if(t==0):\n",
    "            C_hats[i] = Euler_Step(C_hats_1[i], sim_u[t][i], sim_D[t][i], dt, x_m)\n",
    "        else:\n",
    "            tmp = C_hats[i]\n",
    "            C_hats[i] = AC_Step(C_hats[i], C_hats_1[i], sim_u[t][i], sim_D[t][i], dt, x_m)\n",
    "            C_hats_1[i] = tmp\n",
    "    sim_u[t+1] = system_equation(sim_u[t])\n",
    "    sim_D[t+1] = system_equation(sim_D[t])\n",
    "\n",
    "    #Likelihood\n",
    "    w = obs_L(C_hats, t+1)\n",
    "    \n",
    "    #Resampling -- with high speed1\n",
    "    C_hats, C_hats_1, sim_u[t+1], sim_D[t+1] = Resampling(w, C_hats, C_hats_1, sim_u[t+1], sim_D[t+1])"
   ]
  },
  {
   "cell_type": "code",
   "execution_count": 15,
   "metadata": {
    "collapsed": false,
    "scrolled": false
   },
   "outputs": [
    {
     "name": "stdout",
     "output_type": "stream",
     "text": [
      "Estimated Value of Parameter u(truth =10)：　 9.9219544226\n",
      "Estimated Value of Parameter D(truth =1.0)：　 1.03194534837\n"
     ]
    },
    {
     "data": {
      "image/png": "[encoded data removed]",
      "text/plain": [
       "<matplotlib.figure.Figure at 0x116e3bd68>"
      ]
     },
     "metadata": {},
     "output_type": "display_data"
    }
   ],
   "source": [
    "#結果の表示\n",
    "Per_CI=0.95\n",
    "    \n",
    "T = total_step\n",
    "num_variables = 2\n",
    "m = 10000   #mは粒子の個数\n",
    "ave_x = np.full([T+1,num_variables], 100, dtype=np.float)\n",
    "mid_x = np.full([T+1,num_variables], 100, dtype=np.float)\n",
    "lower_CI = np.full([T+1,num_variables], 100, dtype=np.float)\n",
    "upper_CI = np.full([T+1,num_variables], 100, dtype=np.float)\n",
    "low = int(m * (1- Per_CI) / 2) - 1\n",
    "high = int(m - low) - 1\n",
    "\n",
    "for t in range(T+1):\n",
    "    u_t = sim_u[t]\n",
    "    D_t = sim_D[t]\n",
    "    for k in range(num_variables):\n",
    "        if k == 0:\n",
    "            x_t = np.sort(u_t)\n",
    "        else:\n",
    "            x_t = np.sort(D_t)\n",
    "            \n",
    "        ave_x[t][k] = np.average(x_t)\n",
    "        mid_x[t][k] = np.median(x_t)\n",
    "        lower_CI[t][k] = x_t[low]\n",
    "        upper_CI[t][k] = x_t[high]\n",
    "        \n",
    "print(\"Estimated Value of Parameter u(truth =10)：　\",sim_u[50].mean())\n",
    "print(\"Estimated Value of Parameter D(truth =1.0)：　\",sim_D[50].mean())\n",
    "\n",
    "#結果のプロット\n",
    "plt.figure(figsize=(6,num_variables*4))\n",
    "plt.subplots_adjust(hspace=0.5)\n",
    "for k in range(num_variables):\n",
    "    plt.subplot(num_variables,1,k+1)\n",
    "\n",
    "    if k == 0:\n",
    "        plt.title(\"Estimation of u\")\n",
    "        plt.plot(np.full(T+1,10, dtype=np.float), color = 'green', linewidth=2, label=\"true-state\")\n",
    "    else:\n",
    "        plt.title(\"Estimation of D\")\n",
    "        plt.plot(np.full(T+1,1, dtype=np.float), color = 'green', linewidth=2, label=\"true-state\")\n",
    "    plt.plot(ave_x.T[k], color = 'red', linewidth=2, label=\"estimated-state\")\n",
    "    plt.plot(upper_CI.T[k],'--', color = 'red', linewidth=2, label=\"upper-CI\")\n",
    "    plt.plot(lower_CI.T[k], '--', color = 'red', linewidth=2, label=\"lower-CI\")\n",
    "    plt.xlabel(\"Time\")\n",
    "    plt.legend(loc='upper right', bbox_to_anchor=(1.05,0.5,0.5,.100), borderaxespad=0.)\n",
    "\n",
    "plt.show()"
   ]
  },
  {
   "cell_type": "markdown",
   "metadata": {},
   "source": [
    "### Summary"
   ]
  },
  {
   "cell_type": "markdown",
   "metadata": {},
   "source": [
    "The convergence speed of parameter estimation is very fast, and parameter estimation can be performed sequentially with effective accuracy. \n",
    "On the other hand, in order to obtain higher accuracy, it would be effective to lower the convergence speed of the parameters (scatter with MCMC etc.) or to estimate the error distribution more accurately."
   ]
  }
 ],
 "metadata": {
  "kernelspec": {
   "display_name": "Python 3",
   "language": "python",
   "name": "python3"
  },
  "language_info": {
   "codemirror_mode": {
    "name": "ipython",
    "version": 3
   },
   "file_extension": ".py",
   "mimetype": "text/x-python",
   "name": "python",
   "nbconvert_exporter": "python",
   "pygments_lexer": "ipython3",
   "version": "3.6.0"
  }
 },
 "nbformat": 4,
 "nbformat_minor": 2
}
