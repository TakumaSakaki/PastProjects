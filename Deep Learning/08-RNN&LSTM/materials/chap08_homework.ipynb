{
 "cells": [
  {
   "cell_type": "markdown",
   "metadata": {},
   "source": [
    "# 第8回講義 宿題"
   ]
  },
  {
   "cell_type": "markdown",
   "metadata": {},
   "source": [
    "## 課題\n",
    "RNNを用いてIMDbのsentiment analysisを実装してみましょう。\n",
    "\n",
    "ネットワークの形などは特に制限を設けませんし、今回のLessonで扱った内容以外の工夫も組み込んでもらって構いません。"
   ]
  },
  {
   "cell_type": "markdown",
   "metadata": {},
   "source": [
    "## 目標値\n",
    "F値：0.9"
   ]
  },
  {
   "cell_type": "markdown",
   "metadata": {},
   "source": [
    "## ルール\n",
    "- 以下のセルで指定されている`x_train, t_train`以外の学習データは使わないでください。"
   ]
  },
  {
   "cell_type": "markdown",
   "metadata": {},
   "source": [
    "## 提出方法\n",
    "- 2つのファイルを提出していただきます。\n",
    "  1. テストデータ (x_test) に対する予測ラベルを`submission_pred.csv`として保存し、Homeworkタブから**chap08**を選択して提出してください。\n",
    "  2. それに対応するpythonのコードを`submission_code.py`として保存し、Homeworkタブから**chap08 (code)**を選択して提出してください。\n",
    "    - セルに書いたコードを.py形式で保存するためには%%writefileコマンドなどを利用してください。\n",
    "    - writefileコマンドではファイルの保存のみが行われセル内のpythonコード自体は実行されません。そのため、実際にコードを走らせる際にはwritefileコマンドをコメントアウトしてください\n",
    "\n",
    "\n",
    "- コードの内容を変更した場合は、1と2の両方を提出し直してください。\n",
    "\n",
    "- なお、採点は1で行い、2はコードの確認用として利用します。(成績優秀者はコード内容を公開させていただくかもしれません。)\n",
    "\n",
    "- **宿題の締め切りは【出題週の翌週水曜日24時】です。**"
   ]
  },
  {
   "cell_type": "markdown",
   "metadata": {},
   "source": [
    "## 評価方法\n",
    "\n",
    "- 予測ラベルの（`t_test`に対する）F値で評価します。\n",
    "- 毎日24時にテストデータの一部に対するF値でLeader Boardを更新します。\n",
    "- 締切日の夜24時にテストデータ全体に対するF値でLeader Boardを更新します。これを最終的な評価とします。"
   ]
  },
  {
   "cell_type": "markdown",
   "metadata": {},
   "source": [
    "## データの読み込み（このセルは修正しないでください）"
   ]
  },
  {
   "cell_type": "code",
   "execution_count": 1,
   "metadata": {},
   "outputs": [],
   "source": [
    "import numpy as np\n",
    "\n",
    "def load_dataset():\n",
    "    # 学習データ\n",
    "    x_train = np.load('../data/x_train.npy')\n",
    "    t_train = np.load('../data/t_train.npy')\n",
    "    \n",
    "    # テストデータ\n",
    "    x_test = np.load('../data/x_test.npy')\n",
    "\n",
    "    return (x_train, x_test, t_train)\n",
    "\n",
    "x_train, x_test, t_train = load_dataset()"
   ]
  },
  {
   "cell_type": "markdown",
   "metadata": {},
   "source": [
    "## 実装"
   ]
  },
  {
   "cell_type": "code",
   "execution_count": null,
   "metadata": {
    "collapsed": true
   },
   "outputs": [],
   "source": [
    "%%writefile /root/userspace/chap08/materials/submission_code.py\n",
    "import tensorflow as tf\n",
    "from sklearn.model_selection import train_test_split\n",
    "from sklearn.metrics import f1_score\n",
    "from tensorflow.keras.preprocessing.sequence import pad_sequences\n",
    "\n",
    "\n",
    "### レイヤー定義 ###\n",
    "class Embedding:\n",
    "    def __init__(self, vocab_size, emb_dim, scale=0.08):\n",
    "        self.V = tf.Variable(tf.random_normal([vocab_size, emb_dim], stddev=scale), name='V')\n",
    "\n",
    "    def __call__(self, x):\n",
    "        return tf.nn.embedding_lookup(self.V, x)\n",
    "    \n",
    "class LSTM:\n",
    "    def __init__(self, hid_dim, seq_len = None, initial_state = None):\n",
    "        self.cell = tf.nn.rnn_cell.BasicLSTMCell(hid_dim)\n",
    "        self.initial_state = initial_state\n",
    "        self.seq_len = seq_len\n",
    "\n",
    "    def __call__(self, x):\n",
    "        if self.initial_state is None:\n",
    "            self.initial_state = self.cell.zero_state(tf.shape(x)[0], tf.float32)\n",
    "            \n",
    "        outputs, state = tf.nn.dynamic_rnn(self.cell, x, self.seq_len, self.initial_state)\n",
    "        return tf.gather_nd(outputs, tf.stack([tf.range(tf.shape(x)[0]), self.seq_len-1], axis=1))\n",
    "\n",
    "\n",
    "### グラフ構築 ###\n",
    "tf.reset_default_graph()\n",
    "\n",
    "emb_dim = 100\n",
    "hid_dim = 50\n",
    "num_words = max([max(s) for s in np.hstack((x_train, x_test))])\n",
    "pad_index = 0\n",
    "\n",
    "x = tf.placeholder(tf.int32, [None, None], name='x')\n",
    "t = tf.placeholder(tf.float32, [None, None], name='t')\n",
    "\n",
    "seq_len = tf.reduce_sum(tf.cast(tf.not_equal(x, pad_index), tf.int32), axis=1)\n",
    "\n",
    "h = Embedding(num_words, emb_dim)(x)\n",
    "h = LSTM(emb_dim, hid_dim, seq_len)(h)\n",
    "y = tf.layers.Dense(1, tf.nn.sigmoid)(h)\n",
    "cost = -tf.reduce_mean(t*tf_log(y) + (1 - t)*tf_log(1 - y))\n",
    "train = tf.train.AdamOptimizer().minimize(cost)\n",
    "test = tf.round(y)\n",
    "\n",
    "### データの準備 ###\n",
    "x_train, x_valid, t_train, t_valid = train_test_split(x_train, t_train)\n",
    "\n",
    "### 学習 ###\n",
    "n_epochs = 1\n",
    "batch_size = 1 # バッチサイズが大きいと、ResourceExhaustedErrorになることがあります\n",
    "\n",
    "init = tf.global_variables_initializer()\n",
    "\n",
    "with tf.Session() as sess:\n",
    "    # WRITE ME\n",
    "    \n",
    "### 出力 ###\n",
    "submission = pd.Series(y_pred, name='label')\n",
    "submission.to_csv('/root/userspace/chap08/materials/submission_pred.csv', header=True, index_label='id')"
   ]
  }
 ],
 "metadata": {
  "kernelspec": {
   "display_name": "Python 3",
   "language": "python",
   "name": "python3"
  },
  "language_info": {
   "codemirror_mode": {
    "name": "ipython",
    "version": 3
   },
   "file_extension": ".py",
   "mimetype": "text/x-python",
   "name": "python",
   "nbconvert_exporter": "python",
   "pygments_lexer": "ipython3",
   "version": "3.7.2"
  }
 },
 "nbformat": 4,
 "nbformat_minor": 2
}
