{
 "cells": [
  {
   "cell_type": "markdown",
   "metadata": {},
   "source": [
    "# 第9回講義 宿題"
   ]
  },
  {
   "cell_type": "markdown",
   "metadata": {},
   "source": [
    "## 課題\n",
    "RNN Encoder-Decoderにより高精度な英日翻訳器を実装してみましょう。\n",
    "\n",
    "ネットワークの形などは特に制限を設けませんし、今回のLessonで扱った内容以外の工夫も組み込んでもらって構いません。"
   ]
  },
  {
   "cell_type": "markdown",
   "metadata": {},
   "source": [
    "## 目標値\n",
    "BLEU：0.15"
   ]
  },
  {
   "cell_type": "markdown",
   "metadata": {},
   "source": [
    "## ルール\n",
    "- 以下のセルで指定されている`x_train, t_train`以外の学習データは使わないでください。\n",
    "- `tokenizer_en, tokenizer_ja`は講義時と同様に`tensorflow.keras.preprocessing.text.Tokenizer`で英文と和文を指定したものになります。"
   ]
  },
  {
   "cell_type": "markdown",
   "metadata": {},
   "source": [
    "## 提出方法\n",
    "- 2つのファイルを提出していただきます。\n",
    "  1. テストデータ (x_test) に対する予測ラベルを`submission_gen.csv`として保存し、Homeworkタブから**chap09**を選択して提出してください。\n",
    "  2. それに対応するpythonのコードを`submission_code.py`として保存し、Homeworkタブから**chap09 (code)**を選択して提出してください。\n",
    "    - セルに書いたコードを.py形式で保存するためには%%writefileコマンドなどを利用してください。\n",
    "    - writefileコマンドではファイルの保存のみが行われセル内のpythonコード自体は実行されません。そのため、実際にコードを走らせる際にはwritefileコマンドをコメントアウトしてください\n",
    "\n",
    "\n",
    "- コードの内容を変更した場合は、1と2の両方を提出し直してください。\n",
    "\n",
    "- なお、採点は1で行い、2はコードの確認用として利用します。(成績優秀者はコード内容を公開させていただくかもしれません)\n",
    "\n",
    "- **宿題の締め切りは【出題週の翌週水曜日24時】です。**"
   ]
  },
  {
   "cell_type": "markdown",
   "metadata": {},
   "source": [
    "## 評価方法\n",
    "\n",
    "- 予測ラベルの（`t_testに対する`）BLEUスコア(4-gramまで)で評価します。\n",
    "- 毎日24時にテストデータの一部に対するBLEUスコアでLeader Boardを更新します。\n",
    "- 締切日の夜24時にテストデータ全体に対するBLEUスコアでLeader Boardを更新します。これを最終的な評価とします。"
   ]
  },
  {
   "cell_type": "markdown",
   "metadata": {},
   "source": [
    "## データの読み込み（このセルは修正しないでください）"
   ]
  },
  {
   "cell_type": "code",
   "execution_count": null,
   "metadata": {},
   "outputs": [],
   "source": [
    "import numpy as np\n",
    "import pickle\n",
    "\n",
    "def pickle_load(path):\n",
    "    with open(path, 'rb') as f:\n",
    "        data = pickle.load(f)\n",
    "    return data\n",
    "\n",
    "def load_data():\n",
    "    # 学習データ\n",
    "    x_train = pickle_load('/root/userspace/public/chap09/data/x_train.pkl')\n",
    "    t_train = pickle_load('/root/userspace/public/chap09/data/t_train.pkl')\n",
    "    tokenizer_en = np.load('/root/userspace/public/chap09/data/tokenizer_en.npy').item()\n",
    "    tokenizer_ja = np.load('/root/userspace/public/chap09/data/tokenizer_ja.npy').item()\n",
    " \n",
    "    # テストデータ\n",
    "    x_test = pickle_load('/root/userspace/public/chap09/data/x_test.pkl')\n",
    "\n",
    "    return (x_train, t_train, tokenizer_en, tokenizer_ja, x_test)\n",
    "\n",
    "x_train, t_train, tokenizer_en, tokenizer_ja, x_test = load_data()"
   ]
  },
  {
   "cell_type": "markdown",
   "metadata": {},
   "source": [
    "## 実装"
   ]
  },
  {
   "cell_type": "code",
   "execution_count": null,
   "metadata": {},
   "outputs": [],
   "source": [
    "%%writefile /root/userspace/chap09/materials/submission_code.py\n",
    "import tensorflow as tf\n",
    "from tensorflow.keras.preprocessing.sequence import pad_sequences\n",
    "from sklearn.model_selection import train_test_split\n",
    "import csv\n",
    "\n",
    "### レイヤー定義 ###\n",
    "class Embedding:\n",
    "    # WRITE ME\n",
    "\n",
    "# WRITE ME\n",
    "\n",
    "### グラフ構築 ###\n",
    "tf.reset_default_graph()\n",
    "\n",
    "emb_dim = 1\n",
    "hid_dim = 1\n",
    "pad_index = 0\n",
    "\n",
    "x = tf.placeholder(tf.int32, [None, None], name='x')\n",
    "t = tf.placeholder(tf.int32, [None, None], name='t')\n",
    "\n",
    "# WRITE ME\n",
    "\n",
    "### データの準備 ###\n",
    "x_train, x_valid, t_train, t_valid = train_test_split(x_train, t_train)\n",
    "\n",
    "### 学習 ###\n",
    "n_epochs = 1\n",
    "batch_size = 1\n",
    "\n",
    "# WRITE ME\n",
    "\n",
    "### 生成用グラフ構築 ###\n",
    "max_len = tf.placeholder(tf.int32, name='max_len') # iterationの繰り返し回数の限度\n",
    "\n",
    "def cond():\n",
    "    # WRITE ME\n",
    "\n",
    "def body():\n",
    "    # WRITE ME\n",
    "\n",
    "# WRITE ME\n",
    "\n",
    "### 生成 ###\n",
    "bos_id_ja, eos_id_ja = tokenizer_ja.texts_to_sequences(['<s> </s>'])[0]\n",
    "y_pred = sess.run(\n",
    "    # WRITE ME\n",
    ")\n",
    "\n",
    "### 出力 ###\n",
    "def get_raw_contents(dataset, num, bos_id, eos_id):\n",
    "    result = []\n",
    "    for index in dataset[num]:\n",
    "        if index == eos_id:\n",
    "            break\n",
    "            \n",
    "        result.append(index)\n",
    "        \n",
    "        if index == bos_id:\n",
    "            result = []\n",
    "            \n",
    "    return result\n",
    "\n",
    "output = [get_raw_contents(y_pred, i, bos_id_ja, eos_id_ja) for i in range(len(y_pred))]\n",
    "\n",
    "with open('/root/userspace/chap09/materials/submission_gen.csv', 'w') as file:\n",
    "    writer = csv.writer(file, lineterminator='\\n')\n",
    "    writer.writerows(output)"
   ]
  }
 ],
 "metadata": {
  "kernelspec": {
   "display_name": "Python 3",
   "language": "python",
   "name": "python3"
  },
  "language_info": {
   "codemirror_mode": {
    "name": "ipython",
    "version": 3
   },
   "file_extension": ".py",
   "mimetype": "text/x-python",
   "name": "python",
   "nbconvert_exporter": "python",
   "pygments_lexer": "ipython3",
   "version": "3.7.3"
  }
 },
 "nbformat": 4,
 "nbformat_minor": 2
}
