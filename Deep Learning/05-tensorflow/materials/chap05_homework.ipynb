{
 "cells": [
  {
   "cell_type": "markdown",
   "metadata": {},
   "source": [
    "# 第5回講義 宿題"
   ]
  },
  {
   "cell_type": "markdown",
   "metadata": {},
   "source": [
    "## 課題"
   ]
  },
  {
   "cell_type": "markdown",
   "metadata": {},
   "source": [
    "今Lessonで学んだことを元に、MNISTのファッション版 (Fashion MNIST、クラス数10) を多層パーセプトロンによって分類してみましょう。\n",
    "\n",
    "Fashion MNISTの詳細については以下のリンクを参考にしてください。\n",
    "\n",
    "Fashion MNIST: https://github.com/zalandoresearch/fashion-mnist"
   ]
  },
  {
   "cell_type": "markdown",
   "metadata": {},
   "source": [
    "### 目標値"
   ]
  },
  {
   "cell_type": "markdown",
   "metadata": {},
   "source": [
    "Accuracy: 85%"
   ]
  },
  {
   "cell_type": "markdown",
   "metadata": {},
   "source": [
    "### ルール"
   ]
  },
  {
   "cell_type": "markdown",
   "metadata": {},
   "source": [
    "- **下のセルで指定されている`x_train`、`y_train`以外の学習データは使わないでください。**\n",
    "- MLPの実装には`tf`の低レベルAPIのみを用いてください。具体的に以下のモジュールは使用しないでください。\n",
    "```python\n",
    "tf.app,\n",
    "tf.compat,\n",
    "tf.contrib,\n",
    "tf.estimator,\n",
    "tf.gfile,\n",
    "tf.graph_util,\n",
    "tf.image,\n",
    "tf.initializers,\n",
    "tf.keras,\n",
    "tf.layers,\n",
    "tf.logging,\n",
    "tf.losses,\n",
    "tf.metrics,\n",
    "tf.python_io,\n",
    "tf.resource_loader,\n",
    "tf.saved_model,\n",
    "tf.sets,\n",
    "tf.summary,\n",
    "tf.sysconfig,\n",
    "tf.test,\n",
    "tf.train\n",
    "```"
   ]
  },
  {
   "cell_type": "markdown",
   "metadata": {},
   "source": [
    "### 提出方法"
   ]
  },
  {
   "cell_type": "markdown",
   "metadata": {},
   "source": [
    "### 提出方法\n",
    "- 2つのファイルを提出していただきます。\n",
    "    1. テストデータ (`x_test`) に対する予測ラベルを`submission_pred.csv`として保存し、**Homeworkタブから`chap05`を選択して**提出してください。\n",
    "    2. それに対応するpythonのコードを`submission_code.py`として保存し、**Homeworkタブから`chap05 (code)`を選択して**提出してください。\n",
    "      - セルに書いたコードを.py形式で保存するためには%%writefileコマンドなどを利用してください（writefileコマンドではファイルの保存のみが行われセル内のpythonコード自体は実行されません。そのため、実際にコードを走らせる際にはwritefileコマンドをコメントアウトしてください）。\n",
    "      \n",
    "- なお、採点は1で行い、2はコードの確認用として利用します（成績優秀者はコード内容を公開させていただくかもしれません）。コードの内容を変更した場合は、**1と2の両方を提出し直してください**。"
   ]
  },
  {
   "cell_type": "markdown",
   "metadata": {},
   "source": [
    "### 評価方法"
   ]
  },
  {
   "cell_type": "markdown",
   "metadata": {},
   "source": [
    "- 予測ラベルの`y_test`に対する精度 (Accuracy) で評価します.\n",
    "- 毎日夜24時にテストデータの一部に対する精度でLeader Boardを更新します.\n",
    "- 締切日の夜24時にテストデータ全体に対する精度でLeader Boardを更新します. これを最終的な評価とします."
   ]
  },
  {
   "cell_type": "markdown",
   "metadata": {},
   "source": [
    "### データの読み込み\n",
    "- この部分は修正しないでください。"
   ]
  },
  {
   "cell_type": "code",
   "execution_count": 1,
   "metadata": {},
   "outputs": [],
   "source": [
    "import os\n",
    "\n",
    "import numpy as np\n",
    "import pandas as pd\n",
    "import tensorflow as tf\n",
    "\n",
    "try:\n",
    "    del [\n",
    "        tf.app,\n",
    "        tf.compat,\n",
    "        tf.contrib,\n",
    "        tf.estimator,\n",
    "        tf.gfile,\n",
    "        tf.graph_util,\n",
    "        tf.image,\n",
    "        tf.initializers,\n",
    "        tf.keras,\n",
    "        tf.layers,\n",
    "        tf.logging,\n",
    "        tf.losses,\n",
    "        tf.metrics,\n",
    "        tf.python_io,\n",
    "        tf.resource_loader,\n",
    "        tf.saved_model,\n",
    "        tf.sets,\n",
    "        tf.summary,\n",
    "        tf.sysconfig,\n",
    "        tf.test,\n",
    "        tf.train\n",
    "    ]\n",
    "except AttributeError:\n",
    "    print('Unrequired modules are already deleted (Skipped).')\n",
    "\n",
    "def load_fashionmnist():\n",
    "    # 学習データ\n",
    "    x_train = np.load('../data/x_train.npy')\n",
    "    y_train = np.load('../data/y_train.npy')\n",
    "    \n",
    "    # テストデータ\n",
    "    x_test = np.load('../data/x_test.npy')\n",
    "\n",
    "    x_train = x_train.reshape(-1, 784).astype('float32') / 255\n",
    "    y_train = np.eye(10)[y_train.astype('int32')]\n",
    "    x_test = x_test.reshape(-1, 784).astype('float32') / 255\n",
    "    \n",
    "    return x_train, y_train, x_test"
   ]
  },
  {
   "cell_type": "markdown",
   "metadata": {},
   "source": [
    "### 多層パーセプトロンの実装"
   ]
  },
  {
   "cell_type": "code",
   "execution_count": 3,
   "metadata": {},
   "outputs": [
    {
     "name": "stdout",
     "output_type": "stream",
     "text": [
      "Overwriting submission_code.py\n"
     ]
    }
   ],
   "source": [
    "%%writefile submission_code.py\n",
    "\n",
    "import math\n",
    "from sklearn.utils import shuffle\n",
    "from sklearn.metrics import accuracy_score\n",
    "from sklearn.model_selection import train_test_split\n",
    "\n",
    "tf.reset_default_graph() # グラフのリセット\n",
    "\n",
    "#データの取得\n",
    "x_train, t_train, x_test = load_fashionmnist()\n",
    "x_train, x_valid, t_train, t_valid = train_test_split(x_train, t_train, test_size=1000)\n",
    "\n",
    "#変数の定義\n",
    "x = tf.placeholder(tf.float32, [None, 784])\n",
    "t = tf.placeholder(tf.float32, [None, 10])\n",
    "is_training = tf.placeholder(tf.bool)\n",
    "\n",
    "class Dense:\n",
    "    def __init__(self, in_dim, out_dim, function=lambda x: x):\n",
    "        self.W = tf.Variable(tf.random_uniform(shape=(in_dim, out_dim), minval=-0.08, maxval=0.08), name='W')\n",
    "        self.b = tf.Variable(tf.zeros(out_dim), name='b')\n",
    "        self.function = function\n",
    "        self.params = [self.W, self.b]\n",
    "    \n",
    "    def __call__(self, x):\n",
    "        return self.function(tf.matmul(x, self.W) + self.b)\n",
    "\n",
    "class Dropout:\n",
    "    def __init__(self, dropout_keep_prob=1.0):\n",
    "        self.dropout_keep_prob = dropout_keep_prob\n",
    "        self.params = []\n",
    "    \n",
    "    def __call__(self, x):\n",
    "        # 訓練時のみdropoutを適用\n",
    "        return tf.cond(\n",
    "            pred=is_training,\n",
    "            true_fn=lambda: tf.nn.dropout(x, keep_prob=self.dropout_keep_prob),\n",
    "            false_fn=lambda: x\n",
    "        )\n",
    "    \n",
    "\n",
    "def sgd(cost, params, eta=0.01):\n",
    "    grads = tf.gradients(cost, params)\n",
    "    updates = []\n",
    "    for param, grad in zip(params, grads):\n",
    "        updates.append(param.assign_sub(eta * grad))\n",
    "    return updates\n",
    "\n",
    "def tf_log(x):\n",
    "    return tf.log(tf.clip_by_value(x, 1e-10, x))\n",
    "\n",
    "def compute_l2_reg(params):\n",
    "    l2_reg = 0\n",
    "    for param in params:\n",
    "        l2_reg += tf.reduce_sum(tf.square(param)) # 2 * tf.nn.l2_lossを使っても良い\n",
    "    return l2_reg\n",
    "\n",
    "\n",
    "#モデルの定義\n",
    "eta = 0.01\n",
    "dropout_keep_prob = 0.5\n",
    "lmd = 0.001\n",
    "n_epochs = 20\n",
    "batch_size = 32\n",
    "\n",
    "layers = [\n",
    "    Dense(784, 200, tf.nn.relu),\n",
    "    Dropout(dropout_keep_prob),\n",
    "    Dense(200, 200, tf.nn.relu),\n",
    "    Dropout(dropout_keep_prob),\n",
    "    Dense(200, 10, tf.nn.softmax)\n",
    "]\n",
    "\n",
    "n_batches = math.ceil(len(x_train) / batch_size)\n",
    "\n",
    "#グラフの構築\n",
    "params = []\n",
    "h = x\n",
    "for layer in layers:\n",
    "    h = layer(h)\n",
    "    params += layer.params\n",
    "y = h\n",
    "\n",
    "#誤差関数の設定（l2-正則化付き）\n",
    "cost = - tf.reduce_mean(tf.reduce_sum(t * tf_log(y), axis=1)) + lmd * compute_l2_reg(params)\n",
    "updates = sgd(cost, params)\n",
    "train = tf.group(*updates)\n",
    "\n",
    "#学習\n",
    "sess = tf.Session()\n",
    "sess.run(tf.global_variables_initializer())\n",
    "for epoch in range(n_epochs):\n",
    "        x_train, t_train = shuffle(x_train, t_train)\n",
    "        for i in range(n_batches):\n",
    "            start = i * batch_size\n",
    "            end = start + batch_size\n",
    "            sess.run(train, feed_dict={x: x_train[start:end], t: t_train[start:end], is_training: True})\n",
    "        y_pred, cost_valid_ = sess.run([y, cost], feed_dict={x: x_valid, t: t_valid, is_training: False})\n",
    "        print('EPOCH: {}, Valid Cost: {:.3f}, Valid Accuracy: {:.3f}'.format(\n",
    "            epoch + 1,\n",
    "            cost_valid_,\n",
    "            accuracy_score(t_valid.argmax(axis=1), y_pred.argmax(axis=1))\n",
    "        ))\n",
    "\n",
    "y_pred = sess.run(y, feed_dict={x: x_test, is_training: False})\n",
    "y_pred = np.argmax(y_pred, axis=1)\n",
    "\n",
    "submission = pd.Series(y_pred, name='label')\n",
    "submission.to_csv('submission_pred.csv', header=True, index_label='id')"
   ]
  },
  {
   "cell_type": "code",
   "execution_count": null,
   "metadata": {},
   "outputs": [],
   "source": []
  }
 ],
 "metadata": {
  "kernelspec": {
   "display_name": "Python 3",
   "language": "python",
   "name": "python3"
  },
  "language_info": {
   "codemirror_mode": {
    "name": "ipython",
    "version": 3
   },
   "file_extension": ".py",
   "mimetype": "text/x-python",
   "name": "python",
   "nbconvert_exporter": "python",
   "pygments_lexer": "ipython3",
   "version": "3.7.2"
  }
 },
 "nbformat": 4,
 "nbformat_minor": 2
}
