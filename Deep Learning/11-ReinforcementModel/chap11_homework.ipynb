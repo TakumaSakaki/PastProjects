{
 "cells": [
  {
   "cell_type": "markdown",
   "metadata": {},
   "source": [
    "# 第11回講義 宿題"
   ]
  },
  {
   "cell_type": "markdown",
   "metadata": {},
   "source": [
    "## 課題. Deep Q-Network（DQN）でMountainCarを攻略せよ"
   ]
  },
  {
   "cell_type": "markdown",
   "metadata": {},
   "source": [
    "## Homework"
   ]
  },
  {
   "cell_type": "markdown",
   "metadata": {},
   "source": [
    "Deep Q-Network（DQN）により、MountainCarを攻略してみましょう。  \n",
    "今回の評価は提出点のみとなりますが、より上手にゲームを攻略できるようチャレンジしてみてください。"
   ]
  },
  {
   "cell_type": "markdown",
   "metadata": {},
   "source": [
    "## ルール"
   ]
  },
  {
   "cell_type": "markdown",
   "metadata": {},
   "source": [
    "環境としてMountainCar-v0を利用します。  \n",
    "MountainCarは二つの山の間にある車を右の山の頂上まで運ぶゲームです。  \n",
    "エピソード終了時のRewardが-200よりも大きくなれば、成功となります。  \n",
    "- state: サイズ(2,)のnp.ndarray\n",
    "  - (車の位置, 車の速度)\n",
    "- action:\n",
    "    - 0: 車を左に移動させる\n",
    "    - 1: 車を移動させない\n",
    "    - 2: 車を右に移動させる\n",
    "- reward:\n",
    "    -1: エピソード終了まで\n",
    "- terminal:\n",
    "    - False: エピソード継続\n",
    "    - True: エピソード終了 (ゴールするか、200step経過)"
   ]
  },
  {
   "cell_type": "markdown",
   "metadata": {},
   "source": [
    "## 評価について"
   ]
  },
  {
   "cell_type": "markdown",
   "metadata": {},
   "source": [
    "- MountainCarをDQNによって攻略するコードを提出してください。(提出ページにそのままペーストして頂いて構いません)\n",
    "- なお今回の評価は提出点のみとなります。"
   ]
  },
  {
   "cell_type": "markdown",
   "metadata": {},
   "source": [
    "## サンプルコード"
   ]
  },
  {
   "cell_type": "code",
   "execution_count": null,
   "metadata": {},
   "outputs": [],
   "source": [
    "import os\n",
    "\n",
    "import gym\n",
    "import numpy as np\n",
    "import tensorflow as tf\n",
    "\n",
    "from collections import deque\n",
    "\n",
    "env = gym.make('MountainCar-v0')\n",
    "\n",
    "tf.reset_default_graph()\n",
    "# WRITE ME\n"
   ]
  }
 ],
 "metadata": {
  "kernelspec": {
   "display_name": "Python 3",
   "language": "python",
   "name": "python3"
  },
  "language_info": {
   "codemirror_mode": {
    "name": "ipython",
    "version": 3
   },
   "file_extension": ".py",
   "mimetype": "text/x-python",
   "name": "python",
   "nbconvert_exporter": "python",
   "pygments_lexer": "ipython3",
   "version": "3.5.2"
  },
  "toc": {
   "base_numbering": 1,
   "nav_menu": {},
   "number_sections": false,
   "sideBar": true,
   "skip_h1_title": false,
   "title_cell": "Table of Contents",
   "title_sidebar": "Contents",
   "toc_cell": false,
   "toc_position": {},
   "toc_section_display": true,
   "toc_window_display": false
  }
 },
 "nbformat": 4,
 "nbformat_minor": 2
}
