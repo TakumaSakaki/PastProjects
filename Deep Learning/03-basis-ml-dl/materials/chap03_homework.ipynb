{
 "cells": [
  {
   "cell_type": "markdown",
   "metadata": {},
   "source": [
    "# 第3回講義 宿題"
   ]
  },
  {
   "cell_type": "markdown",
   "metadata": {},
   "source": [
    "## 課題\n",
    "今Lessonで学んだことを元に、MNISTのファッション版 (Fashion MNIST、クラス数10) をソフトマックス回帰によって分類してみましょう。\n",
    "\n",
    "Fashion MNISTの詳細については以下のリンクを参考にしてください。\n",
    "\n",
    "Fashion MNIST: https://github.com/zalandoresearch/fashion-mnist"
   ]
  },
  {
   "cell_type": "markdown",
   "metadata": {},
   "source": [
    "### 目標値\n",
    "Accuracy: 80%"
   ]
  },
  {
   "cell_type": "markdown",
   "metadata": {},
   "source": [
    "### ルール\n",
    "- **下のセルで指定されている`x_train、y_train`以外の学習データは使わないでください。**\n",
    "- **ソフトマックス回帰のアルゴリズム部分の実装はnumpyのみで行ってください** (sklearnやtensorflowなどは使用しないでください)。\n",
    "    - データの前処理部分でsklearnの関数を使う (例えば `sklearn.model_selection.train_test_split`) のは問題ありません。"
   ]
  },
  {
   "cell_type": "markdown",
   "metadata": {},
   "source": [
    "### 提出方法\n",
    "- 2つのファイルを提出していただきます。\n",
    "    1. テストデータ (`x_test`) に対する予測ラベルを`submission_pred.csv`として保存し、**Homeworkタブから`chap03`を選択して**提出してください。\n",
    "    2. それに対応するpythonのコードを`submission_code.py`として保存し、**Homeworkタブから`chap03 (code)`を選択して**提出してください。\n",
    "      - セルに書いたコードを.py形式で保存するためには%%writefileコマンドなどを利用してください（writefileコマンドではファイルの保存のみが行われセル内のpythonコード自体は実行されません。そのため、実際にコードを走らせる際にはwritefileコマンドをコメントアウトしてください）。\n",
    "      \n",
    "- なお、採点は1で行い、2はコードの確認用として利用します（成績優秀者はコード内容を公開させていただくかもしれません）。コードの内容を変更した場合は、**1と2の両方を提出し直してください**。"
   ]
  },
  {
   "cell_type": "markdown",
   "metadata": {},
   "source": [
    "### 評価方法\n",
    "- 予測ラベルの`y_test`に対する精度 (Accuracy) で評価します。\n",
    "- 毎日夜24時にテストデータの一部に対する精度でLeader Boardを更新します。\n",
    "- 締切日の夜24時にテストデータ全体に対する精度でLeader Boardを更新します。これを最終的な評価とします。"
   ]
  },
  {
   "cell_type": "markdown",
   "metadata": {},
   "source": [
    "### データの読み込み (このセルは修正しないでください)"
   ]
  },
  {
   "cell_type": "code",
   "execution_count": 1,
   "metadata": {},
   "outputs": [],
   "source": [
    "import os\n",
    "import sys\n",
    "\n",
    "import numpy as np\n",
    "import pandas as pd\n",
    "\n",
    "sys.modules['tensorflow'] = None\n",
    "\n",
    "def load_fashionmnist():\n",
    "    # 学習データ\n",
    "    x_train = np.load('../data/x_train.npy')\n",
    "    y_train = np.load('../data/y_train.npy')\n",
    "    \n",
    "    # テストデータ\n",
    "    x_test = np.load('../data/x_test.npy')\n",
    "    \n",
    "    x_train = x_train.reshape(-1, 784).astype('float32') / 255\n",
    "    y_train = np.eye(10)[y_train.astype('int32')]\n",
    "    x_test = x_test.reshape(-1, 784).astype('float32') / 255\n",
    "    \n",
    "    return x_train, y_train, x_test"
   ]
  },
  {
   "cell_type": "markdown",
   "metadata": {},
   "source": [
    "### ソフトマックス回帰の実装"
   ]
  },
  {
   "cell_type": "code",
   "execution_count": 2,
   "metadata": {
    "scrolled": true
   },
   "outputs": [
    {
     "name": "stdout",
     "output_type": "stream",
     "text": [
      "EPOCH: 1, Valid Cost: 0.512, Valid Accuracy: 0.815\n",
      "EPOCH: 2, Valid Cost: 0.468, Valid Accuracy: 0.841\n",
      "EPOCH: 3, Valid Cost: 0.449, Valid Accuracy: 0.848\n",
      "EPOCH: 4, Valid Cost: 0.451, Valid Accuracy: 0.849\n",
      "EPOCH: 5, Valid Cost: 0.427, Valid Accuracy: 0.857\n",
      "EPOCH: 6, Valid Cost: 0.436, Valid Accuracy: 0.850\n",
      "EPOCH: 7, Valid Cost: 0.439, Valid Accuracy: 0.846\n",
      "EPOCH: 8, Valid Cost: 0.422, Valid Accuracy: 0.858\n",
      "EPOCH: 9, Valid Cost: 0.450, Valid Accuracy: 0.846\n",
      "EPOCH: 10, Valid Cost: 0.412, Valid Accuracy: 0.858\n"
     ]
    }
   ],
   "source": [
    "#%%writefile submission_code.py\n",
    "\n",
    "from sklearn.utils import shuffle\n",
    "from sklearn.metrics import accuracy_score\n",
    "from sklearn.model_selection import train_test_split\n",
    "np.random.seed(10)\n",
    "\n",
    "\n",
    "def np_log(x):\n",
    "    return np.log(np.clip(a=x, a_min=1e-10, a_max=x))\n",
    "\n",
    "def softmax(x):\n",
    "    x -= x.max(axis=1, keepdims=True)\n",
    "    x_exp = np.exp(x)\n",
    "    return x_exp / np.sum(x_exp, axis=1, keepdims=True)\n",
    "\n",
    "def train(x, t, eps=1.0):\n",
    "    \n",
    "    global W, b\n",
    "\n",
    "    batch_size = x.shape[0]\n",
    "    \n",
    "    # 順伝播\n",
    "    y = softmax(np.matmul(x, W) + b)\n",
    "    \n",
    "    # パラメータの更新\n",
    "    delta = y - t\n",
    "    dW = np.matmul(x.T, delta) / batch_size\n",
    "    db = np.matmul(np.ones(batch_size), delta) / batch_size\n",
    "    W -= eps * dW\n",
    "    b -= eps * db\n",
    "    \n",
    "    return\n",
    "\n",
    "def valid(x, t):\n",
    "    y = softmax(np.matmul(x, W) + b)\n",
    "    cost = (- t * np_log(y)).sum(axis=1).mean()\n",
    "    return cost, y\n",
    "\n",
    "\n",
    "#data\n",
    "x_train, y_train, x_test = load_fashionmnist()\n",
    "\n",
    "#initial values\n",
    "W = np.random.uniform(low=-0.08, high=0.08, size=(784, 10)).astype('float32')\n",
    "b = np.zeros(shape=(10,)).astype('float32')\n",
    "batch_size = 50\n",
    "learning_rate = 0.1\n",
    "\n",
    "#split\n",
    "x_train, x_valid, y_train, y_valid = train_test_split(x_train, y_train, test_size=0.1)\n",
    "\n",
    "#learning\n",
    "for epoch in range(10):\n",
    "    x_train, y_train = shuffle(x_train, y_train)\n",
    "    \n",
    "    for i in range(int(len(x_train) / batch_size)):\n",
    "        x = x_train[i * batch_size : (i+1) * batch_size]\n",
    "        y = y_train[i * batch_size : (i+1) * batch_size]\n",
    "        cost = train(x, y, eps = learning_rate)\n",
    "    cost, y_pred_val = valid(x_valid, y_valid)\n",
    "    print('EPOCH: {}, Valid Cost: {:.3f}, Valid Accuracy: {:.3f}'.format(\n",
    "        epoch + 1,\n",
    "        cost,\n",
    "        accuracy_score(y_valid.argmax(axis=1), y_pred_val.argmax(axis=1))\n",
    "    ))\n",
    "\n",
    "#prediction\n",
    "y_pred = softmax(np.matmul(x_test, W) + b).argmax(axis=1)\n",
    "\n",
    "submission = pd.Series(y_pred, name='label')\n",
    "submission.to_csv('submission_pred.csv', header=True, index_label='id')"
   ]
  },
  {
   "cell_type": "code",
   "execution_count": null,
   "metadata": {},
   "outputs": [],
   "source": []
  }
 ],
 "metadata": {
  "kernelspec": {
   "display_name": "Python 3",
   "language": "python",
   "name": "python3"
  },
  "language_info": {
   "codemirror_mode": {
    "name": "ipython",
    "version": 3
   },
   "file_extension": ".py",
   "mimetype": "text/x-python",
   "name": "python",
   "nbconvert_exporter": "python",
   "pygments_lexer": "ipython3",
   "version": "3.7.2"
  }
 },
 "nbformat": 4,
 "nbformat_minor": 2
}
