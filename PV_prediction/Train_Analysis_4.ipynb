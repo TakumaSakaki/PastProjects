{
 "cells": [
  {
   "cell_type": "code",
   "execution_count": 1,
   "metadata": {
    "collapsed": true
   },
   "outputs": [],
   "source": [
    "import numpy as np \n",
    "import pandas as pd\n",
    "import matplotlib.pyplot as plt\n",
    "import seaborn as sns\n",
    "plt.style.use('fivethirtyeight')\n",
    "import warnings\n",
    "warnings.filterwarnings('ignore')\n",
    "%matplotlib inline\n",
    "\n",
    "#importing the required ML packages\n",
    "from sklearn import svm\n",
    "from sklearn.model_selection import train_test_split\n",
    "from sklearn import metrics\n",
    "from sklearn.metrics import confusion_matrix\n",
    "from sklearn import linear_model"
   ]
  },
  {
   "cell_type": "code",
   "execution_count": 2,
   "metadata": {
    "collapsed": true
   },
   "outputs": [],
   "source": [
    "df_S1 = pd.read_csv('train_S1.csv')\n",
    "df_S2 = pd.read_csv('train_S2.csv')\n",
    "df_S3 = pd.read_csv('train_S3.csv')"
   ]
  },
  {
   "cell_type": "markdown",
   "metadata": {},
   "source": [
    "### この章の内容\n",
    "***\n",
    "##### 大目標：現在のモデルを洗練させ、今の視野での分析の課題と限界について理解する\n",
    "0　DateやTimeがSin関数を用いるのとどちらが良いか確認する<br>\n",
    "1　関係性の強い部分について、交差項を加えて予測する<br>\n",
    "2　0当てゲームをする<br>\n",
    "3　Tempに手を加える<br>\n",
    "4　0当てゲームの後、各項に、必要に応じてlogをとって予測する<br>\n",
    "5　残差の自己相関を分析する<br>\n",
    "\n",
    "***"
   ]
  },
  {
   "cell_type": "markdown",
   "metadata": {},
   "source": [
    "##### 0.1　DateをSin関数で表記する"
   ]
  },
  {
   "cell_type": "code",
   "execution_count": 3,
   "metadata": {
    "collapsed": false
   },
   "outputs": [
    {
     "name": "stdout",
     "output_type": "stream",
     "text": [
      "MAE_train: 401.005079762\n",
      "MAE_test: 400.642142271\n"
     ]
    }
   ],
   "source": [
    "#元のスコアを先に算出する\n",
    "#この下でデータを整える\n",
    "df = df_S1[df_S1['Zero-Time'] == 0].drop(['Zero-Time'] , axis=1)\n",
    "df['d2'] = df['Date-No'] ** 2\n",
    "df['d3'] = df['Date-No'] ** 3\n",
    "df['t2'] = df['Time'] ** 2\n",
    "df = df.drop('Date-No', axis=1)\n",
    "\n",
    "#train, testを分けて（10回やって、その平均をスコアとする）\n",
    "MAE_train = []\n",
    "MAE_test = []\n",
    "for i in range(10):\n",
    "    train,test=train_test_split(df,test_size=0.3,random_state=i)\n",
    "    train_X=train[train.columns[1:]]\n",
    "    train_Y=train[train.columns[:1]]\n",
    "    test_X=test[test.columns[1:]]\n",
    "    test_Y=test[test.columns[:1]]\n",
    "    X=df[df.columns[1:]]\n",
    "    Y=df['Solar1']\n",
    "\n",
    "    #Lasso回帰\n",
    "    clf_lasso = linear_model.Lasso(alpha=1.0)\n",
    "    clf_lasso.fit(train_X, train_Y)\n",
    "\n",
    "    train_Y['Predicted'] = clf_lasso.predict(train_X.as_matrix())\n",
    "    train_Y['Predicted'] = train_Y['Predicted'].map(lambda x: 0 if x<0 else x)\n",
    "    train_Y['Error_abs'] = np.abs(train_Y['Solar1'] - train_Y['Predicted'])\n",
    "\n",
    "    test_Y['Predicted'] = clf_lasso.predict(test_X.as_matrix())\n",
    "    test_Y['Predicted'] = test_Y['Predicted'].map(lambda x: 0 if x<0 else x)\n",
    "    test_Y['Error_abs'] = np.abs(test_Y['Solar1'] - test_Y['Predicted'])\n",
    "\n",
    "    MAE_train.append(train_Y['Error_abs'].mean())\n",
    "    MAE_test.append(test_Y['Error_abs'].mean())\n",
    "\n",
    "print(\"MAE_train:\", np.mean(np.array(MAE_train)))\n",
    "print(\"MAE_test:\", np.mean(np.array(MAE_test)))"
   ]
  },
  {
   "cell_type": "code",
   "execution_count": 4,
   "metadata": {
    "collapsed": false
   },
   "outputs": [
    {
     "data": {
      "image/png": "[encoded data removed]",
      "text/plain": [
       "<matplotlib.figure.Figure at 0x110922240>"
      ]
     },
     "metadata": {},
     "output_type": "display_data"
    }
   ],
   "source": [
    "#DateをFFTしてパワースペクトルを見る\n",
    "date = df_S1.groupby('Date-No')['Solar1'].max()\n",
    "\n",
    "#FFT\n",
    "from scipy import fftpack\n",
    "sample_freq = fftpack.fftfreq(np.array(date).size, d=1)\n",
    "y_fft = fftpack.fft(np.array(date))\n",
    "pidxs = np.where(sample_freq > 0)\n",
    "freqs, power = sample_freq[pidxs], np.abs(y_fft)[pidxs]\n",
    "freq = freqs[power.argmax()]\n",
    "\n",
    "#Plot\n",
    "plt.loglog(freqs, power,'b.-',lw=1)\n",
    "plt.xlabel('Frequency')\n",
    "plt.ylabel('Power')\n",
    "plt.grid(True)"
   ]
  },
  {
   "cell_type": "markdown",
   "metadata": {},
   "source": [
    "一年と半年の周期が抜けて強い。ここを周期性として拾う。"
   ]
  },
  {
   "cell_type": "code",
   "execution_count": 5,
   "metadata": {
    "collapsed": false
   },
   "outputs": [
    {
     "name": "stdout",
     "output_type": "stream",
     "text": [
      "MAE_train: 394.887469193\n",
      "MAE_test: 394.775475816\n"
     ]
    }
   ],
   "source": [
    "#この下でデータを整える\n",
    "df = df_S1[df_S1['Zero-Time'] == 0].drop(['Zero-Time'] , axis=1)\n",
    "df['sind'] = np.sin(2*np.pi*df['Date-No']/365)\n",
    "df['cosd'] = np.cos(2*np.pi*df['Date-No']/365)\n",
    "df['sin2d'] = np.sin(2*np.pi*df['Date-No']/182.5)\n",
    "df['cos2d'] = np.cos(2*np.pi*df['Date-No']/182.5)\n",
    "df['t2'] = df['Time'] ** 2\n",
    "df = df.drop('Date-No', axis=1)\n",
    "\n",
    "#train, testを分けて（10回やって、その平均をスコアとする）\n",
    "MAE_train = []\n",
    "MAE_test = []\n",
    "for i in range(10):\n",
    "    train,test=train_test_split(df,test_size=0.3,random_state=i)\n",
    "    train_X=train[train.columns[1:]]\n",
    "    train_Y=train[train.columns[:1]]\n",
    "    test_X=test[test.columns[1:]]\n",
    "    test_Y=test[test.columns[:1]]\n",
    "    X=df[df.columns[1:]]\n",
    "    Y=df['Solar1']\n",
    "\n",
    "    #Lasso回帰\n",
    "    clf_lasso = linear_model.Lasso(alpha=1.0)\n",
    "    clf_lasso.fit(train_X, train_Y)\n",
    "\n",
    "    train_Y['Predicted'] = clf_lasso.predict(train_X.as_matrix())\n",
    "    train_Y['Predicted'] = train_Y['Predicted'].map(lambda x: 0 if x<0 else x)\n",
    "    train_Y['Error_abs'] = np.abs(train_Y['Solar1'] - train_Y['Predicted'])\n",
    "\n",
    "    test_Y['Predicted'] = clf_lasso.predict(test_X.as_matrix())\n",
    "    test_Y['Predicted'] = test_Y['Predicted'].map(lambda x: 0 if x<0 else x)\n",
    "    test_Y['Error_abs'] = np.abs(test_Y['Solar1'] - test_Y['Predicted'])\n",
    "\n",
    "    MAE_train.append(train_Y['Error_abs'].mean())\n",
    "    MAE_test.append(test_Y['Error_abs'].mean())\n",
    "\n",
    "print(\"MAE_train:\", np.mean(np.array(MAE_train)))\n",
    "print(\"MAE_test:\", np.mean(np.array(MAE_test)))"
   ]
  },
  {
   "cell_type": "code",
   "execution_count": 6,
   "metadata": {
    "collapsed": false
   },
   "outputs": [
    {
     "name": "stdout",
     "output_type": "stream",
     "text": [
      "\n",
      "-------------------------Summary of Regression Analysis-------------------------\n",
      "\n",
      "Formula: Y ~ <Time> + <Rain> + <Temp> + <Wave> + <Clowdy> + <Rainy> + <Snowy>\n",
      "             + <sind> + <cosd> + <sin2d> + <cos2d> + <t2> + <intercept>\n",
      "\n",
      "Number of Observations:         28537\n",
      "Number of Degrees of Freedom:   13\n",
      "\n",
      "R-squared:         0.6745\n",
      "Adj R-squared:     0.6744\n",
      "\n",
      "Rmse:            547.1245\n",
      "\n",
      "F-stat (12, 28524):  4926.6650, p-value:     0.0000\n",
      "\n",
      "Degrees of Freedom: model 12, resid 28524\n",
      "\n",
      "-----------------------Summary of Estimated Coefficients------------------------\n",
      "      Variable       Coef    Std Err     t-stat    p-value    CI 2.5%   CI 97.5%\n",
      "--------------------------------------------------------------------------------\n",
      "          Time  1042.0135     5.5161     188.90     0.0000  1031.2020  1052.8250\n",
      "          Rain   -10.3739     0.2949     -35.18     0.0000   -10.9519    -9.7959\n",
      "          Temp    18.6067     1.2119      15.35     0.0000    16.2313    20.9821\n",
      "          Wave    10.6477     4.8721       2.19     0.0289     1.0984    20.1969\n",
      "        Clowdy  -293.8308     8.5547     -34.35     0.0000  -310.5979  -277.0636\n",
      "--------------------------------------------------------------------------------\n",
      "         Rainy  -327.0297    19.6082     -16.68     0.0000  -365.4619  -288.5976\n",
      "         Snowy  -189.2850    52.5777      -3.60     0.0003  -292.3372   -86.2328\n",
      "          sind   196.1941     7.8024      25.15     0.0000   180.9014   211.4868\n",
      "          cosd  -158.5646    12.4909     -12.69     0.0000  -183.0469  -134.0824\n",
      "         sin2d    20.3739     4.6130       4.42     0.0000    11.3323    29.4154\n",
      "--------------------------------------------------------------------------------\n",
      "         cos2d   -31.2459     4.7185      -6.62     0.0000   -40.4943   -21.9976\n",
      "            t2   -44.1541     0.2285    -193.25     0.0000   -44.6019   -43.7063\n",
      "     intercept -4428.7562    32.3778    -136.78     0.0000 -4492.2166 -4365.2957\n",
      "---------------------------------End of Summary---------------------------------\n",
      "\n"
     ]
    }
   ],
   "source": [
    "model = pd.ols(y=train_Y['Solar1'], x=train_X, intercept=True)\n",
    "print(model)"
   ]
  },
  {
   "cell_type": "markdown",
   "metadata": {},
   "source": [
    "係数は全て有意。"
   ]
  },
  {
   "cell_type": "code",
   "execution_count": 7,
   "metadata": {
    "collapsed": false
   },
   "outputs": [
    {
     "name": "stdout",
     "output_type": "stream",
     "text": [
      "MAE_train: 394.498890628\n",
      "MAE_test: 394.438705438\n"
     ]
    }
   ],
   "source": [
    "#365/20の部分のスペクトル（約3番目に影響の大きい項）も加えてみる。\n",
    "#この下でデータを整える\n",
    "df = df_S1[df_S1['Zero-Time'] == 0].drop(['Zero-Time'] , axis=1)\n",
    "df['sind'] = np.sin(2*np.pi*df['Date-No']/365)\n",
    "df['cosd'] = np.cos(2*np.pi*df['Date-No']/365)\n",
    "df['sin2d'] = np.sin(2*2*np.pi*df['Date-No']/365)\n",
    "df['cos2d'] = np.cos(2*2*np.pi*df['Date-No']/365)\n",
    "df['sinxd'] = np.sin(2*20*np.pi*df['Date-No']/365)\n",
    "df['cosxd'] = np.cos(2*20*np.pi*df['Date-No']/365)\n",
    "df['t2'] = df['Time'] ** 2\n",
    "df = df.drop('Date-No', axis=1)\n",
    "\n",
    "#train, testを分けて（10回やって、その平均をスコアとする）\n",
    "MAE_train = []\n",
    "MAE_test = []\n",
    "for i in range(10):\n",
    "    train,test=train_test_split(df,test_size=0.3,random_state=i)\n",
    "    train_X=train[train.columns[1:]]\n",
    "    train_Y=train[train.columns[:1]]\n",
    "    test_X=test[test.columns[1:]]\n",
    "    test_Y=test[test.columns[:1]]\n",
    "    X=df[df.columns[1:]]\n",
    "    Y=df['Solar1']\n",
    "\n",
    "    #Lasso回帰\n",
    "    clf_lasso = linear_model.Lasso(alpha=1.0)\n",
    "    clf_lasso.fit(train_X, train_Y)\n",
    "\n",
    "    train_Y['Predicted'] = clf_lasso.predict(train_X.as_matrix())\n",
    "    train_Y['Predicted'] = train_Y['Predicted'].map(lambda x: 0 if x<0 else x)\n",
    "    train_Y['Error_abs'] = np.abs(train_Y['Solar1'] - train_Y['Predicted'])\n",
    "\n",
    "    test_Y['Predicted'] = clf_lasso.predict(test_X.as_matrix())\n",
    "    test_Y['Predicted'] = test_Y['Predicted'].map(lambda x: 0 if x<0 else x)\n",
    "    test_Y['Error_abs'] = np.abs(test_Y['Solar1'] - test_Y['Predicted'])\n",
    "\n",
    "    MAE_train.append(train_Y['Error_abs'].mean())\n",
    "    MAE_test.append(test_Y['Error_abs'].mean())\n",
    "\n",
    "print(\"MAE_train:\", np.mean(np.array(MAE_train)))\n",
    "print(\"MAE_test:\", np.mean(np.array(MAE_test)))"
   ]
  },
  {
   "cell_type": "code",
   "execution_count": 8,
   "metadata": {
    "collapsed": false
   },
   "outputs": [
    {
     "name": "stdout",
     "output_type": "stream",
     "text": [
      "\n",
      "-------------------------Summary of Regression Analysis-------------------------\n",
      "\n",
      "Formula: Y ~ <Time> + <Rain> + <Temp> + <Wave> + <Clowdy> + <Rainy> + <Snowy>\n",
      "             + <sind> + <cosd> + <sin2d> + <cos2d> + <sinxd> + <cosxd> + <t2>\n",
      "             + <intercept>\n",
      "\n",
      "Number of Observations:         28537\n",
      "Number of Degrees of Freedom:   15\n",
      "\n",
      "R-squared:         0.6750\n",
      "Adj R-squared:     0.6748\n",
      "\n",
      "Rmse:            546.7761\n",
      "\n",
      "F-stat (14, 28522):  4230.9792, p-value:     0.0000\n",
      "\n",
      "Degrees of Freedom: model 14, resid 28522\n",
      "\n",
      "-----------------------Summary of Estimated Coefficients------------------------\n",
      "      Variable       Coef    Std Err     t-stat    p-value    CI 2.5%   CI 97.5%\n",
      "--------------------------------------------------------------------------------\n",
      "          Time  1042.2671     5.5129     189.06     0.0000  1031.4618  1053.0724\n",
      "          Rain   -10.3440     0.2950     -35.06     0.0000   -10.9222    -9.7658\n",
      "          Temp    18.5778     1.2114      15.34     0.0000    16.2034    20.9521\n",
      "          Wave    12.2279     4.8771       2.51     0.0122     2.6688    21.7870\n",
      "        Clowdy  -293.0635     8.5502     -34.28     0.0000  -309.8219  -276.3052\n",
      "--------------------------------------------------------------------------------\n",
      "         Rainy  -327.0483    19.5998     -16.69     0.0000  -365.4638  -288.6328\n",
      "         Snowy  -185.2481    52.5588      -3.52     0.0004  -288.2633   -82.2328\n",
      "          sind   196.2064     7.7987      25.16     0.0000   180.9209   211.4919\n",
      "          cosd  -158.7859    12.4871     -12.72     0.0000  -183.2607  -134.3111\n",
      "         sin2d    20.2041     4.6102       4.38     0.0000    11.1681    29.2400\n",
      "--------------------------------------------------------------------------------\n",
      "         cos2d   -31.3674     4.7157      -6.65     0.0000   -40.6102   -22.1246\n",
      "         sinxd   -15.9225     4.5674      -3.49     0.0005   -24.8747    -6.9704\n",
      "         cosxd   -23.5910     4.6082      -5.12     0.0000   -32.6231   -14.5588\n",
      "            t2   -44.1646     0.2283    -193.41     0.0000   -44.6121   -43.7170\n",
      "     intercept -4432.9478    32.3645    -136.97     0.0000 -4496.3821 -4369.5134\n",
      "---------------------------------End of Summary---------------------------------\n",
      "\n"
     ]
    }
   ],
   "source": [
    "model = pd.ols(y=train_Y['Solar1'], x=train_X, intercept=True)\n",
    "print(model)"
   ]
  },
  {
   "cell_type": "markdown",
   "metadata": {},
   "source": [
    "・有意ではあるが、結果に殆ど影響してくれない。既存モデルよりはsincosの方が良さそう。とりあえず４変数のモデルで。必要に応じて増やそう。<br>\n",
    "・まだ過学習はしていなさそう。"
   ]
  },
  {
   "cell_type": "markdown",
   "metadata": {},
   "source": [
    "***\n",
    "0.2　TimeをSin関数で表記する<br>\n",
    "<br>\n",
    "既存スコア：MAE_train: 394.887469193　MAE_test: 394.775475816"
   ]
  },
  {
   "cell_type": "code",
   "execution_count": 9,
   "metadata": {
    "collapsed": true
   },
   "outputs": [],
   "source": [
    "df = df_S1[df_S1['Zero-Time'] == 0].drop(['Zero-Time'] , axis=1)"
   ]
  },
  {
   "cell_type": "code",
   "execution_count": 10,
   "metadata": {
    "collapsed": false
   },
   "outputs": [
    {
     "data": {
      "image/png": "[encoded data removed]",
      "text/plain": [
       "<matplotlib.figure.Figure at 0x113b02358>"
      ]
     },
     "metadata": {},
     "output_type": "display_data"
    }
   ],
   "source": [
    "#TimeをFFTしてパワースペクトルを見る\n",
    "time = df_S1.groupby('Time')['Solar1'].max()\n",
    "\n",
    "#FFT\n",
    "from scipy import fftpack\n",
    "sample_freq = fftpack.fftfreq(np.array(time).size, d=1)\n",
    "y_fft = fftpack.fft(np.array(time))\n",
    "pidxs = np.where(sample_freq > 0)\n",
    "freqs, power = sample_freq[pidxs], np.abs(y_fft)[pidxs]\n",
    "freq = freqs[power.argmax()]\n",
    "\n",
    "#Plot\n",
    "plt.loglog(freqs, power,'b.-',lw=1)\n",
    "plt.xlabel('Frequency')\n",
    "plt.ylabel('Power')\n",
    "plt.grid(True)"
   ]
  },
  {
   "cell_type": "code",
   "execution_count": 11,
   "metadata": {
    "collapsed": false
   },
   "outputs": [
    {
     "name": "stdout",
     "output_type": "stream",
     "text": [
      "MAE_train: 361.740892518\n",
      "MAE_test: 361.903569111\n"
     ]
    }
   ],
   "source": [
    "#変化が小さい部分を恣意的にカットした\n",
    "df = df_S1[df_S1['Zero-Time'] == 0].drop(['Zero-Time'] , axis=1)\n",
    "df['sind'] = np.sin(2*np.pi*df['Date-No']/365)\n",
    "df['cosd'] = np.cos(2*np.pi*df['Date-No']/365)\n",
    "df['sin2d'] = np.sin(2*np.pi*df['Date-No']/182.5)\n",
    "df['cos2d'] = np.cos(2*np.pi*df['Date-No']/182.5)\n",
    "df['sint'] = np.sin(2*np.pi*(df['Time']-5)/28)\n",
    "df['cost'] = np.cos(2*np.pi*(df['Time']-5)/28)\n",
    "df['cos2t'] = np.cos(2*2*np.pi*(df['Time']-5)/28)\n",
    "df['sin3t'] = np.sin(2*3*np.pi*(df['Time']-5)/28)\n",
    "df['cos3t'] = np.cos(2*3*np.pi*(df['Time']-5)/28)\n",
    "df['sin4t'] = np.sin(2*4*np.pi*(df['Time']-5)/28)\n",
    "df['cos4t'] = np.cos(2*4*np.pi*(df['Time']-5)/28)\n",
    "df = df.drop(['Date-No','Time'], axis=1)\n",
    "\n",
    "#train, testを分けて（10回やって、その平均をスコアとする）\n",
    "MAE_train = []\n",
    "MAE_test = []\n",
    "for i in range(10,20):\n",
    "    train,test=train_test_split(df,test_size=0.3,random_state=i)\n",
    "    train_X=train[train.columns[1:]]\n",
    "    train_Y=train[train.columns[:1]]\n",
    "    test_X=test[test.columns[1:]]\n",
    "    test_Y=test[test.columns[:1]]\n",
    "    X=df[df.columns[1:]]\n",
    "    Y=df['Solar1']\n",
    "\n",
    "    #Lasso回帰\n",
    "    clf_lasso = linear_model.Lasso(alpha=1.0)\n",
    "    clf_lasso.fit(train_X, train_Y)\n",
    "\n",
    "    train_Y['Predicted'] = clf_lasso.predict(train_X.as_matrix())\n",
    "    train_Y['Predicted'] = train_Y['Predicted'].map(lambda x: 0 if x<0 else x)\n",
    "    train_Y['Error_abs'] = np.abs(train_Y['Solar1'] - train_Y['Predicted'])\n",
    "\n",
    "    test_Y['Predicted'] = clf_lasso.predict(test_X.as_matrix())\n",
    "    test_Y['Predicted'] = test_Y['Predicted'].map(lambda x: 0 if x<0 else x)\n",
    "    test_Y['Error_abs'] = np.abs(test_Y['Solar1'] - test_Y['Predicted'])\n",
    "\n",
    "    MAE_train.append(train_Y['Error_abs'].mean())\n",
    "    MAE_test.append(test_Y['Error_abs'].mean())\n",
    "\n",
    "print(\"MAE_train:\", np.mean(np.array(MAE_train)))\n",
    "print(\"MAE_test:\", np.mean(np.array(MAE_test)))"
   ]
  },
  {
   "cell_type": "code",
   "execution_count": 12,
   "metadata": {
    "collapsed": false
   },
   "outputs": [
    {
     "name": "stdout",
     "output_type": "stream",
     "text": [
      "\n",
      "-------------------------Summary of Regression Analysis-------------------------\n",
      "\n",
      "Formula: Y ~ <Rain> + <Temp> + <Wave> + <Clowdy> + <Rainy> + <Snowy> + <sind>\n",
      "             + <cosd> + <sin2d> + <cos2d> + <sint> + <cost> + <cos2t> + <sin3t>\n",
      "             + <cos3t> + <sin4t> + <cos4t> + <intercept>\n",
      "\n",
      "Number of Observations:         28537\n",
      "Number of Degrees of Freedom:   18\n",
      "\n",
      "R-squared:         0.7269\n",
      "Adj R-squared:     0.7267\n",
      "\n",
      "Rmse:            500.6335\n",
      "\n",
      "F-stat (17, 28519):  4465.2354, p-value:     0.0000\n",
      "\n",
      "Degrees of Freedom: model 17, resid 28519\n",
      "\n",
      "-----------------------Summary of Estimated Coefficients------------------------\n",
      "      Variable       Coef    Std Err     t-stat    p-value    CI 2.5%   CI 97.5%\n",
      "--------------------------------------------------------------------------------\n",
      "          Rain   -11.3634     0.2713     -41.89     0.0000   -11.8951   -10.8318\n",
      "          Temp    15.1299     1.1483      13.18     0.0000    12.8792    17.3806\n",
      "          Wave    11.9239     4.4873       2.66     0.0079     3.1288    20.7191\n",
      "        Clowdy  -275.5281     7.8761     -34.98     0.0000  -290.9653  -260.0909\n",
      "         Rainy  -273.6866    17.9627     -15.24     0.0000  -308.8935  -238.4797\n",
      "--------------------------------------------------------------------------------\n",
      "         Snowy  -152.4109    48.1276      -3.17     0.0015  -246.7409   -58.0809\n",
      "          sind   171.6395     7.3275      23.42     0.0000   157.2777   186.0013\n",
      "          cosd  -197.7389    11.8080     -16.75     0.0000  -220.8826  -174.5952\n",
      "         sin2d    19.2857     4.2240       4.57     0.0000    11.0067    27.5647\n",
      "         cos2d   -36.8690     4.3224      -8.53     0.0000   -45.3409   -28.3972\n",
      "--------------------------------------------------------------------------------\n",
      "          sint  4088.7715  1092.4146       3.74     0.0002  1947.6388  6229.9042\n",
      "          cost    36.2988     6.0935       5.96     0.0000    24.3554    48.2421\n",
      "         cos2t  1876.3947   690.2045       2.72     0.0066   523.5940  3229.1955\n",
      "         sin3t -1438.2122   297.3671      -4.84     0.0000 -2021.0516  -855.3727\n",
      "         cos3t   -38.3860     7.6932      -4.99     0.0000   -53.4648   -23.3073\n",
      "--------------------------------------------------------------------------------\n",
      "         sin4t    13.8478     7.8587       1.76     0.0781    -1.5553    29.2509\n",
      "         cos4t  -430.7539    70.4542      -6.11     0.0000  -568.8441  -292.6636\n",
      "     intercept -1236.5097   632.0211      -1.96     0.0504 -2475.2710     2.2516\n",
      "---------------------------------End of Summary---------------------------------\n",
      "\n"
     ]
    }
   ],
   "source": [
    "model = pd.ols(y=train_Y['Solar1'], x=train_X, intercept=True)\n",
    "print(model)"
   ]
  },
  {
   "cell_type": "markdown",
   "metadata": {},
   "source": [
    "・この下で全ての変数が高い確率で機能していると言える。より細かいチューニングはまた後で。<br>\n",
    "・スコアがかなり改善した！"
   ]
  },
  {
   "cell_type": "markdown",
   "metadata": {},
   "source": [
    "***\n",
    "##### 1.1　交差項を加える：Weatherたちについて<br>\n",
    "<br>\n",
    "既存スコア：MAE_train: 361.740892518　MAE_test: 361.903569111"
   ]
  },
  {
   "cell_type": "code",
   "execution_count": 13,
   "metadata": {
    "collapsed": false
   },
   "outputs": [
    {
     "name": "stdout",
     "output_type": "stream",
     "text": [
      "MAE_train: 361.736669246\n",
      "MAE_test: 361.962057174\n"
     ]
    }
   ],
   "source": [
    "df = df_S1[df_S1['Zero-Time'] == 0].drop(['Zero-Time'] , axis=1)\n",
    "df['sind'] = np.sin(2*np.pi*df['Date-No']/365)\n",
    "df['cosd'] = np.cos(2*np.pi*df['Date-No']/365)\n",
    "df['sin2d'] = np.sin(2*np.pi*df['Date-No']/182.5)\n",
    "df['cos2d'] = np.cos(2*np.pi*df['Date-No']/182.5)\n",
    "df['sint'] = np.sin(2*np.pi*(df['Time']-5)/28)\n",
    "df['cost'] = np.cos(2*np.pi*(df['Time']-5)/28)\n",
    "df['cos2t'] = np.cos(2*2*np.pi*(df['Time']-5)/28)\n",
    "df['sin3t'] = np.sin(2*3*np.pi*(df['Time']-5)/28)\n",
    "df['cos3t'] = np.cos(2*3*np.pi*(df['Time']-5)/28)\n",
    "df['sin4t'] = np.sin(2*4*np.pi*(df['Time']-5)/28)\n",
    "df['cos4t'] = np.cos(2*4*np.pi*(df['Time']-5)/28)\n",
    "df = df.drop(['Date-No','Time'], axis=1)\n",
    "\n",
    "df['Rain_Rainy'] = df['Rain'] * df['Rainy']\n",
    "df['Rain_Cloudy'] = df['Rain'] * df['Clowdy']\n",
    "df['Rain_Snowy'] = df['Rain'] * df['Snowy']\n",
    "\n",
    "#train, testを分けて（10回やって、その平均をスコアとする）\n",
    "MAE_train = []\n",
    "MAE_test = []\n",
    "for i in range(10,20):\n",
    "    train,test=train_test_split(df,test_size=0.3,random_state=i)\n",
    "    train_X=train[train.columns[1:]]\n",
    "    train_Y=train[train.columns[:1]]\n",
    "    test_X=test[test.columns[1:]]\n",
    "    test_Y=test[test.columns[:1]]\n",
    "    X=df[df.columns[1:]]\n",
    "    Y=df['Solar1']\n",
    "\n",
    "    #Lasso回帰\n",
    "    clf_lasso = linear_model.Lasso(alpha=1.0)\n",
    "    clf_lasso.fit(train_X, train_Y)\n",
    "\n",
    "    train_Y['Predicted'] = clf_lasso.predict(train_X.as_matrix())\n",
    "    train_Y['Predicted'] = train_Y['Predicted'].map(lambda x: 0 if x<0 else x)\n",
    "    train_Y['Error_abs'] = np.abs(train_Y['Solar1'] - train_Y['Predicted'])\n",
    "\n",
    "    test_Y['Predicted'] = clf_lasso.predict(test_X.as_matrix())\n",
    "    test_Y['Predicted'] = test_Y['Predicted'].map(lambda x: 0 if x<0 else x)\n",
    "    test_Y['Error_abs'] = np.abs(test_Y['Solar1'] - test_Y['Predicted'])\n",
    "\n",
    "    MAE_train.append(train_Y['Error_abs'].mean())\n",
    "    MAE_test.append(test_Y['Error_abs'].mean())\n",
    "\n",
    "print(\"MAE_train:\", np.mean(np.array(MAE_train)))\n",
    "print(\"MAE_test:\", np.mean(np.array(MAE_test)))"
   ]
  },
  {
   "cell_type": "code",
   "execution_count": 14,
   "metadata": {
    "collapsed": false
   },
   "outputs": [
    {
     "name": "stdout",
     "output_type": "stream",
     "text": [
      "MAE_train: 360.912008609\n",
      "MAE_test: 361.174059351\n"
     ]
    }
   ],
   "source": [
    "#train, testを分けて（10回やって、その平均をスコアとする）\n",
    "MAE_train = []\n",
    "MAE_test = []\n",
    "for i in range(10,20):\n",
    "    train,test=train_test_split(df,test_size=0.3,random_state=i)\n",
    "    train_X=train[train.columns[1:]]\n",
    "    train_Y=train[train.columns[:1]]\n",
    "    test_X=test[test.columns[1:]]\n",
    "    test_Y=test[test.columns[:1]]\n",
    "    X=df[df.columns[1:]]\n",
    "    Y=df['Solar1']\n",
    "\n",
    "    #重回帰分析\n",
    "    clf = linear_model.LinearRegression()\n",
    "    clf.fit(train_X, train_Y)\n",
    "\n",
    "    train_Y['Predicted'] = clf.predict(train_X)\n",
    "    train_Y['Predicted'] = train_Y['Predicted'].map(lambda x: 0 if x<0 else x)\n",
    "    train_Y['Error_abs'] = np.abs(train_Y['Solar1'] - train_Y['Predicted'])\n",
    "\n",
    "    test_Y['Predicted'] = clf.predict(test_X)\n",
    "    test_Y['Predicted'] = test_Y['Predicted'].map(lambda x: 0 if x<0 else x)\n",
    "    test_Y['Error_abs'] = np.abs(test_Y['Solar1'] - test_Y['Predicted'])\n",
    "\n",
    "    MAE_train.append(train_Y['Error_abs'].mean())\n",
    "    MAE_test.append(test_Y['Error_abs'].mean())\n",
    "\n",
    "print(\"MAE_train:\", np.mean(np.array(MAE_train)))\n",
    "print(\"MAE_test:\", np.mean(np.array(MAE_test)))"
   ]
  },
  {
   "cell_type": "code",
   "execution_count": 15,
   "metadata": {
    "collapsed": false
   },
   "outputs": [
    {
     "name": "stdout",
     "output_type": "stream",
     "text": [
      "\n",
      "-------------------------Summary of Regression Analysis-------------------------\n",
      "\n",
      "Formula: Y ~ <Rain> + <Temp> + <Wave> + <Clowdy> + <Rainy> + <Snowy> + <sind>\n",
      "             + <cosd> + <sin2d> + <cos2d> + <sint> + <cost> + <cos2t> + <sin3t>\n",
      "             + <cos3t> + <sin4t> + <cos4t> + <Rain_Rainy> + <Rain_Cloudy>\n",
      "             + <Rain_Snowy> + <intercept>\n",
      "\n",
      "Number of Observations:         28537\n",
      "Number of Degrees of Freedom:   21\n",
      "\n",
      "R-squared:         0.7278\n",
      "Adj R-squared:     0.7276\n",
      "\n",
      "Rmse:            499.8098\n",
      "\n",
      "F-stat (20, 28516):  3812.8249, p-value:     0.0000\n",
      "\n",
      "Degrees of Freedom: model 20, resid 28516\n",
      "\n",
      "-----------------------Summary of Estimated Coefficients------------------------\n",
      "      Variable       Coef    Std Err     t-stat    p-value    CI 2.5%   CI 97.5%\n",
      "--------------------------------------------------------------------------------\n",
      "          Rain    -8.5173     0.5756     -14.80     0.0000    -9.6456    -7.3891\n",
      "          Temp    14.6011     1.1533      12.66     0.0000    12.3406    16.8616\n",
      "          Wave     9.8019     4.5175       2.17     0.0300     0.9476    18.6561\n",
      "        Clowdy  -206.0539    11.1262     -18.52     0.0000  -227.8613  -184.2466\n",
      "         Rainy  -477.0620    42.9578     -11.11     0.0000  -561.2593  -392.8648\n",
      "--------------------------------------------------------------------------------\n",
      "         Snowy  -530.8537   231.5058      -2.29     0.0219  -984.6050   -77.1024\n",
      "          sind   167.6998     7.3283      22.88     0.0000   153.3364   182.0632\n",
      "          cosd  -201.3720    11.7964     -17.07     0.0000  -224.4929  -178.2510\n",
      "         sin2d    18.0863     4.2306       4.28     0.0000     9.7943    26.3783\n",
      "         cos2d   -37.9623     4.3225      -8.78     0.0000   -46.4344   -29.4902\n",
      "--------------------------------------------------------------------------------\n",
      "          sint  4106.5498  1090.6808       3.77     0.0002  1968.8153  6244.2842\n",
      "          cost    35.9824     6.0855       5.91     0.0000    24.0547    47.9101\n",
      "         cos2t  1884.1866   689.1128       2.73     0.0063   533.5255  3234.8477\n",
      "         sin3t -1438.6663   296.9010      -4.85     0.0000 -2020.5922  -856.7404\n",
      "         cos3t   -39.6436     7.6820      -5.16     0.0000   -54.7003   -24.5869\n",
      "--------------------------------------------------------------------------------\n",
      "         sin4t    14.0059     7.8494       1.78     0.0744    -1.3788    29.3906\n",
      "         cos4t  -430.1477    70.3436      -6.11     0.0000  -568.0213  -292.2742\n",
      "    Rain_Rainy     0.6736     0.8830       0.76     0.4455    -1.0570     2.4042\n",
      "   Rain_Cloudy    -4.8913     0.6573      -7.44     0.0000    -6.1796    -3.6031\n",
      "    Rain_Snowy     2.5201     3.1129       0.81     0.4182    -3.5811     8.6213\n",
      "--------------------------------------------------------------------------------\n",
      "     intercept -1256.7088   631.0024      -1.99     0.0464 -2493.4734   -19.9442\n",
      "---------------------------------End of Summary---------------------------------\n",
      "\n"
     ]
    }
   ],
   "source": [
    "model = pd.ols(y=train_Y['Solar1'], x=train_X, intercept=True)\n",
    "print(model)"
   ]
  },
  {
   "cell_type": "markdown",
   "metadata": {},
   "source": [
    "・殆ど変化がない。"
   ]
  },
  {
   "cell_type": "code",
   "execution_count": 24,
   "metadata": {
    "collapsed": true
   },
   "outputs": [],
   "source": [
    "del X, Y"
   ]
  },
  {
   "cell_type": "markdown",
   "metadata": {},
   "source": [
    "***\n",
    "#### 2　様々な値にlogをとる\n",
    "\n",
    "※Solarは0以上の値しか取らないので、logをとるのは手としてはあり。<br>\n",
    "既存スコア：MAE_train: 361.740892518　MAE_test: 361.903569111"
   ]
  },
  {
   "cell_type": "markdown",
   "metadata": {},
   "source": [
    "###### 2.1  ゼロ当てゲーム（Near 0  : < 100はどちらで判別してもok）"
   ]
  },
  {
   "cell_type": "code",
   "execution_count": 3,
   "metadata": {
    "collapsed": false
   },
   "outputs": [],
   "source": [
    "df = df_S1[df_S1['Zero-Time'] == 0].drop(['Zero-Time'] , axis=1)\n",
    "df = df[(df['Solar1']==0)|(df['Solar1']>= 100)]"
   ]
  },
  {
   "cell_type": "code",
   "execution_count": 26,
   "metadata": {
    "collapsed": false
   },
   "outputs": [
    {
     "data": {
      "text/plain": [
       "<matplotlib.axes._subplots.AxesSubplot at 0x1136022e8>"
      ]
     },
     "execution_count": 26,
     "metadata": {},
     "output_type": "execute_result"
    },
    {
     "data": {
      "image/png": "[encoded data removed]",
      "text/plain": [
       "<matplotlib.figure.Figure at 0x1135cdfd0>"
      ]
     },
     "metadata": {},
     "output_type": "display_data"
    }
   ],
   "source": [
    "df['Solar1'].hist(bins=70)"
   ]
  },
  {
   "cell_type": "code",
   "execution_count": 27,
   "metadata": {
    "collapsed": false
   },
   "outputs": [
    {
     "data": {
      "text/plain": [
       "0-Quiz\n",
       "0    29569\n",
       "1     7743\n",
       "Name: 0-Quiz, dtype: int64"
      ]
     },
     "execution_count": 27,
     "metadata": {},
     "output_type": "execute_result"
    }
   ],
   "source": [
    "df['0-Quiz'] = df['Solar1'].map(lambda x : 1 if x == 0 else 0)\n",
    "df.groupby('0-Quiz')['0-Quiz'].count()"
   ]
  },
  {
   "cell_type": "markdown",
   "metadata": {},
   "source": [
    "・この分類問題を事前に解くことによって、より回帰が正確になりそう！"
   ]
  },
  {
   "cell_type": "code",
   "execution_count": 28,
   "metadata": {
    "collapsed": false
   },
   "outputs": [
    {
     "data": {
      "text/html": [
       "<div>\n",
       "<table border=\"1\" class=\"dataframe\">\n",
       "  <thead>\n",
       "    <tr style=\"text-align: right;\">\n",
       "      <th></th>\n",
       "      <th>0-Quiz</th>\n",
       "      <th>Time-from-5</th>\n",
       "      <th>Time-to-19</th>\n",
       "      <th>sind</th>\n",
       "      <th>cosd</th>\n",
       "      <th>sin2d</th>\n",
       "      <th>cos2d</th>\n",
       "      <th>Rain</th>\n",
       "      <th>Temp</th>\n",
       "      <th>Wave</th>\n",
       "      <th>Clowdy</th>\n",
       "      <th>Rainy</th>\n",
       "      <th>Snowy</th>\n",
       "    </tr>\n",
       "  </thead>\n",
       "  <tbody>\n",
       "    <tr>\n",
       "      <th>9</th>\n",
       "      <td>1</td>\n",
       "      <td>0.0</td>\n",
       "      <td>14.0</td>\n",
       "      <td>0.017213</td>\n",
       "      <td>0.999852</td>\n",
       "      <td>0.034422</td>\n",
       "      <td>0.999407</td>\n",
       "      <td>30.0</td>\n",
       "      <td>4</td>\n",
       "      <td>0.5</td>\n",
       "      <td>1</td>\n",
       "      <td>0</td>\n",
       "      <td>0</td>\n",
       "    </tr>\n",
       "    <tr>\n",
       "      <th>10</th>\n",
       "      <td>1</td>\n",
       "      <td>0.5</td>\n",
       "      <td>13.5</td>\n",
       "      <td>0.017213</td>\n",
       "      <td>0.999852</td>\n",
       "      <td>0.034422</td>\n",
       "      <td>0.999407</td>\n",
       "      <td>30.0</td>\n",
       "      <td>4</td>\n",
       "      <td>0.5</td>\n",
       "      <td>1</td>\n",
       "      <td>0</td>\n",
       "      <td>0</td>\n",
       "    </tr>\n",
       "    <tr>\n",
       "      <th>11</th>\n",
       "      <td>1</td>\n",
       "      <td>1.0</td>\n",
       "      <td>13.0</td>\n",
       "      <td>0.017213</td>\n",
       "      <td>0.999852</td>\n",
       "      <td>0.034422</td>\n",
       "      <td>0.999407</td>\n",
       "      <td>30.0</td>\n",
       "      <td>4</td>\n",
       "      <td>0.5</td>\n",
       "      <td>1</td>\n",
       "      <td>0</td>\n",
       "      <td>0</td>\n",
       "    </tr>\n",
       "    <tr>\n",
       "      <th>12</th>\n",
       "      <td>1</td>\n",
       "      <td>1.5</td>\n",
       "      <td>12.5</td>\n",
       "      <td>0.017213</td>\n",
       "      <td>0.999852</td>\n",
       "      <td>0.034422</td>\n",
       "      <td>0.999407</td>\n",
       "      <td>30.0</td>\n",
       "      <td>4</td>\n",
       "      <td>0.5</td>\n",
       "      <td>1</td>\n",
       "      <td>0</td>\n",
       "      <td>0</td>\n",
       "    </tr>\n",
       "    <tr>\n",
       "      <th>13</th>\n",
       "      <td>1</td>\n",
       "      <td>2.0</td>\n",
       "      <td>12.0</td>\n",
       "      <td>0.017213</td>\n",
       "      <td>0.999852</td>\n",
       "      <td>0.034422</td>\n",
       "      <td>0.999407</td>\n",
       "      <td>30.0</td>\n",
       "      <td>4</td>\n",
       "      <td>0.5</td>\n",
       "      <td>1</td>\n",
       "      <td>0</td>\n",
       "      <td>0</td>\n",
       "    </tr>\n",
       "  </tbody>\n",
       "</table>\n",
       "</div>"
      ],
      "text/plain": [
       "    0-Quiz  Time-from-5  Time-to-19      sind      cosd     sin2d     cos2d  \\\n",
       "9        1          0.0        14.0  0.017213  0.999852  0.034422  0.999407   \n",
       "10       1          0.5        13.5  0.017213  0.999852  0.034422  0.999407   \n",
       "11       1          1.0        13.0  0.017213  0.999852  0.034422  0.999407   \n",
       "12       1          1.5        12.5  0.017213  0.999852  0.034422  0.999407   \n",
       "13       1          2.0        12.0  0.017213  0.999852  0.034422  0.999407   \n",
       "\n",
       "    Rain  Temp  Wave  Clowdy  Rainy  Snowy  \n",
       "9   30.0     4   0.5       1      0      0  \n",
       "10  30.0     4   0.5       1      0      0  \n",
       "11  30.0     4   0.5       1      0      0  \n",
       "12  30.0     4   0.5       1      0      0  \n",
       "13  30.0     4   0.5       1      0      0  "
      ]
     },
     "execution_count": 28,
     "metadata": {},
     "output_type": "execute_result"
    }
   ],
   "source": [
    "#問題設定\n",
    "df = df_S1[df_S1['Zero-Time'] == 0].drop(['Zero-Time'] , axis=1)\n",
    "df = df[(df['Solar1']==0)|(df['Solar1']>= 100)]\n",
    "df['0-Quiz'] = df['Solar1'].map(lambda x : 1 if x == 0 else 0)\n",
    "\n",
    "df['Time-from-5'] = df['Time'] - 5\n",
    "df['Time-to-19'] = 19 - df['Time']\n",
    "df['sind'] = np.sin(2*np.pi*df['Date-No']/365)\n",
    "df['cosd'] = np.cos(2*np.pi*df['Date-No']/365)\n",
    "df['sin2d'] = np.sin(2*np.pi*df['Date-No']/182.5)\n",
    "df['cos2d'] = np.cos(2*np.pi*df['Date-No']/182.5)\n",
    "\n",
    "df = df.ix[:,['0-Quiz', 'Time-from-5', 'Time-to-19', 'sind', 'cosd', 'sin2d', 'cos2d', 'Rain', 'Temp', 'Wave', 'Clowdy', 'Rainy', 'Snowy']]\n",
    "df.head()"
   ]
  },
  {
   "cell_type": "code",
   "execution_count": 5,
   "metadata": {
    "collapsed": true
   },
   "outputs": [],
   "source": [
    "#importing all the required ML packages\n",
    "from sklearn.linear_model import LogisticRegression \n",
    "from sklearn import svm\n",
    "from sklearn.ensemble import RandomForestClassifier\n",
    "from sklearn.neighbors import KNeighborsClassifier\n",
    "from sklearn.naive_bayes import GaussianNB\n",
    "from sklearn.tree import DecisionTreeClassifier\n",
    "from sklearn.model_selection import train_test_split\n",
    "from sklearn import metrics\n",
    "from sklearn.metrics import confusion_matrix"
   ]
  },
  {
   "cell_type": "code",
   "execution_count": 29,
   "metadata": {
    "collapsed": true
   },
   "outputs": [],
   "source": [
    "#Split Test and Training\n",
    "train,test=train_test_split(df,test_size=0.3,random_state=0,stratify=df['0-Quiz'])\n",
    "train_X=train[train.columns[1:]]\n",
    "train_Y=train[train.columns[:1]]\n",
    "test_X=test[test.columns[1:]]\n",
    "test_Y=test[test.columns[:1]]\n",
    "X=df[df.columns[1:]]\n",
    "Y=df['0-Quiz']"
   ]
  },
  {
   "cell_type": "code",
   "execution_count": 7,
   "metadata": {
    "collapsed": false
   },
   "outputs": [
    {
     "name": "stdout",
     "output_type": "stream",
     "text": [
      "Accuracy for rbf SVM is  0.983562622834\n"
     ]
    }
   ],
   "source": [
    "#radial SVM\n",
    "model=svm.SVC(kernel='rbf',C=1,gamma=0.1)\n",
    "model.fit(train_X,train_Y)\n",
    "prediction1=model.predict(test_X)\n",
    "print('Accuracy for rbf SVM is ',metrics.accuracy_score(prediction1,test_Y))"
   ]
  },
  {
   "cell_type": "code",
   "execution_count": 32,
   "metadata": {
    "collapsed": false
   },
   "outputs": [
    {
     "name": "stdout",
     "output_type": "stream",
     "text": [
      "The accuracy of the Random Forests is 0.988207968555\n"
     ]
    }
   ],
   "source": [
    "#RF\n",
    "model=RandomForestClassifier(n_estimators=100)\n",
    "model.fit(train_X,train_Y)\n",
    "prediction7=model.predict(test_X)\n",
    "print('The accuracy of the Random Forests is',metrics.accuracy_score(prediction7,test_Y))"
   ]
  },
  {
   "cell_type": "code",
   "execution_count": 33,
   "metadata": {
    "collapsed": false
   },
   "outputs": [
    {
     "data": {
      "text/html": [
       "<div>\n",
       "<table border=\"1\" class=\"dataframe\">\n",
       "  <thead>\n",
       "    <tr style=\"text-align: right;\">\n",
       "      <th></th>\n",
       "      <th>CV Mean</th>\n",
       "      <th>Std</th>\n",
       "    </tr>\n",
       "  </thead>\n",
       "  <tbody>\n",
       "    <tr>\n",
       "      <th>Radial Svm</th>\n",
       "      <td>0.977273</td>\n",
       "      <td>0.005982</td>\n",
       "    </tr>\n",
       "    <tr>\n",
       "      <th>Logistic Regression</th>\n",
       "      <td>0.797784</td>\n",
       "      <td>0.091871</td>\n",
       "    </tr>\n",
       "    <tr>\n",
       "      <th>KNN</th>\n",
       "      <td>0.972502</td>\n",
       "      <td>0.005200</td>\n",
       "    </tr>\n",
       "    <tr>\n",
       "      <th>Decision Tree</th>\n",
       "      <td>0.973011</td>\n",
       "      <td>0.007268</td>\n",
       "    </tr>\n",
       "    <tr>\n",
       "      <th>Naive Bayes</th>\n",
       "      <td>0.856881</td>\n",
       "      <td>0.054016</td>\n",
       "    </tr>\n",
       "    <tr>\n",
       "      <th>Random Forest</th>\n",
       "      <td>0.980650</td>\n",
       "      <td>0.005756</td>\n",
       "    </tr>\n",
       "  </tbody>\n",
       "</table>\n",
       "</div>"
      ],
      "text/plain": [
       "                      CV Mean       Std\n",
       "Radial Svm           0.977273  0.005982\n",
       "Logistic Regression  0.797784  0.091871\n",
       "KNN                  0.972502  0.005200\n",
       "Decision Tree        0.973011  0.007268\n",
       "Naive Bayes          0.856881  0.054016\n",
       "Random Forest        0.980650  0.005756"
      ]
     },
     "execution_count": 33,
     "metadata": {},
     "output_type": "execute_result"
    }
   ],
   "source": [
    "#交差検証を用いた性能評価\n",
    "from sklearn.model_selection import KFold #for K-fold cross validation\n",
    "from sklearn.model_selection import cross_val_score #score evaluation\n",
    "kfold = KFold(n_splits=10, random_state=22) # k=10, split the data into 10 equal parts\n",
    "xyz=[]\n",
    "accuracy=[]\n",
    "std=[]\n",
    "classifiers=['Radial Svm','Logistic Regression','KNN','Decision Tree','Naive Bayes','Random Forest']\n",
    "models=[svm.SVC(kernel='rbf'),LogisticRegression(),KNeighborsClassifier(n_neighbors=9),DecisionTreeClassifier(),GaussianNB(),RandomForestClassifier(n_estimators=100)]\n",
    "for i in models:\n",
    "    model = i\n",
    "    cv_result = cross_val_score(model,X,Y, cv = kfold,scoring = \"accuracy\")\n",
    "    xyz.append(cv_result.mean())\n",
    "    std.append(cv_result.std())\n",
    "    accuracy.append(cv_result)\n",
    "new_models_dataframe2=pd.DataFrame({'CV Mean':xyz,'Std':std},index=classifiers)       \n",
    "new_models_dataframe2"
   ]
  },
  {
   "cell_type": "code",
   "execution_count": 34,
   "metadata": {
    "collapsed": false
   },
   "outputs": [
    {
     "data": {
      "text/plain": [
       "<matplotlib.axes._subplots.AxesSubplot at 0x113a02ac8>"
      ]
     },
     "execution_count": 34,
     "metadata": {},
     "output_type": "execute_result"
    },
    {
     "data": {
      "image/png": "[encoded data removed]",
      "text/plain": [
       "<matplotlib.figure.Figure at 0x113ec9358>"
      ]
     },
     "metadata": {},
     "output_type": "display_data"
    }
   ],
   "source": [
    "plt.subplots(figsize=(12,6))\n",
    "box=pd.DataFrame(accuracy,index=[classifiers])\n",
    "box.T.boxplot()"
   ]
  },
  {
   "cell_type": "markdown",
   "metadata": {},
   "source": [
    "RandomForestで問題なさそう。"
   ]
  },
  {
   "cell_type": "code",
   "execution_count": 11,
   "metadata": {
    "collapsed": false
   },
   "outputs": [
    {
     "data": {
      "image/png": "[encoded data removed]",
      "text/plain": [
       "<matplotlib.figure.Figure at 0x1183e06d8>"
      ]
     },
     "metadata": {},
     "output_type": "display_data"
    }
   ],
   "source": [
    "#Confusion Matrix\n",
    "from sklearn.model_selection import cross_val_predict #prediction\n",
    "f,ax=plt.subplots(1,2,figsize=(12,5))\n",
    "y_pred = cross_val_predict(svm.SVC(kernel='rbf'),X,Y,cv=10)\n",
    "sns.heatmap(confusion_matrix(Y,y_pred),ax=ax[0],annot=True,fmt='2.0f')\n",
    "ax[0].set_title('Matrix for rbf-SVM')\n",
    "y_pred = cross_val_predict(RandomForestClassifier(n_estimators=100),X,Y,cv=10)\n",
    "sns.heatmap(confusion_matrix(Y,y_pred),ax=ax[1],annot=True,fmt='2.0f')\n",
    "ax[1].set_title('Matrix for Random-Forests')\n",
    "plt.show()"
   ]
  },
  {
   "cell_type": "markdown",
   "metadata": {},
   "source": [
    "よし。"
   ]
  },
  {
   "cell_type": "code",
   "execution_count": 13,
   "metadata": {
    "collapsed": false
   },
   "outputs": [
    {
     "name": "stdout",
     "output_type": "stream",
     "text": [
      "Fitting 3 folds for each of 9 candidates, totalling 27 fits\n"
     ]
    },
    {
     "name": "stderr",
     "output_type": "stream",
     "text": [
      "[Parallel(n_jobs=1)]: Done  27 out of  27 | elapsed:  4.2min finished\n"
     ]
    },
    {
     "name": "stdout",
     "output_type": "stream",
     "text": [
      "0.980381646655\n",
      "RandomForestClassifier(bootstrap=True, class_weight=None, criterion='gini',\n",
      "            max_depth=None, max_features='auto', max_leaf_nodes=None,\n",
      "            min_impurity_split=1e-07, min_samples_leaf=1,\n",
      "            min_samples_split=2, min_weight_fraction_leaf=0.0,\n",
      "            n_estimators=500, n_jobs=1, oob_score=False, random_state=0,\n",
      "            verbose=0, warm_start=False)\n"
     ]
    }
   ],
   "source": [
    "#hyper-parameterのチューニング：RF\n",
    "from sklearn.model_selection import GridSearchCV\n",
    "n_estimators=range(100,1000,100)\n",
    "hyper={'n_estimators':n_estimators}\n",
    "gd=GridSearchCV(estimator=RandomForestClassifier(random_state=0),param_grid=hyper,verbose=True)\n",
    "gd.fit(X,Y)\n",
    "print(gd.best_score_)\n",
    "print(gd.best_estimator_)"
   ]
  },
  {
   "cell_type": "markdown",
   "metadata": {},
   "source": [
    "・n_estimators = 500で良さそう。"
   ]
  },
  {
   "cell_type": "code",
   "execution_count": 18,
   "metadata": {
    "collapsed": false
   },
   "outputs": [
    {
     "data": {
      "text/plain": [
       "<matplotlib.text.Text at 0x111ab9080>"
      ]
     },
     "execution_count": 18,
     "metadata": {},
     "output_type": "execute_result"
    },
    {
     "data": {
      "image/png": "[encoded data removed]",
      "text/plain": [
       "<matplotlib.figure.Figure at 0x1181c4f60>"
      ]
     },
     "metadata": {},
     "output_type": "display_data"
    }
   ],
   "source": [
    "#ちなみに特徴量の貢献度\n",
    "model=RandomForestClassifier(n_estimators=500,random_state=0)\n",
    "model.fit(X,Y)\n",
    "pd.Series(model.feature_importances_,X.columns).sort_values(ascending=True).plot.barh(width=0.8)\n",
    "plt.title('Feature Importance in Random Forests')"
   ]
  },
  {
   "cell_type": "markdown",
   "metadata": {},
   "source": [
    "・RFでパラメータを500に設定すれば、かなり良い分類ができる。<br>\n",
    "・これで0を取り除いて、改めて回帰していこう。"
   ]
  },
  {
   "cell_type": "markdown",
   "metadata": {},
   "source": [
    "#### 3　Tempをしっかり分解したらもっと使えるんじゃないか？？"
   ]
  },
  {
   "cell_type": "markdown",
   "metadata": {},
   "source": [
    "###### 3.1　0-Quizへの適用"
   ]
  },
  {
   "cell_type": "code",
   "execution_count": 24,
   "metadata": {
    "collapsed": false
   },
   "outputs": [
    {
     "data": {
      "text/plain": [
       "<matplotlib.text.Text at 0x111a61e80>"
      ]
     },
     "execution_count": 24,
     "metadata": {},
     "output_type": "execute_result"
    },
    {
     "data": {
      "image/png": "[encoded data removed]",
      "text/plain": [
       "<matplotlib.figure.Figure at 0x1182eee80>"
      ]
     },
     "metadata": {},
     "output_type": "display_data"
    }
   ],
   "source": [
    "f, ax = plt.subplots(1,2,figsize=(18,8))\n",
    "sns.countplot('Temp', hue = '0-Quiz', ax=ax[0], data=df)\n",
    "ax[0].set_title(\"Count: 0 vs Temp\", size = 18)\n",
    "df.groupby(\"Temp\")['0-Quiz'].mean().plot.bar(ax=ax[1])\n",
    "ax[0].set_title(\"Ratio: 0 vs Temp\", size = 18)"
   ]
  },
  {
   "cell_type": "markdown",
   "metadata": {},
   "source": [
    "・かなり線形の貢献率。このままで問題なさそう。"
   ]
  },
  {
   "cell_type": "markdown",
   "metadata": {},
   "source": [
    "###### 3.2　回帰への適用"
   ]
  },
  {
   "cell_type": "code",
   "execution_count": 25,
   "metadata": {
    "collapsed": false
   },
   "outputs": [
    {
     "data": {
      "text/plain": [
       "<matplotlib.axes._subplots.AxesSubplot at 0x11796d898>"
      ]
     },
     "execution_count": 25,
     "metadata": {},
     "output_type": "execute_result"
    },
    {
     "data": {
      "image/png": "[encoded data removed]",
      "text/plain": [
       "<matplotlib.figure.Figure at 0x11794a518>"
      ]
     },
     "metadata": {},
     "output_type": "display_data"
    }
   ],
   "source": [
    "df_S1.groupby('Temp')['Solar1'].max().plot()"
   ]
  },
  {
   "cell_type": "markdown",
   "metadata": {},
   "source": [
    "・これは線形とは言いづらい。二次、三次、四次の項を加えて予測してみる。"
   ]
  },
  {
   "cell_type": "code",
   "execution_count": 27,
   "metadata": {
    "collapsed": false
   },
   "outputs": [
    {
     "name": "stdout",
     "output_type": "stream",
     "text": [
      "MAE_train: 360.362959763\n",
      "MAE_test: 360.416128156\n"
     ]
    }
   ],
   "source": [
    "#変化が小さい部分を恣意的にカットした\n",
    "df = df_S1[df_S1['Zero-Time'] == 0].drop(['Zero-Time'] , axis=1)\n",
    "df['sind'] = np.sin(2*np.pi*df['Date-No']/365)\n",
    "df['cosd'] = np.cos(2*np.pi*df['Date-No']/365)\n",
    "df['sin2d'] = np.sin(2*np.pi*df['Date-No']/182.5)\n",
    "df['cos2d'] = np.cos(2*np.pi*df['Date-No']/182.5)\n",
    "df['sint'] = np.sin(2*np.pi*(df['Time']-5)/28)\n",
    "df['cost'] = np.cos(2*np.pi*(df['Time']-5)/28)\n",
    "df['cos2t'] = np.cos(2*2*np.pi*(df['Time']-5)/28)\n",
    "df['sin3t'] = np.sin(2*3*np.pi*(df['Time']-5)/28)\n",
    "df['cos3t'] = np.cos(2*3*np.pi*(df['Time']-5)/28)\n",
    "df['sin4t'] = np.sin(2*4*np.pi*(df['Time']-5)/28)\n",
    "df['cos4t'] = np.cos(2*4*np.pi*(df['Time']-5)/28)\n",
    "df['Temp2'] = df['Temp'] ** 2\n",
    "df['Temp3'] = df['Temp'] ** 3\n",
    "\n",
    "df = df.drop(['Date-No','Time'], axis=1)\n",
    "\n",
    "#train, testを分けて（10回やって、その平均をスコアとする）\n",
    "MAE_train = []\n",
    "MAE_test = []\n",
    "for i in range(10,20):\n",
    "    train,test=train_test_split(df,test_size=0.3,random_state=i)\n",
    "    train_X=train[train.columns[1:]]\n",
    "    train_Y=train[train.columns[:1]]\n",
    "    test_X=test[test.columns[1:]]\n",
    "    test_Y=test[test.columns[:1]]\n",
    "    X=df[df.columns[1:]]\n",
    "    Y=df['Solar1']\n",
    "\n",
    "    #Lasso回帰\n",
    "    clf_lasso = linear_model.Lasso(alpha=1.0)\n",
    "    clf_lasso.fit(train_X, train_Y)\n",
    "\n",
    "    train_Y['Predicted'] = clf_lasso.predict(train_X.as_matrix())\n",
    "    train_Y['Predicted'] = train_Y['Predicted'].map(lambda x: 0 if x<0 else x)\n",
    "    train_Y['Error_abs'] = np.abs(train_Y['Solar1'] - train_Y['Predicted'])\n",
    "\n",
    "    test_Y['Predicted'] = clf_lasso.predict(test_X.as_matrix())\n",
    "    test_Y['Predicted'] = test_Y['Predicted'].map(lambda x: 0 if x<0 else x)\n",
    "    test_Y['Error_abs'] = np.abs(test_Y['Solar1'] - test_Y['Predicted'])\n",
    "\n",
    "    MAE_train.append(train_Y['Error_abs'].mean())\n",
    "    MAE_test.append(test_Y['Error_abs'].mean())\n",
    "\n",
    "print(\"MAE_train:\", np.mean(np.array(MAE_train)))\n",
    "print(\"MAE_test:\", np.mean(np.array(MAE_test)))"
   ]
  },
  {
   "cell_type": "markdown",
   "metadata": {},
   "source": [
    "・殆ど変化しなかった（ほんの少しの改善）。"
   ]
  },
  {
   "cell_type": "markdown",
   "metadata": {},
   "source": [
    "***\n",
    "### 4　Solar=0を省いた回帰"
   ]
  },
  {
   "cell_type": "code",
   "execution_count": 70,
   "metadata": {
    "collapsed": false
   },
   "outputs": [
    {
     "name": "stdout",
     "output_type": "stream",
     "text": [
      "MAE_train: 391.280125174\n",
      "MAE_test: 392.463183287\n"
     ]
    }
   ],
   "source": [
    "#0でないものからモデルを作る\n",
    "df = df_S1[df_S1['Solar1'] != 0].drop(['Zero-Time'] , axis=1)\n",
    "\n",
    "df['sind'] = np.sin(2*np.pi*df['Date-No']/365)\n",
    "df['cosd'] = np.cos(2*np.pi*df['Date-No']/365)\n",
    "df['sin2d'] = np.sin(2*np.pi*df['Date-No']/182.5)\n",
    "df['cos2d'] = np.cos(2*np.pi*df['Date-No']/182.5)\n",
    "df['sint'] = np.sin(2*np.pi*(df['Time']-5)/28)\n",
    "df['sin3t'] = np.sin(2*3*np.pi*(df['Time']-5)/28)\n",
    "df['cos3t'] = np.cos(2*3*np.pi*(df['Time']-5)/28)\n",
    "df['sin4t'] = np.sin(2*4*np.pi*(df['Time']-5)/28)\n",
    "df['cos4t'] = np.cos(2*4*np.pi*(df['Time']-5)/28)\n",
    "df = df.drop(['Date-No','Time'], axis=1)\n",
    "\n",
    "#train, testを分けて（10回やって、その平均をスコアとする）\n",
    "MAE_train = []\n",
    "MAE_test = []\n",
    "for i in range(10,20):\n",
    "    train,test=train_test_split(df,test_size=0.3,random_state=i)\n",
    "    train_X=train[train.columns[1:]]\n",
    "    train_Y=train[train.columns[:1]]\n",
    "    test_X=test[test.columns[1:]]\n",
    "    test_Y=test[test.columns[:1]]\n",
    "    X=df[df.columns[1:]]\n",
    "    Y=df['Solar1']\n",
    "\n",
    "    #Lasso回帰\n",
    "    clf_lasso = linear_model.Lasso(alpha=1.0)\n",
    "    clf_lasso.fit(train_X, train_Y)\n",
    "\n",
    "    train_Y['Predicted'] = clf_lasso.predict(train_X.as_matrix())\n",
    "    train_Y['Predicted'] = train_Y['Predicted'].map(lambda x: 0 if x<0 else x)\n",
    "    train_Y['Error_abs'] = np.abs(train_Y['Solar1'] - train_Y['Predicted'])\n",
    "\n",
    "    test_Y['Predicted'] = clf_lasso.predict(test_X.as_matrix())\n",
    "    test_Y['Predicted'] = test_Y['Predicted'].map(lambda x: 0 if x<0 else x)\n",
    "    test_Y['Error_abs'] = np.abs(test_Y['Solar1'] - test_Y['Predicted'])\n",
    "\n",
    "    MAE_train.append(train_Y['Error_abs'].mean())\n",
    "    MAE_test.append(test_Y['Error_abs'].mean())\n",
    "\n",
    "print(\"MAE_train:\", np.mean(np.array(MAE_train)))\n",
    "print(\"MAE_test:\", np.mean(np.array(MAE_test)))"
   ]
  },
  {
   "cell_type": "markdown",
   "metadata": {},
   "source": [
    "変わらん。"
   ]
  },
  {
   "cell_type": "code",
   "execution_count": 43,
   "metadata": {
    "collapsed": false
   },
   "outputs": [
    {
     "name": "stdout",
     "output_type": "stream",
     "text": [
      "MAE_train: 780.905993897\n",
      "MAE_test: 778.783974074\n"
     ]
    }
   ],
   "source": [
    "#Logを取りましょう\n",
    "df = df_S1[df_S1['Solar1'] != 0].drop(['Zero-Time'] , axis=1)\n",
    "\n",
    "df['Solar1'] = np.log(df['Solar1'])\n",
    "df['sind'] = np.sin(2*np.pi*df['Date-No']/365)\n",
    "df['cosd'] = np.cos(2*np.pi*df['Date-No']/365)\n",
    "df['sin2d'] = np.sin(2*np.pi*df['Date-No']/182.5)\n",
    "df['cos2d'] = np.cos(2*np.pi*df['Date-No']/182.5)\n",
    "df['sint'] = np.sin(2*np.pi*(df['Time']-5)/28)\n",
    "df['cost'] = np.cos(2*np.pi*(df['Time']-5)/28)\n",
    "df['cos2t'] = np.cos(2*2*np.pi*(df['Time']-5)/28)\n",
    "df['sin3t'] = np.sin(2*3*np.pi*(df['Time']-5)/28)\n",
    "df['cos3t'] = np.cos(2*3*np.pi*(df['Time']-5)/28)\n",
    "df['sin4t'] = np.sin(2*4*np.pi*(df['Time']-5)/28)\n",
    "df['cos4t'] = np.cos(2*4*np.pi*(df['Time']-5)/28)\n",
    "df = df.drop(['Date-No','Time'], axis=1)\n",
    "\n",
    "#train, testを分けて（10回やって、その平均をスコアとする）\n",
    "MAE_train = []\n",
    "MAE_test = []\n",
    "for i in range(10,20):\n",
    "    train,test=train_test_split(df,test_size=0.3,random_state=i)\n",
    "    train_X=train[train.columns[1:]]\n",
    "    train_Y=train[train.columns[:1]]\n",
    "    test_X=test[test.columns[1:]]\n",
    "    test_Y=test[test.columns[:1]]\n",
    "    X=df[df.columns[1:]]\n",
    "    Y=df['Solar1']\n",
    "\n",
    "    #Lasso回帰\n",
    "    clf_lasso = linear_model.Lasso(alpha=1.0)\n",
    "    clf_lasso.fit(train_X, train_Y)\n",
    "\n",
    "    train_Y['Predicted'] = clf_lasso.predict(train_X.as_matrix())\n",
    "    train_Y['Predicted'] = train_Y['Predicted'].map(lambda x: 0 if x<0 else x)\n",
    "    train_Y['Error_abs'] = np.abs(np.exp(train_Y['Solar1']) - np.exp(train_Y['Predicted']))\n",
    "\n",
    "    test_Y['Predicted'] = clf_lasso.predict(test_X.as_matrix())\n",
    "    test_Y['Predicted'] = test_Y['Predicted'].map(lambda x: 0 if x<0 else x)\n",
    "    test_Y['Error_abs'] = np.abs(np.exp(test_Y['Solar1']) - np.exp(test_Y['Predicted']))\n",
    "\n",
    "    MAE_train.append(train_Y['Error_abs'].mean())\n",
    "    MAE_test.append(test_Y['Error_abs'].mean())\n",
    "\n",
    "print(\"MAE_train:\", np.mean(np.array(MAE_train)))\n",
    "print(\"MAE_test:\", np.mean(np.array(MAE_test)))"
   ]
  },
  {
   "cell_type": "markdown",
   "metadata": {},
   "source": [
    "ふえたね"
   ]
  },
  {
   "cell_type": "code",
   "execution_count": 48,
   "metadata": {
    "collapsed": false
   },
   "outputs": [
    {
     "name": "stdout",
     "output_type": "stream",
     "text": [
      "MAE_train: 780.905993897\n",
      "MAE_test: 778.783974074\n"
     ]
    }
   ],
   "source": [
    "#色々Logを取りましょう\n",
    "df = df_S1[df_S1['Solar1'] != 0].drop(['Zero-Time'] , axis=1)\n",
    "\n",
    "lis = ['Solar1', 'Date-No']\n",
    "for i in lis:\n",
    "    df[i] = np.log(df[i])\n",
    "\n",
    "df['sind'] = np.sin(2*np.pi*df['Date-No']/365)\n",
    "df['cosd'] = np.cos(2*np.pi*df['Date-No']/365)\n",
    "df['sin2d'] = np.sin(2*np.pi*df['Date-No']/182.5)\n",
    "df['cos2d'] = np.cos(2*np.pi*df['Date-No']/182.5)\n",
    "df['sint'] = np.sin(2*np.pi*(df['Time']-5)/28)\n",
    "df['cost'] = np.cos(2*np.pi*(df['Time']-5)/28)\n",
    "df['cos2t'] = np.cos(2*2*np.pi*(df['Time']-5)/28)\n",
    "df['sin3t'] = np.sin(2*3*np.pi*(df['Time']-5)/28)\n",
    "df['cos3t'] = np.cos(2*3*np.pi*(df['Time']-5)/28)\n",
    "df['sin4t'] = np.sin(2*4*np.pi*(df['Time']-5)/28)\n",
    "df['cos4t'] = np.cos(2*4*np.pi*(df['Time']-5)/28)\n",
    "df = df.drop(['Date-No','Time'], axis=1)\n",
    "\n",
    "#train, testを分けて（10回やって、その平均をスコアとする）\n",
    "MAE_train = []\n",
    "MAE_test = []\n",
    "for i in range(10,20):\n",
    "    train,test=train_test_split(df,test_size=0.3,random_state=i)\n",
    "    train_X=train[train.columns[1:]]\n",
    "    train_Y=train[train.columns[:1]]\n",
    "    test_X=test[test.columns[1:]]\n",
    "    test_Y=test[test.columns[:1]]\n",
    "    X=df[df.columns[1:]]\n",
    "    Y=df['Solar1']\n",
    "\n",
    "    #Lasso回帰\n",
    "    clf_lasso = linear_model.Lasso(alpha=1.0)\n",
    "    clf_lasso.fit(train_X, train_Y)\n",
    "\n",
    "    train_Y['Predicted'] = clf_lasso.predict(train_X.as_matrix())\n",
    "    train_Y['Predicted'] = train_Y['Predicted'].map(lambda x: 0 if x<0 else x)\n",
    "    train_Y['Error_abs'] = np.abs(np.exp(train_Y['Solar1']) - np.exp(train_Y['Predicted']))\n",
    "\n",
    "    test_Y['Predicted'] = clf_lasso.predict(test_X.as_matrix())\n",
    "    test_Y['Predicted'] = test_Y['Predicted'].map(lambda x: 0 if x<0 else x)\n",
    "    test_Y['Error_abs'] = np.abs(np.exp(test_Y['Solar1']) - np.exp(test_Y['Predicted']))\n",
    "\n",
    "    MAE_train.append(train_Y['Error_abs'].mean())\n",
    "    MAE_test.append(test_Y['Error_abs'].mean())\n",
    "\n",
    "print(\"MAE_train:\", np.mean(np.array(MAE_train)))\n",
    "print(\"MAE_test:\", np.mean(np.array(MAE_test)))"
   ]
  },
  {
   "cell_type": "markdown",
   "metadata": {},
   "source": [
    "・安直にやるだけだと上手く行かないことがわかりました。"
   ]
  },
  {
   "cell_type": "markdown",
   "metadata": {
    "collapsed": true
   },
   "source": [
    "#実際の分析の手続き\n",
    "\n",
    "#0-Quizの後、indexとpredictionのdf_qを生成したのち、\n",
    "df_S1 = pd.merge(df_S1, df_q, left_index=True, right_index=True, how='outer')\n",
    "df_S1['Predict-Zero'] = 0\n",
    "df_S1.loc[(df['Zero-Time'] == 1)|(df['Q-Ans'] == 1), 'Predict-Zero'] = 1\n",
    "\n",
    "df.loc[(df['Fare']>7.91)&(df['Fare']<=14.454),'Fare_cat']=1"
   ]
  },
  {
   "cell_type": "markdown",
   "metadata": {},
   "source": [
    "***\n",
    "### 5　残差分析"
   ]
  },
  {
   "cell_type": "code",
   "execution_count": 3,
   "metadata": {
    "collapsed": false
   },
   "outputs": [
    {
     "name": "stdout",
     "output_type": "stream",
     "text": [
      "MAE: 391.734837318685\n"
     ]
    }
   ],
   "source": [
    "#0でないものからモデルを作る\n",
    "df = df_S1[df_S1['Solar1'] != 0].drop(['Zero-Time'] , axis=1)\n",
    "df['sind'] = np.sin(2*np.pi*df['Date-No']/365)\n",
    "df['cosd'] = np.cos(2*np.pi*df['Date-No']/365)\n",
    "df['sin2d'] = np.sin(2*np.pi*df['Date-No']/182.5)\n",
    "df['cos2d'] = np.cos(2*np.pi*df['Date-No']/182.5)\n",
    "df['sint'] = np.sin(2*np.pi*(df['Time']-5)/28)\n",
    "df['sin3t'] = np.sin(2*3*np.pi*(df['Time']-5)/28)\n",
    "df['cos3t'] = np.cos(2*3*np.pi*(df['Time']-5)/28)\n",
    "df['sin4t'] = np.sin(2*4*np.pi*(df['Time']-5)/28)\n",
    "df['cos4t'] = np.cos(2*4*np.pi*(df['Time']-5)/28)\n",
    "tmp = df.ix[:,['Date-No', 'Time']]\n",
    "df = df.drop(['Date-No','Time'], axis=1)\n",
    "\n",
    "X=df[df.columns[1:]]\n",
    "Y=df['Solar1']\n",
    "df = pd.concat([tmp, df], axis=1)\n",
    "\n",
    "#Lasso回帰\n",
    "clf_lasso = linear_model.Lasso(alpha=1.0)\n",
    "clf_lasso.fit(X, Y)\n",
    "df['Predicted'] = clf_lasso.predict(X.as_matrix())\n",
    "df['Predicted'] = df['Predicted'].map(lambda x: 0 if x<0 else x)\n",
    "df['Residuals'] = df['Solar1'] - df['Predicted']\n",
    "df['Error_abs'] = np.abs(df['Solar1'] - df['Predicted'])\n",
    "\n",
    "print(\"MAE:\", df['Error_abs'].mean())"
   ]
  },
  {
   "cell_type": "code",
   "execution_count": 49,
   "metadata": {
    "collapsed": false
   },
   "outputs": [
    {
     "data": {
      "text/plain": [
       "0.6312576148809707"
      ]
     },
     "execution_count": 49,
     "metadata": {},
     "output_type": "execute_result"
    }
   ],
   "source": [
    "#決定係数\n",
    "((df['Predicted'] - df['Predicted'].mean()) ** 2).sum() / ((df['Solar1'] - df['Solar1'].mean()) ** 2).sum()"
   ]
  },
  {
   "cell_type": "markdown",
   "metadata": {},
   "source": [
    "・まだ半分弱の残差を説明できていない（改善の余地あり）。"
   ]
  },
  {
   "cell_type": "code",
   "execution_count": 50,
   "metadata": {
    "collapsed": false,
    "scrolled": false
   },
   "outputs": [
    {
     "data": {
      "text/plain": [
       "<matplotlib.axes._subplots.AxesSubplot at 0x11f3066d8>"
      ]
     },
     "execution_count": 50,
     "metadata": {},
     "output_type": "execute_result"
    },
    {
     "data": {
      "image/png": "[encoded data removed]",
      "text/plain": [
       "<matplotlib.figure.Figure at 0x12732c588>"
      ]
     },
     "metadata": {},
     "output_type": "display_data"
    }
   ],
   "source": [
    "plt.figure(figsize=(10,5))\n",
    "plt.subplot(1,2,1)\n",
    "plt.plot(np.arange(len(df['Residuals'])), df['Residuals'])\n",
    "plt.subplot(1,2,2)\n",
    "np.abs(df['Residuals']).plot.hist(bins=20,edgecolor='black',color='red')"
   ]
  },
  {
   "cell_type": "code",
   "execution_count": 4,
   "metadata": {
    "collapsed": false,
    "scrolled": true
   },
   "outputs": [
    {
     "data": {
      "text/html": [
       "<div>\n",
       "<table border=\"1\" class=\"dataframe\">\n",
       "  <thead>\n",
       "    <tr style=\"text-align: right;\">\n",
       "      <th></th>\n",
       "      <th>Residuals</th>\n",
       "    </tr>\n",
       "  </thead>\n",
       "  <tbody>\n",
       "    <tr>\n",
       "      <th>count</th>\n",
       "      <td>33061.000000</td>\n",
       "    </tr>\n",
       "    <tr>\n",
       "      <th>mean</th>\n",
       "      <td>-16.854071</td>\n",
       "    </tr>\n",
       "    <tr>\n",
       "      <th>std</th>\n",
       "      <td>504.041470</td>\n",
       "    </tr>\n",
       "    <tr>\n",
       "      <th>min</th>\n",
       "      <td>-2197.702978</td>\n",
       "    </tr>\n",
       "    <tr>\n",
       "      <th>25%</th>\n",
       "      <td>-328.212380</td>\n",
       "    </tr>\n",
       "    <tr>\n",
       "      <th>50%</th>\n",
       "      <td>26.604861</td>\n",
       "    </tr>\n",
       "    <tr>\n",
       "      <th>75%</th>\n",
       "      <td>325.799130</td>\n",
       "    </tr>\n",
       "    <tr>\n",
       "      <th>max</th>\n",
       "      <td>1994.000000</td>\n",
       "    </tr>\n",
       "  </tbody>\n",
       "</table>\n",
       "</div>"
      ],
      "text/plain": [
       "          Residuals\n",
       "count  33061.000000\n",
       "mean     -16.854071\n",
       "std      504.041470\n",
       "min    -2197.702978\n",
       "25%     -328.212380\n",
       "50%       26.604861\n",
       "75%      325.799130\n",
       "max     1994.000000"
      ]
     },
     "execution_count": 4,
     "metadata": {},
     "output_type": "execute_result"
    }
   ],
   "source": [
    "pd.DataFrame(df['Residuals'].describe())"
   ]
  },
  {
   "cell_type": "markdown",
   "metadata": {},
   "source": [
    "・一つの方針（メモ）：どのような時に残差が大きくなるかを把握して、危険察知ないし別の回帰を用いる"
   ]
  },
  {
   "cell_type": "code",
   "execution_count": 5,
   "metadata": {
    "collapsed": false
   },
   "outputs": [
    {
     "data": {
      "text/plain": [
       "<matplotlib.axes._subplots.AxesSubplot at 0x10dc80358>"
      ]
     },
     "execution_count": 5,
     "metadata": {},
     "output_type": "execute_result"
    },
    {
     "data": {
      "image/png": "[encoded data removed]",
      "text/plain": [
       "<matplotlib.figure.Figure at 0x10dbb58d0>"
      ]
     },
     "metadata": {},
     "output_type": "display_data"
    }
   ],
   "source": [
    "f,ax=plt.subplots(2,1,figsize=(18,12))\n",
    "\n",
    "#Rainとずれの大きさ\n",
    "sns.violinplot(\"Rain\",\"Residuals\",data=df[df['Rain']<=50],split=True,ax=ax[0])\n",
    "ax[0].set_title('Residuals vs Rain', fontsize=18)\n",
    "sns.violinplot(\"Rain\",\"Residuals\",data=df[df['Rain']>50],split=True,ax=ax[1])"
   ]
  },
  {
   "cell_type": "code",
   "execution_count": 8,
   "metadata": {
    "collapsed": false
   },
   "outputs": [
    {
     "data": {
      "text/html": [
       "<div>\n",
       "<table border=\"1\" class=\"dataframe\">\n",
       "  <thead>\n",
       "    <tr style=\"text-align: right;\">\n",
       "      <th></th>\n",
       "      <th>0.0</th>\n",
       "      <th>5.0</th>\n",
       "      <th>10.0</th>\n",
       "      <th>15.0</th>\n",
       "      <th>20.0</th>\n",
       "      <th>25.0</th>\n",
       "      <th>30.0</th>\n",
       "      <th>35.0</th>\n",
       "      <th>40.0</th>\n",
       "      <th>45.0</th>\n",
       "      <th>50.0</th>\n",
       "      <th>55.0</th>\n",
       "      <th>60.0</th>\n",
       "      <th>65.0</th>\n",
       "      <th>70.0</th>\n",
       "      <th>75.0</th>\n",
       "      <th>80.0</th>\n",
       "      <th>85.0</th>\n",
       "      <th>90.0</th>\n",
       "    </tr>\n",
       "  </thead>\n",
       "  <tbody>\n",
       "    <tr>\n",
       "      <th>count</th>\n",
       "      <td>7479.000000</td>\n",
       "      <td>347.000000</td>\n",
       "      <td>10313.000000</td>\n",
       "      <td>387.000000</td>\n",
       "      <td>5282.000000</td>\n",
       "      <td>171.000000</td>\n",
       "      <td>2822.000000</td>\n",
       "      <td>92.000000</td>\n",
       "      <td>1147.000000</td>\n",
       "      <td>73.000000</td>\n",
       "      <td>2097.000000</td>\n",
       "      <td>50.000000</td>\n",
       "      <td>1148.000000</td>\n",
       "      <td>30.000000</td>\n",
       "      <td>669.000000</td>\n",
       "      <td>27.000000</td>\n",
       "      <td>666.000000</td>\n",
       "      <td>12.000000</td>\n",
       "      <td>249.000000</td>\n",
       "    </tr>\n",
       "    <tr>\n",
       "      <th>mean</th>\n",
       "      <td>-1.763011</td>\n",
       "      <td>23.803908</td>\n",
       "      <td>-2.459539</td>\n",
       "      <td>3.051786</td>\n",
       "      <td>8.325772</td>\n",
       "      <td>-37.949320</td>\n",
       "      <td>26.060012</td>\n",
       "      <td>-36.709336</td>\n",
       "      <td>-76.015898</td>\n",
       "      <td>-269.830911</td>\n",
       "      <td>-104.776881</td>\n",
       "      <td>-196.153117</td>\n",
       "      <td>-116.880891</td>\n",
       "      <td>-407.662008</td>\n",
       "      <td>-132.775464</td>\n",
       "      <td>-188.014576</td>\n",
       "      <td>-91.877687</td>\n",
       "      <td>-272.377487</td>\n",
       "      <td>21.806833</td>\n",
       "    </tr>\n",
       "    <tr>\n",
       "      <th>std</th>\n",
       "      <td>417.542953</td>\n",
       "      <td>486.289533</td>\n",
       "      <td>480.613570</td>\n",
       "      <td>508.478720</td>\n",
       "      <td>552.593601</td>\n",
       "      <td>600.828172</td>\n",
       "      <td>579.046825</td>\n",
       "      <td>583.872110</td>\n",
       "      <td>636.279337</td>\n",
       "      <td>606.867727</td>\n",
       "      <td>611.241259</td>\n",
       "      <td>536.261484</td>\n",
       "      <td>489.379923</td>\n",
       "      <td>450.484143</td>\n",
       "      <td>410.181722</td>\n",
       "      <td>525.823177</td>\n",
       "      <td>340.274672</td>\n",
       "      <td>371.777530</td>\n",
       "      <td>421.887952</td>\n",
       "    </tr>\n",
       "    <tr>\n",
       "      <th>min</th>\n",
       "      <td>-1934.239478</td>\n",
       "      <td>-1844.235293</td>\n",
       "      <td>-2197.702978</td>\n",
       "      <td>-2134.212587</td>\n",
       "      <td>-2174.422235</td>\n",
       "      <td>-2035.621299</td>\n",
       "      <td>-1906.340770</td>\n",
       "      <td>-1634.407604</td>\n",
       "      <td>-1715.572339</td>\n",
       "      <td>-1563.771402</td>\n",
       "      <td>-1623.799193</td>\n",
       "      <td>-1321.015974</td>\n",
       "      <td>-1344.714544</td>\n",
       "      <td>-1203.224880</td>\n",
       "      <td>-1229.256928</td>\n",
       "      <td>-913.622605</td>\n",
       "      <td>-992.737870</td>\n",
       "      <td>-812.027666</td>\n",
       "      <td>-796.231260</td>\n",
       "    </tr>\n",
       "    <tr>\n",
       "      <th>25%</th>\n",
       "      <td>-315.546445</td>\n",
       "      <td>-342.794961</td>\n",
       "      <td>-284.812493</td>\n",
       "      <td>-247.012971</td>\n",
       "      <td>-297.283366</td>\n",
       "      <td>-157.019427</td>\n",
       "      <td>-306.795093</td>\n",
       "      <td>-78.311929</td>\n",
       "      <td>-528.010680</td>\n",
       "      <td>-776.730401</td>\n",
       "      <td>-547.599252</td>\n",
       "      <td>-620.675075</td>\n",
       "      <td>-457.053941</td>\n",
       "      <td>-686.623712</td>\n",
       "      <td>-440.023595</td>\n",
       "      <td>-549.187372</td>\n",
       "      <td>-306.134567</td>\n",
       "      <td>-561.789909</td>\n",
       "      <td>-237.743953</td>\n",
       "    </tr>\n",
       "    <tr>\n",
       "      <th>50%</th>\n",
       "      <td>76.805998</td>\n",
       "      <td>13.222734</td>\n",
       "      <td>24.178379</td>\n",
       "      <td>0.041257</td>\n",
       "      <td>35.770058</td>\n",
       "      <td>49.000000</td>\n",
       "      <td>70.000000</td>\n",
       "      <td>70.500000</td>\n",
       "      <td>4.000000</td>\n",
       "      <td>14.000000</td>\n",
       "      <td>-57.526628</td>\n",
       "      <td>14.291110</td>\n",
       "      <td>-43.674786</td>\n",
       "      <td>-445.493120</td>\n",
       "      <td>-15.507065</td>\n",
       "      <td>-152.623214</td>\n",
       "      <td>5.000000</td>\n",
       "      <td>-141.194996</td>\n",
       "      <td>21.000000</td>\n",
       "    </tr>\n",
       "    <tr>\n",
       "      <th>75%</th>\n",
       "      <td>326.624112</td>\n",
       "      <td>419.269391</td>\n",
       "      <td>348.264159</td>\n",
       "      <td>280.962517</td>\n",
       "      <td>391.553314</td>\n",
       "      <td>226.000000</td>\n",
       "      <td>439.039171</td>\n",
       "      <td>215.500000</td>\n",
       "      <td>312.340686</td>\n",
       "      <td>87.000000</td>\n",
       "      <td>188.000000</td>\n",
       "      <td>71.000000</td>\n",
       "      <td>148.129164</td>\n",
       "      <td>-99.904669</td>\n",
       "      <td>114.000000</td>\n",
       "      <td>47.000000</td>\n",
       "      <td>110.000000</td>\n",
       "      <td>41.250000</td>\n",
       "      <td>153.226820</td>\n",
       "    </tr>\n",
       "    <tr>\n",
       "      <th>max</th>\n",
       "      <td>923.686228</td>\n",
       "      <td>1011.221226</td>\n",
       "      <td>1332.153928</td>\n",
       "      <td>1268.320612</td>\n",
       "      <td>1469.533633</td>\n",
       "      <td>1503.213586</td>\n",
       "      <td>1500.494115</td>\n",
       "      <td>1314.144534</td>\n",
       "      <td>1625.506511</td>\n",
       "      <td>1596.307447</td>\n",
       "      <td>1672.641475</td>\n",
       "      <td>1261.639927</td>\n",
       "      <td>1445.321233</td>\n",
       "      <td>861.815447</td>\n",
       "      <td>1304.871367</td>\n",
       "      <td>1665.650399</td>\n",
       "      <td>1634.678965</td>\n",
       "      <td>134.000000</td>\n",
       "      <td>1994.000000</td>\n",
       "    </tr>\n",
       "  </tbody>\n",
       "</table>\n",
       "</div>"
      ],
      "text/plain": [
       "              0.0          5.0           10.0         15.0         20.0  \\\n",
       "count  7479.000000   347.000000  10313.000000   387.000000  5282.000000   \n",
       "mean     -1.763011    23.803908     -2.459539     3.051786     8.325772   \n",
       "std     417.542953   486.289533    480.613570   508.478720   552.593601   \n",
       "min   -1934.239478 -1844.235293  -2197.702978 -2134.212587 -2174.422235   \n",
       "25%    -315.546445  -342.794961   -284.812493  -247.012971  -297.283366   \n",
       "50%      76.805998    13.222734     24.178379     0.041257    35.770058   \n",
       "75%     326.624112   419.269391    348.264159   280.962517   391.553314   \n",
       "max     923.686228  1011.221226   1332.153928  1268.320612  1469.533633   \n",
       "\n",
       "              25.0         30.0         35.0         40.0         45.0  \\\n",
       "count   171.000000  2822.000000    92.000000  1147.000000    73.000000   \n",
       "mean    -37.949320    26.060012   -36.709336   -76.015898  -269.830911   \n",
       "std     600.828172   579.046825   583.872110   636.279337   606.867727   \n",
       "min   -2035.621299 -1906.340770 -1634.407604 -1715.572339 -1563.771402   \n",
       "25%    -157.019427  -306.795093   -78.311929  -528.010680  -776.730401   \n",
       "50%      49.000000    70.000000    70.500000     4.000000    14.000000   \n",
       "75%     226.000000   439.039171   215.500000   312.340686    87.000000   \n",
       "max    1503.213586  1500.494115  1314.144534  1625.506511  1596.307447   \n",
       "\n",
       "              50.0         55.0         60.0         65.0         70.0  \\\n",
       "count  2097.000000    50.000000  1148.000000    30.000000   669.000000   \n",
       "mean   -104.776881  -196.153117  -116.880891  -407.662008  -132.775464   \n",
       "std     611.241259   536.261484   489.379923   450.484143   410.181722   \n",
       "min   -1623.799193 -1321.015974 -1344.714544 -1203.224880 -1229.256928   \n",
       "25%    -547.599252  -620.675075  -457.053941  -686.623712  -440.023595   \n",
       "50%     -57.526628    14.291110   -43.674786  -445.493120   -15.507065   \n",
       "75%     188.000000    71.000000   148.129164   -99.904669   114.000000   \n",
       "max    1672.641475  1261.639927  1445.321233   861.815447  1304.871367   \n",
       "\n",
       "              75.0         80.0        85.0         90.0  \n",
       "count    27.000000   666.000000   12.000000   249.000000  \n",
       "mean   -188.014576   -91.877687 -272.377487    21.806833  \n",
       "std     525.823177   340.274672  371.777530   421.887952  \n",
       "min    -913.622605  -992.737870 -812.027666  -796.231260  \n",
       "25%    -549.187372  -306.134567 -561.789909  -237.743953  \n",
       "50%    -152.623214     5.000000 -141.194996    21.000000  \n",
       "75%      47.000000   110.000000   41.250000   153.226820  \n",
       "max    1665.650399  1634.678965  134.000000  1994.000000  "
      ]
     },
     "execution_count": 8,
     "metadata": {},
     "output_type": "execute_result"
    }
   ],
   "source": [
    "a = df.groupby('Rain')['Residuals'].describe()\n",
    "b = {}\n",
    "for i in np.arange(0.0, 95, 5):\n",
    "    b[i] = a[i]\n",
    "pd.DataFrame(b)"
   ]
  },
  {
   "cell_type": "markdown",
   "metadata": {},
   "source": [
    "・Rain=0で残差が小さくなりにくい<br>\n",
    "・Rainが45, 55, 65, 75, 85のときに見積もりが大きくなりすぎてしまう傾向がある<br>\n",
    "・65では400も、45では269、85では272、55と75では200弱の誤差である<br>\n",
    "・Rainが20~55の部分は標準誤差が大きい"
   ]
  },
  {
   "cell_type": "code",
   "execution_count": 9,
   "metadata": {
    "collapsed": false
   },
   "outputs": [
    {
     "data": {
      "text/plain": [
       "<matplotlib.axes._subplots.AxesSubplot at 0x10e928d30>"
      ]
     },
     "execution_count": 9,
     "metadata": {},
     "output_type": "execute_result"
    },
    {
     "data": {
      "image/png": "[encoded data removed]",
      "text/plain": [
       "<matplotlib.figure.Figure at 0x10e446438>"
      ]
     },
     "metadata": {},
     "output_type": "display_data"
    }
   ],
   "source": [
    "f,ax=plt.subplots(4,1,figsize=(18,15))\n",
    "\n",
    "#Timeとずれの大きさ\n",
    "sns.violinplot(\"Time\",\"Residuals\",data=df[df['Time'] <= 8],split=True,ax=ax[0])\n",
    "ax[0].set_title('Residuals vs Time', fontsize=18)\n",
    "sns.violinplot(\"Time\",\"Residuals\",data=df[(df['Time'] > 8) & (df['Time'] <= 11.5)],split=True,ax=ax[1])\n",
    "sns.violinplot(\"Time\",\"Residuals\",data=df[(df['Time'] > 11.5) & (df['Time'] <= 15)],split=True,ax=ax[2])\n",
    "sns.violinplot(\"Time\",\"Residuals\",data=df[(df['Time'] > 15)],split=True,ax=ax[3])"
   ]
  },
  {
   "cell_type": "code",
   "execution_count": 11,
   "metadata": {
    "collapsed": false
   },
   "outputs": [
    {
     "data": {
      "text/html": [
       "<div>\n",
       "<table border=\"1\" class=\"dataframe\">\n",
       "  <thead>\n",
       "    <tr style=\"text-align: right;\">\n",
       "      <th></th>\n",
       "      <th>5.0</th>\n",
       "      <th>5.5</th>\n",
       "      <th>6.0</th>\n",
       "      <th>6.5</th>\n",
       "      <th>7.0</th>\n",
       "      <th>7.5</th>\n",
       "      <th>8.0</th>\n",
       "      <th>8.5</th>\n",
       "      <th>9.0</th>\n",
       "      <th>9.5</th>\n",
       "      <th>10.0</th>\n",
       "      <th>10.5</th>\n",
       "      <th>11.0</th>\n",
       "      <th>11.5</th>\n",
       "      <th>12.0</th>\n",
       "      <th>12.5</th>\n",
       "      <th>13.0</th>\n",
       "      <th>13.5</th>\n",
       "      <th>14.0</th>\n",
       "      <th>14.5</th>\n",
       "      <th>15.0</th>\n",
       "      <th>15.5</th>\n",
       "      <th>16.0</th>\n",
       "      <th>16.5</th>\n",
       "      <th>17.0</th>\n",
       "      <th>17.5</th>\n",
       "      <th>18.0</th>\n",
       "      <th>18.5</th>\n",
       "      <th>19.0</th>\n",
       "    </tr>\n",
       "  </thead>\n",
       "  <tbody>\n",
       "    <tr>\n",
       "      <th>count</th>\n",
       "      <td>97.000000</td>\n",
       "      <td>386.000000</td>\n",
       "      <td>646.000000</td>\n",
       "      <td>874.000000</td>\n",
       "      <td>1091.000000</td>\n",
       "      <td>1376.000000</td>\n",
       "      <td>1425.000000</td>\n",
       "      <td>1444.000000</td>\n",
       "      <td>1446.000000</td>\n",
       "      <td>1448.000000</td>\n",
       "      <td>1446.000000</td>\n",
       "      <td>1445.000000</td>\n",
       "      <td>1448.000000</td>\n",
       "      <td>1446.000000</td>\n",
       "      <td>1447.000000</td>\n",
       "      <td>1448.000000</td>\n",
       "      <td>1449.000000</td>\n",
       "      <td>1447.000000</td>\n",
       "      <td>1448.000000</td>\n",
       "      <td>1446.000000</td>\n",
       "      <td>1443.000000</td>\n",
       "      <td>1431.000000</td>\n",
       "      <td>1403.000000</td>\n",
       "      <td>1301.000000</td>\n",
       "      <td>1019.000000</td>\n",
       "      <td>806.000000</td>\n",
       "      <td>581.000000</td>\n",
       "      <td>338.000000</td>\n",
       "      <td>36.000000</td>\n",
       "    </tr>\n",
       "    <tr>\n",
       "      <th>mean</th>\n",
       "      <td>-133.277088</td>\n",
       "      <td>-92.423277</td>\n",
       "      <td>-52.171281</td>\n",
       "      <td>-77.574961</td>\n",
       "      <td>-35.740023</td>\n",
       "      <td>-43.448802</td>\n",
       "      <td>-27.010450</td>\n",
       "      <td>9.319533</td>\n",
       "      <td>39.164703</td>\n",
       "      <td>-2.595927</td>\n",
       "      <td>2.723930</td>\n",
       "      <td>-4.749477</td>\n",
       "      <td>-6.871438</td>\n",
       "      <td>1.195021</td>\n",
       "      <td>12.383177</td>\n",
       "      <td>7.943345</td>\n",
       "      <td>2.567371</td>\n",
       "      <td>5.877058</td>\n",
       "      <td>-7.017580</td>\n",
       "      <td>-11.748918</td>\n",
       "      <td>-21.135513</td>\n",
       "      <td>3.120555</td>\n",
       "      <td>-30.875011</td>\n",
       "      <td>-38.518965</td>\n",
       "      <td>-41.078730</td>\n",
       "      <td>-80.604293</td>\n",
       "      <td>-124.250900</td>\n",
       "      <td>-111.368941</td>\n",
       "      <td>-94.291016</td>\n",
       "    </tr>\n",
       "    <tr>\n",
       "      <th>std</th>\n",
       "      <td>167.822042</td>\n",
       "      <td>191.374241</td>\n",
       "      <td>194.583984</td>\n",
       "      <td>228.605773</td>\n",
       "      <td>262.200862</td>\n",
       "      <td>315.265419</td>\n",
       "      <td>377.169301</td>\n",
       "      <td>414.247687</td>\n",
       "      <td>476.372827</td>\n",
       "      <td>530.731612</td>\n",
       "      <td>575.693720</td>\n",
       "      <td>618.101308</td>\n",
       "      <td>654.158399</td>\n",
       "      <td>678.819372</td>\n",
       "      <td>677.524027</td>\n",
       "      <td>685.272381</td>\n",
       "      <td>656.813479</td>\n",
       "      <td>615.283525</td>\n",
       "      <td>577.623366</td>\n",
       "      <td>532.534947</td>\n",
       "      <td>477.403888</td>\n",
       "      <td>436.017228</td>\n",
       "      <td>392.474341</td>\n",
       "      <td>337.100416</td>\n",
       "      <td>288.967830</td>\n",
       "      <td>263.080044</td>\n",
       "      <td>244.972794</td>\n",
       "      <td>215.527703</td>\n",
       "      <td>158.745027</td>\n",
       "    </tr>\n",
       "    <tr>\n",
       "      <th>min</th>\n",
       "      <td>-534.621760</td>\n",
       "      <td>-551.847341</td>\n",
       "      <td>-527.534706</td>\n",
       "      <td>-661.832302</td>\n",
       "      <td>-778.712882</td>\n",
       "      <td>-931.345064</td>\n",
       "      <td>-1099.858778</td>\n",
       "      <td>-1356.080712</td>\n",
       "      <td>-1503.466276</td>\n",
       "      <td>-1723.455338</td>\n",
       "      <td>-1879.759832</td>\n",
       "      <td>-2096.311516</td>\n",
       "      <td>-2146.713400</td>\n",
       "      <td>-2197.702978</td>\n",
       "      <td>-2134.212587</td>\n",
       "      <td>-2040.218480</td>\n",
       "      <td>-2066.769517</td>\n",
       "      <td>-1870.893926</td>\n",
       "      <td>-1770.712875</td>\n",
       "      <td>-1677.926356</td>\n",
       "      <td>-1497.034682</td>\n",
       "      <td>-1314.097648</td>\n",
       "      <td>-1127.533806</td>\n",
       "      <td>-925.713665</td>\n",
       "      <td>-761.685601</td>\n",
       "      <td>-753.554453</td>\n",
       "      <td>-706.215317</td>\n",
       "      <td>-720.773103</td>\n",
       "      <td>-497.574941</td>\n",
       "    </tr>\n",
       "    <tr>\n",
       "      <th>25%</th>\n",
       "      <td>-245.013955</td>\n",
       "      <td>-247.109320</td>\n",
       "      <td>-197.312581</td>\n",
       "      <td>-253.014169</td>\n",
       "      <td>-206.518585</td>\n",
       "      <td>-276.243476</td>\n",
       "      <td>-315.887635</td>\n",
       "      <td>-276.104883</td>\n",
       "      <td>-267.691483</td>\n",
       "      <td>-359.815970</td>\n",
       "      <td>-406.078651</td>\n",
       "      <td>-462.131040</td>\n",
       "      <td>-494.862569</td>\n",
       "      <td>-491.525898</td>\n",
       "      <td>-523.488172</td>\n",
       "      <td>-537.775852</td>\n",
       "      <td>-481.032879</td>\n",
       "      <td>-474.759684</td>\n",
       "      <td>-425.724933</td>\n",
       "      <td>-401.453338</td>\n",
       "      <td>-349.370909</td>\n",
       "      <td>-308.989262</td>\n",
       "      <td>-306.242644</td>\n",
       "      <td>-282.275383</td>\n",
       "      <td>-260.785367</td>\n",
       "      <td>-286.416694</td>\n",
       "      <td>-316.850200</td>\n",
       "      <td>-224.791400</td>\n",
       "      <td>-172.245585</td>\n",
       "    </tr>\n",
       "    <tr>\n",
       "      <th>50%</th>\n",
       "      <td>-74.406637</td>\n",
       "      <td>-13.484193</td>\n",
       "      <td>6.000000</td>\n",
       "      <td>-76.866307</td>\n",
       "      <td>-30.411364</td>\n",
       "      <td>-6.108033</td>\n",
       "      <td>10.979040</td>\n",
       "      <td>31.000000</td>\n",
       "      <td>97.988233</td>\n",
       "      <td>96.334256</td>\n",
       "      <td>119.589073</td>\n",
       "      <td>147.820695</td>\n",
       "      <td>166.358527</td>\n",
       "      <td>200.005593</td>\n",
       "      <td>222.113785</td>\n",
       "      <td>224.473945</td>\n",
       "      <td>213.426991</td>\n",
       "      <td>170.539549</td>\n",
       "      <td>125.937810</td>\n",
       "      <td>61.416573</td>\n",
       "      <td>10.078918</td>\n",
       "      <td>12.083554</td>\n",
       "      <td>-32.436712</td>\n",
       "      <td>-36.356403</td>\n",
       "      <td>-20.663263</td>\n",
       "      <td>-42.036411</td>\n",
       "      <td>-66.261228</td>\n",
       "      <td>-1.944039</td>\n",
       "      <td>-9.575029</td>\n",
       "    </tr>\n",
       "    <tr>\n",
       "      <th>75%</th>\n",
       "      <td>4.000000</td>\n",
       "      <td>37.499606</td>\n",
       "      <td>75.000000</td>\n",
       "      <td>75.990870</td>\n",
       "      <td>120.200056</td>\n",
       "      <td>149.899503</td>\n",
       "      <td>226.085846</td>\n",
       "      <td>302.416918</td>\n",
       "      <td>375.059568</td>\n",
       "      <td>372.000797</td>\n",
       "      <td>428.912653</td>\n",
       "      <td>455.323785</td>\n",
       "      <td>491.048420</td>\n",
       "      <td>498.220843</td>\n",
       "      <td>500.131739</td>\n",
       "      <td>499.229540</td>\n",
       "      <td>456.090577</td>\n",
       "      <td>439.831084</td>\n",
       "      <td>395.688173</td>\n",
       "      <td>346.677969</td>\n",
       "      <td>298.947837</td>\n",
       "      <td>282.679439</td>\n",
       "      <td>194.310503</td>\n",
       "      <td>160.000000</td>\n",
       "      <td>130.860471</td>\n",
       "      <td>95.717210</td>\n",
       "      <td>69.709096</td>\n",
       "      <td>35.000000</td>\n",
       "      <td>5.250000</td>\n",
       "    </tr>\n",
       "    <tr>\n",
       "      <th>max</th>\n",
       "      <td>67.000000</td>\n",
       "      <td>232.000000</td>\n",
       "      <td>452.000000</td>\n",
       "      <td>602.000000</td>\n",
       "      <td>887.238899</td>\n",
       "      <td>1059.606717</td>\n",
       "      <td>1302.392188</td>\n",
       "      <td>1334.000000</td>\n",
       "      <td>1994.000000</td>\n",
       "      <td>1560.986994</td>\n",
       "      <td>1672.641475</td>\n",
       "      <td>1601.107733</td>\n",
       "      <td>1597.399727</td>\n",
       "      <td>1646.200389</td>\n",
       "      <td>1665.650399</td>\n",
       "      <td>1530.477457</td>\n",
       "      <td>1660.708356</td>\n",
       "      <td>1391.568849</td>\n",
       "      <td>1373.602254</td>\n",
       "      <td>1365.324258</td>\n",
       "      <td>1302.541810</td>\n",
       "      <td>1371.643744</td>\n",
       "      <td>1333.207587</td>\n",
       "      <td>1498.851415</td>\n",
       "      <td>980.918221</td>\n",
       "      <td>657.000000</td>\n",
       "      <td>444.000000</td>\n",
       "      <td>178.000000</td>\n",
       "      <td>30.000000</td>\n",
       "    </tr>\n",
       "  </tbody>\n",
       "</table>\n",
       "</div>"
      ],
      "text/plain": [
       "             5.0         5.5         6.0         6.5          7.0   \\\n",
       "count   97.000000  386.000000  646.000000  874.000000  1091.000000   \n",
       "mean  -133.277088  -92.423277  -52.171281  -77.574961   -35.740023   \n",
       "std    167.822042  191.374241  194.583984  228.605773   262.200862   \n",
       "min   -534.621760 -551.847341 -527.534706 -661.832302  -778.712882   \n",
       "25%   -245.013955 -247.109320 -197.312581 -253.014169  -206.518585   \n",
       "50%    -74.406637  -13.484193    6.000000  -76.866307   -30.411364   \n",
       "75%      4.000000   37.499606   75.000000   75.990870   120.200056   \n",
       "max     67.000000  232.000000  452.000000  602.000000   887.238899   \n",
       "\n",
       "              7.5          8.0          8.5          9.0          9.5   \\\n",
       "count  1376.000000  1425.000000  1444.000000  1446.000000  1448.000000   \n",
       "mean    -43.448802   -27.010450     9.319533    39.164703    -2.595927   \n",
       "std     315.265419   377.169301   414.247687   476.372827   530.731612   \n",
       "min    -931.345064 -1099.858778 -1356.080712 -1503.466276 -1723.455338   \n",
       "25%    -276.243476  -315.887635  -276.104883  -267.691483  -359.815970   \n",
       "50%      -6.108033    10.979040    31.000000    97.988233    96.334256   \n",
       "75%     149.899503   226.085846   302.416918   375.059568   372.000797   \n",
       "max    1059.606717  1302.392188  1334.000000  1994.000000  1560.986994   \n",
       "\n",
       "              10.0         10.5         11.0         11.5         12.0  \\\n",
       "count  1446.000000  1445.000000  1448.000000  1446.000000  1447.000000   \n",
       "mean      2.723930    -4.749477    -6.871438     1.195021    12.383177   \n",
       "std     575.693720   618.101308   654.158399   678.819372   677.524027   \n",
       "min   -1879.759832 -2096.311516 -2146.713400 -2197.702978 -2134.212587   \n",
       "25%    -406.078651  -462.131040  -494.862569  -491.525898  -523.488172   \n",
       "50%     119.589073   147.820695   166.358527   200.005593   222.113785   \n",
       "75%     428.912653   455.323785   491.048420   498.220843   500.131739   \n",
       "max    1672.641475  1601.107733  1597.399727  1646.200389  1665.650399   \n",
       "\n",
       "              12.5         13.0         13.5         14.0         14.5  \\\n",
       "count  1448.000000  1449.000000  1447.000000  1448.000000  1446.000000   \n",
       "mean      7.943345     2.567371     5.877058    -7.017580   -11.748918   \n",
       "std     685.272381   656.813479   615.283525   577.623366   532.534947   \n",
       "min   -2040.218480 -2066.769517 -1870.893926 -1770.712875 -1677.926356   \n",
       "25%    -537.775852  -481.032879  -474.759684  -425.724933  -401.453338   \n",
       "50%     224.473945   213.426991   170.539549   125.937810    61.416573   \n",
       "75%     499.229540   456.090577   439.831084   395.688173   346.677969   \n",
       "max    1530.477457  1660.708356  1391.568849  1373.602254  1365.324258   \n",
       "\n",
       "              15.0         15.5         16.0         16.5         17.0  \\\n",
       "count  1443.000000  1431.000000  1403.000000  1301.000000  1019.000000   \n",
       "mean    -21.135513     3.120555   -30.875011   -38.518965   -41.078730   \n",
       "std     477.403888   436.017228   392.474341   337.100416   288.967830   \n",
       "min   -1497.034682 -1314.097648 -1127.533806  -925.713665  -761.685601   \n",
       "25%    -349.370909  -308.989262  -306.242644  -282.275383  -260.785367   \n",
       "50%      10.078918    12.083554   -32.436712   -36.356403   -20.663263   \n",
       "75%     298.947837   282.679439   194.310503   160.000000   130.860471   \n",
       "max    1302.541810  1371.643744  1333.207587  1498.851415   980.918221   \n",
       "\n",
       "             17.5        18.0        18.5        19.0  \n",
       "count  806.000000  581.000000  338.000000   36.000000  \n",
       "mean   -80.604293 -124.250900 -111.368941  -94.291016  \n",
       "std    263.080044  244.972794  215.527703  158.745027  \n",
       "min   -753.554453 -706.215317 -720.773103 -497.574941  \n",
       "25%   -286.416694 -316.850200 -224.791400 -172.245585  \n",
       "50%    -42.036411  -66.261228   -1.944039   -9.575029  \n",
       "75%     95.717210   69.709096   35.000000    5.250000  \n",
       "max    657.000000  444.000000  178.000000   30.000000  "
      ]
     },
     "execution_count": 11,
     "metadata": {},
     "output_type": "execute_result"
    }
   ],
   "source": [
    "pd.options.display.max_columns = None\n",
    "a = df.groupby('Time')['Residuals'].describe()\n",
    "b = {}\n",
    "for i in np.arange(5.0, 19.5, 0.5):\n",
    "    b[i] = a[i]\n",
    "pd.DataFrame(b)"
   ]
  },
  {
   "cell_type": "markdown",
   "metadata": {},
   "source": [
    "・やはりお昼の分散が大きい。<br>\n",
    "・明け方（5, 5.5）と夕方（18, 18.5, 19）は見積もりが大きくなってしまう傾向がある。"
   ]
  },
  {
   "cell_type": "code",
   "execution_count": 29,
   "metadata": {
    "collapsed": false
   },
   "outputs": [
    {
     "name": "stdout",
     "output_type": "stream",
     "text": [
      "MAE_train: 391.280125174\n",
      "MAE_test: 392.463183287\n"
     ]
    }
   ],
   "source": [
    "#これまでを実践する（ここは45, 65ダミーを作っただけ。回帰式を二本用意する作戦はまだ試す余地あり）\n",
    "df = df_S1[df_S1['Solar1'] != 0].drop(['Zero-Time'] , axis=1)\n",
    "\n",
    "df['sind'] = np.sin(2*np.pi*df['Date-No']/365)\n",
    "df['cosd'] = np.cos(2*np.pi*df['Date-No']/365)\n",
    "df['sin2d'] = np.sin(2*np.pi*df['Date-No']/182.5)\n",
    "df['cos2d'] = np.cos(2*np.pi*df['Date-No']/182.5)\n",
    "df['sint'] = np.sin(2*np.pi*(df['Time']-5)/28)\n",
    "df['sin3t'] = np.sin(2*3*np.pi*(df['Time']-5)/28)\n",
    "df['cos3t'] = np.cos(2*3*np.pi*(df['Time']-5)/28)\n",
    "df['sin4t'] = np.sin(2*4*np.pi*(df['Time']-5)/28)\n",
    "df['cos4t'] = np.cos(2*4*np.pi*(df['Time']-5)/28)\n",
    "\n",
    "df['Rain-45'] = df['Rain'].map(lambda x: 1 if x == 45 else 0)\n",
    "df['Rain-65'] = df['Rain'].map(lambda x: 1 if x == 65 else 0)\n",
    "df = df.drop(['Date-No','Time'], axis=1)\n",
    "\n",
    "#train, testを分けて（10回やって、その平均をスコアとする）\n",
    "MAE_train = []\n",
    "MAE_test = []\n",
    "for i in range(10,20):\n",
    "    train,test=train_test_split(df,test_size=0.3,random_state=i)\n",
    "    train_X=train[train.columns[1:]]\n",
    "    train_Y=train[train.columns[:1]]\n",
    "    test_X=test[test.columns[1:]]\n",
    "    test_Y=test[test.columns[:1]]\n",
    "    X=df[df.columns[1:]]\n",
    "    Y=df['Solar1']\n",
    "\n",
    "    #Lasso回帰\n",
    "    clf_lasso = linear_model.Lasso(alpha=1.0)\n",
    "    clf_lasso.fit(train_X, train_Y)\n",
    "\n",
    "    train_Y['Predicted'] = clf_lasso.predict(train_X.as_matrix())\n",
    "    train_Y['Predicted'] = train_Y['Predicted'].map(lambda x: 0 if x<0 else x)\n",
    "    train_Y['Error_abs'] = np.abs(train_Y['Solar1'] - train_Y['Predicted'])\n",
    "\n",
    "    test_Y['Predicted'] = clf_lasso.predict(test_X.as_matrix())\n",
    "    test_Y['Predicted'] = test_Y['Predicted'].map(lambda x: 0 if x<0 else x)\n",
    "    test_Y['Error_abs'] = np.abs(test_Y['Solar1'] - test_Y['Predicted'])\n",
    "\n",
    "    MAE_train.append(train_Y['Error_abs'].mean())\n",
    "    MAE_test.append(test_Y['Error_abs'].mean())\n",
    "\n",
    "print(\"MAE_train:\", np.mean(np.array(MAE_train)))\n",
    "print(\"MAE_test:\", np.mean(np.array(MAE_test)))"
   ]
  },
  {
   "cell_type": "code",
   "execution_count": 30,
   "metadata": {
    "collapsed": false
   },
   "outputs": [
    {
     "name": "stdout",
     "output_type": "stream",
     "text": [
      "\n",
      "-------------------------Summary of Regression Analysis-------------------------\n",
      "\n",
      "Formula: Y ~ <Rain> + <Temp> + <Wave> + <Clowdy> + <Rainy> + <Snowy> + <sind>\n",
      "             + <cosd> + <sin2d> + <cos2d> + <sint> + <sin3t> + <cos3t> + <sin4t>\n",
      "             + <cos4t> + <Rain-45> + <Rain-65> + <intercept>\n",
      "\n",
      "Number of Observations:         23142\n",
      "Number of Degrees of Freedom:   18\n",
      "\n",
      "R-squared:         0.6946\n",
      "Adj R-squared:     0.6944\n",
      "\n",
      "Rmse:            515.3671\n",
      "\n",
      "F-stat (17, 23124):  3094.1250, p-value:     0.0000\n",
      "\n",
      "Degrees of Freedom: model 17, resid 23124\n",
      "\n",
      "-----------------------Summary of Estimated Coefficients------------------------\n",
      "      Variable       Coef    Std Err     t-stat    p-value    CI 2.5%   CI 97.5%\n",
      "--------------------------------------------------------------------------------\n",
      "          Rain   -15.0920     0.3100     -48.69     0.0000   -15.6995   -14.4844\n",
      "          Temp    10.1149     1.2042       8.40     0.0000     7.7547    12.4751\n",
      "          Wave    17.3373     5.1897       3.34     0.0008     7.1656    27.5090\n",
      "        Clowdy  -289.9817     8.9997     -32.22     0.0000  -307.6212  -272.3423\n",
      "         Rainy  -294.5899    20.6063     -14.30     0.0000  -334.9783  -254.2015\n",
      "--------------------------------------------------------------------------------\n",
      "         Snowy  -481.8423    68.1616      -7.07     0.0000  -615.4390  -348.2457\n",
      "          sind   178.4168     7.9273      22.51     0.0000   162.8793   193.9544\n",
      "          cosd  -319.7585    12.8103     -24.96     0.0000  -344.8666  -294.6503\n",
      "         sin2d    38.2440     4.8499       7.89     0.0000    28.7383    47.7498\n",
      "         cos2d   -55.2292     4.9860     -11.08     0.0000   -65.0018   -45.4566\n",
      "--------------------------------------------------------------------------------\n",
      "          sint  1652.1621    57.3116      28.83     0.0000  1539.8313  1764.4929\n",
      "         sin3t  -483.0919    27.6631     -17.46     0.0000  -537.3115  -428.8722\n",
      "         cos3t   -49.0874     8.4897      -5.78     0.0000   -65.7272   -32.4476\n",
      "         sin4t    29.8372     7.8111       3.82     0.0001    14.5274    45.1470\n",
      "         cos4t  -187.4936    17.7843     -10.54     0.0000  -222.3509  -152.6363\n",
      "--------------------------------------------------------------------------------\n",
      "       Rain-45  -147.0626    74.7894      -1.97     0.0493  -293.6499    -0.4754\n",
      "       Rain-65  -342.6866   105.8993      -3.24     0.0012  -550.2493  -135.1240\n",
      "     intercept   221.3354    47.5687       4.65     0.0000   128.1008   314.5701\n",
      "---------------------------------End of Summary---------------------------------\n",
      "\n"
     ]
    }
   ],
   "source": [
    "model = pd.ols(y=train_Y['Solar1'], x=train_X, intercept=True)\n",
    "print(model)"
   ]
  },
  {
   "cell_type": "markdown",
   "metadata": {},
   "source": [
    "全然値が変わってくれない。→変数が多すぎる？？（PCAしてみるか）"
   ]
  },
  {
   "cell_type": "code",
   "execution_count": 3,
   "metadata": {
    "collapsed": false
   },
   "outputs": [
    {
     "name": "stdout",
     "output_type": "stream",
     "text": [
      "MAE_train: 354.447967237\n",
      "MAE_test: 355.842163856\n"
     ]
    }
   ],
   "source": [
    "#(100-Rain)*Sint*Sindの項を加えてみる（ほんのり非線形への拡張）\n",
    "df = df_S1[df_S1['Solar1'] != 0].drop(['Zero-Time'] , axis=1)\n",
    "\n",
    "df['sind'] = np.sin(2*np.pi*df['Date-No']/365)\n",
    "df['cosd'] = np.cos(2*np.pi*df['Date-No']/365)\n",
    "df['sin2d'] = np.sin(2*np.pi*df['Date-No']/182.5)\n",
    "df['cos2d'] = np.cos(2*np.pi*df['Date-No']/182.5)\n",
    "df['sint'] = np.sin(2*np.pi*(df['Time']-5)/28)\n",
    "df['sin3t'] = np.sin(2*3*np.pi*(df['Time']-5)/28)\n",
    "df['cos3t'] = np.cos(2*3*np.pi*(df['Time']-5)/28)\n",
    "df['sin4t'] = np.sin(2*4*np.pi*(df['Time']-5)/28)\n",
    "df['cos4t'] = np.cos(2*4*np.pi*(df['Time']-5)/28)\n",
    "\n",
    "df['Rain'] = 1-df['Rain'] / 100\n",
    "df['Time'] = 1605.7756* df['sint'] -497.7458* df['sin3t'] -497.7458 * df['cos4t']\n",
    "df['Date'] = (178.4168 * df['sind'] - 319.7585 * df['cosd'])\n",
    "\n",
    "df['m'] = df['Rain'] * df['Time']\n",
    "df['m1'] = df['Time'] * df['Date']\n",
    "df['m2'] = df['Rain'] * df['Date']\n",
    "df['m3'] = df['Rain'] * df['Date'] * df['Time']\n",
    "  \n",
    "df = df.drop(['Date-No','Time', 'Date', 'Cloudy'], axis=1)\n",
    "\n",
    "#train, testを分けて（10回やって、その平均をスコアとする）\n",
    "MAE_train = []\n",
    "MAE_test = []\n",
    "for i in range(10,20):\n",
    "    train,test=train_test_split(df,test_size=0.3,random_state=i)\n",
    "    train_X=train[train.columns[1:]]\n",
    "    train_Y=train[train.columns[:1]]\n",
    "    test_X=test[test.columns[1:]]\n",
    "    test_Y=test[test.columns[:1]]\n",
    "    X=df[df.columns[1:]]\n",
    "    Y=df['Solar1']\n",
    "\n",
    "    #Lasso回帰\n",
    "    clf_lasso = linear_model.Lasso(alpha=1.0)\n",
    "    clf_lasso.fit(train_X, train_Y)\n",
    "\n",
    "    train_Y['Predicted'] = clf_lasso.predict(train_X.as_matrix())\n",
    "    train_Y['Predicted'] = train_Y['Predicted'].map(lambda x: 0 if x<0 else x)\n",
    "    train_Y['Error_abs'] = np.abs(train_Y['Solar1'] - train_Y['Predicted'])\n",
    "\n",
    "    test_Y['Predicted'] = clf_lasso.predict(test_X.as_matrix())\n",
    "    test_Y['Predicted'] = test_Y['Predicted'].map(lambda x: 0 if x<0 else x)\n",
    "    test_Y['Error_abs'] = np.abs(test_Y['Solar1'] - test_Y['Predicted'])\n",
    "\n",
    "    MAE_train.append(train_Y['Error_abs'].mean())\n",
    "    MAE_test.append(test_Y['Error_abs'].mean())\n",
    "\n",
    "print(\"MAE_train:\", np.mean(np.array(MAE_train)))\n",
    "print(\"MAE_test:\", np.mean(np.array(MAE_test)))"
   ]
  },
  {
   "cell_type": "code",
   "execution_count": 43,
   "metadata": {
    "collapsed": false,
    "scrolled": false
   },
   "outputs": [
    {
     "name": "stdout",
     "output_type": "stream",
     "text": [
      "\n",
      "-------------------------Summary of Regression Analysis-------------------------\n",
      "\n",
      "Formula: Y ~ <Rain> + <Temp> + <Wave> + <Clowdy> + <Rainy> + <Snowy> + <sind>\n",
      "             + <cosd> + <sin2d> + <cos2d> + <sint> + <sin3t> + <cos3t> + <sin4t>\n",
      "             + <cos4t> + <m> + <m1> + <m2> + <m3> + <intercept>\n",
      "\n",
      "Number of Observations:         23142\n",
      "Number of Degrees of Freedom:   20\n",
      "\n",
      "R-squared:         0.7326\n",
      "Adj R-squared:     0.7323\n",
      "\n",
      "Rmse:            482.3200\n",
      "\n",
      "F-stat (19, 23122):  3333.3892, p-value:     0.0000\n",
      "\n",
      "Degrees of Freedom: model 19, resid 23122\n",
      "\n",
      "-----------------------Summary of Estimated Coefficients------------------------\n",
      "      Variable       Coef    Std Err     t-stat    p-value    CI 2.5%   CI 97.5%\n",
      "--------------------------------------------------------------------------------\n",
      "          Rain  -827.9373    56.2503     -14.72     0.0000  -938.1880  -717.6867\n",
      "          Temp     5.6040     1.1383       4.92     0.0000     3.3730     7.8350\n",
      "          Wave    16.9205     4.8579       3.48     0.0005     7.3989    26.4420\n",
      "        Clowdy  -298.1384     8.4368     -35.34     0.0000  -314.6746  -281.6023\n",
      "         Rainy  -330.8330    19.2893     -17.15     0.0000  -368.6402  -293.0259\n",
      "--------------------------------------------------------------------------------\n",
      "         Snowy  -342.8582    64.2770      -5.33     0.0000  -468.8411  -216.8754\n",
      "          sind  -244.9158    29.5704      -8.28     0.0000  -302.8739  -186.9577\n",
      "          cosd   365.4732    52.1140       7.01     0.0000   263.3297   467.6167\n",
      "         sin2d    32.8276     4.5942       7.15     0.0000    23.8228    41.8323\n",
      "         cos2d   -64.9465     4.7845     -13.57     0.0000   -74.3240   -55.5689\n",
      "--------------------------------------------------------------------------------\n",
      "          sint  -501.0695    77.7202      -6.45     0.0000  -653.4012  -348.7379\n",
      "         sin3t   291.3063    30.5935       9.52     0.0000   231.3432   351.2695\n",
      "         cos3t   -32.1322     7.9791      -4.03     0.0001   -47.7712   -16.4932\n",
      "         sin4t    40.7265     7.3369       5.55     0.0000    26.3461    55.1069\n",
      "         cos4t   553.6932    22.3108      24.82     0.0000   509.9641   597.4223\n",
      "--------------------------------------------------------------------------------\n",
      "             m     1.7781     0.0354      50.23     0.0000     1.7088     1.8475\n",
      "            m1     0.0010     0.0001       9.25     0.0000     0.0008     0.0012\n",
      "            m2     2.8714     0.1842      15.59     0.0000     2.5105     3.2324\n",
      "            m3    -0.0013     0.0001     -10.34     0.0000    -0.0016    -0.0011\n",
      "     intercept   576.3579    71.8065       8.03     0.0000   435.6172   717.0986\n",
      "---------------------------------End of Summary---------------------------------\n",
      "\n"
     ]
    }
   ],
   "source": [
    "model = pd.ols(y=train_Y['Solar1'], x=train_X, intercept=True)\n",
    "print(model)"
   ]
  },
  {
   "cell_type": "code",
   "execution_count": 44,
   "metadata": {
    "collapsed": false
   },
   "outputs": [
    {
     "data": {
      "text/plain": [
       "207.08333333333334"
      ]
     },
     "execution_count": 44,
     "metadata": {},
     "output_type": "execute_result"
    }
   ],
   "source": [
    "355 * 28 / 48"
   ]
  }
 ],
 "metadata": {
  "kernelspec": {
   "display_name": "Python 3",
   "language": "python",
   "name": "python3"
  },
  "language_info": {
   "codemirror_mode": {
    "name": "ipython",
    "version": 3
   },
   "file_extension": ".py",
   "mimetype": "text/x-python",
   "name": "python",
   "nbconvert_exporter": "python",
   "pygments_lexer": "ipython3",
   "version": "3.6.0"
  }
 },
 "nbformat": 4,
 "nbformat_minor": 2
}
