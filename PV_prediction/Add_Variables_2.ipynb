{
 "cells": [
  {
   "cell_type": "code",
   "execution_count": 1,
   "metadata": {
    "collapsed": true
   },
   "outputs": [],
   "source": [
    "import numpy as np \n",
    "import pandas as pd\n",
    "import matplotlib.pyplot as plt\n",
    "import seaborn as sns\n",
    "plt.style.use('fivethirtyeight')\n",
    "import numba\n",
    "from tqdm import tqdm\n",
    "import warnings\n",
    "warnings.filterwarnings('ignore')\n",
    "from filer3 import Filer\n",
    "%matplotlib inline\n",
    "\n",
    "#importing the required ML packages\n",
    "from sklearn import svm\n",
    "from sklearn.model_selection import train_test_split\n",
    "from sklearn import metrics\n",
    "from sklearn.metrics import confusion_matrix\n",
    "from sklearn import linear_model\n",
    "from sklearn.ensemble import RandomForestRegressor\n",
    "from sklearn.neighbors import KNeighborsRegressor"
   ]
  },
  {
   "cell_type": "code",
   "execution_count": 2,
   "metadata": {
    "collapsed": true
   },
   "outputs": [],
   "source": [
    "df_S1 = pd.read_csv('train_S1.csv')\n",
    "df_S2 = pd.read_csv('train_S2.csv')\n",
    "df_S3 = pd.read_csv('train_S3.csv')"
   ]
  },
  {
   "cell_type": "markdown",
   "metadata": {},
   "source": [
    "#### これからやることリスト\n",
    "##### A. 説明変数の再設計\n",
    "-A.4. 雲量を表すパラメータの追加（前日の同時刻での全天日射量/大気外日射量の追加or調べる時刻における全天日射量/大気外日射量の予測値の追加）<br>\n",
    "-A.5. 各変数の正規化（Normalized-Temp）<br>\n",
    "##### B. 予測モデルの追加\n",
    " -B.1. 既存のLassoに加えて、K-NNを実施する<br>\n",
    "-B.2. K-NNのパラメータ調整（正規化、重みづけ最適化、過学習＆過多処理対策としての変数処理）<br>\n",
    " -B.2. スコアの伸び率によって、三層パーセプトロンやSVRも検討する<br>"
   ]
  },
  {
   "cell_type": "markdown",
   "metadata": {},
   "source": [
    "##### A*　Ex-Solar ≒ 0は分けておく"
   ]
  },
  {
   "cell_type": "code",
   "execution_count": 3,
   "metadata": {
    "collapsed": false,
    "scrolled": true
   },
   "outputs": [
    {
     "data": {
      "text/plain": [
       "Solar1\n",
       "0.0     33972\n",
       "1.0         3\n",
       "2.0         2\n",
       "4.0         2\n",
       "5.0         1\n",
       "9.0         1\n",
       "15.0        1\n",
       "16.0        1\n",
       "17.0        1\n",
       "Name: Solar1, dtype: int64"
      ]
     },
     "execution_count": 3,
     "metadata": {},
     "output_type": "execute_result"
    }
   ],
   "source": [
    "d = df_S1[df_S1['Ex-Solar'] <= 1]\n",
    "d.groupby('Solar1')['Solar1'].count()"
   ]
  },
  {
   "cell_type": "code",
   "execution_count": 4,
   "metadata": {
    "collapsed": false
   },
   "outputs": [
    {
     "data": {
      "text/plain": [
       "Solar3\n",
       "0.0     19957\n",
       "10.0        4\n",
       "70.0        1\n",
       "Name: Solar3, dtype: int64"
      ]
     },
     "execution_count": 4,
     "metadata": {},
     "output_type": "execute_result"
    }
   ],
   "source": [
    "d = df_S3[df_S3['Ex-Solar'] <= 1]\n",
    "d.groupby('Solar3')['Solar3'].count()"
   ]
  },
  {
   "cell_type": "markdown",
   "metadata": {},
   "source": [
    "よって、Ex-Solarが1以下なら、Solarは0としてしまってよい。"
   ]
  },
  {
   "cell_type": "code",
   "execution_count": 5,
   "metadata": {
    "collapsed": true
   },
   "outputs": [],
   "source": [
    "df_S1_ = df_S1[df_S1['Ex-Solar'] <= 1]\n",
    "df_S1 = df_S1[df_S1['Ex-Solar'] > 1]\n",
    "df_S2_ = df_S2[df_S2['Ex-Solar'] <= 1]\n",
    "df_S2 = df_S2[df_S2['Ex-Solar'] > 1]\n",
    "df_S3_ = df_S3[df_S3['Ex-Solar'] <= 1]\n",
    "df_S3 = df_S3[df_S3['Ex-Solar'] > 1]"
   ]
  },
  {
   "cell_type": "markdown",
   "metadata": {},
   "source": [
    "##### A4　雲量の予測値の追加"
   ]
  },
  {
   "cell_type": "markdown",
   "metadata": {},
   "source": [
    "上の結果より、「Ex-Solar <= 1」は全て「Solar=0」と予測し、「Ex-Solar > 1」を予測することをこれからの目標とする。<br>\n",
    "ここで「Ex-Solar > 1」をメインのdfとし、これに雲量に関わりうる　Pre-Clowd：（(全天日射量 / Ex-Solar )の予測値）を加えていく。<br>"
   ]
  },
  {
   "cell_type": "code",
   "execution_count": 6,
   "metadata": {
    "collapsed": true
   },
   "outputs": [],
   "source": [
    "#横浜と甲府のデータを見ていく\n",
    "data = Filer.read_tsv('data/sfc_47670_yokohama.tsv')\n",
    "df_yoko= pd.DataFrame(data[1:], columns = data[0])\n",
    "data = Filer.read_tsv('data/sfc_47638_kofu.tsv')\n",
    "df_kofu= pd.DataFrame(data[1:], columns = data[0])"
   ]
  },
  {
   "cell_type": "code",
   "execution_count": 7,
   "metadata": {
    "collapsed": false,
    "scrolled": true
   },
   "outputs": [
    {
     "data": {
      "text/html": [
       "<div>\n",
       "<table border=\"1\" class=\"dataframe\">\n",
       "  <thead>\n",
       "    <tr style=\"text-align: right;\">\n",
       "      <th></th>\n",
       "      <th>datetime</th>\n",
       "      <th>pr</th>\n",
       "      <th>f_pr</th>\n",
       "      <th>max_iws</th>\n",
       "      <th>f_max_iws</th>\n",
       "      <th>ave_wv</th>\n",
       "      <th>f_ave_wv</th>\n",
       "      <th>ave_ws</th>\n",
       "      <th>f_ave_ws</th>\n",
       "      <th>max_tp</th>\n",
       "      <th>f_max_tp</th>\n",
       "      <th>min_tp</th>\n",
       "      <th>f_min_tp</th>\n",
       "      <th>sl</th>\n",
       "      <th>f_sl</th>\n",
       "      <th>dsr</th>\n",
       "      <th>f_dsr</th>\n",
       "      <th>gsr</th>\n",
       "      <th>f_gsr</th>\n",
       "      <th>sd</th>\n",
       "      <th>f_sd</th>\n",
       "      <th>dsd</th>\n",
       "      <th>f_dsd</th>\n",
       "      <th>lap</th>\n",
       "      <th>f_lap</th>\n",
       "      <th>sap</th>\n",
       "      <th>f_sap</th>\n",
       "      <th>cap</th>\n",
       "      <th>f_cap</th>\n",
       "      <th>3h_cap</th>\n",
       "      <th>f_3h_cap</th>\n",
       "      <th>rhm</th>\n",
       "      <th>f_rhm</th>\n",
       "      <th>min_rhm</th>\n",
       "      <th>f_min_rhm</th>\n",
       "      <th>vp</th>\n",
       "      <th>f_vp</th>\n",
       "      <th>dtp</th>\n",
       "      <th>f_dtp</th>\n",
       "      <th>vb</th>\n",
       "      <th>f_vb</th>\n",
       "      <th>weather</th>\n",
       "      <th>f_weather</th>\n",
       "    </tr>\n",
       "  </thead>\n",
       "  <tbody>\n",
       "    <tr>\n",
       "      <th>0</th>\n",
       "      <td>201201010010</td>\n",
       "      <td>0</td>\n",
       "      <td>2</td>\n",
       "      <td>13</td>\n",
       "      <td>0</td>\n",
       "      <td>21</td>\n",
       "      <td>0</td>\n",
       "      <td>7</td>\n",
       "      <td>0</td>\n",
       "      <td>20</td>\n",
       "      <td>0</td>\n",
       "      <td>18</td>\n",
       "      <td>0</td>\n",
       "      <td>0</td>\n",
       "      <td>2</td>\n",
       "      <td></td>\n",
       "      <td>48</td>\n",
       "      <td>0</td>\n",
       "      <td>2</td>\n",
       "      <td>0</td>\n",
       "      <td>2</td>\n",
       "      <td>0</td>\n",
       "      <td>2</td>\n",
       "      <td>9892</td>\n",
       "      <td>0</td>\n",
       "      <td>10242</td>\n",
       "      <td>0</td>\n",
       "      <td>8</td>\n",
       "      <td>0</td>\n",
       "      <td>-1</td>\n",
       "      <td>0</td>\n",
       "      <td>55</td>\n",
       "      <td>0</td>\n",
       "      <td>54</td>\n",
       "      <td>0</td>\n",
       "      <td>39</td>\n",
       "      <td>0</td>\n",
       "      <td>-62</td>\n",
       "      <td>0</td>\n",
       "      <td></td>\n",
       "      <td>56</td>\n",
       "      <td></td>\n",
       "      <td></td>\n",
       "    </tr>\n",
       "    <tr>\n",
       "      <th>1</th>\n",
       "      <td>201201010020</td>\n",
       "      <td>0</td>\n",
       "      <td>2</td>\n",
       "      <td>20</td>\n",
       "      <td>0</td>\n",
       "      <td>19</td>\n",
       "      <td>0</td>\n",
       "      <td>10</td>\n",
       "      <td>0</td>\n",
       "      <td>19</td>\n",
       "      <td>0</td>\n",
       "      <td>18</td>\n",
       "      <td>0</td>\n",
       "      <td>0</td>\n",
       "      <td>2</td>\n",
       "      <td></td>\n",
       "      <td>48</td>\n",
       "      <td>0</td>\n",
       "      <td>2</td>\n",
       "      <td>0</td>\n",
       "      <td>2</td>\n",
       "      <td>0</td>\n",
       "      <td>2</td>\n",
       "      <td>9892</td>\n",
       "      <td>0</td>\n",
       "      <td>10242</td>\n",
       "      <td>0</td>\n",
       "      <td>7</td>\n",
       "      <td>0</td>\n",
       "      <td>-1</td>\n",
       "      <td>0</td>\n",
       "      <td>54</td>\n",
       "      <td>0</td>\n",
       "      <td>54</td>\n",
       "      <td>0</td>\n",
       "      <td>38</td>\n",
       "      <td>0</td>\n",
       "      <td>-65</td>\n",
       "      <td>0</td>\n",
       "      <td></td>\n",
       "      <td>56</td>\n",
       "      <td></td>\n",
       "      <td></td>\n",
       "    </tr>\n",
       "    <tr>\n",
       "      <th>2</th>\n",
       "      <td>201201010030</td>\n",
       "      <td>0</td>\n",
       "      <td>2</td>\n",
       "      <td>32</td>\n",
       "      <td>0</td>\n",
       "      <td>22</td>\n",
       "      <td>0</td>\n",
       "      <td>15</td>\n",
       "      <td>0</td>\n",
       "      <td>19</td>\n",
       "      <td>0</td>\n",
       "      <td>17</td>\n",
       "      <td>0</td>\n",
       "      <td>0</td>\n",
       "      <td>2</td>\n",
       "      <td></td>\n",
       "      <td>48</td>\n",
       "      <td>0</td>\n",
       "      <td>2</td>\n",
       "      <td>0</td>\n",
       "      <td>2</td>\n",
       "      <td>0</td>\n",
       "      <td>2</td>\n",
       "      <td>9892</td>\n",
       "      <td>0</td>\n",
       "      <td>10242</td>\n",
       "      <td>0</td>\n",
       "      <td>7</td>\n",
       "      <td>0</td>\n",
       "      <td>-1</td>\n",
       "      <td>0</td>\n",
       "      <td>53</td>\n",
       "      <td>0</td>\n",
       "      <td>53</td>\n",
       "      <td>0</td>\n",
       "      <td>37</td>\n",
       "      <td>0</td>\n",
       "      <td>-68</td>\n",
       "      <td>0</td>\n",
       "      <td></td>\n",
       "      <td>56</td>\n",
       "      <td></td>\n",
       "      <td></td>\n",
       "    </tr>\n",
       "    <tr>\n",
       "      <th>3</th>\n",
       "      <td>201201010040</td>\n",
       "      <td>0</td>\n",
       "      <td>2</td>\n",
       "      <td>21</td>\n",
       "      <td>0</td>\n",
       "      <td>22</td>\n",
       "      <td>0</td>\n",
       "      <td>12</td>\n",
       "      <td>0</td>\n",
       "      <td>18</td>\n",
       "      <td>0</td>\n",
       "      <td>17</td>\n",
       "      <td>0</td>\n",
       "      <td>0</td>\n",
       "      <td>2</td>\n",
       "      <td></td>\n",
       "      <td>48</td>\n",
       "      <td>0</td>\n",
       "      <td>2</td>\n",
       "      <td>0</td>\n",
       "      <td>2</td>\n",
       "      <td>0</td>\n",
       "      <td>2</td>\n",
       "      <td>9893</td>\n",
       "      <td>0</td>\n",
       "      <td>10243</td>\n",
       "      <td>0</td>\n",
       "      <td>5</td>\n",
       "      <td>0</td>\n",
       "      <td>-2</td>\n",
       "      <td>0</td>\n",
       "      <td>52</td>\n",
       "      <td>0</td>\n",
       "      <td>52</td>\n",
       "      <td>0</td>\n",
       "      <td>36</td>\n",
       "      <td>0</td>\n",
       "      <td>-70</td>\n",
       "      <td>0</td>\n",
       "      <td></td>\n",
       "      <td>56</td>\n",
       "      <td></td>\n",
       "      <td></td>\n",
       "    </tr>\n",
       "    <tr>\n",
       "      <th>4</th>\n",
       "      <td>201201010050</td>\n",
       "      <td>0</td>\n",
       "      <td>2</td>\n",
       "      <td>17</td>\n",
       "      <td>0</td>\n",
       "      <td>18</td>\n",
       "      <td>0</td>\n",
       "      <td>11</td>\n",
       "      <td>0</td>\n",
       "      <td>19</td>\n",
       "      <td>0</td>\n",
       "      <td>17</td>\n",
       "      <td>0</td>\n",
       "      <td>0</td>\n",
       "      <td>2</td>\n",
       "      <td></td>\n",
       "      <td>48</td>\n",
       "      <td>0</td>\n",
       "      <td>2</td>\n",
       "      <td>0</td>\n",
       "      <td>2</td>\n",
       "      <td>0</td>\n",
       "      <td>2</td>\n",
       "      <td>9893</td>\n",
       "      <td>0</td>\n",
       "      <td>10243</td>\n",
       "      <td>0</td>\n",
       "      <td>5</td>\n",
       "      <td>0</td>\n",
       "      <td>-2</td>\n",
       "      <td>0</td>\n",
       "      <td>52</td>\n",
       "      <td>0</td>\n",
       "      <td>52</td>\n",
       "      <td>0</td>\n",
       "      <td>36</td>\n",
       "      <td>0</td>\n",
       "      <td>-69</td>\n",
       "      <td>0</td>\n",
       "      <td></td>\n",
       "      <td>56</td>\n",
       "      <td></td>\n",
       "      <td></td>\n",
       "    </tr>\n",
       "  </tbody>\n",
       "</table>\n",
       "</div>"
      ],
      "text/plain": [
       "       datetime pr f_pr max_iws f_max_iws ave_wv f_ave_wv ave_ws f_ave_ws  \\\n",
       "0  201201010010  0    2      13         0     21        0      7        0   \n",
       "1  201201010020  0    2      20         0     19        0     10        0   \n",
       "2  201201010030  0    2      32         0     22        0     15        0   \n",
       "3  201201010040  0    2      21         0     22        0     12        0   \n",
       "4  201201010050  0    2      17         0     18        0     11        0   \n",
       "\n",
       "  max_tp f_max_tp min_tp f_min_tp sl f_sl dsr f_dsr gsr f_gsr sd f_sd dsd  \\\n",
       "0     20        0     18        0  0    2        48   0     2  0    2   0   \n",
       "1     19        0     18        0  0    2        48   0     2  0    2   0   \n",
       "2     19        0     17        0  0    2        48   0     2  0    2   0   \n",
       "3     18        0     17        0  0    2        48   0     2  0    2   0   \n",
       "4     19        0     17        0  0    2        48   0     2  0    2   0   \n",
       "\n",
       "  f_dsd   lap f_lap    sap f_sap cap f_cap 3h_cap f_3h_cap rhm f_rhm min_rhm  \\\n",
       "0     2  9892     0  10242     0   8     0     -1        0  55     0      54   \n",
       "1     2  9892     0  10242     0   7     0     -1        0  54     0      54   \n",
       "2     2  9892     0  10242     0   7     0     -1        0  53     0      53   \n",
       "3     2  9893     0  10243     0   5     0     -2        0  52     0      52   \n",
       "4     2  9893     0  10243     0   5     0     -2        0  52     0      52   \n",
       "\n",
       "  f_min_rhm  vp f_vp  dtp f_dtp vb f_vb weather f_weather  \n",
       "0         0  39    0  -62     0      56                    \n",
       "1         0  38    0  -65     0      56                    \n",
       "2         0  37    0  -68     0      56                    \n",
       "3         0  36    0  -70     0      56                    \n",
       "4         0  36    0  -69     0      56                    "
      ]
     },
     "execution_count": 7,
     "metadata": {},
     "output_type": "execute_result"
    }
   ],
   "source": [
    "pd.set_option('display.max_columns', None)\n",
    "df_kofu.head()"
   ]
  },
  {
   "cell_type": "code",
   "execution_count": 8,
   "metadata": {
    "collapsed": true
   },
   "outputs": [],
   "source": [
    "df_yoko['f_gsr'] = df_yoko['f_gsr'].map(lambda x: None if x == '' else int(x))\n",
    "df_yoko['gsr'] = df_yoko['gsr'].map(lambda x: None if x == '' else int(x))\n",
    "df_kofu['f_gsr'] = df_kofu['f_gsr'].map(lambda x: None if x == '' else int(x))\n",
    "df_kofu['gsr'] = df_kofu['gsr'].map(lambda x: None if x == '' else int(x))"
   ]
  },
  {
   "cell_type": "code",
   "execution_count": 9,
   "metadata": {
    "collapsed": false
   },
   "outputs": [
    {
     "name": "stderr",
     "output_type": "stream",
     "text": [
      "100%|██████████| 276048/276048 [00:04<00:00, 58594.20it/s]\n",
      "100%|██████████| 276048/276048 [00:11<00:00, 24355.74it/s]\n",
      "100%|██████████| 276048/276048 [00:04<00:00, 56286.55it/s]\n",
      "100%|██████████| 276048/276048 [00:11<00:00, 23054.15it/s]\n"
     ]
    }
   ],
   "source": [
    "dfs = [df_yoko, df_kofu]\n",
    "\n",
    "def MtoD(x, y):\n",
    "    \n",
    "    r = 0\n",
    "    if x >= 2:\n",
    "        r = r + 31\n",
    "        \n",
    "        if x >= 3:\n",
    "            if y%4 == 0:\n",
    "                r = r + 29\n",
    "            else:\n",
    "                r = r + 28\n",
    "            \n",
    "            if x >= 4:\n",
    "                r = r + 31\n",
    "                if x >= 5:\n",
    "                    r = r + 30\n",
    "                    if x >= 6:\n",
    "                        r = r + 31\n",
    "                        if x >= 7:\n",
    "                            r = r + 30\n",
    "                            if x >= 8:\n",
    "                                r = r + 31\n",
    "                                if x >= 9:\n",
    "                                    r = r + 31\n",
    "                                    if x >= 10:\n",
    "                                        r = r + 30\n",
    "                                        if x >= 11:\n",
    "                                            r = r + 31\n",
    "                                            if x == 12:\n",
    "                                                r = r + 30\n",
    "    return r\n",
    "\n",
    "@numba.jit\n",
    "def Make_DateNo(M,D,Y):\n",
    "    Date_No = np.zeros(len(D))\n",
    "    for i in tqdm(range(len(D))):\n",
    "        Date_No[i] = MtoD(M[i],Y[i]) + D[i]\n",
    "    return Date_No\n",
    "\n",
    "@numba.jit\n",
    "def C(T):\n",
    "    ans = np.empty(len(T))\n",
    "    for i in tqdm(range(len(T))):\n",
    "        x = T[i]\n",
    "        if x[2:4] == \"00\":\n",
    "            ans[i] = float(x[0:2])\n",
    "        elif x[2:4] == \"10\":\n",
    "            ans[i] = float(x[0:2]) + (1 / 6)\n",
    "        elif x[2:4] == \"20\":\n",
    "            ans[i] = float(x[0:2]) + (2 / 6)\n",
    "        elif x[2:4] == \"30\":\n",
    "            ans[i] = float(x[0:2]) + (3 / 6)\n",
    "        elif x[2:4] == \"40\":\n",
    "            ans[i] = float(x[0:2]) + (4 / 6)\n",
    "        else:\n",
    "            ans[i] = float(x[0:2]) + (5 / 6)\n",
    "    return ans\n",
    "\n",
    "\n",
    "for df_yoko in dfs:\n",
    "    df_yoko['Year'] = df_yoko['datetime'].map(lambda x : x[0:4])\n",
    "    df_yoko['Month'] = df_yoko['datetime'].map(lambda x : x[4:6])\n",
    "    df_yoko['Date'] = df_yoko['datetime'].map(lambda x : x[6:8])\n",
    "    df_yoko['Time'] = df_yoko['datetime'].map(lambda x : x[8:12])\n",
    "\n",
    "    df_yoko['Year'] = df_yoko['Year'].map(lambda x: int(x))\n",
    "    df_yoko['Month'] = df_yoko['Month'].map(lambda x: int(x))\n",
    "    df_yoko['Date'] = df_yoko['Date'].map(lambda x: int(x))\n",
    "\n",
    "    df_yoko['Time'] = C(df_yoko['Time'])\n",
    "    df_yoko['Time'] = df_yoko['Time'].map(lambda x: round(x,1))\n",
    "\n",
    "    M = df_yoko['Month']\n",
    "    D = df_yoko['Date']\n",
    "    Y = df_yoko['Year']\n",
    "    df_yoko['Date-No'] = Make_DateNo(M,D,Y)\n",
    "    df_yoko['Date-No'] = df_yoko['Date-No'].map(lambda x: int(x))\n",
    "\n",
    "df_kofu = df_kofu.ix[:,['Year', 'Date-No', 'Time', 'f_gsr','gsr']]    \n",
    "df_yoko = df_yoko.ix[:,['Year', 'Date-No', 'Time', 'f_gsr','gsr']]"
   ]
  },
  {
   "cell_type": "code",
   "execution_count": 10,
   "metadata": {
    "collapsed": true
   },
   "outputs": [],
   "source": [
    "#30分間の全天日射量（MJ/(m^2)）をここ30分間の平均値*30で推定\n",
    "df_yoko['In-Solar'] = (df_yoko['gsr'] + df_yoko['gsr'].shift(1) + df_yoko['gsr'].shift(2) + df_yoko['gsr'].shift(3)) * 450 / (10**5)\n",
    "df_kofu['In-Solar'] = (df_kofu['gsr'] + df_kofu['gsr'].shift(1) + df_kofu['gsr'].shift(2) + df_kofu['gsr'].shift(3)) * 450 / (10**5)"
   ]
  },
  {
   "cell_type": "code",
   "execution_count": 11,
   "metadata": {
    "collapsed": false
   },
   "outputs": [],
   "source": [
    "df_yoko = pd.merge(df_S1, df_yoko, on=['Year', 'Date-No', 'Time'])\n",
    "df_kofu = pd.merge(df_S3, df_kofu, on=['Year', 'Date-No', 'Time'])"
   ]
  },
  {
   "cell_type": "code",
   "execution_count": 12,
   "metadata": {
    "collapsed": true
   },
   "outputs": [],
   "source": [
    "#スケールを揃える為に2倍を加えてRatioを出す\n",
    "df_yoko['In-Ex-Ratio'] = df_yoko['In-Solar'] / (df_yoko['Ex-Solar'] * 2)\n",
    "df_kofu['In-Ex-Ratio'] = df_kofu['In-Solar'] /  (df_kofu['Ex-Solar'] * 2)"
   ]
  },
  {
   "cell_type": "markdown",
   "metadata": {},
   "source": [
    "前日同時刻のEx-Ratio, Rain-Change, Temp-Change, （Weather-Change(Yes or No)）, WC * Sunny, WC* Clowdy, WC * Rainy, WC * Snowyを加える"
   ]
  },
  {
   "cell_type": "code",
   "execution_count": 13,
   "metadata": {
    "collapsed": true
   },
   "outputs": [],
   "source": [
    "df_yoko = df_yoko.ix[:, ['In-Ex-Ratio', 'Year', 'Date-No', 'Time', 'Rain', 'Temp', 'Wind', 'Clowdy', 'Rainy', 'Snowy']]\n",
    "df_kofu = df_kofu.ix[:, ['In-Ex-Ratio', 'Year', 'Date-No', 'Time', 'Rain', 'Temp', 'Wind', 'Clowdy', 'Rainy', 'Snowy']]"
   ]
  },
  {
   "cell_type": "code",
   "execution_count": 14,
   "metadata": {
    "collapsed": true
   },
   "outputs": [],
   "source": [
    "@numba.jit\n",
    "def SearchIndex(Y, D, T):\n",
    "    Index = np.empty(len(Y))\n",
    "    for i in tqdm(range(len(Y))):\n",
    "        j = i\n",
    "        while (j > i - 40) and (j >= 0) :\n",
    "            if (Y[j] == Y[i]) and (D[j] + 1 == D[i]) and (T[j] == T[i]):\n",
    "                Index[i] = j\n",
    "                break\n",
    "            else:\n",
    "                j = j -1\n",
    "    return Index"
   ]
  },
  {
   "cell_type": "code",
   "execution_count": 15,
   "metadata": {
    "collapsed": false,
    "scrolled": true
   },
   "outputs": [
    {
     "name": "stderr",
     "output_type": "stream",
     "text": [
      "100%|██████████| 36144/36144 [00:55<00:00, 654.32it/s]\n",
      "100%|██████████| 36123/36123 [00:55<00:00, 653.80it/s]\n"
     ]
    }
   ],
   "source": [
    "df_yoko['Ex-Index'] = SearchIndex(df_yoko['Year'], df_yoko['Date-No'], df_yoko['Time'])\n",
    "df_kofu['Ex-Index'] = SearchIndex(df_kofu['Year'], df_kofu['Date-No'], df_kofu['Time'])"
   ]
  },
  {
   "cell_type": "code",
   "execution_count": 16,
   "metadata": {
    "collapsed": false
   },
   "outputs": [],
   "source": [
    "df_yoko['Ex-Index'] = df_yoko['Ex-Index'].fillna('')\n",
    "df_kofu['Ex-Index'] = df_kofu['Ex-Index'].fillna('')\n",
    "df_yoko['Ex-Index'] = df_yoko['Ex-Index'].map(lambda x: None if x == '' else int(x))\n",
    "df_kofu['Ex-Index'] = df_kofu['Ex-Index'].map(lambda x: None if x == '' else int(x))"
   ]
  },
  {
   "cell_type": "code",
   "execution_count": 17,
   "metadata": {
    "collapsed": false
   },
   "outputs": [],
   "source": [
    "#前日要素の投入\n",
    "def A(df):\n",
    "    \n",
    "    N = len(df)\n",
    "    Index = np.array(df['Ex-Index'])\n",
    "    Ratio = np.array(df['In-Ex-Ratio'])\n",
    "    Rain = np.array(df['Rain'])\n",
    "    Temp = np.array(df['Temp'])\n",
    "    Clowdy = np.array(df['Clowdy'])\n",
    "    Rainy = np.array(df['Rainy'])\n",
    "    Snowy = np.array(df['Snowy'])\n",
    "    \n",
    "    Ex_Ratio = np.empty(N)\n",
    "    wc = np.zeros(N)\n",
    "    s_to_rs = np.zeros(N)\n",
    "    c_to_rs = np.zeros(N)\n",
    "    rs_to_s = np.zeros(N)\n",
    "    c_to_s = np.zeros(N)\n",
    "    rs_to_c = np.zeros(N)\n",
    "    s_to_c = np.zeros(N)\n",
    "    Rain_Change = np.empty(N)\n",
    "    Temp_Change = np.empty(N)\n",
    "    \n",
    "    for i in tqdm(range(N)):\n",
    "        j = Index[i]\n",
    "        if j == j:\n",
    "            Ex_Ratio[i] = Ratio[j]\n",
    "            Rain_Change[i] = Rain[i] - Rain[j]\n",
    "            Temp_Change[i] = Temp[i] - Temp[j]\n",
    "            \n",
    "            if (Clowdy[i] != Clowdy[j]) or (Rainy[i] != Rainy[j]) or (Snowy[i] != Snowy[j]):\n",
    "                if (Rainy[i] == 1) or (Snowy[i] == 1):\n",
    "                    if ((Clowdy[j] == 0) and (Rainy[j] == 0) and (Snowy[j] == 0)):\n",
    "                        s_to_rs[i] = 1\n",
    "                    elif Clowdy[j] == 1:\n",
    "                        c_to_rs[i] = 1\n",
    "                elif ((Clowdy[i] == 0) and (Rainy[i] == 0) and (Snowy[i] == 0)):\n",
    "                    if ((Rainy[j] == 1) or (Snowy[j] == 1)):\n",
    "                        rs_to_s[i] = 1\n",
    "                    elif Clowdy[j] == 1:\n",
    "                        c_to_s[i] = 1\n",
    "                elif Clowdy[i] == 1:\n",
    "                    if ((Rainy[j] == 1) or (Snowy[j] == 1)):\n",
    "                        rs_to_c[i] = 1\n",
    "                    elif ((Clowdy[j] == 0) and (Rainy[j] == 0) and (Snowy[j] == 0)):\n",
    "                        s_to_c[i] = 1\n",
    "                        \n",
    "    df['Ex-Ratio'] = Ex_Ratio\n",
    "    df['Rain_Change'] = Rain_Change\n",
    "    df['Temp_Change'] = Temp_Change\n",
    "    df['s_to_rs'] = s_to_rs\n",
    "    df['c_to_rs'] = c_to_rs\n",
    "    df['rs_to_s'] = rs_to_s\n",
    "    df['rs_to_c'] = rs_to_c\n",
    "    df['s_to_c'] = s_to_c\n",
    "    df['c_to_s'] = c_to_s\n",
    "    \n",
    "    return df"
   ]
  },
  {
   "cell_type": "code",
   "execution_count": 18,
   "metadata": {
    "collapsed": false,
    "scrolled": false
   },
   "outputs": [
    {
     "name": "stderr",
     "output_type": "stream",
     "text": [
      "100%|██████████| 36144/36144 [00:00<00:00, 65678.13it/s]\n",
      "100%|██████████| 36123/36123 [00:00<00:00, 73137.25it/s]\n"
     ]
    }
   ],
   "source": [
    "df_yoko = A(df_yoko)\n",
    "df_kofu = A(df_kofu)"
   ]
  },
  {
   "cell_type": "code",
   "execution_count": 20,
   "metadata": {
    "collapsed": false
   },
   "outputs": [
    {
     "data": {
      "text/html": [
       "<div>\n",
       "<table border=\"1\" class=\"dataframe\">\n",
       "  <thead>\n",
       "    <tr style=\"text-align: right;\">\n",
       "      <th></th>\n",
       "      <th>In-Ex-Ratio</th>\n",
       "      <th>Year</th>\n",
       "      <th>Date-No</th>\n",
       "      <th>Time</th>\n",
       "      <th>Rain</th>\n",
       "      <th>Temp</th>\n",
       "      <th>Wind</th>\n",
       "      <th>Clowdy</th>\n",
       "      <th>Rainy</th>\n",
       "      <th>Snowy</th>\n",
       "      <th>Ex-Index</th>\n",
       "      <th>Ex-Ratio</th>\n",
       "      <th>Rain_Change</th>\n",
       "      <th>Temp_Change</th>\n",
       "      <th>s_to_rs</th>\n",
       "      <th>c_to_rs</th>\n",
       "      <th>rs_to_s</th>\n",
       "      <th>rs_to_c</th>\n",
       "      <th>s_to_c</th>\n",
       "      <th>c_to_s</th>\n",
       "    </tr>\n",
       "  </thead>\n",
       "  <tbody>\n",
       "    <tr>\n",
       "      <th>0</th>\n",
       "      <td>0.060850</td>\n",
       "      <td>2012</td>\n",
       "      <td>1</td>\n",
       "      <td>7.0</td>\n",
       "      <td>30.0</td>\n",
       "      <td>4</td>\n",
       "      <td>2</td>\n",
       "      <td>1</td>\n",
       "      <td>0</td>\n",
       "      <td>0</td>\n",
       "      <td>NaN</td>\n",
       "      <td>0.0</td>\n",
       "      <td>0.0</td>\n",
       "      <td>0.0</td>\n",
       "      <td>0.0</td>\n",
       "      <td>0.0</td>\n",
       "      <td>0.0</td>\n",
       "      <td>0.0</td>\n",
       "      <td>0.0</td>\n",
       "      <td>0.0</td>\n",
       "    </tr>\n",
       "    <tr>\n",
       "      <th>1</th>\n",
       "      <td>0.109708</td>\n",
       "      <td>2012</td>\n",
       "      <td>1</td>\n",
       "      <td>7.5</td>\n",
       "      <td>30.0</td>\n",
       "      <td>4</td>\n",
       "      <td>2</td>\n",
       "      <td>1</td>\n",
       "      <td>0</td>\n",
       "      <td>0</td>\n",
       "      <td>NaN</td>\n",
       "      <td>0.0</td>\n",
       "      <td>0.0</td>\n",
       "      <td>0.0</td>\n",
       "      <td>0.0</td>\n",
       "      <td>0.0</td>\n",
       "      <td>0.0</td>\n",
       "      <td>0.0</td>\n",
       "      <td>0.0</td>\n",
       "      <td>0.0</td>\n",
       "    </tr>\n",
       "    <tr>\n",
       "      <th>2</th>\n",
       "      <td>0.228558</td>\n",
       "      <td>2012</td>\n",
       "      <td>1</td>\n",
       "      <td>8.0</td>\n",
       "      <td>30.0</td>\n",
       "      <td>4</td>\n",
       "      <td>2</td>\n",
       "      <td>1</td>\n",
       "      <td>0</td>\n",
       "      <td>0</td>\n",
       "      <td>NaN</td>\n",
       "      <td>0.0</td>\n",
       "      <td>0.0</td>\n",
       "      <td>0.0</td>\n",
       "      <td>0.0</td>\n",
       "      <td>0.0</td>\n",
       "      <td>0.0</td>\n",
       "      <td>0.0</td>\n",
       "      <td>0.0</td>\n",
       "      <td>0.0</td>\n",
       "    </tr>\n",
       "    <tr>\n",
       "      <th>3</th>\n",
       "      <td>0.370036</td>\n",
       "      <td>2012</td>\n",
       "      <td>1</td>\n",
       "      <td>8.5</td>\n",
       "      <td>30.0</td>\n",
       "      <td>4</td>\n",
       "      <td>2</td>\n",
       "      <td>1</td>\n",
       "      <td>0</td>\n",
       "      <td>0</td>\n",
       "      <td>NaN</td>\n",
       "      <td>0.0</td>\n",
       "      <td>0.0</td>\n",
       "      <td>0.0</td>\n",
       "      <td>0.0</td>\n",
       "      <td>0.0</td>\n",
       "      <td>0.0</td>\n",
       "      <td>0.0</td>\n",
       "      <td>0.0</td>\n",
       "      <td>0.0</td>\n",
       "    </tr>\n",
       "    <tr>\n",
       "      <th>4</th>\n",
       "      <td>0.478584</td>\n",
       "      <td>2012</td>\n",
       "      <td>1</td>\n",
       "      <td>9.0</td>\n",
       "      <td>30.0</td>\n",
       "      <td>4</td>\n",
       "      <td>2</td>\n",
       "      <td>1</td>\n",
       "      <td>0</td>\n",
       "      <td>0</td>\n",
       "      <td>NaN</td>\n",
       "      <td>0.0</td>\n",
       "      <td>0.0</td>\n",
       "      <td>0.0</td>\n",
       "      <td>0.0</td>\n",
       "      <td>0.0</td>\n",
       "      <td>0.0</td>\n",
       "      <td>0.0</td>\n",
       "      <td>0.0</td>\n",
       "      <td>0.0</td>\n",
       "    </tr>\n",
       "  </tbody>\n",
       "</table>\n",
       "</div>"
      ],
      "text/plain": [
       "   In-Ex-Ratio  Year  Date-No  Time  Rain  Temp  Wind  Clowdy  Rainy  Snowy  \\\n",
       "0     0.060850  2012        1   7.0  30.0     4     2       1      0      0   \n",
       "1     0.109708  2012        1   7.5  30.0     4     2       1      0      0   \n",
       "2     0.228558  2012        1   8.0  30.0     4     2       1      0      0   \n",
       "3     0.370036  2012        1   8.5  30.0     4     2       1      0      0   \n",
       "4     0.478584  2012        1   9.0  30.0     4     2       1      0      0   \n",
       "\n",
       "   Ex-Index  Ex-Ratio  Rain_Change  Temp_Change  s_to_rs  c_to_rs  rs_to_s  \\\n",
       "0       NaN       0.0          0.0          0.0      0.0      0.0      0.0   \n",
       "1       NaN       0.0          0.0          0.0      0.0      0.0      0.0   \n",
       "2       NaN       0.0          0.0          0.0      0.0      0.0      0.0   \n",
       "3       NaN       0.0          0.0          0.0      0.0      0.0      0.0   \n",
       "4       NaN       0.0          0.0          0.0      0.0      0.0      0.0   \n",
       "\n",
       "   rs_to_c  s_to_c  c_to_s  \n",
       "0      0.0     0.0     0.0  \n",
       "1      0.0     0.0     0.0  \n",
       "2      0.0     0.0     0.0  \n",
       "3      0.0     0.0     0.0  \n",
       "4      0.0     0.0     0.0  "
      ]
     },
     "execution_count": 20,
     "metadata": {},
     "output_type": "execute_result"
    }
   ],
   "source": [
    "df_yoko.head()"
   ]
  },
  {
   "cell_type": "code",
   "execution_count": 21,
   "metadata": {
    "collapsed": false
   },
   "outputs": [],
   "source": [
    "#欠損値の除去、学習用データセットの準備\n",
    "df_y = df_yoko.ix[:,['In-Ex-Ratio', 'Ex-Ratio', 'Rain_Change', 'Temp_Change', 's_to_c', 's_to_rs', 'c_to_s', 'c_to_rs', 'rs_to_s', 'rs_to_c', 'Ex-Index']]\n",
    "df_y = df_y.dropna(subset=['Ex-Index', 'In-Ex-Ratio', 'Ex-Ratio'])\n",
    "df_y = df_y.drop('Ex-Index', axis =1)\n",
    "\n",
    "df_k = df_kofu.ix[:,['In-Ex-Ratio', 'Ex-Ratio', 'Rain_Change', 'Temp_Change', 's_to_c', 's_to_rs', 'c_to_s', 'c_to_rs', 'rs_to_s', 'rs_to_c',  'Ex-Index']]\n",
    "df_k = df_k.dropna(subset=['Ex-Index', 'In-Ex-Ratio', 'Ex-Ratio'])\n",
    "df_k = df_k.drop('Ex-Index', axis =1)"
   ]
  },
  {
   "cell_type": "markdown",
   "metadata": {},
   "source": [
    "＜これから＞<br>\n",
    "df_y, df_kで予測して、indexのouterマージでdf_yoko, df_kofuに戻し、df_S1, ... , df_S3にPre-Clowdとして加える"
   ]
  },
  {
   "cell_type": "code",
   "execution_count": 34,
   "metadata": {
    "collapsed": false
   },
   "outputs": [
    {
     "data": {
      "text/html": [
       "<div>\n",
       "<table border=\"1\" class=\"dataframe\">\n",
       "  <thead>\n",
       "    <tr style=\"text-align: right;\">\n",
       "      <th></th>\n",
       "      <th>In-Ex-Ratio</th>\n",
       "      <th>Ex-Ratio</th>\n",
       "      <th>Rain_Change</th>\n",
       "      <th>Temp_Change</th>\n",
       "      <th>s_to_c</th>\n",
       "      <th>s_to_rs</th>\n",
       "      <th>c_to_s</th>\n",
       "      <th>c_to_rs</th>\n",
       "      <th>rs_to_s</th>\n",
       "      <th>rs_to_c</th>\n",
       "    </tr>\n",
       "  </thead>\n",
       "  <tbody>\n",
       "    <tr>\n",
       "      <th>20</th>\n",
       "      <td>0.062699</td>\n",
       "      <td>0.060850</td>\n",
       "      <td>-10.0</td>\n",
       "      <td>2.0</td>\n",
       "      <td>0.0</td>\n",
       "      <td>0.0</td>\n",
       "      <td>0.0</td>\n",
       "      <td>0.0</td>\n",
       "      <td>0.0</td>\n",
       "      <td>0.0</td>\n",
       "    </tr>\n",
       "    <tr>\n",
       "      <th>21</th>\n",
       "      <td>0.092021</td>\n",
       "      <td>0.109708</td>\n",
       "      <td>-10.0</td>\n",
       "      <td>2.0</td>\n",
       "      <td>0.0</td>\n",
       "      <td>0.0</td>\n",
       "      <td>0.0</td>\n",
       "      <td>0.0</td>\n",
       "      <td>0.0</td>\n",
       "      <td>0.0</td>\n",
       "    </tr>\n",
       "    <tr>\n",
       "      <th>22</th>\n",
       "      <td>0.280155</td>\n",
       "      <td>0.228558</td>\n",
       "      <td>-10.0</td>\n",
       "      <td>2.0</td>\n",
       "      <td>0.0</td>\n",
       "      <td>0.0</td>\n",
       "      <td>0.0</td>\n",
       "      <td>0.0</td>\n",
       "      <td>0.0</td>\n",
       "      <td>0.0</td>\n",
       "    </tr>\n",
       "    <tr>\n",
       "      <th>23</th>\n",
       "      <td>0.469557</td>\n",
       "      <td>0.370036</td>\n",
       "      <td>-10.0</td>\n",
       "      <td>2.0</td>\n",
       "      <td>0.0</td>\n",
       "      <td>0.0</td>\n",
       "      <td>0.0</td>\n",
       "      <td>0.0</td>\n",
       "      <td>0.0</td>\n",
       "      <td>0.0</td>\n",
       "    </tr>\n",
       "    <tr>\n",
       "      <th>24</th>\n",
       "      <td>0.551250</td>\n",
       "      <td>0.478584</td>\n",
       "      <td>-10.0</td>\n",
       "      <td>2.0</td>\n",
       "      <td>0.0</td>\n",
       "      <td>0.0</td>\n",
       "      <td>0.0</td>\n",
       "      <td>0.0</td>\n",
       "      <td>0.0</td>\n",
       "      <td>0.0</td>\n",
       "    </tr>\n",
       "  </tbody>\n",
       "</table>\n",
       "</div>"
      ],
      "text/plain": [
       "    In-Ex-Ratio  Ex-Ratio  Rain_Change  Temp_Change  s_to_c  s_to_rs  c_to_s  \\\n",
       "20     0.062699  0.060850        -10.0          2.0     0.0      0.0     0.0   \n",
       "21     0.092021  0.109708        -10.0          2.0     0.0      0.0     0.0   \n",
       "22     0.280155  0.228558        -10.0          2.0     0.0      0.0     0.0   \n",
       "23     0.469557  0.370036        -10.0          2.0     0.0      0.0     0.0   \n",
       "24     0.551250  0.478584        -10.0          2.0     0.0      0.0     0.0   \n",
       "\n",
       "    c_to_rs  rs_to_s  rs_to_c  \n",
       "20      0.0      0.0      0.0  \n",
       "21      0.0      0.0      0.0  \n",
       "22      0.0      0.0      0.0  \n",
       "23      0.0      0.0      0.0  \n",
       "24      0.0      0.0      0.0  "
      ]
     },
     "execution_count": 34,
     "metadata": {},
     "output_type": "execute_result"
    }
   ],
   "source": [
    "#まずはdf_yで。\n",
    "df = df_y\n",
    "df.head()"
   ]
  },
  {
   "cell_type": "code",
   "execution_count": 33,
   "metadata": {
    "collapsed": false
   },
   "outputs": [
    {
     "data": {
      "image/png": "[encoded data removed]",
      "text/plain": [
       "<matplotlib.figure.Figure at 0x1321f82e8>"
      ]
     },
     "metadata": {},
     "output_type": "display_data"
    }
   ],
   "source": [
    "#相関を見る\n",
    "sns.heatmap(df.corr(),annot=True,cmap='RdYlGn',linewidths=0.2)\n",
    "fig=plt.gcf()\n",
    "fig.set_size_inches(9,7.5)\n",
    "plt.xticks(fontsize=14)\n",
    "plt.yticks(fontsize=14)\n",
    "plt.show()"
   ]
  },
  {
   "cell_type": "markdown",
   "metadata": {},
   "source": [
    "### モデルの予測"
   ]
  },
  {
   "cell_type": "markdown",
   "metadata": {},
   "source": [
    "オプションは、①変数をいじってLasso、②正規化して重みづけをしてK-NN、③とりあえずRF、④よくわからないままSVR（radial, linear）。<br>"
   ]
  },
  {
   "cell_type": "markdown",
   "metadata": {},
   "source": [
    "とりあえず、目的値はMAE / mu < 0.05。"
   ]
  },
  {
   "cell_type": "code",
   "execution_count": 28,
   "metadata": {
    "collapsed": false
   },
   "outputs": [
    {
     "data": {
      "text/plain": [
       "0.5040224035887821"
      ]
     },
     "execution_count": 28,
     "metadata": {},
     "output_type": "execute_result"
    }
   ],
   "source": [
    "df['In-Ex-Ratio'].mean()"
   ]
  },
  {
   "cell_type": "markdown",
   "metadata": {
    "collapsed": true
   },
   "source": [
    "ゆえ、MAE < 0.025を目指す。"
   ]
  },
  {
   "cell_type": "code",
   "execution_count": 27,
   "metadata": {
    "collapsed": true
   },
   "outputs": [],
   "source": [
    "train,test=train_test_split(df,test_size=0.3,random_state=0)\n",
    "train_X=train[train.columns[1:]]\n",
    "train_Y=train[train.columns[:1]]\n",
    "test_X=test[test.columns[1:]]\n",
    "test_Y=test[test.columns[:1]]\n",
    "X=df[df.columns[1:]]\n",
    "Y=df['In-Ex-Ratio']"
   ]
  },
  {
   "cell_type": "markdown",
   "metadata": {},
   "source": [
    "まずはざっくりとやってみる。"
   ]
  },
  {
   "cell_type": "code",
   "execution_count": 31,
   "metadata": {
    "collapsed": false
   },
   "outputs": [
    {
     "name": "stdout",
     "output_type": "stream",
     "text": [
      "The MAE of the Random Forests is 0.165792323235\n"
     ]
    }
   ],
   "source": [
    "#RF\n",
    "model=RandomForestRegressor(n_estimators=100)\n",
    "model.fit(train_X,train_Y)\n",
    "prediction=model.predict(test_X)\n",
    "print('The MAE of the Random Forests is', metrics.mean_absolute_error(prediction,test_Y))"
   ]
  },
  {
   "cell_type": "code",
   "execution_count": 39,
   "metadata": {
    "collapsed": false
   },
   "outputs": [
    {
     "name": "stdout",
     "output_type": "stream",
     "text": [
      "The MAE of Lasso is 0.238017443879\n"
     ]
    }
   ],
   "source": [
    "#Lasso\n",
    "model = linear_model.Lasso(alpha=1.0)\n",
    "model.fit(train_X,train_Y)\n",
    "prediction=model.predict(test_X)\n",
    "print('The MAE of Lasso is', metrics.mean_absolute_error(prediction,test_Y))"
   ]
  },
  {
   "cell_type": "code",
   "execution_count": 36,
   "metadata": {
    "collapsed": false
   },
   "outputs": [
    {
     "name": "stdout",
     "output_type": "stream",
     "text": [
      "The MAE for rbf SVR is  0.159933989368\n"
     ]
    }
   ],
   "source": [
    "#radial SVM\n",
    "model=svm.SVR(kernel='rbf',C=1,gamma=0.1)\n",
    "model.fit(train_X,train_Y)\n",
    "prediction1=model.predict(test_X)\n",
    "print('The MAE for rbf SVR is ',metrics.mean_absolute_error(prediction1,test_Y))"
   ]
  },
  {
   "cell_type": "code",
   "execution_count": 37,
   "metadata": {
    "collapsed": false
   },
   "outputs": [
    {
     "name": "stdout",
     "output_type": "stream",
     "text": [
      "The MAE for linear SVM is 0.168584603715\n"
     ]
    }
   ],
   "source": [
    "#linear SVM\n",
    "model=svm.SVR(kernel='linear',C=0.1,gamma=0.1)\n",
    "model.fit(train_X,train_Y)\n",
    "prediction2=model.predict(test_X)\n",
    "print('The MAE for linear SVM is',metrics.mean_absolute_error(prediction2,test_Y))"
   ]
  },
  {
   "cell_type": "code",
   "execution_count": null,
   "metadata": {
    "collapsed": true
   },
   "outputs": [],
   "source": []
  }
 ],
 "metadata": {
  "kernelspec": {
   "display_name": "Python 3",
   "language": "python",
   "name": "python3"
  },
  "language_info": {
   "codemirror_mode": {
    "name": "ipython",
    "version": 3
   },
   "file_extension": ".py",
   "mimetype": "text/x-python",
   "name": "python",
   "nbconvert_exporter": "python",
   "pygments_lexer": "ipython3",
   "version": "3.6.0"
  }
 },
 "nbformat": 4,
 "nbformat_minor": 2
}
