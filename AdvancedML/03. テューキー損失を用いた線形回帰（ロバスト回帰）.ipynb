{
 "cells": [
  {
   "cell_type": "code",
   "execution_count": 1,
   "metadata": {},
   "outputs": [],
   "source": [
    "import numpy as np\n",
    "import pandas as pd\n",
    "import matplotlib.pyplot as plt\n",
    "from tqdm import tqdm\n",
    "plt.style.use(\"ggplot\")\n",
    "%matplotlib inline"
   ]
  },
  {
   "cell_type": "code",
   "execution_count": 2,
   "metadata": {},
   "outputs": [],
   "source": [
    "def generate_sample(x_min=-3., x_max=3., sample_size=10):\n",
    "    np.random.seed(1)\n",
    "    x = np.linspace(x_min, x_max, num=sample_size)\n",
    "    y = x + np.random.normal(loc=0., scale=.2, size=sample_size)\n",
    "    y[-1] = y[-2] = y[1] = -4  # outliers\n",
    "    return x, y"
   ]
  },
  {
   "cell_type": "code",
   "execution_count": 3,
   "metadata": {},
   "outputs": [],
   "source": [
    "def design_matrix(x):\n",
    "    return np.concatenate([np.ones(len(x))[:,None], x[:,None]], axis = 1)\n",
    "\n",
    "def weight(r, eta):\n",
    "    if np.abs(r) > eta:\n",
    "        return 0\n",
    "    else:\n",
    "        return (1 - (r/eta)**2)**2\n",
    "\n",
    "def calc_W(r, eta):\n",
    "    w_array = np.array([weight(i,eta) for i in r])\n",
    "    return np.diag(w_array)"
   ]
  },
  {
   "cell_type": "code",
   "execution_count": 4,
   "metadata": {},
   "outputs": [],
   "source": [
    "def step_IRLS(theta, Phi, y, eta):\n",
    "    r = np.matmul(Phi, theta) - y\n",
    "    W = calc_W(r, eta)\n",
    "    left = np.matmul(np.matmul(Phi.T, W), Phi)\n",
    "    right = np.matmul(np.matmul(Phi.T, W), y)\n",
    "    return np.matmul(np.linalg.inv(left), right)\n",
    "\n",
    "def IRLS(initial_theta, Phi, y, eta, total_step=10):\n",
    "    theta = initial_theta\n",
    "    for i in range(total_step):\n",
    "        theta = step_IRLS(theta, Phi, y, eta)\n",
    "    return theta"
   ]
  },
  {
   "cell_type": "code",
   "execution_count": 5,
   "metadata": {},
   "outputs": [
    {
     "data": {
      "text/plain": [
       "<matplotlib.collections.PathCollection at 0x11f8ea898>"
      ]
     },
     "execution_count": 5,
     "metadata": {},
     "output_type": "execute_result"
    },
    {
     "data": {
      "image/png": "[encoded data removed]",
      "text/plain": [
       "<Figure size 432x288 with 1 Axes>"
      ]
     },
     "metadata": {
      "needs_background": "light"
     },
     "output_type": "display_data"
    }
   ],
   "source": [
    "#Data Generation\n",
    "x, y = generate_sample()\n",
    "plt.scatter(x,y, color='b')"
   ]
  },
  {
   "cell_type": "code",
   "execution_count": 6,
   "metadata": {
    "scrolled": true
   },
   "outputs": [
    {
     "data": {
      "text/plain": [
       "<matplotlib.collections.PathCollection at 0x11f9b0940>"
      ]
     },
     "execution_count": 6,
     "metadata": {},
     "output_type": "execute_result"
    },
    {
     "data": {
      "image/png": "[encoded data removed]",
      "text/plain": [
       "<Figure size 432x288 with 1 Axes>"
      ]
     },
     "metadata": {
      "needs_background": "light"
     },
     "output_type": "display_data"
    }
   ],
   "source": [
    "#Settings\n",
    "eta = 2\n",
    "initial_theta = np.array([0, 0])\n",
    "Phi = design_matrix(x)\n",
    "\n",
    "#Fitting\n",
    "theta = IRLS(initial_theta, Phi, y, eta, total_step=10)\n",
    "\n",
    "#Plot\n",
    "plt.plot(np.linspace(-3,3,100), theta[0] + np.linspace(-3,3,100) * theta[1], color='g')\n",
    "plt.scatter(x,y, color='b')"
   ]
  }
 ],
 "metadata": {
  "kernelspec": {
   "display_name": "Python 3",
   "language": "python",
   "name": "python3"
  },
  "language_info": {
   "codemirror_mode": {
    "name": "ipython",
    "version": 3
   },
   "file_extension": ".py",
   "mimetype": "text/x-python",
   "name": "python",
   "nbconvert_exporter": "python",
   "pygments_lexer": "ipython3",
   "version": "3.7.2"
  }
 },
 "nbformat": 4,
 "nbformat_minor": 2
}
