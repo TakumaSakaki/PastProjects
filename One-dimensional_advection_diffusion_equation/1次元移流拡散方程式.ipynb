{
 "cells": [
  {
   "cell_type": "markdown",
   "metadata": {},
   "source": [
    "# Overview\n",
    "目的：モンテカルロフィルタを用いたパラメータ推定を流体シミュレーションにおいて実施し、その有用性を確認する<br>\n",
    "手法：解析可能な1次元移流拡散方程式について、移流速度$u$と拡散係数$D$をMCFにより推定する\n",
    "\n",
    "###### 目次\n",
    "\n",
    "    1.　式の概要と解析解\n",
    "    2. 数値解法とシミュレーション誤差\n",
    "    3. システム方程式、観測方程式の定式化\n",
    "    3. モンテカルロフィルタによるパラメータ推定\n",
    "\n",
    "<hr>"
   ]
  },
  {
   "cell_type": "code",
   "execution_count": 1,
   "metadata": {
    "collapsed": true
   },
   "outputs": [],
   "source": [
    "import numpy as np\n",
    "import pandas as pd\n",
    "import matplotlib.pyplot as plt\n",
    "import seaborn as sns\n",
    "plt.style.use('fivethirtyeight')\n",
    "%matplotlib inline\n",
    "from numpy.random import *\n",
    "from decimal import *\n",
    "from tqdm import tqdm"
   ]
  },
  {
   "cell_type": "markdown",
   "metadata": {},
   "source": [
    "### 1　1次元移流拡散方程式とその解析解"
   ]
  },
  {
   "cell_type": "markdown",
   "metadata": {},
   "source": [
    "一次元移流拡散方程式は以下。\n",
    "$$\\frac{\\partial C(x,t)}{\\partial t} + u\\frac{\\partial C(x,t)}{\\partial x} =  D\\frac{\\partial^2 C(x,t)}{\\partial x^2}$$\n",
    "<br>\n",
    "ここで、$u$は移流速度、$D$は拡散係数である。また本項では、水平方向の境界条件に周期条件 $C(x+x_m) = C(x)$ を与える。"
   ]
  },
  {
   "cell_type": "markdown",
   "metadata": {},
   "source": [
    "さらに、今回は具体例として以下の解析解を利用する。"
   ]
  },
  {
   "cell_type": "markdown",
   "metadata": {},
   "source": [
    "$$C(x,t)= \\frac{1}{2\\sqrt{\\pi D t}}exp\\{-\\frac{(x-2-ut)^2}{4D t}\\}　$$"
   ]
  },
  {
   "cell_type": "markdown",
   "metadata": {},
   "source": [
    "これは、$t=0$ で $x=2$ にデルタ関数的な分布が、時間がたつにつれて移流されつつ拡散し分布が広がっていく解である。"
   ]
  },
  {
   "cell_type": "markdown",
   "metadata": {},
   "source": [
    "さらに下表のように真の値と境界を定め、初期条件として$t=0.01$を利用する。また、最終的には　$t=0.1, 0.2, 0.3$ での分布を確認することとする。"
   ]
  },
  {
   "cell_type": "markdown",
   "metadata": {},
   "source": [
    "|移流速度$u$ |  拡散係数$D $ |境界$x_m$ |\n",
    "|:-:|:-:|:-:|\n",
    "|$10m\\dot{} s$  |$1.0m^2\\dot{}s$  |$10m$|"
   ]
  },
  {
   "cell_type": "code",
   "execution_count": 2,
   "metadata": {
    "collapsed": true
   },
   "outputs": [],
   "source": [
    "def Analytical_Solution(x,t, u=10, D=1):\n",
    "    return np.exp(-1 * ((x-2-u * t)**2) / (4 * D * t) ) / (2 * np.sqrt(np.pi * D* t))"
   ]
  },
  {
   "cell_type": "code",
   "execution_count": 3,
   "metadata": {
    "collapsed": false,
    "scrolled": false
   },
   "outputs": [
    {
     "data": {
      "text/plain": [
       "<matplotlib.legend.Legend at 0x113f23128>"
      ]
     },
     "execution_count": 3,
     "metadata": {},
     "output_type": "execute_result"
    },
    {
     "data": {
      "image/png": "[encoded data removed]",
      "text/plain": [
       "<matplotlib.figure.Figure at 0x113c29f60>"
      ]
     },
     "metadata": {},
     "output_type": "display_data"
    }
   ],
   "source": [
    "x = np.linspace(0,10,65)\n",
    "plt.figure(figsize=(8,5))\n",
    "plt.title(\"Analytical Solution\", fontsize = 20)\n",
    "plt.plot(x, Analytical_Solution(x,0.01), linestyle=\"-\", linewidth=4, label=\"t=0.01\")\n",
    "plt.plot(x, Analytical_Solution(x,0.1),  linestyle=\"--\",linewidth=4, label=\"t=0.1\")\n",
    "plt.plot(x, Analytical_Solution(x,0.2),linestyle=\"-.\", linewidth=4, label=\"t=0.2\")\n",
    "plt.plot(x, Analytical_Solution(x,0.3),linestyle=\":\", linewidth=4, label=\"t=0.3\")\n",
    "plt.legend(loc='upper right', fontsize=20)"
   ]
  },
  {
   "cell_type": "markdown",
   "metadata": {},
   "source": [
    "### 2 数値解法とシミュレーション誤差"
   ]
  },
  {
   "cell_type": "markdown",
   "metadata": {},
   "source": [
    "#### 2.1 水平方向のスペクトル表現"
   ]
  },
  {
   "cell_type": "markdown",
   "metadata": {},
   "source": [
    "これをスペクトル法を用いた数値計算により求める。ここで、空間方向には離散化中心差分、時間方向にはAdams-Bashforth+Crank-Nicholsonスキームを用いる（ただし、初めの1ステップ目にはオイラースキームを適用した）。<br>\n",
    "ここで支配方程式の空間離散表現は以下。"
   ]
  },
  {
   "cell_type": "markdown",
   "metadata": {},
   "source": [
    "$$\\frac{\\partial C_i(t)}{\\partial t} + u\\frac{\\partial C_i(t)}{\\partial x} =  D\\frac{\\partial^2 C_i(t)}{\\partial x^2}$$"
   ]
  },
  {
   "cell_type": "markdown",
   "metadata": {},
   "source": [
    "$C_i(t)$はスペクトル逆変換によって以下のように展開される。（ $I$: $x$方向格子点数、$K$:切断波数 ）"
   ]
  },
  {
   "cell_type": "markdown",
   "metadata": {},
   "source": [
    "$$C_i(t) = \\sum^{K-1}_{k=0}exp(\\frac{2\\pi ikx_i}{x_m}) \\hat{C_k}$$"
   ]
  },
  {
   "cell_type": "markdown",
   "metadata": {},
   "source": [
    "またスペクトル係数$\\hat{C_k}$は以下のスペクトル変換によって与えられる。"
   ]
  },
  {
   "cell_type": "markdown",
   "metadata": {},
   "source": [
    "$$\\hat{C_k} = \\frac{1}{I}\\sum^{I}_{i=0} exp(-\\frac{2\\pi ikx_i}{x_m}) C_i$$"
   ]
  },
  {
   "cell_type": "markdown",
   "metadata": {},
   "source": [
    "これらより支配方程式のスペクトル表現は以下のようになる。"
   ]
  },
  {
   "cell_type": "markdown",
   "metadata": {},
   "source": [
    "$$\\frac{\\partial \\hat{C_k}}{\\partial t} =  -u（\\frac{2\\pi ik}{x_m}）\\hat{C_k} +  D{(\\frac{2\\pi ik}{x_m})}^2\\hat{C_k}$$"
   ]
  },
  {
   "cell_type": "markdown",
   "metadata": {},
   "source": [
    "#### 2.2 時間方向の離散化"
   ]
  },
  {
   "cell_type": "markdown",
   "metadata": {},
   "source": [
    "###### <u>2.2.1　Eulerスキーム</u>\n",
    "Eularスキームを用いて上式を時間方向に離散化すると、以下のように表される。"
   ]
  },
  {
   "cell_type": "markdown",
   "metadata": {},
   "source": [
    "$$\\hat{C^{\\tau+1}_k} = \\hat{C^\\tau_k} + \\Delta t \\{-u（\\frac{2\\pi ik}{x_m}）\\hat{C^\\tau_k} +  D{(\\frac{2\\pi ik}{x_m})}^2\\hat{C^\\tau_k} \\} $$"
   ]
  },
  {
   "cell_type": "markdown",
   "metadata": {},
   "source": [
    "###### <u>2.2.2 Adams-Bashforth+Crank-Nicholsonスキーム </u>\n",
    "移流項に Adams-Bashforthスキーム、拡散項にCrank-Nicholsonスキームを適用して時間方向を離散化させると、以下のように表される。"
   ]
  },
  {
   "cell_type": "markdown",
   "metadata": {},
   "source": [
    "$$  \\{ 1 - \\frac{D\\Delta t}{2}(\\frac{2\\pi ik}{x_m})^2) \\} \\hat{C^{\\tau+1}_k}  =\\hat{C^\\tau_k} - \\frac{u \\Delta t}{2}(\\frac{2\\pi ik}{x_m})(3\\hat{C^{\\tau}_k}-\\hat{C^{\\tau-1}_k}) + \\frac{D \\Delta t}{2} (\\frac{2\\pi ik}{x_m})^2 \\hat{C^{\\tau}_k}$$"
   ]
  },
  {
   "cell_type": "markdown",
   "metadata": {},
   "source": [
    "#### 2.3　数値解析"
   ]
  },
  {
   "cell_type": "markdown",
   "metadata": {},
   "source": [
    "ここで、下のように仕様を定めた。"
   ]
  },
  {
   "cell_type": "markdown",
   "metadata": {},
   "source": [
    "|時間格子間隔$\\Delta t$ |格子点数 $I$　|切断波数 $K$| \n",
    "|:-:|:-:|:-:|\n",
    "|$0.001s $ | $64$| $64$ |"
   ]
  },
  {
   "cell_type": "markdown",
   "metadata": {
    "collapsed": true
   },
   "source": [
    "#安定性解析\n",
    "def isSustainable(dt,dx):\n",
    "    euler = np.absolute(0.01 * ((2*np.pi/dx)**2) * dt)\n",
    "    if (euler<1):\n",
    "        print('clear')\n",
    "    print('euler: ', euler)\n",
    "isSustainable(0.001,10/100)"
   ]
  },
  {
   "cell_type": "code",
   "execution_count": 26,
   "metadata": {
    "collapsed": false
   },
   "outputs": [],
   "source": [
    "#各変数の設定\n",
    "x_m = 10.0\n",
    "I = 64\n",
    "K = I\n",
    "true_u = 10\n",
    "true_D = 1.0\n",
    "x = np.linspace(0, x_m, I+1, dtype='f16')[:-1]\n",
    "dt = 0.001\n",
    "\n",
    "#解\n",
    "ans = pd.DataFrame(None)\n",
    "ans['Time'] = np.arange(0.01, 0.3101, dt)\n",
    "C_hats = np.empty([len(ans), K], dtype='c32')\n",
    "\n",
    "#オイラー法ステップ\n",
    "def Step(C_hat, u, D, dt =0.0001, x_m=5.0):\n",
    "    newC_hat = np.empty(len(C_hat), dtype='c32')\n",
    "    p = (1/x_m)*2*np.pi*1j* np.arange(len(C_hat))\n",
    "    newC_hat = C_hat + dt*(-1*u*p*C_hat + D*(p**2)*C_hat)\n",
    "    return newC_hat\n",
    "\n",
    "#Adams-Bashforth+Crank-Nicholsonスキーム\n",
    "def AC_Step(C_hat, C_hat_1, u, D, dt =0.0001, x_m=5.0):\n",
    "    newC_hat = np.empty(len(C_hat), dtype='c32')\n",
    "    p = (1/x_m)*2*np.pi*1j* np.arange(len(C_hat))\n",
    "    newC_hat = (1/(1-D*dt*(p**2)/2))*(C_hat - u*dt*p*(3*C_hat-C_hat_1)/2+D*dt*(p**2)*C_hat/2)\n",
    "    return newC_hat\n",
    "\n",
    "#初期値はt=0.01\n",
    "C0 = Analytical_Solution(x,0.01, u=true_u, D=true_D)\n",
    "C_hats[0] = np.fft.fft(C0, n=K)\n",
    "\n",
    "#計算\n",
    "for i in range(0, len(ans)-1):\n",
    "    if(i==0):\n",
    "        C_hats[i+1] = Step(C_hats[i], true_u, true_D, dt, x_m)\n",
    "    else:\n",
    "        C_hats[i+1] = AC_Step(C_hats[i], C_hats[i-1], true_u, true_D, dt, x_m)\n",
    "\n",
    "#結果格納\n",
    "tmp = pd.DataFrame(C_hats)\n",
    "ans = pd.concat([ans, tmp], axis=1)\n",
    "ans.set_index('Time', inplace=True)"
   ]
  },
  {
   "cell_type": "code",
   "execution_count": 5,
   "metadata": {
    "collapsed": false
   },
   "outputs": [
    {
     "data": {
      "text/html": [
       "<div>\n",
       "<style scoped>\n",
       "    .dataframe tbody tr th:only-of-type {\n",
       "        vertical-align: middle;\n",
       "    }\n",
       "\n",
       "    .dataframe tbody tr th {\n",
       "        vertical-align: top;\n",
       "    }\n",
       "\n",
       "    .dataframe thead th {\n",
       "        text-align: right;\n",
       "    }\n",
       "</style>\n",
       "<table border=\"1\" class=\"dataframe\">\n",
       "  <thead>\n",
       "    <tr style=\"text-align: right;\">\n",
       "      <th></th>\n",
       "      <th>0</th>\n",
       "      <th>1</th>\n",
       "      <th>2</th>\n",
       "      <th>3</th>\n",
       "      <th>4</th>\n",
       "      <th>5</th>\n",
       "      <th>6</th>\n",
       "      <th>7</th>\n",
       "      <th>8</th>\n",
       "      <th>9</th>\n",
       "      <th>...</th>\n",
       "      <th>54</th>\n",
       "      <th>55</th>\n",
       "      <th>56</th>\n",
       "      <th>57</th>\n",
       "      <th>58</th>\n",
       "      <th>59</th>\n",
       "      <th>60</th>\n",
       "      <th>61</th>\n",
       "      <th>62</th>\n",
       "      <th>63</th>\n",
       "    </tr>\n",
       "    <tr>\n",
       "      <th>Time</th>\n",
       "      <th></th>\n",
       "      <th></th>\n",
       "      <th></th>\n",
       "      <th></th>\n",
       "      <th></th>\n",
       "      <th></th>\n",
       "      <th></th>\n",
       "      <th></th>\n",
       "      <th></th>\n",
       "      <th></th>\n",
       "      <th></th>\n",
       "      <th></th>\n",
       "      <th></th>\n",
       "      <th></th>\n",
       "      <th></th>\n",
       "      <th></th>\n",
       "      <th></th>\n",
       "      <th></th>\n",
       "      <th></th>\n",
       "      <th></th>\n",
       "      <th></th>\n",
       "    </tr>\n",
       "  </thead>\n",
       "  <tbody>\n",
       "    <tr>\n",
       "      <th>0.010</th>\n",
       "      <td>(6.39999887049+0j)</td>\n",
       "      <td>(1.58534413045-6.17450678055j)</td>\n",
       "      <td>(-5.52049287388-3.03491723844j)</td>\n",
       "      <td>(-4.22817025626+4.50254263907j)</td>\n",
       "      <td>(3.21937461696+5.07292556825j)</td>\n",
       "      <td>(5.51471065635-1.79183546326j)</td>\n",
       "      <td>(-0.348614407794-5.54113125316j)</td>\n",
       "      <td>(-5.1809010141-0.988316167913j)</td>\n",
       "      <td>(-2.11657910474+4.49793632172j)</td>\n",
       "      <td>(3.58161317778+2.96298800569j)</td>\n",
       "      <td>...</td>\n",
       "      <td>(3.48883761384+2.53475974954j)</td>\n",
       "      <td>(3.58161317778-2.96298800569j)</td>\n",
       "      <td>(-2.11657910474-4.49793632172j)</td>\n",
       "      <td>(-5.1809010141+0.988316167913j)</td>\n",
       "      <td>(-0.348614407794+5.54113125316j)</td>\n",
       "      <td>(5.51471065635+1.79183546326j)</td>\n",
       "      <td>(3.21937461696-5.07292556825j)</td>\n",
       "      <td>(-4.22817025626-4.50254263907j)</td>\n",
       "      <td>(-5.52049287388+3.03491723844j)</td>\n",
       "      <td>(1.58534413045+6.17450678055j)</td>\n",
       "    </tr>\n",
       "    <tr>\n",
       "      <th>0.011</th>\n",
       "      <td>(6.39999887049+0j)</td>\n",
       "      <td>(1.54592269139-6.18203019393j)</td>\n",
       "      <td>(-5.54991315576-2.96075212981j)</td>\n",
       "      <td>(-4.1282763946+4.56624397749j)</td>\n",
       "      <td>(3.32653581205+4.95997048723j)</td>\n",
       "      <td>(5.4039904725-1.94740050093j)</td>\n",
       "      <td>(-0.552555546382-5.44923696591j)</td>\n",
       "      <td>(-5.12414788031-0.741329832387j)</td>\n",
       "      <td>(-1.83701028144+4.49068149016j)</td>\n",
       "      <td>(3.63463510132+2.66570354898j)</td>\n",
       "      <td>...</td>\n",
       "      <td>(0.332544069438-1.5669667074j)</td>\n",
       "      <td>(-1.71956369794-0.662238812074j)</td>\n",
       "      <td>(-1.07879936242+1.81543913681j)</td>\n",
       "      <td>(1.81835839334+1.57614467583j)</td>\n",
       "      <td>(2.1336896994-1.69074637833j)</td>\n",
       "      <td>(-1.39959819207-2.71493015287j)</td>\n",
       "      <td>(-3.26852262664+0.923157460385j)</td>\n",
       "      <td>(0.257268787551+3.73220512399j)</td>\n",
       "      <td>(4.0394078833+0.579826794336j)</td>\n",
       "      <td>(1.54539188518-4.12786167174j)</td>\n",
       "    </tr>\n",
       "  </tbody>\n",
       "</table>\n",
       "<p>2 rows × 64 columns</p>\n",
       "</div>"
      ],
      "text/plain": [
       "                       0                               1   \\\n",
       "Time                                                        \n",
       "0.010  (6.39999887049+0j)  (1.58534413045-6.17450678055j)   \n",
       "0.011  (6.39999887049+0j)  (1.54592269139-6.18203019393j)   \n",
       "\n",
       "                                    2                                3   \\\n",
       "Time                                                                      \n",
       "0.010  (-5.52049287388-3.03491723844j)  (-4.22817025626+4.50254263907j)   \n",
       "0.011  (-5.54991315576-2.96075212981j)   (-4.1282763946+4.56624397749j)   \n",
       "\n",
       "                                   4                               5   \\\n",
       "Time                                                                    \n",
       "0.010  (3.21937461696+5.07292556825j)  (5.51471065635-1.79183546326j)   \n",
       "0.011  (3.32653581205+4.95997048723j)   (5.4039904725-1.94740050093j)   \n",
       "\n",
       "                                     6                                 7   \\\n",
       "Time                                                                        \n",
       "0.010  (-0.348614407794-5.54113125316j)   (-5.1809010141-0.988316167913j)   \n",
       "0.011  (-0.552555546382-5.44923696591j)  (-5.12414788031-0.741329832387j)   \n",
       "\n",
       "                                    8                               9   \\\n",
       "Time                                                                     \n",
       "0.010  (-2.11657910474+4.49793632172j)  (3.58161317778+2.96298800569j)   \n",
       "0.011  (-1.83701028144+4.49068149016j)  (3.63463510132+2.66570354898j)   \n",
       "\n",
       "                    ...                                            54  \\\n",
       "Time                ...                                                 \n",
       "0.010               ...                (3.48883761384+2.53475974954j)   \n",
       "0.011               ...                (0.332544069438-1.5669667074j)   \n",
       "\n",
       "                                     55                               56  \\\n",
       "Time                                                                       \n",
       "0.010    (3.58161317778-2.96298800569j)  (-2.11657910474-4.49793632172j)   \n",
       "0.011  (-1.71956369794-0.662238812074j)  (-1.07879936242+1.81543913681j)   \n",
       "\n",
       "                                    57                                58  \\\n",
       "Time                                                                       \n",
       "0.010  (-5.1809010141+0.988316167913j)  (-0.348614407794+5.54113125316j)   \n",
       "0.011   (1.81835839334+1.57614467583j)     (2.1336896994-1.69074637833j)   \n",
       "\n",
       "                                    59                                60  \\\n",
       "Time                                                                       \n",
       "0.010   (5.51471065635+1.79183546326j)    (3.21937461696-5.07292556825j)   \n",
       "0.011  (-1.39959819207-2.71493015287j)  (-3.26852262664+0.923157460385j)   \n",
       "\n",
       "                                    61                               62  \\\n",
       "Time                                                                      \n",
       "0.010  (-4.22817025626-4.50254263907j)  (-5.52049287388+3.03491723844j)   \n",
       "0.011  (0.257268787551+3.73220512399j)   (4.0394078833+0.579826794336j)   \n",
       "\n",
       "                                   63  \n",
       "Time                                   \n",
       "0.010  (1.58534413045+6.17450678055j)  \n",
       "0.011  (1.54539188518-4.12786167174j)  \n",
       "\n",
       "[2 rows x 64 columns]"
      ]
     },
     "execution_count": 5,
     "metadata": {},
     "output_type": "execute_result"
    }
   ],
   "source": [
    "ans[0.01:0.011]"
   ]
  },
  {
   "cell_type": "code",
   "execution_count": 27,
   "metadata": {
    "collapsed": false
   },
   "outputs": [],
   "source": [
    "#t=0.1, 0.2, 0.3を逆rfftで復元\n",
    "C1 = np.fft.irfft(np.array(ans[0.1:0.1+dt]), n=I)[0]\n",
    "C2 = np.fft.irfft(np.array(ans[0.2:0.2+dt]),n=I)[0]\n",
    "C3 = np.fft.irfft(np.array(ans[0.3- dt/2:]), n=I)[0]"
   ]
  },
  {
   "cell_type": "code",
   "execution_count": 7,
   "metadata": {
    "collapsed": false,
    "scrolled": true
   },
   "outputs": [
    {
     "data": {
      "text/plain": [
       "[<matplotlib.lines.Line2D at 0x114259c88>]"
      ]
     },
     "execution_count": 7,
     "metadata": {},
     "output_type": "execute_result"
    },
    {
     "data": {
      "image/png": "[encoded data removed]",
      "text/plain": [
       "<matplotlib.figure.Figure at 0x1140c1a58>"
      ]
     },
     "metadata": {},
     "output_type": "display_data"
    }
   ],
   "source": [
    "plt.plot(x, C1,linewidth=4)\n",
    "plt.plot(x, Analytical_Solution(x,0.1),  linestyle=\"--\",linewidth=4, label=\"True\")\n",
    "plt.plot(x, C2,linewidth=4)\n",
    "plt.plot(x, Analytical_Solution(x,0.2),  linestyle=\"--\",linewidth=4, label=\"True\")\n",
    "plt.plot(x, C3,linewidth=4)\n",
    "plt.plot(x, Analytical_Solution(x,0.3),  linestyle=\"--\",linewidth=4, label=\"True\")"
   ]
  },
  {
   "cell_type": "markdown",
   "metadata": {},
   "source": [
    "解析解とシミュレーション解はほぼ一致した。"
   ]
  },
  {
   "cell_type": "markdown",
   "metadata": {},
   "source": [
    "#### 2.4 シミュレーション誤差評価"
   ]
  },
  {
   "cell_type": "code",
   "execution_count": 28,
   "metadata": {
    "collapsed": false
   },
   "outputs": [
    {
     "name": "stdout",
     "output_type": "stream",
     "text": [
      "at t=0.1 :    rmse is 0.00424312918608  , mae is 0.00186014052071\n",
      "at t=0.2 :    rmse is 0.00247995786401  , mae is 0.0013043379081\n",
      "at t=0.3 :    rmse is 7.42144923101e-05  , mae is 4.24034350334e-05\n"
     ]
    }
   ],
   "source": [
    "#誤差の評価\n",
    "e_1= C1 - Analytical_Solution(x,0.1)\n",
    "e_2 =C2 - Analytical_Solution(x,0.2)\n",
    "e_3 = C3 - Analytical_Solution(x,0.3)\n",
    "\n",
    "def rmse(e):\n",
    "    return np.sqrt(np.sum(e**2)/len(e))\n",
    "def mae(e):\n",
    "    return np.sum(np.abs(e)) / len(e)\n",
    "\n",
    "print(\"at t=0.1 :    rmse is\", rmse(e_1), \" , mae is\", mae(e_1))\n",
    "print(\"at t=0.2 :    rmse is\", rmse(e_2), \" , mae is\", mae(e_2))\n",
    "print(\"at t=0.3 :    rmse is\", rmse(e_3), \" , mae is\", mae(e_3))"
   ]
  },
  {
   "cell_type": "code",
   "execution_count": 29,
   "metadata": {
    "collapsed": false
   },
   "outputs": [
    {
     "data": {
      "text/plain": [
       "<matplotlib.text.Text at 0x11ca8a710>"
      ]
     },
     "execution_count": 29,
     "metadata": {},
     "output_type": "execute_result"
    },
    {
     "data": {
      "image/png": "[encoded data removed]",
      "text/plain": [
       "<matplotlib.figure.Figure at 0x11ca91eb8>"
      ]
     },
     "metadata": {},
     "output_type": "display_data"
    }
   ],
   "source": [
    "plt.plot(e_1)\n",
    "plt.title(\"Error at t = 0.1\")\n",
    "plt.xlabel(\"I\")"
   ]
  },
  {
   "cell_type": "markdown",
   "metadata": {},
   "source": [
    "誤差はかなり系統的。"
   ]
  },
  {
   "cell_type": "markdown",
   "metadata": {},
   "source": [
    "##### 誤差分布の近似計算：観測誤差分布と尤度の問題"
   ]
  },
  {
   "cell_type": "markdown",
   "metadata": {},
   "source": [
    "まず、解析解を$y^\\tau_i$と書き、iごとのモデル誤差 $y^\\tau_i - C^\\tau_i$ の分布を確認する。ここでこの確率密度変数を $f_i(y^\\tau_i - C^\\tau_i)$ とおき、これを近似的にシミュレーション結果から求めることを考える。"
   ]
  },
  {
   "cell_type": "code",
   "execution_count": 10,
   "metadata": {
    "collapsed": false,
    "scrolled": false
   },
   "outputs": [],
   "source": [
    "error = np.empty([len(ans), I])\n",
    "for i in range(len(ans)):\n",
    "    time = 0.01 + i*dt\n",
    "    y = Analytical_Solution(x,time, u=true_u, D=true_D)\n",
    "    c = np.fft.irfft(np.array(ans[time - 0.0005: time+0.0005]), n=I)[0]\n",
    "    error[i] = y - c\n",
    "error = error.T"
   ]
  },
  {
   "cell_type": "code",
   "execution_count": 11,
   "metadata": {
    "collapsed": false
   },
   "outputs": [
    {
     "data": {
      "text/plain": [
       "<matplotlib.text.Text at 0x1144947b8>"
      ]
     },
     "execution_count": 11,
     "metadata": {},
     "output_type": "execute_result"
    },
    {
     "data": {
      "image/png": "[encoded data removed]",
      "text/plain": [
       "<matplotlib.figure.Figure at 0x1143ce940>"
      ]
     },
     "metadata": {},
     "output_type": "display_data"
    }
   ],
   "source": [
    "#i = 0における誤差の分布\n",
    "plt.plot(error[32])\n",
    "plt.xlabel(\"Time\")\n",
    "plt.ylabel(\"Error\")\n",
    "plt.title(\"Error at x = 5.0m\")"
   ]
  },
  {
   "cell_type": "code",
   "execution_count": 12,
   "metadata": {
    "collapsed": false
   },
   "outputs": [
    {
     "data": {
      "text/plain": [
       "<matplotlib.text.Text at 0x11450f3c8>"
      ]
     },
     "execution_count": 12,
     "metadata": {},
     "output_type": "execute_result"
    },
    {
     "data": {
      "image/png": "[encoded data removed]",
      "text/plain": [
       "<matplotlib.figure.Figure at 0x114419b38>"
      ]
     },
     "metadata": {},
     "output_type": "display_data"
    }
   ],
   "source": [
    "#i = 0における誤差の分布\n",
    "plt.plot(error[48])\n",
    "plt.xlabel(\"Time\")\n",
    "plt.ylabel(\"Error\")\n",
    "plt.title(\"Error at x = 7.5m\")"
   ]
  },
  {
   "cell_type": "markdown",
   "metadata": {},
   "source": [
    "誤差は一つの確率分布から発生したiidサンプルとみなすには系統的すぎる。そこで、$f_i(y^\\tau_i - C^\\tau_i)$の分布推定を諦め、ある時刻における状態の尤度をMAEの値から求めることを考える。（MSE等他の指標でも代替できるが、外れ値の影響が比較的小さいMAEを用いることとする）\n",
    "\n",
    "The Errors are too systematic to regard as i.i.d sample from one distribution.\n",
    "Here, We try to calculate the likelihood from the distribution of MAE."
   ]
  },
  {
   "cell_type": "code",
   "execution_count": 13,
   "metadata": {
    "collapsed": false
   },
   "outputs": [
    {
     "data": {
      "image/png": "[encoded data removed]",
      "text/plain": [
       "<matplotlib.figure.Figure at 0x1145b32e8>"
      ]
     },
     "metadata": {},
     "output_type": "display_data"
    }
   ],
   "source": [
    "mae_s = np.empty(len(ans))\n",
    "for i in range(len(ans)):\n",
    "    time = 0.01 + i*dt\n",
    "    y = Analytical_Solution(x,time, u=true_u, D=true_D)\n",
    "    c = np.fft.irfft(np.array(ans[time - 0.0005: time+0.0005]), n=I)[0]\n",
    "    e = y - c\n",
    "    mae_s[i] = mae(e)\n",
    "plt.hist(mae_s, bins = 20)\n",
    "plt.show()"
   ]
  },
  {
   "cell_type": "code",
   "execution_count": 14,
   "metadata": {
    "collapsed": false
   },
   "outputs": [
    {
     "data": {
      "text/plain": [
       "0.00085544314401628328"
      ]
     },
     "execution_count": 14,
     "metadata": {},
     "output_type": "execute_result"
    }
   ],
   "source": [
    "mae_s.max()"
   ]
  },
  {
   "cell_type": "markdown",
   "metadata": {},
   "source": [
    "ここでは、多少恣意的にはなってしまうが、0 ~ 0.0004を10階級に分け、その度数/総数を、モデル誤差&観測誤差がその階級に含まれる実現確率とみなす。また、確率密度関数 $f_{MAE}(x)$ の導出においては、$max(MAE) \\approx 0.00086$ より、$f_{MAE}(x>0.001)=0$と仮定する。なお、実際の応用研究においては、真の値は分からないので、この誤差分布の評価が非常に難しく、また重要になることを付記しておく。"
   ]
  },
  {
   "cell_type": "code",
   "execution_count": 15,
   "metadata": {
    "collapsed": false
   },
   "outputs": [
    {
     "data": {
      "text/plain": [
       "array([    83.05647841,  17524.91694352,   3737.54152824,   1411.96013289,\n",
       "          830.56478405,    332.22591362,    166.11295681,    166.11295681,\n",
       "          249.16943522,      0.        ,     33.22259136])"
      ]
     },
     "execution_count": 15,
     "metadata": {},
     "output_type": "execute_result"
    }
   ],
   "source": [
    "dosuu = np.zeros(11)\n",
    "for mae in mae_s:\n",
    "    for j in range(10):\n",
    "        high = 0.00004 * (j+1)\n",
    "        if mae < high:\n",
    "            dosuu[j] += 1\n",
    "            break\n",
    "        if j == 9:\n",
    "            dosuu[10] += 1\n",
    "\n",
    "dosuu = dosuu/dosuu.sum()\n",
    "for i in range(10):\n",
    "    dosuu[i] = dosuu[i] / 0.00004\n",
    "dosuu[10] = dosuu[10] / (0.001-0.0004)\n",
    "dosuu"
   ]
  },
  {
   "cell_type": "code",
   "execution_count": 3,
   "metadata": {
    "collapsed": true
   },
   "outputs": [],
   "source": [
    "def f_mae(mae):\n",
    "    dosuu = np.array([83.05647841, 17524.91694352, 3737.54152824, 1411.96013289, 830.56478405, 332.22591362\n",
    "                      , 166.11295681, 166.11295681, 249.16943522, 0. , 33.22259136])\n",
    "    if mae > 0.001:\n",
    "        return 0.0000000000000000001\n",
    "    for i in range(10):\n",
    "        high = 0.00004  * (i + 1)\n",
    "        if mae < high:\n",
    "            return dosuu[i]\n",
    "    return dosuu[10]\n",
    "\n",
    "array_f_mae = np.frompyfunc(f_mae,1,1)"
   ]
  },
  {
   "cell_type": "code",
   "execution_count": 17,
   "metadata": {
    "collapsed": false,
    "scrolled": true
   },
   "outputs": [
    {
     "data": {
      "text/plain": [
       "<matplotlib.text.Text at 0x1149332e8>"
      ]
     },
     "execution_count": 17,
     "metadata": {},
     "output_type": "execute_result"
    },
    {
     "data": {
      "image/png": "[encoded data removed]",
      "text/plain": [
       "<matplotlib.figure.Figure at 0x1146949b0>"
      ]
     },
     "metadata": {},
     "output_type": "display_data"
    }
   ],
   "source": [
    "x = np.linspace(0,0.0011,10000)\n",
    "plt.plot(x,array_f_mae(x))\n",
    "plt.xlabel(\"MAE\")\n",
    "plt.ylabel(\"Probability\")\n",
    "plt.title(\"Estimated PDF of MAE\")"
   ]
  },
  {
   "cell_type": "markdown",
   "metadata": {},
   "source": [
    "### 3. 状態空間モデルの定式化"
   ]
  },
  {
   "cell_type": "markdown",
   "metadata": {},
   "source": [
    "#### 3.1 自己組織化"
   ]
  },
  {
   "cell_type": "markdown",
   "metadata": {},
   "source": [
    "以上の結果を以って、状態空間モデルを定式化する。まず、各パラメータについては、Liu and West (2001)に従い、以下のように状態化する。<br>"
   ]
  },
  {
   "cell_type": "markdown",
   "metadata": {},
   "source": [
    "$$p(\\theta_{t+1}|\\theta_t) ∼ N(a\\theta_t + (1 − a)\\overline{\\theta_t}, h^2V_t)$$"
   ]
  },
  {
   "cell_type": "markdown",
   "metadata": {},
   "source": [
    "ここで $\\overline{θ_t}$ は $θ_t$を表す粒子の値の平均、$V_t$ は同じく分散、また $h^2 = 1 − a^2$, $a = (3δ_l − 1)/2δ_l$ である。ここで　$δ_l　= (0,1]$ であるが、$δ_l　=0.97$を使用する。"
   ]
  },
  {
   "cell_type": "markdown",
   "metadata": {},
   "source": [
    "#### 3.2 モデル式"
   ]
  },
  {
   "cell_type": "markdown",
   "metadata": {},
   "source": [
    "自己組織化を行い、1次元移流拡散方程式における状態変数を$u_\\tau, D_\\tau, \\hat{C^\\tau_k} (k=0,1,...,63)$ とする。さらに、実際の波の変位 $y^\\tau_i$ を観測系列として扱い、観測誤差 $\\epsilon^{\\tau}_i$ の平均絶対誤差、${mae}_{\\tau}$ は前章で求めた $f_{MAE}$ に従うものとする。この時、システム方程式は以下のように書ける。"
   ]
  },
  {
   "cell_type": "markdown",
   "metadata": {},
   "source": [
    "<b>3.2.1 システム方程式</b>"
   ]
  },
  {
   "cell_type": "markdown",
   "metadata": {},
   "source": [
    "$$D_\\tau \\sim N(aD_{\\tau-1} + (1 − a)\\overline{D_{\\tau-1}}, h^2V_{\\tau - 1}) $$\n",
    "$$u_\\tau \\sim N(au_{\\tau-1} + (1 − a)\\overline{u_{\\tau-1}}, h^2V_{\\tau - 1}) $$\n",
    "<br>\n",
    "$$ h^2 = 0.1418756775, a = 0.92635$$\n",
    "<br>\n",
    "$\\tau=0$のとき、\n",
    "$$\\hat{C^{\\tau}_k} = \\hat{C^{\\tau-1}_k} + \\Delta t \\{-u_{\\tau-1}（\\frac{2\\pi ik}{x_m}）\\hat{C^{\\tau-1}_k} +  D_{\\tau-1}{(\\frac{2\\pi ik}{x_m})}^2\\hat{C^{\\tau-1}_k} \\}$$\n",
    "$\\tau \\geqq 1$のとき、\n",
    "$$  \\{ 1 - \\frac{D_{\\tau-1}\\Delta t}{2}(\\frac{2\\pi ik}{x_m})^2) \\} \\hat{C^{\\tau+1}_k}  =\\hat{C^\\tau_k} - \\frac{u_{\\tau-1}\\Delta t}{2}(\\frac{2\\pi ik}{x_m})(3\\hat{C^{\\tau}_k}-\\hat{C^{\\tau-1}_k}) + \\frac{D_{\\tau-1} \\Delta t}{2} (\\frac{2\\pi ik}{x_m})^2 \\hat{C^{\\tau}_k}$$\n"
   ]
  },
  {
   "cell_type": "markdown",
   "metadata": {},
   "source": [
    "<b>3.2.2. 観測方程式</b>"
   ]
  },
  {
   "cell_type": "markdown",
   "metadata": {},
   "source": [
    "$$ y^{\\tau}_i = C_i(t) + \\epsilon^{\\tau}_i  $$"
   ]
  },
  {
   "cell_type": "markdown",
   "metadata": {},
   "source": [
    "ここで\n",
    "$$C_i(t) = \\sum^{K-1}_{k=0}exp(\\frac{2\\pi ikx_i}{x_m}) \\hat{C_k}$$\n",
    "$${mae}_\\tau = \\frac{1}{I}  \\sum_{i=0}^{I} | \\epsilon^{\\tau}_i | \\sim f_{MAE} $$\n",
    "である。"
   ]
  },
  {
   "cell_type": "markdown",
   "metadata": {},
   "source": [
    "<b>3.2.3 初期条件</b>"
   ]
  },
  {
   "cell_type": "markdown",
   "metadata": {},
   "source": [
    "ここで、各係数の範囲についてはある程度事前情報が与えられているとし、$u_0 \\sim Uniform(3, 20)$、$D_0 \\sim Uniform(0.5, 2)$ とする。また、$C_k^0(k=0,...,63)$は真の値を得ているものとする。粒子数は10000とする。"
   ]
  },
  {
   "cell_type": "markdown",
   "metadata": {},
   "source": [
    "### 4. モンテカルロフィルタによるパラメータ推定"
   ]
  },
  {
   "cell_type": "code",
   "execution_count": 19,
   "metadata": {
    "collapsed": false,
    "scrolled": true
   },
   "outputs": [
    {
     "name": "stderr",
     "output_type": "stream",
     "text": [
      "100%|██████████| 50/50 [00:51<00:00,  1.03s/it]\n"
     ]
    }
   ],
   "source": [
    "#各変数の設定\n",
    "x_m = 10.0\n",
    "I = 64\n",
    "K = I\n",
    "true_u = 10\n",
    "true_D = 1.0\n",
    "x = np.linspace(0, x_m, I+1, dtype='f16')[:-1]\n",
    "dt = 0.001\n",
    "total_step = 50\n",
    "m = 10000\n",
    "\n",
    "#初期値\n",
    "u_0 = np.random.uniform(3,20,m)\n",
    "D_0 = np.random.uniform(0.5,2,m)\n",
    "C_hat_0 = np.fft.fft(Analytical_Solution(x,0.01, u=true_u, D=true_D), n=K)\n",
    "#粒子の格納\n",
    "C_hats = np.empty([m, K], dtype='c32')\n",
    "C_hats_1 = np.empty([m,K], dtype='c32')\n",
    "sim_u = np.empty([total_step+1, len(u_0)])\n",
    "sim_D = np.empty([total_step+1, len(u_0)])\n",
    "for i in range(m):\n",
    "    C_hats_1[i] = C_hat_0\n",
    "sim_u[0] = u_0\n",
    "sim_D[0] = D_0\n",
    "\n",
    "#パラメータのシステム方程式\n",
    "def system_equation(param_samples):\n",
    "    \n",
    "    a = 0.92635\n",
    "    h2=0.1418756775\n",
    "    v = h2 * param_samples.var()\n",
    "    mu = param_samples.mean()\n",
    "    new_samples = np.empty(len(param_samples))\n",
    "    for i in range(len(param_samples)):\n",
    "        x = a * param_samples[i] + (1 - a) * mu\n",
    "        new_samples[i] = np.random.normal(x, v)\n",
    "    \n",
    "    return new_samples\n",
    "\n",
    "#C_hatのシステム方程式：　オイラースキーム\n",
    "def Euler_Step(C_hat, u, D, dt =0.0001, x_m=5.0):\n",
    "    newC_hat = np.empty(len(C_hat), dtype='c32')\n",
    "    p = (1/x_m)*2*np.pi*1j* np.arange(len(C_hat))\n",
    "    newC_hat = C_hat + dt*(-1*u*p*C_hat + D*(p**2)*C_hat)\n",
    "    return newC_hat\n",
    "\n",
    "#C_hatのシステム方程式：　Adams-Bashforth+Crank-Nicholsonスキーム\n",
    "def AC_Step(C_hat, C_hat_1, u, D, dt =0.0001, x_m=5.0):\n",
    "    newC_hat = np.empty(len(C_hat), dtype='c32')\n",
    "    p = (1/x_m)*2*np.pi*1j* np.arange(len(C_hat))\n",
    "    newC_hat = (1/(1-D*dt*(p**2)/2))*(C_hat - u*dt*p*(3*C_hat-C_hat_1)/2+D*dt*(p**2)*C_hat/2)\n",
    "    return newC_hat\n",
    "\n",
    "\n",
    "#尤度の計算\n",
    "#C_hats_samples = [C_hats_sample1, ..., C_hats_sample10000]\n",
    "def obs_L(C_hats_samples, step):\n",
    "    def MAE(e):\n",
    "        return np.sum(np.abs(e)) / len(e)\n",
    "    \n",
    "    w = np.empty(len(C_hats_samples))\n",
    "    time = 0.01 + step*dt\n",
    "    y = Analytical_Solution(x,time, u=true_u, D=true_D)\n",
    "    for i in range(len(C_hats_samples)):\n",
    "        c = np.fft.irfft(C_hats_samples[i], n=I)\n",
    "        mae = MAE(y - c)\n",
    "        w[i] = f_mae(mae)\n",
    "        \n",
    "    return w\n",
    "\n",
    "def Resampling(w, C_hats, C_hats_1, sim_u_t, sim_D_t):\n",
    "    \n",
    "    new_C_hats = np.empty([m, K], dtype='c32')\n",
    "    new_C_hats_1 = np.empty([m, K], dtype='c32')\n",
    "    new_sim_u_t = np.empty(m)\n",
    "    new_sim_D_t = np.empty(m)\n",
    "    \n",
    "    u_t = rand(m)\n",
    "    w = w / np.sum(w)\n",
    "    w = w.cumsum()\n",
    "\n",
    "    for i in range(m):\n",
    "        u = u_t[i]\n",
    "        j = np.where(w > u)[0][0]\n",
    "\n",
    "        new_C_hats[i] = C_hats[j]\n",
    "        new_C_hats_1[i] = C_hats_1[j]\n",
    "        new_sim_u_t[i] = sim_u_t[j]\n",
    "        new_sim_D_t[i] = sim_D_t[j]\n",
    "\n",
    "    return new_C_hats, new_C_hats_1, new_sim_u_t, new_sim_D_t\n",
    "\n",
    "\n",
    "#Total Calculation\n",
    "for t in tqdm(range(0, total_step)):\n",
    "\n",
    "    #Update Variables\n",
    "    for i in range(m):\n",
    "        if(t==0):\n",
    "            C_hats[i] = Euler_Step(C_hats_1[i], sim_u[t][i], sim_D[t][i], dt, x_m)\n",
    "        else:\n",
    "            tmp = C_hats[i]\n",
    "            C_hats[i] = AC_Step(C_hats[i], C_hats_1[i], sim_u[t][i], sim_D[t][i], dt, x_m)\n",
    "            C_hats_1[i] = tmp\n",
    "    sim_u[t+1] = system_equation(sim_u[t])\n",
    "    sim_D[t+1] = system_equation(sim_D[t])\n",
    "\n",
    "    #Likelihood\n",
    "    w = obs_L(C_hats, t+1)\n",
    "    \n",
    "    #Resampling -- with high speed1\n",
    "    C_hats, C_hats_1, sim_u[t+1], sim_D[t+1] = Resampling(w, C_hats, C_hats_1, sim_u[t+1], sim_D[t+1])"
   ]
  },
  {
   "cell_type": "code",
   "execution_count": 20,
   "metadata": {
    "collapsed": false
   },
   "outputs": [
    {
     "data": {
      "image/png": "[encoded data removed]",
      "text/plain": [
       "<matplotlib.figure.Figure at 0x11bd53668>"
      ]
     },
     "metadata": {},
     "output_type": "display_data"
    }
   ],
   "source": [
    "#結果の表示\n",
    "Per_CI=0.95\n",
    "    \n",
    "T = total_step\n",
    "num_variables = 2\n",
    "m = 10000   #mは粒子の個数\n",
    "ave_x = np.full([T+1,num_variables], 100, dtype=np.float)\n",
    "mid_x = np.full([T+1,num_variables], 100, dtype=np.float)\n",
    "lower_CI = np.full([T+1,num_variables], 100, dtype=np.float)\n",
    "upper_CI = np.full([T+1,num_variables], 100, dtype=np.float)\n",
    "low = int(m * (1- Per_CI) / 2) - 1\n",
    "high = int(m - low) - 1\n",
    "\n",
    "for t in range(T+1):\n",
    "    u_t = sim_u[t]\n",
    "    D_t = sim_D[t]\n",
    "    for k in range(num_variables):\n",
    "        if k == 0:\n",
    "            x_t = np.sort(u_t)\n",
    "        else:\n",
    "            x_t = np.sort(D_t)\n",
    "            \n",
    "        ave_x[t][k] = np.average(x_t)\n",
    "        mid_x[t][k] = np.median(x_t)\n",
    "        lower_CI[t][k] = x_t[low]\n",
    "        upper_CI[t][k] = x_t[high]\n",
    "\n",
    "#結果のプロット\n",
    "plt.figure(figsize=(6,num_variables*4))\n",
    "plt.subplots_adjust(hspace=0.5)\n",
    "for k in range(num_variables):\n",
    "    plt.subplot(num_variables,1,k+1)\n",
    "\n",
    "    if k == 0:\n",
    "        plt.title(\"Estimation of u\")\n",
    "        plt.plot(np.full(T+1,10, dtype=np.float), color = 'green', linewidth=2, label=\"true-state\")\n",
    "    else:\n",
    "        plt.title(\"Estimation of D\")\n",
    "        plt.plot(np.full(T+1,1, dtype=np.float), color = 'green', linewidth=2, label=\"true-state\")\n",
    "    plt.plot(ave_x.T[k], color = 'red', linewidth=2, label=\"estimated-state\")\n",
    "    plt.plot(upper_CI.T[k],'--', color = 'red', linewidth=2, label=\"upper-CI\")\n",
    "    plt.plot(lower_CI.T[k], '--', color = 'red', linewidth=2, label=\"lower-CI\")\n",
    "    plt.xlabel(\"Time\")\n",
    "    plt.legend(loc='upper right', bbox_to_anchor=(1.05,0.5,0.5,.100), borderaxespad=0.)\n",
    "\n",
    "plt.show()"
   ]
  },
  {
   "cell_type": "code",
   "execution_count": 24,
   "metadata": {
    "collapsed": false
   },
   "outputs": [
    {
     "name": "stdout",
     "output_type": "stream",
     "text": [
      "パラメータu(=10)の推定値：　 9.89992632473\n",
      "パラメータD(=1.0)の推定値：　 1.02693305336\n"
     ]
    }
   ],
   "source": [
    "print(\"パラメータu(=10)の推定値：　\",sim_u[50].mean())\n",
    "print(\"パラメータD(=1.0)の推定値：　\",sim_D[50].mean())"
   ]
  },
  {
   "cell_type": "markdown",
   "metadata": {},
   "source": [
    "#### まとめ"
   ]
  },
  {
   "cell_type": "markdown",
   "metadata": {},
   "source": [
    "パラメータ推定の収束速度は非常に早く、有効な精度で逐次的にパラメータ推定を行うことが出来た。\n",
    "一方、より高い精度を求めるにはパラメータの収束速度を遅くする（MCMCなどで散らす）ことが有効であり、また、誤差分布をより正確に推定することが必要であることが考えられる。"
   ]
  }
 ],
 "metadata": {
  "kernelspec": {
   "display_name": "Python 3",
   "language": "python",
   "name": "python3"
  },
  "language_info": {
   "codemirror_mode": {
    "name": "ipython",
    "version": 3
   },
   "file_extension": ".py",
   "mimetype": "text/x-python",
   "name": "python",
   "nbconvert_exporter": "python",
   "pygments_lexer": "ipython3",
   "version": "3.6.0"
  }
 },
 "nbformat": 4,
 "nbformat_minor": 2
}
